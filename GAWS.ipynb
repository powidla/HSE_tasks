{
  "nbformat": 4,
  "nbformat_minor": 0,
  "metadata": {
    "colab": {
      "provenance": []
    },
    "kernelspec": {
      "name": "python3",
      "display_name": "Python 3"
    },
    "language_info": {
      "name": "python"
    }
  },
  "cells": [
    {
      "cell_type": "code",
      "execution_count": null,
      "metadata": {
        "id": "drVfWSxclBn1"
      },
      "outputs": [],
      "source": [
        "import sgkit as sg\n",
        "from sgkit.io.vcf import vcf_to_zarr"
      ]
    },
    {
      "cell_type": "code",
      "source": [
        "!pip install cyvcf2"
      ],
      "metadata": {
        "colab": {
          "base_uri": "https://localhost:8080/"
        },
        "id": "8z0u95ePmwSE",
        "outputId": "220e0975-8faa-4264-f370-5c70ed005c7c"
      },
      "execution_count": null,
      "outputs": [
        {
          "output_type": "stream",
          "name": "stdout",
          "text": [
            "Looking in indexes: https://pypi.org/simple, https://us-python.pkg.dev/colab-wheels/public/simple/\n",
            "Collecting cyvcf2\n",
            "  Downloading cyvcf2-0.30.18-cp38-cp38-manylinux_2_17_x86_64.manylinux2014_x86_64.whl (6.8 MB)\n",
            "\u001b[K     |████████████████████████████████| 6.8 MB 4.1 MB/s \n",
            "\u001b[?25hRequirement already satisfied: click in /usr/local/lib/python3.8/dist-packages (from cyvcf2) (7.1.2)\n",
            "Requirement already satisfied: numpy in /usr/local/lib/python3.8/dist-packages (from cyvcf2) (1.21.6)\n",
            "Collecting coloredlogs\n",
            "  Downloading coloredlogs-15.0.1-py2.py3-none-any.whl (46 kB)\n",
            "\u001b[K     |████████████████████████████████| 46 kB 3.8 MB/s \n",
            "\u001b[?25hCollecting humanfriendly>=9.1\n",
            "  Downloading humanfriendly-10.0-py2.py3-none-any.whl (86 kB)\n",
            "\u001b[K     |████████████████████████████████| 86 kB 5.7 MB/s \n",
            "\u001b[?25hInstalling collected packages: humanfriendly, coloredlogs, cyvcf2\n",
            "Successfully installed coloredlogs-15.0.1 cyvcf2-0.30.18 humanfriendly-10.0\n"
          ]
        }
      ]
    },
    {
      "cell_type": "code",
      "source": [
        "!pip uninstall dask"
      ],
      "metadata": {
        "colab": {
          "base_uri": "https://localhost:8080/"
        },
        "id": "f1yorli_mPSW",
        "outputId": "7630b093-a035-4a24-c3d1-6ef40ab307ae"
      },
      "execution_count": null,
      "outputs": [
        {
          "output_type": "stream",
          "name": "stdout",
          "text": [
            "Found existing installation: dask 2022.1.0\n",
            "Uninstalling dask-2022.1.0:\n",
            "  Would remove:\n",
            "    /usr/local/lib/python3.8/dist-packages/dask-2022.1.0.dist-info/*\n",
            "    /usr/local/lib/python3.8/dist-packages/dask/*\n",
            "Proceed (y/n)? y\n",
            "  Successfully uninstalled dask-2022.1.0\n"
          ]
        }
      ]
    },
    {
      "cell_type": "code",
      "source": [
        "!pip install dask==2021.10.0"
      ],
      "metadata": {
        "colab": {
          "base_uri": "https://localhost:8080/",
          "height": 470
        },
        "id": "kDnOOqc7mSvs",
        "outputId": "915b23f6-dd43-4ccf-f25f-f8491a30e4f3"
      },
      "execution_count": null,
      "outputs": [
        {
          "output_type": "stream",
          "name": "stdout",
          "text": [
            "Looking in indexes: https://pypi.org/simple, https://us-python.pkg.dev/colab-wheels/public/simple/\n",
            "Collecting dask==2021.10.0\n",
            "  Downloading dask-2021.10.0-py3-none-any.whl (1.0 MB)\n",
            "\u001b[K     |████████████████████████████████| 1.0 MB 4.0 MB/s \n",
            "\u001b[?25hRequirement already satisfied: partd>=0.3.10 in /usr/local/lib/python3.8/dist-packages (from dask==2021.10.0) (1.3.0)\n",
            "Requirement already satisfied: pyyaml in /usr/local/lib/python3.8/dist-packages (from dask==2021.10.0) (6.0)\n",
            "Requirement already satisfied: fsspec>=0.6.0 in /usr/local/lib/python3.8/dist-packages (from dask==2021.10.0) (2022.11.0)\n",
            "Requirement already satisfied: toolz>=0.8.2 in /usr/local/lib/python3.8/dist-packages (from dask==2021.10.0) (0.12.0)\n",
            "Requirement already satisfied: packaging>=20.0 in /usr/local/lib/python3.8/dist-packages (from dask==2021.10.0) (21.3)\n",
            "Requirement already satisfied: cloudpickle>=1.1.1 in /usr/local/lib/python3.8/dist-packages (from dask==2021.10.0) (1.5.0)\n",
            "Requirement already satisfied: pyparsing!=3.0.5,>=2.0.2 in /usr/local/lib/python3.8/dist-packages (from packaging>=20.0->dask==2021.10.0) (3.0.9)\n",
            "Requirement already satisfied: locket in /usr/local/lib/python3.8/dist-packages (from partd>=0.3.10->dask==2021.10.0) (1.0.0)\n",
            "Installing collected packages: dask\n",
            "  Attempting uninstall: dask\n",
            "    Found existing installation: dask 2021.1.0\n",
            "    Uninstalling dask-2021.1.0:\n",
            "      Successfully uninstalled dask-2021.1.0\n",
            "\u001b[31mERROR: pip's dependency resolver does not currently take into account all the packages that are installed. This behaviour is the source of the following dependency conflicts.\n",
            "distributed 2022.1.0 requires dask==2022.01.0, but you have dask 2021.10.0 which is incompatible.\u001b[0m\n",
            "Successfully installed dask-2021.10.0\n"
          ]
        },
        {
          "output_type": "display_data",
          "data": {
            "application/vnd.colab-display-data+json": {
              "pip_warning": {
                "packages": [
                  "dask"
                ]
              }
            }
          },
          "metadata": {}
        }
      ]
    },
    {
      "cell_type": "code",
      "source": [
        "!pip install \"dask[complete]\""
      ],
      "metadata": {
        "colab": {
          "base_uri": "https://localhost:8080/"
        },
        "id": "rBWov8Fml87X",
        "outputId": "ca788d5d-ea0c-42c2-f460-da0e7d35234a"
      },
      "execution_count": null,
      "outputs": [
        {
          "output_type": "stream",
          "name": "stdout",
          "text": [
            "Looking in indexes: https://pypi.org/simple, https://us-python.pkg.dev/colab-wheels/public/simple/\n",
            "Requirement already satisfied: dask[complete] in /usr/local/lib/python3.8/dist-packages (2022.1.0)\n",
            "Requirement already satisfied: packaging>=20.0 in /usr/local/lib/python3.8/dist-packages (from dask[complete]) (21.3)\n",
            "Requirement already satisfied: cloudpickle>=1.1.1 in /usr/local/lib/python3.8/dist-packages (from dask[complete]) (1.5.0)\n",
            "Requirement already satisfied: fsspec>=0.6.0 in /usr/local/lib/python3.8/dist-packages (from dask[complete]) (2022.11.0)\n",
            "Requirement already satisfied: toolz>=0.8.2 in /usr/local/lib/python3.8/dist-packages (from dask[complete]) (0.12.0)\n",
            "Requirement already satisfied: pyyaml>=5.3.1 in /usr/local/lib/python3.8/dist-packages (from dask[complete]) (6.0)\n",
            "Requirement already satisfied: partd>=0.3.10 in /usr/local/lib/python3.8/dist-packages (from dask[complete]) (1.3.0)\n",
            "Requirement already satisfied: jinja2 in /usr/local/lib/python3.8/dist-packages (from dask[complete]) (2.11.3)\n",
            "Requirement already satisfied: pandas>=1.0 in /usr/local/lib/python3.8/dist-packages (from dask[complete]) (1.3.5)\n",
            "Requirement already satisfied: numpy>=1.18 in /usr/local/lib/python3.8/dist-packages (from dask[complete]) (1.21.6)\n",
            "Requirement already satisfied: distributed==2022.01.0 in /usr/local/lib/python3.8/dist-packages (from dask[complete]) (2022.1.0)\n",
            "Requirement already satisfied: bokeh>=2.1.1 in /usr/local/lib/python3.8/dist-packages (from dask[complete]) (2.3.3)\n",
            "Requirement already satisfied: setuptools in /usr/local/lib/python3.8/dist-packages (from distributed==2022.01.0->dask[complete]) (57.4.0)\n",
            "Requirement already satisfied: tornado>=6.0.3 in /usr/local/lib/python3.8/dist-packages (from distributed==2022.01.0->dask[complete]) (6.0.4)\n",
            "Requirement already satisfied: click>=6.6 in /usr/local/lib/python3.8/dist-packages (from distributed==2022.01.0->dask[complete]) (7.1.2)\n",
            "Requirement already satisfied: zict>=0.1.3 in /usr/local/lib/python3.8/dist-packages (from distributed==2022.01.0->dask[complete]) (2.2.0)\n",
            "Requirement already satisfied: msgpack>=0.6.0 in /usr/local/lib/python3.8/dist-packages (from distributed==2022.01.0->dask[complete]) (1.0.4)\n",
            "Requirement already satisfied: sortedcontainers!=2.0.0,!=2.0.1 in /usr/local/lib/python3.8/dist-packages (from distributed==2022.01.0->dask[complete]) (2.4.0)\n",
            "Requirement already satisfied: tblib>=1.6.0 in /usr/local/lib/python3.8/dist-packages (from distributed==2022.01.0->dask[complete]) (1.7.0)\n",
            "Requirement already satisfied: psutil>=5.0 in /usr/local/lib/python3.8/dist-packages (from distributed==2022.01.0->dask[complete]) (5.4.8)\n",
            "Requirement already satisfied: python-dateutil>=2.1 in /usr/local/lib/python3.8/dist-packages (from bokeh>=2.1.1->dask[complete]) (2.8.2)\n",
            "Requirement already satisfied: typing-extensions>=3.7.4 in /usr/local/lib/python3.8/dist-packages (from bokeh>=2.1.1->dask[complete]) (4.1.1)\n",
            "Requirement already satisfied: pillow>=7.1.0 in /usr/local/lib/python3.8/dist-packages (from bokeh>=2.1.1->dask[complete]) (7.1.2)\n",
            "Requirement already satisfied: MarkupSafe>=0.23 in /usr/local/lib/python3.8/dist-packages (from jinja2->dask[complete]) (2.0.1)\n",
            "Requirement already satisfied: pyparsing!=3.0.5,>=2.0.2 in /usr/local/lib/python3.8/dist-packages (from packaging>=20.0->dask[complete]) (3.0.9)\n",
            "Requirement already satisfied: pytz>=2017.3 in /usr/local/lib/python3.8/dist-packages (from pandas>=1.0->dask[complete]) (2022.6)\n",
            "Requirement already satisfied: locket in /usr/local/lib/python3.8/dist-packages (from partd>=0.3.10->dask[complete]) (1.0.0)\n",
            "Requirement already satisfied: six>=1.5 in /usr/local/lib/python3.8/dist-packages (from python-dateutil>=2.1->bokeh>=2.1.1->dask[complete]) (1.15.0)\n",
            "Requirement already satisfied: heapdict in /usr/local/lib/python3.8/dist-packages (from zict>=0.1.3->distributed==2022.01.0->dask[complete]) (1.0.1)\n"
          ]
        }
      ]
    },
    {
      "cell_type": "code",
      "source": [
        "!pip install sgkit"
      ],
      "metadata": {
        "colab": {
          "base_uri": "https://localhost:8080/"
        },
        "id": "u3jDvFOxlPZp",
        "outputId": "dbae1cb9-e273-4ef4-e2d3-b808f4e5ed38"
      },
      "execution_count": null,
      "outputs": [
        {
          "output_type": "stream",
          "name": "stdout",
          "text": [
            "Looking in indexes: https://pypi.org/simple, https://us-python.pkg.dev/colab-wheels/public/simple/\n",
            "Requirement already satisfied: sgkit in /usr/local/lib/python3.8/dist-packages (0.5.0)\n",
            "Requirement already satisfied: fsspec!=2021.6.* in /usr/local/lib/python3.8/dist-packages (from sgkit) (2022.11.0)\n",
            "Requirement already satisfied: scikit-learn in /usr/local/lib/python3.8/dist-packages (from sgkit) (1.0.2)\n",
            "Requirement already satisfied: typing-extensions in /usr/local/lib/python3.8/dist-packages (from sgkit) (4.1.1)\n",
            "Requirement already satisfied: numba in /usr/local/lib/python3.8/dist-packages (from sgkit) (0.56.4)\n",
            "Requirement already satisfied: pandas<1.4.0 in /usr/local/lib/python3.8/dist-packages (from sgkit) (1.3.5)\n",
            "Requirement already satisfied: scipy in /usr/local/lib/python3.8/dist-packages (from sgkit) (1.7.3)\n",
            "Requirement already satisfied: zarr<2.11.0,>=2.10.0 in /usr/local/lib/python3.8/dist-packages (from sgkit) (2.10.3)\n",
            "Requirement already satisfied: dask-ml in /usr/local/lib/python3.8/dist-packages (from sgkit) (2022.5.27)\n",
            "Requirement already satisfied: xarray in /usr/local/lib/python3.8/dist-packages (from sgkit) (0.20.2)\n",
            "Requirement already satisfied: numpy<1.22 in /usr/local/lib/python3.8/dist-packages (from sgkit) (1.21.6)\n",
            "Requirement already satisfied: dask[array]<=2022.01.0,>=2021.10.0 in /usr/local/lib/python3.8/dist-packages (from sgkit) (2022.1.0)\n",
            "Requirement already satisfied: setuptools>=41.2 in /usr/local/lib/python3.8/dist-packages (from sgkit) (57.4.0)\n",
            "Requirement already satisfied: distributed<=2022.01.0,>=2021.10.0 in /usr/local/lib/python3.8/dist-packages (from sgkit) (2022.1.0)\n",
            "Requirement already satisfied: pyyaml>=5.3.1 in /usr/local/lib/python3.8/dist-packages (from dask[array]<=2022.01.0,>=2021.10.0->sgkit) (6.0)\n",
            "Requirement already satisfied: cloudpickle>=1.1.1 in /usr/local/lib/python3.8/dist-packages (from dask[array]<=2022.01.0,>=2021.10.0->sgkit) (1.5.0)\n",
            "Requirement already satisfied: partd>=0.3.10 in /usr/local/lib/python3.8/dist-packages (from dask[array]<=2022.01.0,>=2021.10.0->sgkit) (1.3.0)\n",
            "Requirement already satisfied: toolz>=0.8.2 in /usr/local/lib/python3.8/dist-packages (from dask[array]<=2022.01.0,>=2021.10.0->sgkit) (0.12.0)\n",
            "Requirement already satisfied: packaging>=20.0 in /usr/local/lib/python3.8/dist-packages (from dask[array]<=2022.01.0,>=2021.10.0->sgkit) (21.3)\n",
            "Requirement already satisfied: click>=6.6 in /usr/local/lib/python3.8/dist-packages (from distributed<=2022.01.0,>=2021.10.0->sgkit) (7.1.2)\n",
            "Requirement already satisfied: tblib>=1.6.0 in /usr/local/lib/python3.8/dist-packages (from distributed<=2022.01.0,>=2021.10.0->sgkit) (1.7.0)\n",
            "Requirement already satisfied: psutil>=5.0 in /usr/local/lib/python3.8/dist-packages (from distributed<=2022.01.0,>=2021.10.0->sgkit) (5.4.8)\n",
            "Requirement already satisfied: zict>=0.1.3 in /usr/local/lib/python3.8/dist-packages (from distributed<=2022.01.0,>=2021.10.0->sgkit) (2.2.0)\n",
            "Requirement already satisfied: msgpack>=0.6.0 in /usr/local/lib/python3.8/dist-packages (from distributed<=2022.01.0,>=2021.10.0->sgkit) (1.0.4)\n",
            "Requirement already satisfied: jinja2 in /usr/local/lib/python3.8/dist-packages (from distributed<=2022.01.0,>=2021.10.0->sgkit) (2.11.3)\n",
            "Requirement already satisfied: tornado>=6.0.3 in /usr/local/lib/python3.8/dist-packages (from distributed<=2022.01.0,>=2021.10.0->sgkit) (6.0.4)\n",
            "Requirement already satisfied: sortedcontainers!=2.0.0,!=2.0.1 in /usr/local/lib/python3.8/dist-packages (from distributed<=2022.01.0,>=2021.10.0->sgkit) (2.4.0)\n",
            "Requirement already satisfied: pyparsing!=3.0.5,>=2.0.2 in /usr/local/lib/python3.8/dist-packages (from packaging>=20.0->dask[array]<=2022.01.0,>=2021.10.0->sgkit) (3.0.9)\n",
            "Requirement already satisfied: pytz>=2017.3 in /usr/local/lib/python3.8/dist-packages (from pandas<1.4.0->sgkit) (2022.6)\n",
            "Requirement already satisfied: python-dateutil>=2.7.3 in /usr/local/lib/python3.8/dist-packages (from pandas<1.4.0->sgkit) (2.8.2)\n",
            "Requirement already satisfied: locket in /usr/local/lib/python3.8/dist-packages (from partd>=0.3.10->dask[array]<=2022.01.0,>=2021.10.0->sgkit) (1.0.0)\n",
            "Requirement already satisfied: six>=1.5 in /usr/local/lib/python3.8/dist-packages (from python-dateutil>=2.7.3->pandas<1.4.0->sgkit) (1.15.0)\n",
            "Requirement already satisfied: fasteners in /usr/local/lib/python3.8/dist-packages (from zarr<2.11.0,>=2.10.0->sgkit) (0.18)\n",
            "Requirement already satisfied: asciitree in /usr/local/lib/python3.8/dist-packages (from zarr<2.11.0,>=2.10.0->sgkit) (0.3.3)\n",
            "Requirement already satisfied: numcodecs>=0.6.4 in /usr/local/lib/python3.8/dist-packages (from zarr<2.11.0,>=2.10.0->sgkit) (0.10.2)\n",
            "Requirement already satisfied: entrypoints in /usr/local/lib/python3.8/dist-packages (from numcodecs>=0.6.4->zarr<2.11.0,>=2.10.0->sgkit) (0.4)\n",
            "Requirement already satisfied: heapdict in /usr/local/lib/python3.8/dist-packages (from zict>=0.1.3->distributed<=2022.01.0,>=2021.10.0->sgkit) (1.0.1)\n",
            "Requirement already satisfied: multipledispatch>=0.4.9 in /usr/local/lib/python3.8/dist-packages (from dask-ml->sgkit) (0.6.0)\n",
            "Requirement already satisfied: dask-glm>=0.2.0 in /usr/local/lib/python3.8/dist-packages (from dask-ml->sgkit) (0.2.0)\n",
            "Requirement already satisfied: importlib-metadata in /usr/local/lib/python3.8/dist-packages (from numba->sgkit) (4.13.0)\n",
            "Requirement already satisfied: llvmlite<0.40,>=0.39.0dev0 in /usr/local/lib/python3.8/dist-packages (from numba->sgkit) (0.39.1)\n",
            "Requirement already satisfied: threadpoolctl>=2.0.0 in /usr/local/lib/python3.8/dist-packages (from scikit-learn->sgkit) (3.1.0)\n",
            "Requirement already satisfied: joblib>=0.11 in /usr/local/lib/python3.8/dist-packages (from scikit-learn->sgkit) (1.2.0)\n",
            "Requirement already satisfied: zipp>=0.5 in /usr/local/lib/python3.8/dist-packages (from importlib-metadata->numba->sgkit) (3.10.0)\n",
            "Requirement already satisfied: MarkupSafe>=0.23 in /usr/local/lib/python3.8/dist-packages (from jinja2->distributed<=2022.01.0,>=2021.10.0->sgkit) (2.0.1)\n"
          ]
        }
      ]
    },
    {
      "cell_type": "code",
      "source": [
        "import numpy as np\n",
        "import pandas as pd\n",
        "import xarray as xr\n",
        "xr.set_options(display_expand_attrs=False, display_expand_data_vars=True);"
      ],
      "metadata": {
        "id": "FHjWRxcxlDUz"
      },
      "execution_count": null,
      "outputs": []
    },
    {
      "cell_type": "code",
      "source": [
        "import matplotlib.pyplot as plt"
      ],
      "metadata": {
        "id": "bbZ1qWIPuyfr"
      },
      "execution_count": null,
      "outputs": []
    },
    {
      "cell_type": "code",
      "source": [
        "ds = pd.read_csv(\"Копия simulated data for 668 people and 3 snps - Sheet1.csv\")"
      ],
      "metadata": {
        "id": "AyPqMmhAnQMq"
      },
      "execution_count": null,
      "outputs": []
    },
    {
      "cell_type": "code",
      "source": [
        "ds\n"
      ],
      "metadata": {
        "colab": {
          "base_uri": "https://localhost:8080/",
          "height": 424
        },
        "id": "ckqk8k_JnfF9",
        "outputId": "a6860f6f-b27e-4ebc-fe68-143d1b3ec181"
      },
      "execution_count": null,
      "outputs": [
        {
          "output_type": "execute_result",
          "data": {
            "text/plain": [
              "           ID     trait  sex  snp1_A/G  snp2_C/T  snp3_G/T\n",
              "0    APID0001 -0.909573    0       1.0       2.0       1.0\n",
              "1    APID0002 -1.042890    0       0.0       1.0       2.0\n",
              "2    APID0003 -0.564743    1       1.0       1.0       0.0\n",
              "3    APID0004  0.281898    0       1.0       0.0       1.0\n",
              "4    APID0005 -1.119414    0       0.0       2.0       1.0\n",
              "..        ...       ...  ...       ...       ...       ...\n",
              "663  APID0664 -1.395477    0       2.0       2.0       0.0\n",
              "664  APID0665  0.484364    1       0.0       0.0       0.0\n",
              "665  APID0666  0.273132    0       1.0       1.0       2.0\n",
              "666  APID0667 -0.888352    1       1.0       1.0       0.0\n",
              "667  APID0668 -0.032362    0       1.0       1.0       1.0\n",
              "\n",
              "[668 rows x 6 columns]"
            ],
            "text/html": [
              "\n",
              "  <div id=\"df-75607a4a-ee30-483f-b3fe-5ba8c6f238a7\">\n",
              "    <div class=\"colab-df-container\">\n",
              "      <div>\n",
              "<style scoped>\n",
              "    .dataframe tbody tr th:only-of-type {\n",
              "        vertical-align: middle;\n",
              "    }\n",
              "\n",
              "    .dataframe tbody tr th {\n",
              "        vertical-align: top;\n",
              "    }\n",
              "\n",
              "    .dataframe thead th {\n",
              "        text-align: right;\n",
              "    }\n",
              "</style>\n",
              "<table border=\"1\" class=\"dataframe\">\n",
              "  <thead>\n",
              "    <tr style=\"text-align: right;\">\n",
              "      <th></th>\n",
              "      <th>ID</th>\n",
              "      <th>trait</th>\n",
              "      <th>sex</th>\n",
              "      <th>snp1_A/G</th>\n",
              "      <th>snp2_C/T</th>\n",
              "      <th>snp3_G/T</th>\n",
              "    </tr>\n",
              "  </thead>\n",
              "  <tbody>\n",
              "    <tr>\n",
              "      <th>0</th>\n",
              "      <td>APID0001</td>\n",
              "      <td>-0.909573</td>\n",
              "      <td>0</td>\n",
              "      <td>1.0</td>\n",
              "      <td>2.0</td>\n",
              "      <td>1.0</td>\n",
              "    </tr>\n",
              "    <tr>\n",
              "      <th>1</th>\n",
              "      <td>APID0002</td>\n",
              "      <td>-1.042890</td>\n",
              "      <td>0</td>\n",
              "      <td>0.0</td>\n",
              "      <td>1.0</td>\n",
              "      <td>2.0</td>\n",
              "    </tr>\n",
              "    <tr>\n",
              "      <th>2</th>\n",
              "      <td>APID0003</td>\n",
              "      <td>-0.564743</td>\n",
              "      <td>1</td>\n",
              "      <td>1.0</td>\n",
              "      <td>1.0</td>\n",
              "      <td>0.0</td>\n",
              "    </tr>\n",
              "    <tr>\n",
              "      <th>3</th>\n",
              "      <td>APID0004</td>\n",
              "      <td>0.281898</td>\n",
              "      <td>0</td>\n",
              "      <td>1.0</td>\n",
              "      <td>0.0</td>\n",
              "      <td>1.0</td>\n",
              "    </tr>\n",
              "    <tr>\n",
              "      <th>4</th>\n",
              "      <td>APID0005</td>\n",
              "      <td>-1.119414</td>\n",
              "      <td>0</td>\n",
              "      <td>0.0</td>\n",
              "      <td>2.0</td>\n",
              "      <td>1.0</td>\n",
              "    </tr>\n",
              "    <tr>\n",
              "      <th>...</th>\n",
              "      <td>...</td>\n",
              "      <td>...</td>\n",
              "      <td>...</td>\n",
              "      <td>...</td>\n",
              "      <td>...</td>\n",
              "      <td>...</td>\n",
              "    </tr>\n",
              "    <tr>\n",
              "      <th>663</th>\n",
              "      <td>APID0664</td>\n",
              "      <td>-1.395477</td>\n",
              "      <td>0</td>\n",
              "      <td>2.0</td>\n",
              "      <td>2.0</td>\n",
              "      <td>0.0</td>\n",
              "    </tr>\n",
              "    <tr>\n",
              "      <th>664</th>\n",
              "      <td>APID0665</td>\n",
              "      <td>0.484364</td>\n",
              "      <td>1</td>\n",
              "      <td>0.0</td>\n",
              "      <td>0.0</td>\n",
              "      <td>0.0</td>\n",
              "    </tr>\n",
              "    <tr>\n",
              "      <th>665</th>\n",
              "      <td>APID0666</td>\n",
              "      <td>0.273132</td>\n",
              "      <td>0</td>\n",
              "      <td>1.0</td>\n",
              "      <td>1.0</td>\n",
              "      <td>2.0</td>\n",
              "    </tr>\n",
              "    <tr>\n",
              "      <th>666</th>\n",
              "      <td>APID0667</td>\n",
              "      <td>-0.888352</td>\n",
              "      <td>1</td>\n",
              "      <td>1.0</td>\n",
              "      <td>1.0</td>\n",
              "      <td>0.0</td>\n",
              "    </tr>\n",
              "    <tr>\n",
              "      <th>667</th>\n",
              "      <td>APID0668</td>\n",
              "      <td>-0.032362</td>\n",
              "      <td>0</td>\n",
              "      <td>1.0</td>\n",
              "      <td>1.0</td>\n",
              "      <td>1.0</td>\n",
              "    </tr>\n",
              "  </tbody>\n",
              "</table>\n",
              "<p>668 rows × 6 columns</p>\n",
              "</div>\n",
              "      <button class=\"colab-df-convert\" onclick=\"convertToInteractive('df-75607a4a-ee30-483f-b3fe-5ba8c6f238a7')\"\n",
              "              title=\"Convert this dataframe to an interactive table.\"\n",
              "              style=\"display:none;\">\n",
              "        \n",
              "  <svg xmlns=\"http://www.w3.org/2000/svg\" height=\"24px\"viewBox=\"0 0 24 24\"\n",
              "       width=\"24px\">\n",
              "    <path d=\"M0 0h24v24H0V0z\" fill=\"none\"/>\n",
              "    <path d=\"M18.56 5.44l.94 2.06.94-2.06 2.06-.94-2.06-.94-.94-2.06-.94 2.06-2.06.94zm-11 1L8.5 8.5l.94-2.06 2.06-.94-2.06-.94L8.5 2.5l-.94 2.06-2.06.94zm10 10l.94 2.06.94-2.06 2.06-.94-2.06-.94-.94-2.06-.94 2.06-2.06.94z\"/><path d=\"M17.41 7.96l-1.37-1.37c-.4-.4-.92-.59-1.43-.59-.52 0-1.04.2-1.43.59L10.3 9.45l-7.72 7.72c-.78.78-.78 2.05 0 2.83L4 21.41c.39.39.9.59 1.41.59.51 0 1.02-.2 1.41-.59l7.78-7.78 2.81-2.81c.8-.78.8-2.07 0-2.86zM5.41 20L4 18.59l7.72-7.72 1.47 1.35L5.41 20z\"/>\n",
              "  </svg>\n",
              "      </button>\n",
              "      \n",
              "  <style>\n",
              "    .colab-df-container {\n",
              "      display:flex;\n",
              "      flex-wrap:wrap;\n",
              "      gap: 12px;\n",
              "    }\n",
              "\n",
              "    .colab-df-convert {\n",
              "      background-color: #E8F0FE;\n",
              "      border: none;\n",
              "      border-radius: 50%;\n",
              "      cursor: pointer;\n",
              "      display: none;\n",
              "      fill: #1967D2;\n",
              "      height: 32px;\n",
              "      padding: 0 0 0 0;\n",
              "      width: 32px;\n",
              "    }\n",
              "\n",
              "    .colab-df-convert:hover {\n",
              "      background-color: #E2EBFA;\n",
              "      box-shadow: 0px 1px 2px rgba(60, 64, 67, 0.3), 0px 1px 3px 1px rgba(60, 64, 67, 0.15);\n",
              "      fill: #174EA6;\n",
              "    }\n",
              "\n",
              "    [theme=dark] .colab-df-convert {\n",
              "      background-color: #3B4455;\n",
              "      fill: #D2E3FC;\n",
              "    }\n",
              "\n",
              "    [theme=dark] .colab-df-convert:hover {\n",
              "      background-color: #434B5C;\n",
              "      box-shadow: 0px 1px 3px 1px rgba(0, 0, 0, 0.15);\n",
              "      filter: drop-shadow(0px 1px 2px rgba(0, 0, 0, 0.3));\n",
              "      fill: #FFFFFF;\n",
              "    }\n",
              "  </style>\n",
              "\n",
              "      <script>\n",
              "        const buttonEl =\n",
              "          document.querySelector('#df-75607a4a-ee30-483f-b3fe-5ba8c6f238a7 button.colab-df-convert');\n",
              "        buttonEl.style.display =\n",
              "          google.colab.kernel.accessAllowed ? 'block' : 'none';\n",
              "\n",
              "        async function convertToInteractive(key) {\n",
              "          const element = document.querySelector('#df-75607a4a-ee30-483f-b3fe-5ba8c6f238a7');\n",
              "          const dataTable =\n",
              "            await google.colab.kernel.invokeFunction('convertToInteractive',\n",
              "                                                     [key], {});\n",
              "          if (!dataTable) return;\n",
              "\n",
              "          const docLinkHtml = 'Like what you see? Visit the ' +\n",
              "            '<a target=\"_blank\" href=https://colab.research.google.com/notebooks/data_table.ipynb>data table notebook</a>'\n",
              "            + ' to learn more about interactive tables.';\n",
              "          element.innerHTML = '';\n",
              "          dataTable['output_type'] = 'display_data';\n",
              "          await google.colab.output.renderOutput(dataTable, element);\n",
              "          const docLink = document.createElement('div');\n",
              "          docLink.innerHTML = docLinkHtml;\n",
              "          element.appendChild(docLink);\n",
              "        }\n",
              "      </script>\n",
              "    </div>\n",
              "  </div>\n",
              "  "
            ]
          },
          "metadata": {},
          "execution_count": 10
        }
      ]
    },
    {
      "cell_type": "code",
      "source": [
        "df = ds.dropna()"
      ],
      "metadata": {
        "id": "xu4wZkVooUKe"
      },
      "execution_count": null,
      "outputs": []
    },
    {
      "cell_type": "code",
      "source": [
        "ds[ds[\"snp1_A/G\"] == 1].count() "
      ],
      "metadata": {
        "colab": {
          "base_uri": "https://localhost:8080/"
        },
        "id": "bRmml6Rzp4PS",
        "outputId": "08bc7536-f8af-4ca5-f135-a18fbc21f32e"
      },
      "execution_count": null,
      "outputs": [
        {
          "output_type": "execute_result",
          "data": {
            "text/plain": [
              "ID          301\n",
              "trait       301\n",
              "sex         301\n",
              "snp1_A/G    301\n",
              "snp2_C/T    300\n",
              "snp3_G/T    300\n",
              "dtype: int64"
            ]
          },
          "metadata": {},
          "execution_count": 36
        }
      ]
    },
    {
      "cell_type": "code",
      "source": [
        "ds[ds[\"snp1_A/G\"] == 0].count() "
      ],
      "metadata": {
        "colab": {
          "base_uri": "https://localhost:8080/"
        },
        "id": "Ihs6VLvqqGp7",
        "outputId": "de784cfc-718d-4192-df4d-6198b5069bb7"
      },
      "execution_count": null,
      "outputs": [
        {
          "output_type": "execute_result",
          "data": {
            "text/plain": [
              "ID          244\n",
              "trait       244\n",
              "sex         244\n",
              "snp1_A/G    244\n",
              "snp2_C/T    241\n",
              "snp3_G/T    244\n",
              "dtype: int64"
            ]
          },
          "metadata": {},
          "execution_count": 37
        }
      ]
    },
    {
      "cell_type": "code",
      "source": [
        "ds[ds[\"snp1_A/G\"] == 2].count() "
      ],
      "metadata": {
        "colab": {
          "base_uri": "https://localhost:8080/"
        },
        "id": "sNm_hm27qZM_",
        "outputId": "5a78cd5c-19f7-4a69-bdcc-dab9855bae14"
      },
      "execution_count": null,
      "outputs": [
        {
          "output_type": "execute_result",
          "data": {
            "text/plain": [
              "ID          120\n",
              "trait       120\n",
              "sex         120\n",
              "snp1_A/G    120\n",
              "snp2_C/T    120\n",
              "snp3_G/T    118\n",
              "dtype: int64"
            ]
          },
          "metadata": {},
          "execution_count": 38
        }
      ]
    },
    {
      "cell_type": "code",
      "source": [
        "p_A1A1_snp1 = 120/658\n",
        "p_A1A2_snp1 = 301/658\n",
        "p_A2A2_snp1 = 244/658"
      ],
      "metadata": {
        "id": "iXjtYYJQrWDl"
      },
      "execution_count": null,
      "outputs": []
    },
    {
      "cell_type": "code",
      "source": [
        "p_A1A1_snp1 + p_A1A2_snp1 +  p_A2A2_snp1"
      ],
      "metadata": {
        "colab": {
          "base_uri": "https://localhost:8080/"
        },
        "id": "eZ_oRO48rjZM",
        "outputId": "a4d205fa-562c-48b8-8c77-16a4c277151d"
      },
      "execution_count": null,
      "outputs": [
        {
          "output_type": "execute_result",
          "data": {
            "text/plain": [
              "1.0106382978723403"
            ]
          },
          "metadata": {},
          "execution_count": 40
        }
      ]
    },
    {
      "cell_type": "code",
      "source": [
        "print(ds[ds[\"snp2_C/T\"] == 1].count())\n",
        "print(ds[ds[\"snp2_C/T\"] == 0].count())\n",
        "print(ds[ds[\"snp2_C/T\"] == 2].count())"
      ],
      "metadata": {
        "colab": {
          "base_uri": "https://localhost:8080/"
        },
        "id": "47n-lcxEqhzN",
        "outputId": "655649a6-2036-426a-bd31-a04c29ab6d3e"
      },
      "execution_count": null,
      "outputs": [
        {
          "output_type": "stream",
          "name": "stdout",
          "text": [
            "ID          341\n",
            "trait       341\n",
            "sex         341\n",
            "snp1_A/G    341\n",
            "snp2_C/T    341\n",
            "snp3_G/T    339\n",
            "dtype: int64\n",
            "ID          220\n",
            "trait       220\n",
            "sex         220\n",
            "snp1_A/G    219\n",
            "snp2_C/T    220\n",
            "snp3_G/T    219\n",
            "dtype: int64\n",
            "ID          103\n",
            "trait       103\n",
            "sex         103\n",
            "snp1_A/G    101\n",
            "snp2_C/T    103\n",
            "snp3_G/T    103\n",
            "dtype: int64\n"
          ]
        }
      ]
    },
    {
      "cell_type": "code",
      "source": [
        "p_A1A1_snp2 = 103/658\n",
        "p_A1A2_snp2 = 341/658\n",
        "p_A2A2_snp2 = 220/658"
      ],
      "metadata": {
        "id": "7qP-BmrEr5ua"
      },
      "execution_count": null,
      "outputs": []
    },
    {
      "cell_type": "code",
      "source": [
        "p_A1A1_snp2 + p_A1A2_snp2 +  p_A2A2_snp2"
      ],
      "metadata": {
        "colab": {
          "base_uri": "https://localhost:8080/"
        },
        "id": "xvoHPjPCr7Rs",
        "outputId": "0a6cffae-0015-450a-8c60-f64a5e1e675c"
      },
      "execution_count": null,
      "outputs": [
        {
          "output_type": "execute_result",
          "data": {
            "text/plain": [
              "1.0091185410334345"
            ]
          },
          "metadata": {},
          "execution_count": 44
        }
      ]
    },
    {
      "cell_type": "code",
      "source": [
        "print(ds[ds[\"snp3_G/T\"] == 1].count())\n",
        "print(ds[ds[\"snp3_G/T\"] == 0].count())\n",
        "print(ds[ds[\"snp3_G/T\"] == 2].count())"
      ],
      "metadata": {
        "colab": {
          "base_uri": "https://localhost:8080/"
        },
        "id": "aOpJ0jwqqxSo",
        "outputId": "1b867a05-e482-4346-c7b5-8fa124b7df85"
      },
      "execution_count": null,
      "outputs": [
        {
          "output_type": "stream",
          "name": "stdout",
          "text": [
            "ID          324\n",
            "trait       324\n",
            "sex         324\n",
            "snp1_A/G    323\n",
            "snp2_C/T    323\n",
            "snp3_G/T    324\n",
            "dtype: int64\n",
            "ID          222\n",
            "trait       222\n",
            "sex         222\n",
            "snp1_A/G    221\n",
            "snp2_C/T    220\n",
            "snp3_G/T    222\n",
            "dtype: int64\n",
            "ID          119\n",
            "trait       119\n",
            "sex         119\n",
            "snp1_A/G    118\n",
            "snp2_C/T    118\n",
            "snp3_G/T    119\n",
            "dtype: int64\n"
          ]
        }
      ]
    },
    {
      "cell_type": "code",
      "source": [
        "p_A1A1_snp3 = 119/658\n",
        "p_A1A2_snp3 = 324/658\n",
        "p_A2A2_snp3 = 222/658"
      ],
      "metadata": {
        "id": "HsYrEEo-s0Ml"
      },
      "execution_count": null,
      "outputs": []
    },
    {
      "cell_type": "code",
      "source": [
        "p_A1A1_snp3 + p_A1A2_snp3 +  p_A2A2_snp3"
      ],
      "metadata": {
        "colab": {
          "base_uri": "https://localhost:8080/"
        },
        "id": "vMijY2zvtqhb",
        "outputId": "94b0aabe-63fd-408b-89d6-735b29855846"
      },
      "execution_count": null,
      "outputs": [
        {
          "output_type": "execute_result",
          "data": {
            "text/plain": [
              "1.0106382978723405"
            ]
          },
          "metadata": {},
          "execution_count": 46
        }
      ]
    },
    {
      "cell_type": "code",
      "source": [
        "x = ds.trait\n",
        "y = ds['snp1_A/G']"
      ],
      "metadata": {
        "id": "fCNmyArBvinp"
      },
      "execution_count": null,
      "outputs": []
    },
    {
      "cell_type": "code",
      "source": [
        "x1 = ds.trait\n",
        "y1 = ds.sex"
      ],
      "metadata": {
        "id": "HQsBkNwoxbAC"
      },
      "execution_count": null,
      "outputs": []
    },
    {
      "cell_type": "code",
      "source": [
        "plt.plot(x1, y1, 'o')\n",
        "\n",
        "#obtain m (slope) and b(intercept) of linear regression line\n",
        "m, b = np.polyfit(x1, y1, 1)\n",
        "\n",
        "#add linear regression line to scatterplot \n",
        "plt.plot(x1, m*x1+b)"
      ],
      "metadata": {
        "colab": {
          "base_uri": "https://localhost:8080/",
          "height": 282
        },
        "id": "9J2tJslDuvE-",
        "outputId": "e54b8a5a-3a3b-4e94-cfb9-ef33419f0b3a"
      },
      "execution_count": null,
      "outputs": [
        {
          "output_type": "execute_result",
          "data": {
            "text/plain": [
              "[<matplotlib.lines.Line2D at 0x7f0d59211a60>]"
            ]
          },
          "metadata": {},
          "execution_count": 55
        },
        {
          "output_type": "display_data",
          "data": {
            "text/plain": [
              "<Figure size 432x288 with 1 Axes>"
            ],
            "image/png": "[encoded data removed]"
          },
          "metadata": {
            "needs_background": "light"
          }
        }
      ]
    },
    {
      "cell_type": "code",
      "source": [
        "a1 = ()\n",
        "d1 ="
      ],
      "metadata": {
        "id": "qm_4Qx-Ux4Hn"
      },
      "execution_count": null,
      "outputs": []
    },
    {
      "cell_type": "code",
      "source": [],
      "metadata": {
        "id": "1jFNR3O1x4Pn"
      },
      "execution_count": null,
      "outputs": []
    }
  ]
}