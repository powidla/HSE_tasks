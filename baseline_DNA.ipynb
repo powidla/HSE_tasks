{
  "nbformat": 4,
  "nbformat_minor": 0,
  "metadata": {
    "colab": {
      "provenance": [],
      "collapsed_sections": []
    },
    "kernelspec": {
      "name": "python3",
      "display_name": "Python 3"
    },
    "language_info": {
      "name": "python"
    },
    "accelerator": "GPU"
  },
  "cells": [
    {
      "cell_type": "code",
      "source": [
        "# from google.colab import drive; drive.mount('/content/drive')   # OK to enable, if your kaggle.json is stored in Google Drive"
      ],
      "metadata": {
        "id": "4ZK9-jiByA4Z"
      },
      "execution_count": null,
      "outputs": []
    },
    {
      "cell_type": "code",
      "source": [
        "!pip -q install --upgrade --force-reinstall --no-deps kaggle > log  # upgrade kaggle package (to avoid a warning)\n",
        "!mkdir -p ~/.kaggle                               # .kaggle folder must contain kaggle.json for kaggle executable to properly authenticate you to Kaggle.com\n",
        "!cp /content/drive/MyDrive/kaggle.json ~/.kaggle/kaggle.json >log  # First, download kaggle.json from kaggle.com (in Account page) and place it in the root of mounted Google Drive\n",
        "!cp kaggle.json ~/.kaggle/kaggle.json > log       # Alternative location of kaggle.json (without a connection to Google Drive)\n",
        "!chmod 600 ~/.kaggle/kaggle.json                  # give only the owner full read/write access to kaggle.json\n",
        "!kaggle config set -n competition -v 3722genomics # set the competition context for the next few kaggle API calls. !kaggle config view - shows current settings\n",
        "!kaggle competitions download >> log              # download competition dataset as a zip file\n",
        "!unzip -o *.zip >> log                            # Kaggle dataset is copied as a single file and needs to be unzipped.\n",
        "# !kaggle competitions leaderboard --show           # print public leaderboard"
      ],
      "metadata": {
        "colab": {
          "base_uri": "https://localhost:8080/"
        },
        "id": "dt1AeSYEx5kV",
        "outputId": "fa0ac9a4-fe4c-4cfa-dc52-a72818c2c44c"
      },
      "execution_count": null,
      "outputs": [
        {
          "output_type": "stream",
          "name": "stdout",
          "text": [
            "cp: cannot stat '/content/drive/MyDrive/kaggle.json': No such file or directory\n",
            "- competition is now set to: 3722genomics\n",
            "100% 9.65M/9.65M [00:00<00:00, 10.8MB/s]\n"
          ]
        }
      ]
    },
    {
      "cell_type": "code",
      "source": [
        "%%time\n",
        "%%capture\n",
        "%reset -f\n",
        "from IPython.core.interactiveshell import InteractiveShell as IS; IS.ast_node_interactivity = \"all\" \n",
        "import numpy as np, pandas as pd, time, matplotlib.pyplot as plt, os, plotly\n",
        "from sklearn.model_selection import train_test_split\n",
        "from sentence_transformers import SentenceTransformer as SBERT\n",
        "from sklearn.svm import SVC, LinearSVC, NuSVC\n",
        "ToCSV = lambda df, fname: df.round(2).to_csv(f'{fname}.csv', index_label='id') # rounds values to 2 decimals\n",
        "\n",
        "class Timer():\n",
        "  def __init__(self, lim:'RunTimeLimit'=60*5): self.t0, self.lim, _ = time.time(), lim, print(f'⏳ started. You have {lim} sec. Good luck!')\n",
        "  def ShowTime(self):\n",
        "    msg = f'Runtime is {time.time()-self.t0:.0f} sec'\n",
        "    print(f'\\033[91m\\033[1m' + msg + f' > {self.lim} sec limit!!!\\033[0m' if (time.time()-self.t0-1) > self.lim else msg)\n",
        "\n",
        "np.set_printoptions(linewidth=10000, precision=4, edgeitems=20, suppress=True)\n",
        "pd.set_option('max_rows', 100, 'max_columns', 100, 'max_colwidth', 100, 'precision', 2, 'display.max_rows', 4)"
      ],
      "metadata": {
        "colab": {
          "base_uri": "https://localhost:8080/"
        },
        "id": "yGUK_EcvtN8y",
        "outputId": "408a237b-7fbf-4b8d-fd4e-7bdd0981be66"
      },
      "execution_count": null,
      "outputs": [
        {
          "output_type": "stream",
          "name": "stdout",
          "text": [
            "CPU times: user 3.71 s, sys: 634 ms, total: 4.34 s\n",
            "Wall time: 1min 19s\n"
          ]
        }
      ]
    },
    {
      "cell_type": "code",
      "metadata": {
        "id": "I1TC9f43ItUY",
        "colab": {
          "base_uri": "https://localhost:8080/",
          "height": 331
        },
        "outputId": "21d30917-cbf3-4eb9-c76c-e58ff178a289"
      },
      "source": [
        "vX = pd.read_csv('testX/testX.csv').set_index('id')\n",
        "tYX = pd.read_csv('trainYX/trainYX.csv').set_index('id')\n",
        "vX"
      ],
      "execution_count": null,
      "outputs": [
        {
          "output_type": "execute_result",
          "data": {
            "text/plain": [
              "                                                                                                        DNA\n",
              "id                                                                                                         \n",
              "100000  TTGATTAATAAGATTCCTTGACACCCTTTGTAAAGTTTCTATTTCGTGTGAAATATCTATCTCTTCAAATCCTTTTAATTTATCTAGGTATTTGCT...\n",
              "100001  ATTAGTAACGGAGGATTTACTAGATGTTTGGATTTATATTCTAATTTTATTCAGGTGGAAGGGATTGTTTTATGATTCAATAGTATACAGAGAATA...\n",
              "...                                                                                                     ...\n",
              "119998  CGTCGGCATGCTCGGGCAGTGCGGCGGGCCAGCAGCGTGCCAGTTGTCGCGGGGCGGCCGGGCATCGCGGCGCCGGGCGGCAGCACTCCCGCGAAG...\n",
              "119999  GCGAGGGCACGAAGGCACGACGGCAACGGCGGCGAGGAGCGCTGTGGCAACCGTCTCCGCGTTTGCGTGCGTACAGCCGAGAGCTGGTTCGCGCAG...\n",
              "\n",
              "[20000 rows x 1 columns]"
            ],
            "text/html": [
              "\n",
              "  <div id=\"df-82e1d8c0-6997-47f3-a5fa-f49060194ad2\">\n",
              "    <div class=\"colab-df-container\">\n",
              "      <div>\n",
              "<style scoped>\n",
              "    .dataframe tbody tr th:only-of-type {\n",
              "        vertical-align: middle;\n",
              "    }\n",
              "\n",
              "    .dataframe tbody tr th {\n",
              "        vertical-align: top;\n",
              "    }\n",
              "\n",
              "    .dataframe thead th {\n",
              "        text-align: right;\n",
              "    }\n",
              "</style>\n",
              "<table border=\"1\" class=\"dataframe\">\n",
              "  <thead>\n",
              "    <tr style=\"text-align: right;\">\n",
              "      <th></th>\n",
              "      <th>DNA</th>\n",
              "    </tr>\n",
              "    <tr>\n",
              "      <th>id</th>\n",
              "      <th></th>\n",
              "    </tr>\n",
              "  </thead>\n",
              "  <tbody>\n",
              "    <tr>\n",
              "      <th>100000</th>\n",
              "      <td>TTGATTAATAAGATTCCTTGACACCCTTTGTAAAGTTTCTATTTCGTGTGAAATATCTATCTCTTCAAATCCTTTTAATTTATCTAGGTATTTGCT...</td>\n",
              "    </tr>\n",
              "    <tr>\n",
              "      <th>100001</th>\n",
              "      <td>ATTAGTAACGGAGGATTTACTAGATGTTTGGATTTATATTCTAATTTTATTCAGGTGGAAGGGATTGTTTTATGATTCAATAGTATACAGAGAATA...</td>\n",
              "    </tr>\n",
              "    <tr>\n",
              "      <th>...</th>\n",
              "      <td>...</td>\n",
              "    </tr>\n",
              "    <tr>\n",
              "      <th>119998</th>\n",
              "      <td>CGTCGGCATGCTCGGGCAGTGCGGCGGGCCAGCAGCGTGCCAGTTGTCGCGGGGCGGCCGGGCATCGCGGCGCCGGGCGGCAGCACTCCCGCGAAG...</td>\n",
              "    </tr>\n",
              "    <tr>\n",
              "      <th>119999</th>\n",
              "      <td>GCGAGGGCACGAAGGCACGACGGCAACGGCGGCGAGGAGCGCTGTGGCAACCGTCTCCGCGTTTGCGTGCGTACAGCCGAGAGCTGGTTCGCGCAG...</td>\n",
              "    </tr>\n",
              "  </tbody>\n",
              "</table>\n",
              "<p>20000 rows × 1 columns</p>\n",
              "</div>\n",
              "      <button class=\"colab-df-convert\" onclick=\"convertToInteractive('df-82e1d8c0-6997-47f3-a5fa-f49060194ad2')\"\n",
              "              title=\"Convert this dataframe to an interactive table.\"\n",
              "              style=\"display:none;\">\n",
              "        \n",
              "  <svg xmlns=\"http://www.w3.org/2000/svg\" height=\"24px\"viewBox=\"0 0 24 24\"\n",
              "       width=\"24px\">\n",
              "    <path d=\"M0 0h24v24H0V0z\" fill=\"none\"/>\n",
              "    <path d=\"M18.56 5.44l.94 2.06.94-2.06 2.06-.94-2.06-.94-.94-2.06-.94 2.06-2.06.94zm-11 1L8.5 8.5l.94-2.06 2.06-.94-2.06-.94L8.5 2.5l-.94 2.06-2.06.94zm10 10l.94 2.06.94-2.06 2.06-.94-2.06-.94-.94-2.06-.94 2.06-2.06.94z\"/><path d=\"M17.41 7.96l-1.37-1.37c-.4-.4-.92-.59-1.43-.59-.52 0-1.04.2-1.43.59L10.3 9.45l-7.72 7.72c-.78.78-.78 2.05 0 2.83L4 21.41c.39.39.9.59 1.41.59.51 0 1.02-.2 1.41-.59l7.78-7.78 2.81-2.81c.8-.78.8-2.07 0-2.86zM5.41 20L4 18.59l7.72-7.72 1.47 1.35L5.41 20z\"/>\n",
              "  </svg>\n",
              "      </button>\n",
              "      \n",
              "  <style>\n",
              "    .colab-df-container {\n",
              "      display:flex;\n",
              "      flex-wrap:wrap;\n",
              "      gap: 12px;\n",
              "    }\n",
              "\n",
              "    .colab-df-convert {\n",
              "      background-color: #E8F0FE;\n",
              "      border: none;\n",
              "      border-radius: 50%;\n",
              "      cursor: pointer;\n",
              "      display: none;\n",
              "      fill: #1967D2;\n",
              "      height: 32px;\n",
              "      padding: 0 0 0 0;\n",
              "      width: 32px;\n",
              "    }\n",
              "\n",
              "    .colab-df-convert:hover {\n",
              "      background-color: #E2EBFA;\n",
              "      box-shadow: 0px 1px 2px rgba(60, 64, 67, 0.3), 0px 1px 3px 1px rgba(60, 64, 67, 0.15);\n",
              "      fill: #174EA6;\n",
              "    }\n",
              "\n",
              "    [theme=dark] .colab-df-convert {\n",
              "      background-color: #3B4455;\n",
              "      fill: #D2E3FC;\n",
              "    }\n",
              "\n",
              "    [theme=dark] .colab-df-convert:hover {\n",
              "      background-color: #434B5C;\n",
              "      box-shadow: 0px 1px 3px 1px rgba(0, 0, 0, 0.15);\n",
              "      filter: drop-shadow(0px 1px 2px rgba(0, 0, 0, 0.3));\n",
              "      fill: #FFFFFF;\n",
              "    }\n",
              "  </style>\n",
              "\n",
              "      <script>\n",
              "        const buttonEl =\n",
              "          document.querySelector('#df-82e1d8c0-6997-47f3-a5fa-f49060194ad2 button.colab-df-convert');\n",
              "        buttonEl.style.display =\n",
              "          google.colab.kernel.accessAllowed ? 'block' : 'none';\n",
              "\n",
              "        async function convertToInteractive(key) {\n",
              "          const element = document.querySelector('#df-82e1d8c0-6997-47f3-a5fa-f49060194ad2');\n",
              "          const dataTable =\n",
              "            await google.colab.kernel.invokeFunction('convertToInteractive',\n",
              "                                                     [key], {});\n",
              "          if (!dataTable) return;\n",
              "\n",
              "          const docLinkHtml = 'Like what you see? Visit the ' +\n",
              "            '<a target=\"_blank\" href=https://colab.research.google.com/notebooks/data_table.ipynb>data table notebook</a>'\n",
              "            + ' to learn more about interactive tables.';\n",
              "          element.innerHTML = '';\n",
              "          dataTable['output_type'] = 'display_data';\n",
              "          await google.colab.output.renderOutput(dataTable, element);\n",
              "          const docLink = document.createElement('div');\n",
              "          docLink.innerHTML = docLinkHtml;\n",
              "          element.appendChild(docLink);\n",
              "        }\n",
              "      </script>\n",
              "    </div>\n",
              "  </div>\n",
              "  "
            ]
          },
          "metadata": {},
          "execution_count": 4
        }
      ]
    },
    {
      "cell_type": "code",
      "metadata": {
        "id": "1JVbzlnuIud4",
        "colab": {
          "base_uri": "https://localhost:8080/"
        },
        "outputId": "617fbfb7-2df4-4d25-eaa9-095f69d404dd"
      },
      "source": [
        "tmr = Timer() # runtime limit (in seconds). Add all of your code after the timer"
      ],
      "execution_count": null,
      "outputs": [
        {
          "output_type": "stream",
          "name": "stdout",
          "text": [
            "⏳ started. You have 300 sec. Good luck!\n"
          ]
        }
      ]
    },
    {
      "cell_type": "markdown",
      "metadata": {
        "id": "NLxefmk0Iz0U"
      },
      "source": [
        "❗Do not modify the setup above."
      ]
    },
    {
      "cell_type": "markdown",
      "source": [
        "<hr color=red>\n",
        "\n",
        "<font size=5>⏳</font> <strong><font color=orange size=5>Your Code, Documentation, Ideas and Timer - All Start Here...</font></strong>\n",
        "\n",
        "**Student's Section** (between ⏳ symbols): add your code and documentation here."
      ],
      "metadata": {
        "id": "3NcTKbw3KhAn"
      }
    },
    {
      "cell_type": "markdown",
      "metadata": {
        "id": "OpyLNt3god0c"
      },
      "source": [
        "## **Task 1. Preprocessing Pipeline**\n",
        " \n",
        "Explain elements of your preprocessing pipeline i.e. feature engineering, subsampling, clustering, dimensionality reduction, etc. \n",
        "1. Why did you choose these elements? (Something in EDA, prior experience,...? Btw, EDA is not required)\n",
        "1. How do you evaluate the effectiveness of these elements? \n",
        "1. What else have you tried that worked or didn't? "
      ]
    },
    {
      "cell_type": "markdown",
      "metadata": {
        "id": "30xYIFXAnaPE"
      },
      "source": [
        "**Student's answer:**"
      ]
    },
    {
      "cell_type": "markdown",
      "metadata": {
        "id": "KGJRwzqHob4o"
      },
      "source": [
        "## **Task 2. Modeling Approach**\n",
        "Explain your modeling approach, i.e. ideas you tried and why you thought they would be helpful. \n",
        "\n",
        "1. How did these decisions guide you in modeling?\n",
        "1. How do you evaluate the effectiveness of these elements? \n",
        "1. What else have you tried that worked or didn't? "
      ]
    },
    {
      "cell_type": "markdown",
      "metadata": {
        "id": "zi6ZjgtWnb58"
      },
      "source": [
        "**Student's answer:**"
      ]
    },
    {
      "cell_type": "markdown",
      "metadata": {
        "id": "r-w7CLJeJAZC"
      },
      "source": [
        "[SBERT](https://www.sbert.net) generates 384-dimensional text embedding vectors for each text entry. See [more models](https://www.sbert.net/docs/pretrained_models.html).\n",
        "* Only reputable publicly available embedding models are allowed (SBERT, USE, MUSE, LASER, ...). We want to prevent participants' training embeddings on test data."
      ]
    },
    {
      "cell_type": "code",
      "metadata": {
        "id": "QfkARvtJJCum"
      },
      "source": [
        "%%capture\n",
        "sbert = SBERT('paraphrase-MiniLM-L6-v2')  # 4 seconds; loads SBERT embeddings model"
      ],
      "execution_count": null,
      "outputs": []
    },
    {
      "cell_type": "code",
      "metadata": {
        "id": "_586zfPPJD4C",
        "colab": {
          "base_uri": "https://localhost:8080/",
          "height": 253
        },
        "outputId": "f88f1019-4ef5-4546-9252-d5cb02a4b3c2"
      },
      "source": [
        "tYX = tYX.head(10000)\n",
        "%time tEmb, vEmb = sbert.encode([s[:50] for s in tYX.DNA]), sbert.encode([s[:50] for s in vX.DNA])  # embed all sequences to same-size vectors\n",
        "print(f'Train embedding matrix size:', tEmb.shape)\n",
        "pd.DataFrame(vEmb[:3,:30], index=[x[:20]+'...' for x in vX.DNA[:3]]).style.background_gradient(cmap='coolwarm', axis=1).set_precision(2)  # show movie description and a few of its embedding features"
      ],
      "execution_count": null,
      "outputs": [
        {
          "output_type": "stream",
          "name": "stdout",
          "text": [
            "CPU times: user 17 s, sys: 1.29 s, total: 18.3 s\n",
            "Wall time: 23 s\n",
            "Train embedding matrix size: (10000, 384)\n"
          ]
        },
        {
          "output_type": "stream",
          "name": "stderr",
          "text": [
            "/usr/local/lib/python3.7/dist-packages/ipykernel_launcher.py:4: FutureWarning: this method is deprecated in favour of `Styler.format(precision=..)`\n",
            "  after removing the cwd from sys.path.\n"
          ]
        },
        {
          "output_type": "execute_result",
          "data": {
            "text/plain": [
              "<pandas.io.formats.style.Styler at 0x7f44a0211690>"
            ],
            "text/html": [
              "<style type=\"text/css\">\n",
              "#T_dfcae_row0_col0 {\n",
              "  background-color: #5d7ce6;\n",
              "  color: #f1f1f1;\n",
              "}\n",
              "#T_dfcae_row0_col1 {\n",
              "  background-color: #cfdaea;\n",
              "  color: #000000;\n",
              "}\n",
              "#T_dfcae_row0_col2 {\n",
              "  background-color: #bed2f6;\n",
              "  color: #000000;\n",
              "}\n",
              "#T_dfcae_row0_col3, #T_dfcae_row1_col13 {\n",
              "  background-color: #d2dbe8;\n",
              "  color: #000000;\n",
              "}\n",
              "#T_dfcae_row0_col4 {\n",
              "  background-color: #4961d2;\n",
              "  color: #f1f1f1;\n",
              "}\n",
              "#T_dfcae_row0_col5 {\n",
              "  background-color: #e7d7ce;\n",
              "  color: #000000;\n",
              "}\n",
              "#T_dfcae_row0_col6 {\n",
              "  background-color: #b8122a;\n",
              "  color: #f1f1f1;\n",
              "}\n",
              "#T_dfcae_row0_col7 {\n",
              "  background-color: #88abfd;\n",
              "  color: #000000;\n",
              "}\n",
              "#T_dfcae_row0_col8 {\n",
              "  background-color: #f5c1a9;\n",
              "  color: #000000;\n",
              "}\n",
              "#T_dfcae_row0_col9, #T_dfcae_row1_col7, #T_dfcae_row1_col22 {\n",
              "  background-color: #a2c1ff;\n",
              "  color: #000000;\n",
              "}\n",
              "#T_dfcae_row0_col10 {\n",
              "  background-color: #f7b194;\n",
              "  color: #000000;\n",
              "}\n",
              "#T_dfcae_row0_col11 {\n",
              "  background-color: #7699f6;\n",
              "  color: #f1f1f1;\n",
              "}\n",
              "#T_dfcae_row0_col12 {\n",
              "  background-color: #ccd9ed;\n",
              "  color: #000000;\n",
              "}\n",
              "#T_dfcae_row0_col13 {\n",
              "  background-color: #c3d5f4;\n",
              "  color: #000000;\n",
              "}\n",
              "#T_dfcae_row0_col14, #T_dfcae_row2_col15, #T_dfcae_row2_col17 {\n",
              "  background-color: #c7d7f0;\n",
              "  color: #000000;\n",
              "}\n",
              "#T_dfcae_row0_col15 {\n",
              "  background-color: #efcebd;\n",
              "  color: #000000;\n",
              "}\n",
              "#T_dfcae_row0_col16, #T_dfcae_row1_col4 {\n",
              "  background-color: #cbd8ee;\n",
              "  color: #000000;\n",
              "}\n",
              "#T_dfcae_row0_col17, #T_dfcae_row1_col6, #T_dfcae_row2_col6 {\n",
              "  background-color: #b40426;\n",
              "  color: #f1f1f1;\n",
              "}\n",
              "#T_dfcae_row0_col18, #T_dfcae_row0_col27 {\n",
              "  background-color: #e2dad5;\n",
              "  color: #000000;\n",
              "}\n",
              "#T_dfcae_row0_col19 {\n",
              "  background-color: #d1dae9;\n",
              "  color: #000000;\n",
              "}\n",
              "#T_dfcae_row0_col20 {\n",
              "  background-color: #f39577;\n",
              "  color: #000000;\n",
              "}\n",
              "#T_dfcae_row0_col21, #T_dfcae_row1_col26, #T_dfcae_row2_col11 {\n",
              "  background-color: #3b4cc0;\n",
              "  color: #f1f1f1;\n",
              "}\n",
              "#T_dfcae_row0_col22 {\n",
              "  background-color: #81a4fb;\n",
              "  color: #f1f1f1;\n",
              "}\n",
              "#T_dfcae_row0_col23 {\n",
              "  background-color: #c1d4f4;\n",
              "  color: #000000;\n",
              "}\n",
              "#T_dfcae_row0_col24 {\n",
              "  background-color: #f08a6c;\n",
              "  color: #f1f1f1;\n",
              "}\n",
              "#T_dfcae_row0_col25 {\n",
              "  background-color: #f7b599;\n",
              "  color: #000000;\n",
              "}\n",
              "#T_dfcae_row0_col26 {\n",
              "  background-color: #6c8ff1;\n",
              "  color: #f1f1f1;\n",
              "}\n",
              "#T_dfcae_row0_col28 {\n",
              "  background-color: #d0473d;\n",
              "  color: #f1f1f1;\n",
              "}\n",
              "#T_dfcae_row0_col29 {\n",
              "  background-color: #f6bea4;\n",
              "  color: #000000;\n",
              "}\n",
              "#T_dfcae_row1_col0 {\n",
              "  background-color: #5f7fe8;\n",
              "  color: #f1f1f1;\n",
              "}\n",
              "#T_dfcae_row1_col1 {\n",
              "  background-color: #e1dad6;\n",
              "  color: #000000;\n",
              "}\n",
              "#T_dfcae_row1_col2 {\n",
              "  background-color: #96b7ff;\n",
              "  color: #000000;\n",
              "}\n",
              "#T_dfcae_row1_col3, #T_dfcae_row2_col10 {\n",
              "  background-color: #f7ba9f;\n",
              "  color: #000000;\n",
              "}\n",
              "#T_dfcae_row1_col5, #T_dfcae_row1_col25 {\n",
              "  background-color: #d3dbe7;\n",
              "  color: #000000;\n",
              "}\n",
              "#T_dfcae_row1_col8 {\n",
              "  background-color: #f39778;\n",
              "  color: #000000;\n",
              "}\n",
              "#T_dfcae_row1_col9 {\n",
              "  background-color: #cad8ef;\n",
              "  color: #000000;\n",
              "}\n",
              "#T_dfcae_row1_col10 {\n",
              "  background-color: #f7bca1;\n",
              "  color: #000000;\n",
              "}\n",
              "#T_dfcae_row1_col11 {\n",
              "  background-color: #8caffe;\n",
              "  color: #000000;\n",
              "}\n",
              "#T_dfcae_row1_col12, #T_dfcae_row2_col29 {\n",
              "  background-color: #ead5c9;\n",
              "  color: #000000;\n",
              "}\n",
              "#T_dfcae_row1_col14 {\n",
              "  background-color: #b1cbfc;\n",
              "  color: #000000;\n",
              "}\n",
              "#T_dfcae_row1_col15, #T_dfcae_row2_col9 {\n",
              "  background-color: #dadce0;\n",
              "  color: #000000;\n",
              "}\n",
              "#T_dfcae_row1_col16 {\n",
              "  background-color: #f7b396;\n",
              "  color: #000000;\n",
              "}\n",
              "#T_dfcae_row1_col17 {\n",
              "  background-color: #ea7b60;\n",
              "  color: #f1f1f1;\n",
              "}\n",
              "#T_dfcae_row1_col18 {\n",
              "  background-color: #f2cab5;\n",
              "  color: #000000;\n",
              "}\n",
              "#T_dfcae_row1_col19 {\n",
              "  background-color: #f5c4ac;\n",
              "  color: #000000;\n",
              "}\n",
              "#T_dfcae_row1_col20 {\n",
              "  background-color: #c53334;\n",
              "  color: #f1f1f1;\n",
              "}\n",
              "#T_dfcae_row1_col21 {\n",
              "  background-color: #90b2fe;\n",
              "  color: #000000;\n",
              "}\n",
              "#T_dfcae_row1_col23 {\n",
              "  background-color: #d9dce1;\n",
              "  color: #000000;\n",
              "}\n",
              "#T_dfcae_row1_col24 {\n",
              "  background-color: #f08b6e;\n",
              "  color: #f1f1f1;\n",
              "}\n",
              "#T_dfcae_row1_col27, #T_dfcae_row2_col1 {\n",
              "  background-color: #cdd9ec;\n",
              "  color: #000000;\n",
              "}\n",
              "#T_dfcae_row1_col28 {\n",
              "  background-color: #f6a385;\n",
              "  color: #000000;\n",
              "}\n",
              "#T_dfcae_row1_col29 {\n",
              "  background-color: #f3c8b2;\n",
              "  color: #000000;\n",
              "}\n",
              "#T_dfcae_row2_col0 {\n",
              "  background-color: #9fbfff;\n",
              "  color: #000000;\n",
              "}\n",
              "#T_dfcae_row2_col2 {\n",
              "  background-color: #a1c0ff;\n",
              "  color: #000000;\n",
              "}\n",
              "#T_dfcae_row2_col3 {\n",
              "  background-color: #e4d9d2;\n",
              "  color: #000000;\n",
              "}\n",
              "#T_dfcae_row2_col4 {\n",
              "  background-color: #9ebeff;\n",
              "  color: #000000;\n",
              "}\n",
              "#T_dfcae_row2_col5, #T_dfcae_row2_col18 {\n",
              "  background-color: #e9d5cb;\n",
              "  color: #000000;\n",
              "}\n",
              "#T_dfcae_row2_col7 {\n",
              "  background-color: #b5cdfa;\n",
              "  color: #000000;\n",
              "}\n",
              "#T_dfcae_row2_col8 {\n",
              "  background-color: #ebd3c6;\n",
              "  color: #000000;\n",
              "}\n",
              "#T_dfcae_row2_col12 {\n",
              "  background-color: #adc9fd;\n",
              "  color: #000000;\n",
              "}\n",
              "#T_dfcae_row2_col13 {\n",
              "  background-color: #dbdcde;\n",
              "  color: #000000;\n",
              "}\n",
              "#T_dfcae_row2_col14 {\n",
              "  background-color: #bbd1f8;\n",
              "  color: #000000;\n",
              "}\n",
              "#T_dfcae_row2_col16 {\n",
              "  background-color: #d7dce3;\n",
              "  color: #000000;\n",
              "}\n",
              "#T_dfcae_row2_col19, #T_dfcae_row2_col25 {\n",
              "  background-color: #f6bda2;\n",
              "  color: #000000;\n",
              "}\n",
              "#T_dfcae_row2_col20 {\n",
              "  background-color: #eed0c0;\n",
              "  color: #000000;\n",
              "}\n",
              "#T_dfcae_row2_col21 {\n",
              "  background-color: #bad0f8;\n",
              "  color: #000000;\n",
              "}\n",
              "#T_dfcae_row2_col22 {\n",
              "  background-color: #89acfd;\n",
              "  color: #000000;\n",
              "}\n",
              "#T_dfcae_row2_col23 {\n",
              "  background-color: #d5dbe5;\n",
              "  color: #000000;\n",
              "}\n",
              "#T_dfcae_row2_col24 {\n",
              "  background-color: #f3c7b1;\n",
              "  color: #000000;\n",
              "}\n",
              "#T_dfcae_row2_col26 {\n",
              "  background-color: #5977e3;\n",
              "  color: #f1f1f1;\n",
              "}\n",
              "#T_dfcae_row2_col27 {\n",
              "  background-color: #dedcdb;\n",
              "  color: #000000;\n",
              "}\n",
              "#T_dfcae_row2_col28 {\n",
              "  background-color: #f6bfa6;\n",
              "  color: #000000;\n",
              "}\n",
              "</style>\n",
              "<table id=\"T_dfcae_\" class=\"dataframe\">\n",
              "  <thead>\n",
              "    <tr>\n",
              "      <th class=\"blank level0\" >&nbsp;</th>\n",
              "      <th class=\"col_heading level0 col0\" >0</th>\n",
              "      <th class=\"col_heading level0 col1\" >1</th>\n",
              "      <th class=\"col_heading level0 col2\" >2</th>\n",
              "      <th class=\"col_heading level0 col3\" >3</th>\n",
              "      <th class=\"col_heading level0 col4\" >4</th>\n",
              "      <th class=\"col_heading level0 col5\" >5</th>\n",
              "      <th class=\"col_heading level0 col6\" >6</th>\n",
              "      <th class=\"col_heading level0 col7\" >7</th>\n",
              "      <th class=\"col_heading level0 col8\" >8</th>\n",
              "      <th class=\"col_heading level0 col9\" >9</th>\n",
              "      <th class=\"col_heading level0 col10\" >10</th>\n",
              "      <th class=\"col_heading level0 col11\" >11</th>\n",
              "      <th class=\"col_heading level0 col12\" >12</th>\n",
              "      <th class=\"col_heading level0 col13\" >13</th>\n",
              "      <th class=\"col_heading level0 col14\" >14</th>\n",
              "      <th class=\"col_heading level0 col15\" >15</th>\n",
              "      <th class=\"col_heading level0 col16\" >16</th>\n",
              "      <th class=\"col_heading level0 col17\" >17</th>\n",
              "      <th class=\"col_heading level0 col18\" >18</th>\n",
              "      <th class=\"col_heading level0 col19\" >19</th>\n",
              "      <th class=\"col_heading level0 col20\" >20</th>\n",
              "      <th class=\"col_heading level0 col21\" >21</th>\n",
              "      <th class=\"col_heading level0 col22\" >22</th>\n",
              "      <th class=\"col_heading level0 col23\" >23</th>\n",
              "      <th class=\"col_heading level0 col24\" >24</th>\n",
              "      <th class=\"col_heading level0 col25\" >25</th>\n",
              "      <th class=\"col_heading level0 col26\" >26</th>\n",
              "      <th class=\"col_heading level0 col27\" >27</th>\n",
              "      <th class=\"col_heading level0 col28\" >28</th>\n",
              "      <th class=\"col_heading level0 col29\" >29</th>\n",
              "    </tr>\n",
              "  </thead>\n",
              "  <tbody>\n",
              "    <tr>\n",
              "      <th id=\"T_dfcae_level0_row0\" class=\"row_heading level0 row0\" >TTGATTAATAAGATTCCTTG...</th>\n",
              "      <td id=\"T_dfcae_row0_col0\" class=\"data row0 col0\" >-0.51</td>\n",
              "      <td id=\"T_dfcae_row0_col1\" class=\"data row0 col1\" >-0.01</td>\n",
              "      <td id=\"T_dfcae_row0_col2\" class=\"data row0 col2\" >-0.09</td>\n",
              "      <td id=\"T_dfcae_row0_col3\" class=\"data row0 col3\" >0.00</td>\n",
              "      <td id=\"T_dfcae_row0_col4\" class=\"data row0 col4\" >-0.61</td>\n",
              "      <td id=\"T_dfcae_row0_col5\" class=\"data row0 col5\" >0.13</td>\n",
              "      <td id=\"T_dfcae_row0_col6\" class=\"data row0 col6\" >0.80</td>\n",
              "      <td id=\"T_dfcae_row0_col7\" class=\"data row0 col7\" >-0.33</td>\n",
              "      <td id=\"T_dfcae_row0_col8\" class=\"data row0 col8\" >0.27</td>\n",
              "      <td id=\"T_dfcae_row0_col9\" class=\"data row0 col9\" >-0.22</td>\n",
              "      <td id=\"T_dfcae_row0_col10\" class=\"data row0 col10\" >0.35</td>\n",
              "      <td id=\"T_dfcae_row0_col11\" class=\"data row0 col11\" >-0.40</td>\n",
              "      <td id=\"T_dfcae_row0_col12\" class=\"data row0 col12\" >-0.02</td>\n",
              "      <td id=\"T_dfcae_row0_col13\" class=\"data row0 col13\" >-0.07</td>\n",
              "      <td id=\"T_dfcae_row0_col14\" class=\"data row0 col14\" >-0.05</td>\n",
              "      <td id=\"T_dfcae_row0_col15\" class=\"data row0 col15\" >0.19</td>\n",
              "      <td id=\"T_dfcae_row0_col16\" class=\"data row0 col16\" >-0.03</td>\n",
              "      <td id=\"T_dfcae_row0_col17\" class=\"data row0 col17\" >0.82</td>\n",
              "      <td id=\"T_dfcae_row0_col18\" class=\"data row0 col18\" >0.10</td>\n",
              "      <td id=\"T_dfcae_row0_col19\" class=\"data row0 col19\" >-0.00</td>\n",
              "      <td id=\"T_dfcae_row0_col20\" class=\"data row0 col20\" >0.46</td>\n",
              "      <td id=\"T_dfcae_row0_col21\" class=\"data row0 col21\" >-0.68</td>\n",
              "      <td id=\"T_dfcae_row0_col22\" class=\"data row0 col22\" >-0.36</td>\n",
              "      <td id=\"T_dfcae_row0_col23\" class=\"data row0 col23\" >-0.08</td>\n",
              "      <td id=\"T_dfcae_row0_col24\" class=\"data row0 col24\" >0.50</td>\n",
              "      <td id=\"T_dfcae_row0_col25\" class=\"data row0 col25\" >0.33</td>\n",
              "      <td id=\"T_dfcae_row0_col26\" class=\"data row0 col26\" >-0.45</td>\n",
              "      <td id=\"T_dfcae_row0_col27\" class=\"data row0 col27\" >0.10</td>\n",
              "      <td id=\"T_dfcae_row0_col28\" class=\"data row0 col28\" >0.70</td>\n",
              "      <td id=\"T_dfcae_row0_col29\" class=\"data row0 col29\" >0.29</td>\n",
              "    </tr>\n",
              "    <tr>\n",
              "      <th id=\"T_dfcae_level0_row1\" class=\"row_heading level0 row1\" >ATTAGTAACGGAGGATTTAC...</th>\n",
              "      <td id=\"T_dfcae_row1_col0\" class=\"data row1 col0\" >-0.61</td>\n",
              "      <td id=\"T_dfcae_row1_col1\" class=\"data row1 col1\" >0.03</td>\n",
              "      <td id=\"T_dfcae_row1_col2\" class=\"data row1 col2\" >-0.36</td>\n",
              "      <td id=\"T_dfcae_row1_col3\" class=\"data row1 col3\" >0.26</td>\n",
              "      <td id=\"T_dfcae_row1_col4\" class=\"data row1 col4\" >-0.10</td>\n",
              "      <td id=\"T_dfcae_row1_col5\" class=\"data row1 col5\" >-0.06</td>\n",
              "      <td id=\"T_dfcae_row1_col6\" class=\"data row1 col6\" >0.81</td>\n",
              "      <td id=\"T_dfcae_row1_col7\" class=\"data row1 col7\" >-0.30</td>\n",
              "      <td id=\"T_dfcae_row1_col8\" class=\"data row1 col8\" >0.42</td>\n",
              "      <td id=\"T_dfcae_row1_col9\" class=\"data row1 col9\" >-0.11</td>\n",
              "      <td id=\"T_dfcae_row1_col10\" class=\"data row1 col10\" >0.25</td>\n",
              "      <td id=\"T_dfcae_row1_col11\" class=\"data row1 col11\" >-0.40</td>\n",
              "      <td id=\"T_dfcae_row1_col12\" class=\"data row1 col12\" >0.09</td>\n",
              "      <td id=\"T_dfcae_row1_col13\" class=\"data row1 col13\" >-0.06</td>\n",
              "      <td id=\"T_dfcae_row1_col14\" class=\"data row1 col14\" >-0.23</td>\n",
              "      <td id=\"T_dfcae_row1_col15\" class=\"data row1 col15\" >-0.01</td>\n",
              "      <td id=\"T_dfcae_row1_col16\" class=\"data row1 col16\" >0.30</td>\n",
              "      <td id=\"T_dfcae_row1_col17\" class=\"data row1 col17\" >0.52</td>\n",
              "      <td id=\"T_dfcae_row1_col18\" class=\"data row1 col18\" >0.17</td>\n",
              "      <td id=\"T_dfcae_row1_col19\" class=\"data row1 col19\" >0.21</td>\n",
              "      <td id=\"T_dfcae_row1_col20\" class=\"data row1 col20\" >0.73</td>\n",
              "      <td id=\"T_dfcae_row1_col21\" class=\"data row1 col21\" >-0.39</td>\n",
              "      <td id=\"T_dfcae_row1_col22\" class=\"data row1 col22\" >-0.30</td>\n",
              "      <td id=\"T_dfcae_row1_col23\" class=\"data row1 col23\" >-0.02</td>\n",
              "      <td id=\"T_dfcae_row1_col24\" class=\"data row1 col24\" >0.46</td>\n",
              "      <td id=\"T_dfcae_row1_col25\" class=\"data row1 col25\" >-0.06</td>\n",
              "      <td id=\"T_dfcae_row1_col26\" class=\"data row1 col26\" >-0.80</td>\n",
              "      <td id=\"T_dfcae_row1_col27\" class=\"data row1 col27\" >-0.08</td>\n",
              "      <td id=\"T_dfcae_row1_col28\" class=\"data row1 col28\" >0.37</td>\n",
              "      <td id=\"T_dfcae_row1_col29\" class=\"data row1 col29\" >0.18</td>\n",
              "    </tr>\n",
              "    <tr>\n",
              "      <th id=\"T_dfcae_level0_row2\" class=\"row_heading level0 row2\" >AAAAAGCCGTAAAAGACGAT...</th>\n",
              "      <td id=\"T_dfcae_row2_col0\" class=\"data row2 col0\" >-0.30</td>\n",
              "      <td id=\"T_dfcae_row2_col1\" class=\"data row2 col1\" >-0.03</td>\n",
              "      <td id=\"T_dfcae_row2_col2\" class=\"data row2 col2\" >-0.29</td>\n",
              "      <td id=\"T_dfcae_row2_col3\" class=\"data row2 col3\" >0.14</td>\n",
              "      <td id=\"T_dfcae_row2_col4\" class=\"data row2 col4\" >-0.30</td>\n",
              "      <td id=\"T_dfcae_row2_col5\" class=\"data row2 col5\" >0.17</td>\n",
              "      <td id=\"T_dfcae_row2_col6\" class=\"data row2 col6\" >1.02</td>\n",
              "      <td id=\"T_dfcae_row2_col7\" class=\"data row2 col7\" >-0.17</td>\n",
              "      <td id=\"T_dfcae_row2_col8\" class=\"data row2 col8\" >0.19</td>\n",
              "      <td id=\"T_dfcae_row2_col9\" class=\"data row2 col9\" >0.06</td>\n",
              "      <td id=\"T_dfcae_row2_col10\" class=\"data row2 col10\" >0.37</td>\n",
              "      <td id=\"T_dfcae_row2_col11\" class=\"data row2 col11\" >-0.87</td>\n",
              "      <td id=\"T_dfcae_row2_col12\" class=\"data row2 col12\" >-0.23</td>\n",
              "      <td id=\"T_dfcae_row2_col13\" class=\"data row2 col13\" >0.07</td>\n",
              "      <td id=\"T_dfcae_row2_col14\" class=\"data row2 col14\" >-0.14</td>\n",
              "      <td id=\"T_dfcae_row2_col15\" class=\"data row2 col15\" >-0.07</td>\n",
              "      <td id=\"T_dfcae_row2_col16\" class=\"data row2 col16\" >0.04</td>\n",
              "      <td id=\"T_dfcae_row2_col17\" class=\"data row2 col17\" >-0.07</td>\n",
              "      <td id=\"T_dfcae_row2_col18\" class=\"data row2 col18\" >0.17</td>\n",
              "      <td id=\"T_dfcae_row2_col19\" class=\"data row2 col19\" >0.36</td>\n",
              "      <td id=\"T_dfcae_row2_col20\" class=\"data row2 col20\" >0.22</td>\n",
              "      <td id=\"T_dfcae_row2_col21\" class=\"data row2 col21\" >-0.15</td>\n",
              "      <td id=\"T_dfcae_row2_col22\" class=\"data row2 col22\" >-0.41</td>\n",
              "      <td id=\"T_dfcae_row2_col23\" class=\"data row2 col23\" >0.02</td>\n",
              "      <td id=\"T_dfcae_row2_col24\" class=\"data row2 col24\" >0.30</td>\n",
              "      <td id=\"T_dfcae_row2_col25\" class=\"data row2 col25\" >0.36</td>\n",
              "      <td id=\"T_dfcae_row2_col26\" class=\"data row2 col26\" >-0.68</td>\n",
              "      <td id=\"T_dfcae_row2_col27\" class=\"data row2 col27\" >0.09</td>\n",
              "      <td id=\"T_dfcae_row2_col28\" class=\"data row2 col28\" >0.35</td>\n",
              "      <td id=\"T_dfcae_row2_col29\" class=\"data row2 col29\" >0.18</td>\n",
              "    </tr>\n",
              "  </tbody>\n",
              "</table>\n"
            ]
          },
          "metadata": {},
          "execution_count": 7
        }
      ]
    },
    {
      "cell_type": "code",
      "metadata": {
        "id": "P7S-L3EFJHqB",
        "colab": {
          "base_uri": "https://localhost:8080/"
        },
        "outputId": "b890d1fa-faa7-4372-ef74-00c98b0dddd6"
      },
      "source": [
        "%time m = LinearSVC(random_state=0, max_iter=10000).fit(tEmb, tYX.Y)  # SVC is ok to use. See updated Rules.\n",
        "m.score(tEmb, tYX.Y)   # in-sample accuracy"
      ],
      "execution_count": null,
      "outputs": [
        {
          "output_type": "stream",
          "name": "stdout",
          "text": [
            "CPU times: user 5.81 s, sys: 61.1 ms, total: 5.87 s\n",
            "Wall time: 5.85 s\n"
          ]
        },
        {
          "output_type": "execute_result",
          "data": {
            "text/plain": [
              "0.9507"
            ]
          },
          "metadata": {},
          "execution_count": 9
        }
      ]
    },
    {
      "cell_type": "code",
      "metadata": {
        "id": "U1PsK7LZJIgQ"
      },
      "source": [
        "pY = pd.DataFrame(m.predict(vEmb), index=vX.index, columns=['y'])   # predicted targets\n",
        "ToCSV((pY>0.5)*1, 'MySubmission')"
      ],
      "execution_count": null,
      "outputs": []
    },
    {
      "cell_type": "markdown",
      "source": [
        "# **References:**"
      ],
      "metadata": {
        "id": "pzBsjCvS_kEw"
      }
    },
    {
      "cell_type": "markdown",
      "source": [
        "1. Remember to cite your sources here as well! At the least, your textbook should be cited. Google Scholar allows you to effortlessly copy/paste an APA citation format for books and publications. Also cite StackOverflow, package documentation, and other meaningful internet resources to help your peers learn from these (and to avoid plagiarism claims)."
      ],
      "metadata": {
        "id": "2kr8Q-9T_nAb"
      }
    },
    {
      "cell_type": "markdown",
      "source": [
        "<font size=5>⌛</font> <strong><font color=orange size=5>Do not exceed competition's runtime limit!</font></strong>\n",
        "\n",
        "<hr color=red>\n"
      ],
      "metadata": {
        "id": "DoF2GoB_QGw9"
      }
    },
    {
      "cell_type": "code",
      "metadata": {
        "id": "nosV1OWFJPx5",
        "colab": {
          "base_uri": "https://localhost:8080/"
        },
        "outputId": "8aae77ea-c9a6-47f1-ff8a-54358ee75f7d"
      },
      "source": [
        "tmr.ShowTime()    # measure Colab's runtime. Do not remove. Keep as the last cell in your notebook."
      ],
      "execution_count": null,
      "outputs": [
        {
          "output_type": "stream",
          "name": "stdout",
          "text": [
            "Runtime is 43 sec\n"
          ]
        }
      ]
    },
    {
      "cell_type": "markdown",
      "metadata": {
        "id": "udpl5HJ4JSLr"
      },
      "source": [
        "# 💡**Starter Ideas**"
      ]
    },
    {
      "cell_type": "markdown",
      "metadata": {
        "id": "uWllDRgiJVDJ"
      },
      "source": [
        "1. Learn about DNA [&#127910;](https://www.youtube.com/results?search_query=nucleotides+genes+amino+acids+)\n",
        "1. Try a larger training sample. \n",
        "1. Try longer training DNA strings, but SBERT may have a cap on string length, so you might split DNA into several strings and then concatenate or average resulting vectors\n",
        "1. Try other pretrained SBERT models. Note that DNA sequence uses ACGT letters, but many other models were trained on multilingual text. So, you might prefer those that were trained on mostly ASCII.\n",
        "1. SBERT is trained on word tokens (typically, separated by spaces), but DNA sequence has no spaces. Try placing spaces after every character or some semantically meaningful subsequences (this might require more domain knowledge).\n",
        "1. Try Google's [USE](https://tfhub.dev/google/universal-sentence-encoder-multilingual/3) embedding models\n",
        "1. Try Facebook's [LASER](https://github.com/facebookresearch/LASER) and [others](https://tfhub.dev/s?module-type=text-language-model). \n",
        "1. Try [Enformer](https://tfhub.dev/deepmind/enformer/1) for gene expressions. See [DeepMind paper](https://deepmind.com/blog/article/enformer).\n",
        "1. Try building your own embeddings on the given sequences. SBERT and other packages make it easy (just a few lines), but it may take too much time.\n",
        "1. Assess distribution of character patterns (single, doubles, triplets, ...). For example, an ACGT string generates AC, CG, GT doubles and ACG and CGT triplets. Does one class have more subsequences of some type? This might be a feature in your model. \n",
        "1. Try features built as counts of subsequences (singles, doubles, triplets, ...). Consider EDA first.\n",
        "1. Concatenate or otherwise combine multiple embeddings derived from each gene string\n",
        "1. Learn from [*The genetic code*](https://www.khanacademy.org/science/ap-biology/gene-expression-and-regulation/translation/a/the-genetic-code-discovery-and-properties), Khan Academy.\n",
        "1. Learn from [*Apply Machine Learning Algorithms for Genomics Data Classification*](https://medium.com/mlearning-ai/apply-machine-learning-algorithms-for-genomics-data-classification-132972933723)\n",
        "1. Learn from [*Efficient counting of k-mers in DNA sequences using a bloom filter*](https://bmcbioinformatics.biomedcentral.com/articles/10.1186/1471-2105-12-333) Páll Melsted et al. 2011\n",
        "1. Try [Byte Pair Encoding](https://www.derczynski.com/papers/archive/BPE_Gage.pdf) and [SentencePiece](https://arxiv.org/pdf/1808.06226.pdf) to auto identification of \"important\" [k-mers](https://en.wikipedia.org/wiki/K-mer) (substrings)"
      ]
    },
    {
      "cell_type": "code",
      "metadata": {
        "id": "hFwKcfCnmmGh"
      },
      "source": [],
      "execution_count": null,
      "outputs": []
    }
  ]
}