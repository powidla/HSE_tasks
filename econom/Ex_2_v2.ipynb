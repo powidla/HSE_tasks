{
 "cells": [
  {
   "cell_type": "markdown",
   "metadata": {
    "collapsed": true
   },
   "source": [
    "# Задание 2. Первичный анализ данных, описательная статистика и проверка гипотез"
   ]
  },
  {
   "cell_type": "markdown",
   "metadata": {},
   "source": [
    "## Цель задания:\n",
    "### 1. Провести анализ основных статистических показателей распределения\n",
    "### 2. Проверить гипотезу о соответствии распределения исследуемого признака нормальному закону\n",
    "### 3. Получить интервальные оценки основных параметров распределения\n",
    "### 4. Провести проверку гипотез относительно значениий основных параметров распределения, а также сравнить две выборки"
   ]
  },
  {
   "cell_type": "markdown",
   "metadata": {},
   "source": [
    "## 1. Загрузка библиотек"
   ]
  },
  {
   "cell_type": "code",
   "execution_count": 1,
   "metadata": {},
   "outputs": [],
   "source": [
    "import pandas as pd \n",
    "import numpy as np\n",
    "from scipy import stats # библиотека статистических методов\n",
    "from statsmodels.stats import diagnostic # библиотека статистических методов "
   ]
  },
  {
   "cell_type": "code",
   "execution_count": 2,
   "metadata": {},
   "outputs": [],
   "source": [
    "import matplotlib.pyplot as plt # графическая библиотека\n",
    "%matplotlib inline"
   ]
  },
  {
   "cell_type": "code",
   "execution_count": 3,
   "metadata": {},
   "outputs": [],
   "source": [
    "import seaborn as sns"
   ]
  },
  {
   "cell_type": "code",
   "execution_count": 4,
   "metadata": {},
   "outputs": [],
   "source": [
    "pd.set_option('display.max_colwidth',0)# опция позволяет читать текстовые поля в \"необрезанном виде\""
   ]
  },
  {
   "cell_type": "markdown",
   "metadata": {},
   "source": [
    "## 2. Загрузка необходимых файлов"
   ]
  },
  {
   "cell_type": "code",
   "execution_count": 5,
   "metadata": {},
   "outputs": [],
   "source": [
    "path='/Users/massimozharkovsky/Documents/ML/Econometrics/'"
   ]
  },
  {
   "cell_type": "code",
   "execution_count": 6,
   "metadata": {},
   "outputs": [],
   "source": [
    "imf=pd.read_csv(path+'imf.csv',encoding='latin-1')# загрузка данных IMF в dataframe"
   ]
  },
  {
   "cell_type": "code",
   "execution_count": 7,
   "metadata": {},
   "outputs": [
    {
     "data": {
      "text/plain": [
       "Index(['WEO Country Code', 'ISO', 'WEO Subject Code', 'Country',\n",
       "       'Subject Descriptor', 'Subject Notes', 'Units', 'Scale',\n",
       "       'Country/Series-specific Notes', '1980', '1981', '1982', '1983', '1984',\n",
       "       '1985', '1986', '1987', '1988', '1989', '1990', '1991', '1992', '1993',\n",
       "       '1994', '1995', '1996', '1997', '1998', '1999', '2000', '2001', '2002',\n",
       "       '2003', '2004', '2005', '2006', '2007', '2008', '2009', '2010', '2011',\n",
       "       '2012', '2013', '2014', '2015', '2016', '2017', '2018', '2019', '2020',\n",
       "       '2021', '2022', '2023', 'Estimates Start After', 'continent',\n",
       "       'sub_region'],\n",
       "      dtype='object')"
      ]
     },
     "execution_count": 7,
     "metadata": {},
     "output_type": "execute_result"
    }
   ],
   "source": [
    "imf.columns"
   ]
  },
  {
   "cell_type": "code",
   "execution_count": 8,
   "metadata": {},
   "outputs": [
    {
     "data": {
      "text/plain": [
       "(8730, 56)"
      ]
     },
     "execution_count": 8,
     "metadata": {},
     "output_type": "execute_result"
    }
   ],
   "source": [
    "imf.shape # размерность dataframe"
   ]
  },
  {
   "cell_type": "code",
   "execution_count": 9,
   "metadata": {},
   "outputs": [],
   "source": [
    "ind=pd.read_csv(path+'indicators.csv')#загрузка базы индикаторов в dataframe"
   ]
  },
  {
   "cell_type": "code",
   "execution_count": 10,
   "metadata": {},
   "outputs": [
    {
     "data": {
      "text/html": [
       "<div>\n",
       "<style scoped>\n",
       "    .dataframe tbody tr th:only-of-type {\n",
       "        vertical-align: middle;\n",
       "    }\n",
       "\n",
       "    .dataframe tbody tr th {\n",
       "        vertical-align: top;\n",
       "    }\n",
       "\n",
       "    .dataframe thead th {\n",
       "        text-align: right;\n",
       "    }\n",
       "</style>\n",
       "<table border=\"1\" class=\"dataframe\">\n",
       "  <thead>\n",
       "    <tr style=\"text-align: right;\">\n",
       "      <th></th>\n",
       "      <th>Code</th>\n",
       "      <th>Indicator</th>\n",
       "      <th>Source</th>\n",
       "    </tr>\n",
       "  </thead>\n",
       "  <tbody>\n",
       "    <tr>\n",
       "      <th>34</th>\n",
       "      <td>NGDP_R</td>\n",
       "      <td>Gross domestic product, constant prices/National currency</td>\n",
       "      <td>imf</td>\n",
       "    </tr>\n",
       "    <tr>\n",
       "      <th>35</th>\n",
       "      <td>NGDP_RPCH</td>\n",
       "      <td>Gross domestic product, constant prices/Percent change</td>\n",
       "      <td>imf</td>\n",
       "    </tr>\n",
       "    <tr>\n",
       "      <th>36</th>\n",
       "      <td>NGDP</td>\n",
       "      <td>Gross domestic product, current prices/National currency</td>\n",
       "      <td>imf</td>\n",
       "    </tr>\n",
       "    <tr>\n",
       "      <th>37</th>\n",
       "      <td>NGDPD</td>\n",
       "      <td>Gross domestic product, current prices/U.S. dollars</td>\n",
       "      <td>imf</td>\n",
       "    </tr>\n",
       "    <tr>\n",
       "      <th>38</th>\n",
       "      <td>PPPGDP</td>\n",
       "      <td>Gross domestic product, current prices/Purchasing power parity; international dollars</td>\n",
       "      <td>imf</td>\n",
       "    </tr>\n",
       "    <tr>\n",
       "      <th>39</th>\n",
       "      <td>NGDP_D</td>\n",
       "      <td>Gross domestic product, deflator/Index</td>\n",
       "      <td>imf</td>\n",
       "    </tr>\n",
       "    <tr>\n",
       "      <th>40</th>\n",
       "      <td>NGDPRPC</td>\n",
       "      <td>Gross domestic product per capita, constant prices/National currency</td>\n",
       "      <td>imf</td>\n",
       "    </tr>\n",
       "    <tr>\n",
       "      <th>41</th>\n",
       "      <td>NGDPRPPPPC</td>\n",
       "      <td>Gross domestic product per capita, constant prices/Purchasing power parity; 2011 international dollar</td>\n",
       "      <td>imf</td>\n",
       "    </tr>\n",
       "    <tr>\n",
       "      <th>42</th>\n",
       "      <td>NGDPPC</td>\n",
       "      <td>Gross domestic product per capita, current prices/National currency</td>\n",
       "      <td>imf</td>\n",
       "    </tr>\n",
       "    <tr>\n",
       "      <th>43</th>\n",
       "      <td>NGDPDPC</td>\n",
       "      <td>Gross domestic product per capita, current prices/U.S. dollars</td>\n",
       "      <td>imf</td>\n",
       "    </tr>\n",
       "    <tr>\n",
       "      <th>44</th>\n",
       "      <td>PPPPC</td>\n",
       "      <td>Gross domestic product per capita, current prices/Purchasing power parity; international dollars</td>\n",
       "      <td>imf</td>\n",
       "    </tr>\n",
       "    <tr>\n",
       "      <th>45</th>\n",
       "      <td>NGAP_NPGDP</td>\n",
       "      <td>Output gap in percent of potential GDP/Percent of potential GDP</td>\n",
       "      <td>imf</td>\n",
       "    </tr>\n",
       "    <tr>\n",
       "      <th>46</th>\n",
       "      <td>PPPSH</td>\n",
       "      <td>Gross domestic product based on purchasing-power-parity (PPP) share of world total/Percent</td>\n",
       "      <td>imf</td>\n",
       "    </tr>\n",
       "    <tr>\n",
       "      <th>47</th>\n",
       "      <td>PPPEX</td>\n",
       "      <td>Implied PPP conversion rate/National currency per current international dollar</td>\n",
       "      <td>imf</td>\n",
       "    </tr>\n",
       "    <tr>\n",
       "      <th>48</th>\n",
       "      <td>NID_NGDP</td>\n",
       "      <td>Total investment/Percent of GDP</td>\n",
       "      <td>imf</td>\n",
       "    </tr>\n",
       "    <tr>\n",
       "      <th>49</th>\n",
       "      <td>NGSD_NGDP</td>\n",
       "      <td>Gross national savings/Percent of GDP</td>\n",
       "      <td>imf</td>\n",
       "    </tr>\n",
       "    <tr>\n",
       "      <th>50</th>\n",
       "      <td>PCPI</td>\n",
       "      <td>Inflation, average consumer prices/Index</td>\n",
       "      <td>imf</td>\n",
       "    </tr>\n",
       "    <tr>\n",
       "      <th>51</th>\n",
       "      <td>PCPIPCH</td>\n",
       "      <td>Inflation, average consumer prices/Percent change</td>\n",
       "      <td>imf</td>\n",
       "    </tr>\n",
       "    <tr>\n",
       "      <th>52</th>\n",
       "      <td>PCPIE</td>\n",
       "      <td>Inflation, end of period consumer prices/Index</td>\n",
       "      <td>imf</td>\n",
       "    </tr>\n",
       "    <tr>\n",
       "      <th>53</th>\n",
       "      <td>PCPIEPCH</td>\n",
       "      <td>Inflation, end of period consumer prices/Percent change</td>\n",
       "      <td>imf</td>\n",
       "    </tr>\n",
       "    <tr>\n",
       "      <th>54</th>\n",
       "      <td>FLIBOR6</td>\n",
       "      <td>Six-month London interbank offered rate (LIBOR)/Percent</td>\n",
       "      <td>imf</td>\n",
       "    </tr>\n",
       "    <tr>\n",
       "      <th>55</th>\n",
       "      <td>TM_RPCH</td>\n",
       "      <td>Volume of imports of goods and services/Percent change</td>\n",
       "      <td>imf</td>\n",
       "    </tr>\n",
       "    <tr>\n",
       "      <th>56</th>\n",
       "      <td>TMG_RPCH</td>\n",
       "      <td>Volume of Imports of goods/Percent change</td>\n",
       "      <td>imf</td>\n",
       "    </tr>\n",
       "    <tr>\n",
       "      <th>57</th>\n",
       "      <td>TX_RPCH</td>\n",
       "      <td>Volume of exports of goods and services/Percent change</td>\n",
       "      <td>imf</td>\n",
       "    </tr>\n",
       "    <tr>\n",
       "      <th>58</th>\n",
       "      <td>TXG_RPCH</td>\n",
       "      <td>Volume of exports of goods/Percent change</td>\n",
       "      <td>imf</td>\n",
       "    </tr>\n",
       "    <tr>\n",
       "      <th>59</th>\n",
       "      <td>LUR</td>\n",
       "      <td>Unemployment rate/Percent of total labor force</td>\n",
       "      <td>imf</td>\n",
       "    </tr>\n",
       "    <tr>\n",
       "      <th>60</th>\n",
       "      <td>LE</td>\n",
       "      <td>Employment/Persons</td>\n",
       "      <td>imf</td>\n",
       "    </tr>\n",
       "    <tr>\n",
       "      <th>61</th>\n",
       "      <td>LP</td>\n",
       "      <td>Population/Persons</td>\n",
       "      <td>imf</td>\n",
       "    </tr>\n",
       "    <tr>\n",
       "      <th>62</th>\n",
       "      <td>GGR</td>\n",
       "      <td>General government revenue/National currency</td>\n",
       "      <td>imf</td>\n",
       "    </tr>\n",
       "    <tr>\n",
       "      <th>63</th>\n",
       "      <td>GGR_NGDP</td>\n",
       "      <td>General government revenue/Percent of GDP</td>\n",
       "      <td>imf</td>\n",
       "    </tr>\n",
       "    <tr>\n",
       "      <th>64</th>\n",
       "      <td>GGX</td>\n",
       "      <td>General government total expenditure/National currency</td>\n",
       "      <td>imf</td>\n",
       "    </tr>\n",
       "    <tr>\n",
       "      <th>65</th>\n",
       "      <td>GGX_NGDP</td>\n",
       "      <td>General government total expenditure/Percent of GDP</td>\n",
       "      <td>imf</td>\n",
       "    </tr>\n",
       "    <tr>\n",
       "      <th>66</th>\n",
       "      <td>GGXCNL</td>\n",
       "      <td>General government net lending/borrowing/National currency</td>\n",
       "      <td>imf</td>\n",
       "    </tr>\n",
       "    <tr>\n",
       "      <th>67</th>\n",
       "      <td>GGXCNL_NGDP</td>\n",
       "      <td>General government net lending/borrowing/Percent of GDP</td>\n",
       "      <td>imf</td>\n",
       "    </tr>\n",
       "    <tr>\n",
       "      <th>68</th>\n",
       "      <td>GGSB</td>\n",
       "      <td>General government structural balance/National currency</td>\n",
       "      <td>imf</td>\n",
       "    </tr>\n",
       "    <tr>\n",
       "      <th>69</th>\n",
       "      <td>GGSB_NPGDP</td>\n",
       "      <td>General government structural balance/Percent of potential GDP</td>\n",
       "      <td>imf</td>\n",
       "    </tr>\n",
       "    <tr>\n",
       "      <th>70</th>\n",
       "      <td>GGXONLB</td>\n",
       "      <td>General government primary net lending/borrowing/National currency</td>\n",
       "      <td>imf</td>\n",
       "    </tr>\n",
       "    <tr>\n",
       "      <th>71</th>\n",
       "      <td>GGXONLB_NGDP</td>\n",
       "      <td>General government primary net lending/borrowing/Percent of GDP</td>\n",
       "      <td>imf</td>\n",
       "    </tr>\n",
       "    <tr>\n",
       "      <th>72</th>\n",
       "      <td>GGXWDN</td>\n",
       "      <td>General government net debt/National currency</td>\n",
       "      <td>imf</td>\n",
       "    </tr>\n",
       "    <tr>\n",
       "      <th>73</th>\n",
       "      <td>GGXWDN_NGDP</td>\n",
       "      <td>General government net debt/Percent of GDP</td>\n",
       "      <td>imf</td>\n",
       "    </tr>\n",
       "    <tr>\n",
       "      <th>74</th>\n",
       "      <td>GGXWDG</td>\n",
       "      <td>General government gross debt/National currency</td>\n",
       "      <td>imf</td>\n",
       "    </tr>\n",
       "    <tr>\n",
       "      <th>75</th>\n",
       "      <td>GGXWDG_NGDP</td>\n",
       "      <td>General government gross debt/Percent of GDP</td>\n",
       "      <td>imf</td>\n",
       "    </tr>\n",
       "    <tr>\n",
       "      <th>76</th>\n",
       "      <td>NGDP_FY</td>\n",
       "      <td>Gross domestic product corresponding to fiscal year, current prices/National currency</td>\n",
       "      <td>imf</td>\n",
       "    </tr>\n",
       "    <tr>\n",
       "      <th>77</th>\n",
       "      <td>BCA</td>\n",
       "      <td>Current account balance/U.S. dollars</td>\n",
       "      <td>imf</td>\n",
       "    </tr>\n",
       "    <tr>\n",
       "      <th>78</th>\n",
       "      <td>BCA_NGDPD</td>\n",
       "      <td>Current account balance/Percent of GDP</td>\n",
       "      <td>imf</td>\n",
       "    </tr>\n",
       "  </tbody>\n",
       "</table>\n",
       "</div>"
      ],
      "text/plain": [
       "            Code  \\\n",
       "34  NGDP_R         \n",
       "35  NGDP_RPCH      \n",
       "36  NGDP           \n",
       "37  NGDPD          \n",
       "38  PPPGDP         \n",
       "39  NGDP_D         \n",
       "40  NGDPRPC        \n",
       "41  NGDPRPPPPC     \n",
       "42  NGDPPC         \n",
       "43  NGDPDPC        \n",
       "44  PPPPC          \n",
       "45  NGAP_NPGDP     \n",
       "46  PPPSH          \n",
       "47  PPPEX          \n",
       "48  NID_NGDP       \n",
       "49  NGSD_NGDP      \n",
       "50  PCPI           \n",
       "51  PCPIPCH        \n",
       "52  PCPIE          \n",
       "53  PCPIEPCH       \n",
       "54  FLIBOR6        \n",
       "55  TM_RPCH        \n",
       "56  TMG_RPCH       \n",
       "57  TX_RPCH        \n",
       "58  TXG_RPCH       \n",
       "59  LUR            \n",
       "60  LE             \n",
       "61  LP             \n",
       "62  GGR            \n",
       "63  GGR_NGDP       \n",
       "64  GGX            \n",
       "65  GGX_NGDP       \n",
       "66  GGXCNL         \n",
       "67  GGXCNL_NGDP    \n",
       "68  GGSB           \n",
       "69  GGSB_NPGDP     \n",
       "70  GGXONLB        \n",
       "71  GGXONLB_NGDP   \n",
       "72  GGXWDN         \n",
       "73  GGXWDN_NGDP    \n",
       "74  GGXWDG         \n",
       "75  GGXWDG_NGDP    \n",
       "76  NGDP_FY        \n",
       "77  BCA            \n",
       "78  BCA_NGDPD      \n",
       "\n",
       "                                                                                                Indicator  \\\n",
       "34  Gross domestic product, constant prices/National currency                                               \n",
       "35  Gross domestic product, constant prices/Percent change                                                  \n",
       "36  Gross domestic product, current prices/National currency                                                \n",
       "37  Gross domestic product, current prices/U.S. dollars                                                     \n",
       "38  Gross domestic product, current prices/Purchasing power parity; international dollars                   \n",
       "39  Gross domestic product, deflator/Index                                                                  \n",
       "40  Gross domestic product per capita, constant prices/National currency                                    \n",
       "41  Gross domestic product per capita, constant prices/Purchasing power parity; 2011 international dollar   \n",
       "42  Gross domestic product per capita, current prices/National currency                                     \n",
       "43  Gross domestic product per capita, current prices/U.S. dollars                                          \n",
       "44  Gross domestic product per capita, current prices/Purchasing power parity; international dollars        \n",
       "45  Output gap in percent of potential GDP/Percent of potential GDP                                         \n",
       "46  Gross domestic product based on purchasing-power-parity (PPP) share of world total/Percent              \n",
       "47  Implied PPP conversion rate/National currency per current international dollar                          \n",
       "48  Total investment/Percent of GDP                                                                         \n",
       "49  Gross national savings/Percent of GDP                                                                   \n",
       "50  Inflation, average consumer prices/Index                                                                \n",
       "51  Inflation, average consumer prices/Percent change                                                       \n",
       "52  Inflation, end of period consumer prices/Index                                                          \n",
       "53  Inflation, end of period consumer prices/Percent change                                                 \n",
       "54  Six-month London interbank offered rate (LIBOR)/Percent                                                 \n",
       "55  Volume of imports of goods and services/Percent change                                                  \n",
       "56  Volume of Imports of goods/Percent change                                                               \n",
       "57  Volume of exports of goods and services/Percent change                                                  \n",
       "58  Volume of exports of goods/Percent change                                                               \n",
       "59  Unemployment rate/Percent of total labor force                                                          \n",
       "60  Employment/Persons                                                                                      \n",
       "61  Population/Persons                                                                                      \n",
       "62  General government revenue/National currency                                                            \n",
       "63  General government revenue/Percent of GDP                                                               \n",
       "64  General government total expenditure/National currency                                                  \n",
       "65  General government total expenditure/Percent of GDP                                                     \n",
       "66  General government net lending/borrowing/National currency                                              \n",
       "67  General government net lending/borrowing/Percent of GDP                                                 \n",
       "68  General government structural balance/National currency                                                 \n",
       "69  General government structural balance/Percent of potential GDP                                          \n",
       "70  General government primary net lending/borrowing/National currency                                      \n",
       "71  General government primary net lending/borrowing/Percent of GDP                                         \n",
       "72  General government net debt/National currency                                                           \n",
       "73  General government net debt/Percent of GDP                                                              \n",
       "74  General government gross debt/National currency                                                         \n",
       "75  General government gross debt/Percent of GDP                                                            \n",
       "76  Gross domestic product corresponding to fiscal year, current prices/National currency                   \n",
       "77  Current account balance/U.S. dollars                                                                    \n",
       "78  Current account balance/Percent of GDP                                                                  \n",
       "\n",
       "   Source  \n",
       "34  imf    \n",
       "35  imf    \n",
       "36  imf    \n",
       "37  imf    \n",
       "38  imf    \n",
       "39  imf    \n",
       "40  imf    \n",
       "41  imf    \n",
       "42  imf    \n",
       "43  imf    \n",
       "44  imf    \n",
       "45  imf    \n",
       "46  imf    \n",
       "47  imf    \n",
       "48  imf    \n",
       "49  imf    \n",
       "50  imf    \n",
       "51  imf    \n",
       "52  imf    \n",
       "53  imf    \n",
       "54  imf    \n",
       "55  imf    \n",
       "56  imf    \n",
       "57  imf    \n",
       "58  imf    \n",
       "59  imf    \n",
       "60  imf    \n",
       "61  imf    \n",
       "62  imf    \n",
       "63  imf    \n",
       "64  imf    \n",
       "65  imf    \n",
       "66  imf    \n",
       "67  imf    \n",
       "68  imf    \n",
       "69  imf    \n",
       "70  imf    \n",
       "71  imf    \n",
       "72  imf    \n",
       "73  imf    \n",
       "74  imf    \n",
       "75  imf    \n",
       "76  imf    \n",
       "77  imf    \n",
       "78  imf    "
      ]
     },
     "execution_count": 10,
     "metadata": {},
     "output_type": "execute_result"
    }
   ],
   "source": [
    "ind[ind.Source=='imf']# фильтр индикаторов по источнику - IMF"
   ]
  },
  {
   "cell_type": "markdown",
   "metadata": {},
   "source": [
    "## 3. Выбор показателей для дальнейшего анализа и преобразование dataframe в необходимый формат"
   ]
  },
  {
   "cell_type": "code",
   "execution_count": 11,
   "metadata": {},
   "outputs": [],
   "source": [
    "list_ind=list(ind.iloc[[35],0]) # в качестве исследуемого показателя выбираем темпы прироста ВВП"
   ]
  },
  {
   "cell_type": "code",
   "execution_count": 12,
   "metadata": {},
   "outputs": [
    {
     "data": {
      "text/plain": [
       "['NGDP_RPCH']"
      ]
     },
     "execution_count": 12,
     "metadata": {},
     "output_type": "execute_result"
    }
   ],
   "source": [
    "list_ind"
   ]
  },
  {
   "cell_type": "code",
   "execution_count": 13,
   "metadata": {},
   "outputs": [],
   "source": [
    "imf_reduced=imf[imf['WEO Subject Code'].isin(list_ind)].drop(imf.columns[[0,3,4,5,6,7,8,53,55]],axis=1)\n",
    "# далее осуществляем преобразование из широкого формата в длинный"
   ]
  },
  {
   "cell_type": "code",
   "execution_count": 14,
   "metadata": {},
   "outputs": [
    {
     "data": {
      "text/html": [
       "<div>\n",
       "<style scoped>\n",
       "    .dataframe tbody tr th:only-of-type {\n",
       "        vertical-align: middle;\n",
       "    }\n",
       "\n",
       "    .dataframe tbody tr th {\n",
       "        vertical-align: top;\n",
       "    }\n",
       "\n",
       "    .dataframe thead th {\n",
       "        text-align: right;\n",
       "    }\n",
       "</style>\n",
       "<table border=\"1\" class=\"dataframe\">\n",
       "  <thead>\n",
       "    <tr style=\"text-align: right;\">\n",
       "      <th></th>\n",
       "      <th>ISO</th>\n",
       "      <th>WEO Subject Code</th>\n",
       "      <th>1980</th>\n",
       "      <th>1981</th>\n",
       "      <th>1982</th>\n",
       "      <th>1983</th>\n",
       "      <th>1984</th>\n",
       "      <th>1985</th>\n",
       "      <th>1986</th>\n",
       "      <th>1987</th>\n",
       "      <th>...</th>\n",
       "      <th>2015</th>\n",
       "      <th>2016</th>\n",
       "      <th>2017</th>\n",
       "      <th>2018</th>\n",
       "      <th>2019</th>\n",
       "      <th>2020</th>\n",
       "      <th>2021</th>\n",
       "      <th>2022</th>\n",
       "      <th>2023</th>\n",
       "      <th>continent</th>\n",
       "    </tr>\n",
       "  </thead>\n",
       "  <tbody>\n",
       "    <tr>\n",
       "      <th>8506</th>\n",
       "      <td>VEN</td>\n",
       "      <td>NGDP_RPCH</td>\n",
       "      <td>-4.947</td>\n",
       "      <td>-1.288</td>\n",
       "      <td>2.645</td>\n",
       "      <td>-9.856</td>\n",
       "      <td>5.223</td>\n",
       "      <td>0.867</td>\n",
       "      <td>6.080</td>\n",
       "      <td>4.801</td>\n",
       "      <td>...</td>\n",
       "      <td>-6.221</td>\n",
       "      <td>-16.456</td>\n",
       "      <td>-14.000</td>\n",
       "      <td>-18.000</td>\n",
       "      <td>-5.000</td>\n",
       "      <td>-2.000</td>\n",
       "      <td>-1.500</td>\n",
       "      <td>-1.500</td>\n",
       "      <td>-1.500</td>\n",
       "      <td>Americas</td>\n",
       "    </tr>\n",
       "    <tr>\n",
       "      <th>8551</th>\n",
       "      <td>VNM</td>\n",
       "      <td>NGDP_RPCH</td>\n",
       "      <td>-3.497</td>\n",
       "      <td>5.797</td>\n",
       "      <td>8.150</td>\n",
       "      <td>7.093</td>\n",
       "      <td>8.397</td>\n",
       "      <td>5.619</td>\n",
       "      <td>3.357</td>\n",
       "      <td>2.549</td>\n",
       "      <td>...</td>\n",
       "      <td>6.679</td>\n",
       "      <td>6.211</td>\n",
       "      <td>6.812</td>\n",
       "      <td>6.600</td>\n",
       "      <td>6.500</td>\n",
       "      <td>6.500</td>\n",
       "      <td>6.500</td>\n",
       "      <td>6.500</td>\n",
       "      <td>6.500</td>\n",
       "      <td>Asia</td>\n",
       "    </tr>\n",
       "    <tr>\n",
       "      <th>8596</th>\n",
       "      <td>YEM</td>\n",
       "      <td>NGDP_RPCH</td>\n",
       "      <td>NaN</td>\n",
       "      <td>NaN</td>\n",
       "      <td>NaN</td>\n",
       "      <td>NaN</td>\n",
       "      <td>NaN</td>\n",
       "      <td>NaN</td>\n",
       "      <td>NaN</td>\n",
       "      <td>NaN</td>\n",
       "      <td>...</td>\n",
       "      <td>-16.678</td>\n",
       "      <td>-13.621</td>\n",
       "      <td>-5.942</td>\n",
       "      <td>-2.646</td>\n",
       "      <td>14.709</td>\n",
       "      <td>13.044</td>\n",
       "      <td>8.336</td>\n",
       "      <td>6.569</td>\n",
       "      <td>6.591</td>\n",
       "      <td>Asia</td>\n",
       "    </tr>\n",
       "    <tr>\n",
       "      <th>8641</th>\n",
       "      <td>ZMB</td>\n",
       "      <td>NGDP_RPCH</td>\n",
       "      <td>3.854</td>\n",
       "      <td>6.631</td>\n",
       "      <td>-2.912</td>\n",
       "      <td>-1.145</td>\n",
       "      <td>-1.718</td>\n",
       "      <td>1.237</td>\n",
       "      <td>1.698</td>\n",
       "      <td>1.491</td>\n",
       "      <td>...</td>\n",
       "      <td>2.920</td>\n",
       "      <td>3.757</td>\n",
       "      <td>3.396</td>\n",
       "      <td>3.816</td>\n",
       "      <td>4.478</td>\n",
       "      <td>4.488</td>\n",
       "      <td>4.500</td>\n",
       "      <td>4.512</td>\n",
       "      <td>4.525</td>\n",
       "      <td>Africa</td>\n",
       "    </tr>\n",
       "    <tr>\n",
       "      <th>8686</th>\n",
       "      <td>ZWE</td>\n",
       "      <td>NGDP_RPCH</td>\n",
       "      <td>NaN</td>\n",
       "      <td>NaN</td>\n",
       "      <td>NaN</td>\n",
       "      <td>NaN</td>\n",
       "      <td>NaN</td>\n",
       "      <td>NaN</td>\n",
       "      <td>NaN</td>\n",
       "      <td>NaN</td>\n",
       "      <td>...</td>\n",
       "      <td>1.424</td>\n",
       "      <td>0.665</td>\n",
       "      <td>3.737</td>\n",
       "      <td>3.636</td>\n",
       "      <td>4.202</td>\n",
       "      <td>4.729</td>\n",
       "      <td>4.840</td>\n",
       "      <td>5.008</td>\n",
       "      <td>5.000</td>\n",
       "      <td>Africa</td>\n",
       "    </tr>\n",
       "  </tbody>\n",
       "</table>\n",
       "<p>5 rows × 47 columns</p>\n",
       "</div>"
      ],
      "text/plain": [
       "      ISO WEO Subject Code    1980    1981    1982    1983    1984   1985  \\\n",
       "8506  VEN  NGDP_RPCH        -4.947  -1.288  2.645   -9.856  5.223   0.867   \n",
       "8551  VNM  NGDP_RPCH        -3.497  5.797   8.150   7.093   8.397   5.619   \n",
       "8596  YEM  NGDP_RPCH        NaN     NaN     NaN     NaN     NaN     NaN     \n",
       "8641  ZMB  NGDP_RPCH        3.854   6.631   -2.912  -1.145  -1.718  1.237   \n",
       "8686  ZWE  NGDP_RPCH        NaN     NaN     NaN     NaN     NaN     NaN     \n",
       "\n",
       "       1986   1987  ...     2015     2016     2017     2018    2019    2020  \\\n",
       "8506  6.080  4.801  ...  -6.221   -16.456  -14.000  -18.000  -5.000  -2.000   \n",
       "8551  3.357  2.549  ...  6.679    6.211    6.812    6.600    6.500   6.500    \n",
       "8596  NaN    NaN    ...  -16.678  -13.621  -5.942   -2.646   14.709  13.044   \n",
       "8641  1.698  1.491  ...  2.920    3.757    3.396    3.816    4.478   4.488    \n",
       "8686  NaN    NaN    ...  1.424    0.665    3.737    3.636    4.202   4.729    \n",
       "\n",
       "        2021    2022    2023 continent  \n",
       "8506  -1.500  -1.500  -1.500  Americas  \n",
       "8551  6.500   6.500   6.500   Asia      \n",
       "8596  8.336   6.569   6.591   Asia      \n",
       "8641  4.500   4.512   4.525   Africa    \n",
       "8686  4.840   5.008   5.000   Africa    \n",
       "\n",
       "[5 rows x 47 columns]"
      ]
     },
     "execution_count": 14,
     "metadata": {},
     "output_type": "execute_result"
    }
   ],
   "source": [
    "imf_reduced.tail()"
   ]
  },
  {
   "cell_type": "code",
   "execution_count": 15,
   "metadata": {},
   "outputs": [],
   "source": [
    "col_=[str(i) for i in range(1980,2018)]\n",
    "imf_long=pd.melt(imf_reduced,id_vars=['ISO','continent'],value_vars=col_)"
   ]
  },
  {
   "cell_type": "code",
   "execution_count": 16,
   "metadata": {},
   "outputs": [
    {
     "data": {
      "text/html": [
       "<div>\n",
       "<style scoped>\n",
       "    .dataframe tbody tr th:only-of-type {\n",
       "        vertical-align: middle;\n",
       "    }\n",
       "\n",
       "    .dataframe tbody tr th {\n",
       "        vertical-align: top;\n",
       "    }\n",
       "\n",
       "    .dataframe thead th {\n",
       "        text-align: right;\n",
       "    }\n",
       "</style>\n",
       "<table border=\"1\" class=\"dataframe\">\n",
       "  <thead>\n",
       "    <tr style=\"text-align: right;\">\n",
       "      <th></th>\n",
       "      <th>ISO</th>\n",
       "      <th>continent</th>\n",
       "      <th>variable</th>\n",
       "      <th>value</th>\n",
       "    </tr>\n",
       "  </thead>\n",
       "  <tbody>\n",
       "    <tr>\n",
       "      <th>0</th>\n",
       "      <td>AFG</td>\n",
       "      <td>Asia</td>\n",
       "      <td>1980</td>\n",
       "      <td>NaN</td>\n",
       "    </tr>\n",
       "    <tr>\n",
       "      <th>1</th>\n",
       "      <td>ALB</td>\n",
       "      <td>Europe</td>\n",
       "      <td>1980</td>\n",
       "      <td>2.684</td>\n",
       "    </tr>\n",
       "    <tr>\n",
       "      <th>2</th>\n",
       "      <td>DZA</td>\n",
       "      <td>Africa</td>\n",
       "      <td>1980</td>\n",
       "      <td>-5.400</td>\n",
       "    </tr>\n",
       "    <tr>\n",
       "      <th>3</th>\n",
       "      <td>AGO</td>\n",
       "      <td>Africa</td>\n",
       "      <td>1980</td>\n",
       "      <td>2.406</td>\n",
       "    </tr>\n",
       "    <tr>\n",
       "      <th>4</th>\n",
       "      <td>ATG</td>\n",
       "      <td>Americas</td>\n",
       "      <td>1980</td>\n",
       "      <td>8.161</td>\n",
       "    </tr>\n",
       "  </tbody>\n",
       "</table>\n",
       "</div>"
      ],
      "text/plain": [
       "   ISO continent variable   value\n",
       "0  AFG  Asia      1980     NaN   \n",
       "1  ALB  Europe    1980     2.684 \n",
       "2  DZA  Africa    1980     -5.400\n",
       "3  AGO  Africa    1980     2.406 \n",
       "4  ATG  Americas  1980     8.161 "
      ]
     },
     "execution_count": 16,
     "metadata": {},
     "output_type": "execute_result"
    }
   ],
   "source": [
    "imf_long.head()"
   ]
  },
  {
   "cell_type": "code",
   "execution_count": 17,
   "metadata": {},
   "outputs": [],
   "source": [
    "imf_long.columns=['Country','Continent','Year','Growth']"
   ]
  },
  {
   "cell_type": "code",
   "execution_count": 18,
   "metadata": {},
   "outputs": [
    {
     "data": {
      "text/html": [
       "<div>\n",
       "<style scoped>\n",
       "    .dataframe tbody tr th:only-of-type {\n",
       "        vertical-align: middle;\n",
       "    }\n",
       "\n",
       "    .dataframe tbody tr th {\n",
       "        vertical-align: top;\n",
       "    }\n",
       "\n",
       "    .dataframe thead th {\n",
       "        text-align: right;\n",
       "    }\n",
       "</style>\n",
       "<table border=\"1\" class=\"dataframe\">\n",
       "  <thead>\n",
       "    <tr style=\"text-align: right;\">\n",
       "      <th></th>\n",
       "      <th>Country</th>\n",
       "      <th>Continent</th>\n",
       "      <th>Year</th>\n",
       "      <th>Growth</th>\n",
       "    </tr>\n",
       "  </thead>\n",
       "  <tbody>\n",
       "    <tr>\n",
       "      <th>0</th>\n",
       "      <td>AFG</td>\n",
       "      <td>Asia</td>\n",
       "      <td>1980</td>\n",
       "      <td>NaN</td>\n",
       "    </tr>\n",
       "    <tr>\n",
       "      <th>1</th>\n",
       "      <td>ALB</td>\n",
       "      <td>Europe</td>\n",
       "      <td>1980</td>\n",
       "      <td>2.684</td>\n",
       "    </tr>\n",
       "    <tr>\n",
       "      <th>2</th>\n",
       "      <td>DZA</td>\n",
       "      <td>Africa</td>\n",
       "      <td>1980</td>\n",
       "      <td>-5.400</td>\n",
       "    </tr>\n",
       "    <tr>\n",
       "      <th>3</th>\n",
       "      <td>AGO</td>\n",
       "      <td>Africa</td>\n",
       "      <td>1980</td>\n",
       "      <td>2.406</td>\n",
       "    </tr>\n",
       "    <tr>\n",
       "      <th>4</th>\n",
       "      <td>ATG</td>\n",
       "      <td>Americas</td>\n",
       "      <td>1980</td>\n",
       "      <td>8.161</td>\n",
       "    </tr>\n",
       "  </tbody>\n",
       "</table>\n",
       "</div>"
      ],
      "text/plain": [
       "  Country Continent  Year  Growth\n",
       "0  AFG     Asia      1980  NaN   \n",
       "1  ALB     Europe    1980  2.684 \n",
       "2  DZA     Africa    1980  -5.400\n",
       "3  AGO     Africa    1980  2.406 \n",
       "4  ATG     Americas  1980  8.161 "
      ]
     },
     "execution_count": 18,
     "metadata": {},
     "output_type": "execute_result"
    }
   ],
   "source": [
    "imf_long.head()"
   ]
  },
  {
   "cell_type": "code",
   "execution_count": 19,
   "metadata": {},
   "outputs": [
    {
     "data": {
      "text/plain": [
       "Country      object\n",
       "Continent    object\n",
       "Year         object\n",
       "Growth       object\n",
       "dtype: object"
      ]
     },
     "execution_count": 19,
     "metadata": {},
     "output_type": "execute_result"
    }
   ],
   "source": [
    "imf_long.dtypes"
   ]
  },
  {
   "cell_type": "code",
   "execution_count": 20,
   "metadata": {},
   "outputs": [],
   "source": [
    "imf_long['Growth']=imf_long['Growth'].apply(lambda x:str(x).replace(',',''))\n",
    "imf_long['Growth']=pd.to_numeric(imf_long['Growth'],errors='coerce')\n",
    "imf_long['Year']=pd.to_numeric(imf_long['Year'],errors='coerce')\n",
    "# преобразование полей с номером года и значением показателя в числовой тип"
   ]
  },
  {
   "cell_type": "code",
   "execution_count": 21,
   "metadata": {},
   "outputs": [],
   "source": [
    "GDP_growth=imf_long[imf_long.Year==2016].drop(columns=['Year'])"
   ]
  },
  {
   "cell_type": "code",
   "execution_count": 22,
   "metadata": {},
   "outputs": [
    {
     "data": {
      "text/html": [
       "<div>\n",
       "<style scoped>\n",
       "    .dataframe tbody tr th:only-of-type {\n",
       "        vertical-align: middle;\n",
       "    }\n",
       "\n",
       "    .dataframe tbody tr th {\n",
       "        vertical-align: top;\n",
       "    }\n",
       "\n",
       "    .dataframe thead th {\n",
       "        text-align: right;\n",
       "    }\n",
       "</style>\n",
       "<table border=\"1\" class=\"dataframe\">\n",
       "  <thead>\n",
       "    <tr style=\"text-align: right;\">\n",
       "      <th></th>\n",
       "      <th>Country</th>\n",
       "      <th>Continent</th>\n",
       "      <th>Growth</th>\n",
       "    </tr>\n",
       "  </thead>\n",
       "  <tbody>\n",
       "    <tr>\n",
       "      <th>6984</th>\n",
       "      <td>AFG</td>\n",
       "      <td>Asia</td>\n",
       "      <td>2.164</td>\n",
       "    </tr>\n",
       "    <tr>\n",
       "      <th>6985</th>\n",
       "      <td>ALB</td>\n",
       "      <td>Europe</td>\n",
       "      <td>3.352</td>\n",
       "    </tr>\n",
       "    <tr>\n",
       "      <th>6986</th>\n",
       "      <td>DZA</td>\n",
       "      <td>Africa</td>\n",
       "      <td>3.200</td>\n",
       "    </tr>\n",
       "    <tr>\n",
       "      <th>6987</th>\n",
       "      <td>AGO</td>\n",
       "      <td>Africa</td>\n",
       "      <td>-2.580</td>\n",
       "    </tr>\n",
       "    <tr>\n",
       "      <th>6988</th>\n",
       "      <td>ATG</td>\n",
       "      <td>Americas</td>\n",
       "      <td>5.348</td>\n",
       "    </tr>\n",
       "  </tbody>\n",
       "</table>\n",
       "</div>"
      ],
      "text/plain": [
       "     Country Continent  Growth\n",
       "6984  AFG     Asia      2.164 \n",
       "6985  ALB     Europe    3.352 \n",
       "6986  DZA     Africa    3.200 \n",
       "6987  AGO     Africa   -2.580 \n",
       "6988  ATG     Americas  5.348 "
      ]
     },
     "execution_count": 22,
     "metadata": {},
     "output_type": "execute_result"
    }
   ],
   "source": [
    "GDP_growth.head()"
   ]
  },
  {
   "cell_type": "markdown",
   "metadata": {},
   "source": [
    "## 4. Описательная статистика"
   ]
  },
  {
   "cell_type": "code",
   "execution_count": 23,
   "metadata": {},
   "outputs": [
    {
     "data": {
      "text/plain": [
       "Country      0\n",
       "Continent    1\n",
       "Growth       1\n",
       "dtype: int64"
      ]
     },
     "execution_count": 23,
     "metadata": {},
     "output_type": "execute_result"
    }
   ],
   "source": [
    "GDP_growth.isnull().sum()# определение количества значений nan для каждого поля"
   ]
  },
  {
   "cell_type": "code",
   "execution_count": 24,
   "metadata": {},
   "outputs": [
    {
     "data": {
      "text/html": [
       "<div>\n",
       "<style scoped>\n",
       "    .dataframe tbody tr th:only-of-type {\n",
       "        vertical-align: middle;\n",
       "    }\n",
       "\n",
       "    .dataframe tbody tr th {\n",
       "        vertical-align: top;\n",
       "    }\n",
       "\n",
       "    .dataframe thead th {\n",
       "        text-align: right;\n",
       "    }\n",
       "</style>\n",
       "<table border=\"1\" class=\"dataframe\">\n",
       "  <thead>\n",
       "    <tr style=\"text-align: right;\">\n",
       "      <th></th>\n",
       "      <th>Country</th>\n",
       "      <th>Continent</th>\n",
       "      <th>Growth</th>\n",
       "    </tr>\n",
       "  </thead>\n",
       "  <tbody>\n",
       "    <tr>\n",
       "      <th>7152</th>\n",
       "      <td>SYR</td>\n",
       "      <td>Asia</td>\n",
       "      <td>NaN</td>\n",
       "    </tr>\n",
       "  </tbody>\n",
       "</table>\n",
       "</div>"
      ],
      "text/plain": [
       "     Country Continent  Growth\n",
       "7152  SYR     Asia     NaN    "
      ]
     },
     "execution_count": 24,
     "metadata": {},
     "output_type": "execute_result"
    }
   ],
   "source": [
    "GDP_growth[GDP_growth.Growth.isnull()] # идентификация nan значений в конкретном поле"
   ]
  },
  {
   "cell_type": "code",
   "execution_count": 25,
   "metadata": {},
   "outputs": [
    {
     "data": {
      "text/html": [
       "<div>\n",
       "<style scoped>\n",
       "    .dataframe tbody tr th:only-of-type {\n",
       "        vertical-align: middle;\n",
       "    }\n",
       "\n",
       "    .dataframe tbody tr th {\n",
       "        vertical-align: top;\n",
       "    }\n",
       "\n",
       "    .dataframe thead th {\n",
       "        text-align: right;\n",
       "    }\n",
       "</style>\n",
       "<table border=\"1\" class=\"dataframe\">\n",
       "  <thead>\n",
       "    <tr style=\"text-align: right;\">\n",
       "      <th></th>\n",
       "      <th>Country</th>\n",
       "      <th>Continent</th>\n",
       "      <th>Growth</th>\n",
       "    </tr>\n",
       "  </thead>\n",
       "  <tbody>\n",
       "    <tr>\n",
       "      <th>7074</th>\n",
       "      <td>UVK</td>\n",
       "      <td>NaN</td>\n",
       "      <td>4.062</td>\n",
       "    </tr>\n",
       "    <tr>\n",
       "      <th>7152</th>\n",
       "      <td>SYR</td>\n",
       "      <td>Asia</td>\n",
       "      <td>NaN</td>\n",
       "    </tr>\n",
       "  </tbody>\n",
       "</table>\n",
       "</div>"
      ],
      "text/plain": [
       "     Country Continent  Growth\n",
       "7074  UVK     NaN       4.062 \n",
       "7152  SYR     Asia     NaN    "
      ]
     },
     "execution_count": 25,
     "metadata": {},
     "output_type": "execute_result"
    }
   ],
   "source": [
    "GDP_growth[GDP_growth.isnull().any(axis=1)]"
   ]
  },
  {
   "cell_type": "code",
   "execution_count": 26,
   "metadata": {},
   "outputs": [],
   "source": [
    "GDP_growth.dropna(inplace=True) # удаляем строки с хотя бы одним значением nan\n",
    "# существуют и другие стратегии работы с nan значениями, например, замена nan средним значением ряда"
   ]
  },
  {
   "cell_type": "code",
   "execution_count": 27,
   "metadata": {},
   "outputs": [
    {
     "data": {
      "text/plain": [
       "Country      0\n",
       "Continent    0\n",
       "Growth       0\n",
       "dtype: int64"
      ]
     },
     "execution_count": 27,
     "metadata": {},
     "output_type": "execute_result"
    }
   ],
   "source": [
    "GDP_growth.isnull().sum()"
   ]
  },
  {
   "cell_type": "code",
   "execution_count": 28,
   "metadata": {},
   "outputs": [
    {
     "data": {
      "text/plain": [
       "count    192.000000\n",
       "mean     2.605068  \n",
       "std      3.765743  \n",
       "min     -16.456000 \n",
       "25%      1.413500  \n",
       "50%      2.932000  \n",
       "75%      4.402250  \n",
       "max      13.062000 \n",
       "Name: Growth, dtype: float64"
      ]
     },
     "execution_count": 28,
     "metadata": {},
     "output_type": "execute_result"
    }
   ],
   "source": [
    "GDP_growth.Growth.describe() # описательная статистика"
   ]
  },
  {
   "cell_type": "code",
   "execution_count": 29,
   "metadata": {},
   "outputs": [
    {
     "data": {
      "text/plain": [
       "2.605067708333334"
      ]
     },
     "execution_count": 29,
     "metadata": {},
     "output_type": "execute_result"
    }
   ],
   "source": [
    "np.mean(GDP_growth.Growth) # среднее значение, подсчитанное с помощью функции библиотеки numpy"
   ]
  },
  {
   "cell_type": "code",
   "execution_count": 30,
   "metadata": {},
   "outputs": [
    {
     "data": {
      "text/plain": [
       "2.932"
      ]
     },
     "execution_count": 30,
     "metadata": {},
     "output_type": "execute_result"
    }
   ],
   "source": [
    "np.median(GDP_growth.Growth) # медианное значение"
   ]
  },
  {
   "cell_type": "code",
   "execution_count": 31,
   "metadata": {},
   "outputs": [
    {
     "data": {
      "text/plain": [
       "2.157"
      ]
     },
     "execution_count": 31,
     "metadata": {},
     "output_type": "execute_result"
    }
   ],
   "source": [
    "stats.mode(GDP_growth.Growth).mode[0] # модальное значение, используем библиотеку scipy"
   ]
  },
  {
   "cell_type": "code",
   "execution_count": 32,
   "metadata": {},
   "outputs": [
    {
     "data": {
      "text/plain": [
       "6.537022340846876"
      ]
     },
     "execution_count": 32,
     "metadata": {},
     "output_type": "execute_result"
    }
   ],
   "source": [
    "stats.kurtosis(GDP_growth.Growth) # значение коэффициента эксцесса"
   ]
  },
  {
   "cell_type": "code",
   "execution_count": 33,
   "metadata": {},
   "outputs": [
    {
     "data": {
      "text/plain": [
       "-1.6059584580289124"
      ]
     },
     "execution_count": 33,
     "metadata": {},
     "output_type": "execute_result"
    }
   ],
   "source": [
    "stats.skew(GDP_growth.Growth) # значение коэффициента ассиметрии"
   ]
  },
  {
   "cell_type": "markdown",
   "metadata": {
    "collapsed": true
   },
   "source": [
    "### Основные выводы:  распределение носит островершинный харктер и имеет левостороннюю ассиметрию (вероятность найти страну со  значением темпов прироста ВВП выше среднего больше чем вероятность найти страну со  значением темпов прироста ВВП ниже среднего) "
   ]
  },
  {
   "cell_type": "markdown",
   "metadata": {},
   "source": [
    "## 5. Визуализация распределения"
   ]
  },
  {
   "cell_type": "markdown",
   "metadata": {
    "collapsed": true
   },
   "source": [
    "### Гистограмма распределения и эмпирическая кривая (полигон)"
   ]
  },
  {
   "cell_type": "code",
   "execution_count": 34,
   "metadata": {},
   "outputs": [
    {
     "data": {
      "text/plain": [
       "<matplotlib.axes._subplots.AxesSubplot at 0x7fa9bc0dd5e0>"
      ]
     },
     "execution_count": 34,
     "metadata": {},
     "output_type": "execute_result"
    },
    {
     "data": {
      "image/png": "[encoded data removed]",
      "text/plain": [
       "<Figure size 720x360 with 1 Axes>"
      ]
     },
     "metadata": {
      "needs_background": "light"
     },
     "output_type": "display_data"
    }
   ],
   "source": [
    "GDP_growth.Growth.plot(kind='hist',grid=True, bins=15, rwidth=0.9,\n",
    "                   color='blue',figsize=(10,5))"
   ]
  },
  {
   "cell_type": "code",
   "execution_count": 35,
   "metadata": {},
   "outputs": [
    {
     "data": {
      "image/png": "[encoded data removed]",
      "text/plain": [
       "<Figure size 720x360 with 1 Axes>"
      ]
     },
     "metadata": {},
     "output_type": "display_data"
    }
   ],
   "source": [
    "sns.set(rc={'figure.figsize':(10,5)})\n",
    "sns.distplot(GDP_growth.Growth,bins=15,rug=True,color='red');"
   ]
  },
  {
   "cell_type": "markdown",
   "metadata": {
    "collapsed": true
   },
   "source": [
    "### Q-Q plot - показывает расхождение эмпирических и теоретических процентных точек распределения"
   ]
  },
  {
   "cell_type": "code",
   "execution_count": 36,
   "metadata": {},
   "outputs": [
    {
     "data": {
      "image/png": "[encoded data removed]",
      "text/plain": [
       "<Figure size 720x360 with 1 Axes>"
      ]
     },
     "metadata": {},
     "output_type": "display_data"
    }
   ],
   "source": [
    "fig = plt.figure(figsize=(10,5))\n",
    "stats.probplot(GDP_growth.Growth, dist=\"norm\",plot=plt)\n",
    "plt.show()"
   ]
  },
  {
   "cell_type": "markdown",
   "metadata": {},
   "source": [
    "## 6.Проверка нормальности распределения (уровень значимости $\\alpha=0.05$)"
   ]
  },
  {
   "cell_type": "code",
   "execution_count": 37,
   "metadata": {},
   "outputs": [
    {
     "data": {
      "text/plain": [
       "NormaltestResult(statistic=83.90240351269773, pvalue=6.037047153523196e-19)"
      ]
     },
     "execution_count": 37,
     "metadata": {},
     "output_type": "execute_result"
    }
   ],
   "source": [
    "stats.normaltest(GDP_growth.Growth) #  тест Д'Агостино (основан на значениях эксцесса и ассиметрии )"
   ]
  },
  {
   "cell_type": "code",
   "execution_count": 38,
   "metadata": {},
   "outputs": [
    {
     "data": {
      "text/plain": [
       "ShapiroResult(statistic=0.8679784536361694, pvalue=6.8156981794520455e-12)"
      ]
     },
     "execution_count": 38,
     "metadata": {},
     "output_type": "execute_result"
    }
   ],
   "source": [
    "stats.shapiro(GDP_growth.Growth) #тест Шапиро-Вилкоксона"
   ]
  },
  {
   "cell_type": "code",
   "execution_count": 39,
   "metadata": {},
   "outputs": [
    {
     "data": {
      "text/plain": [
       "(5.830309862560057, 2.116762236185676e-14)"
      ]
     },
     "execution_count": 39,
     "metadata": {},
     "output_type": "execute_result"
    }
   ],
   "source": [
    "diagnostic.normal_ad(GDP_growth.Growth) #тест Андерссона-Дарлинга"
   ]
  },
  {
   "cell_type": "code",
   "execution_count": 40,
   "metadata": {},
   "outputs": [
    {
     "name": "stderr",
     "output_type": "stream",
     "text": [
      "/Users/massimozharkovsky/opt/anaconda3/lib/python3.8/site-packages/statsmodels/stats/_lilliefors.py:272: FutureWarning: The default pvalmethod will change from \"approx\" to \"table\" after 0.11. The \"table\" method uses values from a very large simulation and is more accurate.  Explicitly set this parameter to \"approx\" or \"table\" to silence this warning\n",
      "  warnings.warn(msg, FutureWarning)\n"
     ]
    },
    {
     "data": {
      "text/plain": [
       "(0.15032893812864204, 2.0921608494149673e-11)"
      ]
     },
     "execution_count": 40,
     "metadata": {},
     "output_type": "execute_result"
    }
   ],
   "source": [
    "diagnostic.kstest_normal(GDP_growth.Growth)#тест Колмогорова-Смирнова"
   ]
  },
  {
   "cell_type": "markdown",
   "metadata": {},
   "source": [
    "### Основные выводы: представленное распределение существенно отличается от нормального закона, что подтверждается значениями критериев."
   ]
  },
  {
   "cell_type": "markdown",
   "metadata": {},
   "source": [
    "## 7. Интервальное оценивание"
   ]
  },
  {
   "cell_type": "code",
   "execution_count": 41,
   "metadata": {},
   "outputs": [],
   "source": [
    "alpha=0.05 #устанавливаем значение ошибки первого рода (обратная величина к доверительной вероятности)\n",
    "# для целец проверки гипотез и построения доверительных интервалов"
   ]
  },
  {
   "cell_type": "code",
   "execution_count": 42,
   "metadata": {},
   "outputs": [],
   "source": [
    "n=len(GDP_growth.Growth)# размер выборки "
   ]
  },
  {
   "cell_type": "code",
   "execution_count": 43,
   "metadata": {},
   "outputs": [
    {
     "data": {
      "text/plain": [
       "1.959963984540054"
      ]
     },
     "execution_count": 43,
     "metadata": {},
     "output_type": "execute_result"
    }
   ],
   "source": [
    "stats.norm.ppf(1-alpha/2)# значение Zкр для двусторонней области - нормальное распределение"
   ]
  },
  {
   "cell_type": "code",
   "execution_count": 44,
   "metadata": {},
   "outputs": [
    {
     "data": {
      "text/plain": [
       "1.9724619897643145"
      ]
     },
     "execution_count": 44,
     "metadata": {},
     "output_type": "execute_result"
    }
   ],
   "source": [
    "stats.t.ppf(1-alpha/2,n-1)# значение tкр для двусторонней области - распределение Стьюдента (справочно для сравнения)"
   ]
  },
  {
   "cell_type": "code",
   "execution_count": 45,
   "metadata": {},
   "outputs": [
    {
     "name": "stdout",
     "output_type": "stream",
     "text": [
      "0.5313\n"
     ]
    }
   ],
   "source": [
    "delta=(np.std(GDP_growth.Growth)/n**0.5)*stats.norm.ppf(1-alpha/2)\n",
    "print ('%.4f'%delta)\n",
    "# значение дельты для определения границ интервальной оценки"
   ]
  },
  {
   "cell_type": "code",
   "execution_count": 46,
   "metadata": {},
   "outputs": [
    {
     "name": "stdout",
     "output_type": "stream",
     "text": [
      "mean_lower_bound:2.0738,mean_upper_bound:3.1363\n"
     ]
    }
   ],
   "source": [
    "mean_lower_bound=np.mean(GDP_growth.Growth)-delta\n",
    "mean_upper_bound=np.mean(GDP_growth.Growth)+delta\n",
    "print(\"mean_lower_bound:%.4f,mean_upper_bound:%.4f\"%(mean_lower_bound,mean_upper_bound))\n",
    "# значение нижней и верхней  границ интервала математического ожидания"
   ]
  },
  {
   "cell_type": "code",
   "execution_count": 47,
   "metadata": {},
   "outputs": [
    {
     "data": {
      "text/plain": [
       "154.6208497016246"
      ]
     },
     "execution_count": 47,
     "metadata": {},
     "output_type": "execute_result"
    }
   ],
   "source": [
    "stats.chi2.ppf(alpha/2,n-1)# значение chi2 для расчета верхней границы интервала"
   ]
  },
  {
   "cell_type": "code",
   "execution_count": 48,
   "metadata": {},
   "outputs": [
    {
     "data": {
      "text/plain": [
       "231.1648990081592"
      ]
     },
     "execution_count": 48,
     "metadata": {},
     "output_type": "execute_result"
    }
   ],
   "source": [
    "stats.chi2.ppf(1-alpha/2,n-1)# значение chi2 для расчета нижней границы интервала"
   ]
  },
  {
   "cell_type": "code",
   "execution_count": 49,
   "metadata": {},
   "outputs": [
    {
     "data": {
      "text/plain": [
       "14.106960281873912"
      ]
     },
     "execution_count": 49,
     "metadata": {},
     "output_type": "execute_result"
    }
   ],
   "source": [
    "np.var(GDP_growth.Growth)# значение дисперсии исследуемого показателя"
   ]
  },
  {
   "cell_type": "code",
   "execution_count": 50,
   "metadata": {},
   "outputs": [
    {
     "name": "stdout",
     "output_type": "stream",
     "text": [
      "var_lower_bound:11.6559,var_upper_bound:17.4260\n"
     ]
    }
   ],
   "source": [
    "var_lower_bound=((n-1)*np.var(GDP_growth.Growth))/stats.chi2.ppf(1-alpha/2,n-1)\n",
    "var_upper_bound=((n-1)*np.var(GDP_growth.Growth))/stats.chi2.ppf(alpha/2,n-1)\n",
    "print(\"var_lower_bound:%.4f,var_upper_bound:%.4f\"%(var_lower_bound,var_upper_bound))\n",
    "# значение нижней и верхней  границ интервала дисперсии"
   ]
  },
  {
   "cell_type": "markdown",
   "metadata": {},
   "source": [
    "## 8. Анализ выбросов (экстремальных значений)"
   ]
  },
  {
   "cell_type": "markdown",
   "metadata": {},
   "source": [
    "### Для оценки выбросов сущетвуют специальные критерии (например, критерий Смирнова-Граббса). В нашем случае ограничимся рассмотрением первых k и последних k наблюдений"
   ]
  },
  {
   "cell_type": "code",
   "execution_count": 51,
   "metadata": {},
   "outputs": [],
   "source": [
    "index_l=list(GDP_growth.Growth.nlargest(10).index)# индексы первых k стран по значению темпов прироста ВВП"
   ]
  },
  {
   "cell_type": "code",
   "execution_count": 52,
   "metadata": {},
   "outputs": [
    {
     "data": {
      "text/plain": [
       "[7063, 7062, 7052, 7105, 7025, 7040, 7171, 7059, 7003, 6997]"
      ]
     },
     "execution_count": 52,
     "metadata": {},
     "output_type": "execute_result"
    }
   ],
   "source": [
    "index_l"
   ]
  },
  {
   "cell_type": "code",
   "execution_count": 53,
   "metadata": {},
   "outputs": [
    {
     "data": {
      "text/html": [
       "<div>\n",
       "<style scoped>\n",
       "    .dataframe tbody tr th:only-of-type {\n",
       "        vertical-align: middle;\n",
       "    }\n",
       "\n",
       "    .dataframe tbody tr th {\n",
       "        vertical-align: top;\n",
       "    }\n",
       "\n",
       "    .dataframe thead th {\n",
       "        text-align: right;\n",
       "    }\n",
       "</style>\n",
       "<table border=\"1\" class=\"dataframe\">\n",
       "  <thead>\n",
       "    <tr style=\"text-align: right;\">\n",
       "      <th></th>\n",
       "      <th>Country</th>\n",
       "      <th>Continent</th>\n",
       "      <th>Growth</th>\n",
       "    </tr>\n",
       "  </thead>\n",
       "  <tbody>\n",
       "    <tr>\n",
       "      <th>7063</th>\n",
       "      <td>IRQ</td>\n",
       "      <td>Asia</td>\n",
       "      <td>13.062</td>\n",
       "    </tr>\n",
       "    <tr>\n",
       "      <th>7062</th>\n",
       "      <td>IRN</td>\n",
       "      <td>Asia</td>\n",
       "      <td>12.518</td>\n",
       "    </tr>\n",
       "    <tr>\n",
       "      <th>7052</th>\n",
       "      <td>GIN</td>\n",
       "      <td>Africa</td>\n",
       "      <td>10.458</td>\n",
       "    </tr>\n",
       "    <tr>\n",
       "      <th>7105</th>\n",
       "      <td>NRU</td>\n",
       "      <td>Oceania</td>\n",
       "      <td>10.404</td>\n",
       "    </tr>\n",
       "    <tr>\n",
       "      <th>7025</th>\n",
       "      <td>CIV</td>\n",
       "      <td>Africa</td>\n",
       "      <td>8.342</td>\n",
       "    </tr>\n",
       "    <tr>\n",
       "      <th>7040</th>\n",
       "      <td>ETH</td>\n",
       "      <td>Africa</td>\n",
       "      <td>8.000</td>\n",
       "    </tr>\n",
       "    <tr>\n",
       "      <th>7171</th>\n",
       "      <td>UZB</td>\n",
       "      <td>Asia</td>\n",
       "      <td>7.800</td>\n",
       "    </tr>\n",
       "    <tr>\n",
       "      <th>7059</th>\n",
       "      <td>ISL</td>\n",
       "      <td>Europe</td>\n",
       "      <td>7.352</td>\n",
       "    </tr>\n",
       "    <tr>\n",
       "      <th>7003</th>\n",
       "      <td>BTN</td>\n",
       "      <td>Asia</td>\n",
       "      <td>7.316</td>\n",
       "    </tr>\n",
       "    <tr>\n",
       "      <th>6997</th>\n",
       "      <td>BGD</td>\n",
       "      <td>Asia</td>\n",
       "      <td>7.202</td>\n",
       "    </tr>\n",
       "  </tbody>\n",
       "</table>\n",
       "</div>"
      ],
      "text/plain": [
       "     Country Continent  Growth\n",
       "7063  IRQ     Asia      13.062\n",
       "7062  IRN     Asia      12.518\n",
       "7052  GIN     Africa    10.458\n",
       "7105  NRU     Oceania   10.404\n",
       "7025  CIV     Africa    8.342 \n",
       "7040  ETH     Africa    8.000 \n",
       "7171  UZB     Asia      7.800 \n",
       "7059  ISL     Europe    7.352 \n",
       "7003  BTN     Asia      7.316 \n",
       "6997  BGD     Asia      7.202 "
      ]
     },
     "execution_count": 53,
     "metadata": {},
     "output_type": "execute_result"
    }
   ],
   "source": [
    "GDP_growth.loc[index_l,:] # первые k стран по значению темпов роста ВВП"
   ]
  },
  {
   "cell_type": "code",
   "execution_count": 54,
   "metadata": {},
   "outputs": [],
   "source": [
    "index_s=list(GDP_growth.Growth.nsmallest(10).index)# индексы последних k стран по значению темпов прироста ВВП"
   ]
  },
  {
   "cell_type": "code",
   "execution_count": 55,
   "metadata": {},
   "outputs": [
    {
     "data": {
      "text/html": [
       "<div>\n",
       "<style scoped>\n",
       "    .dataframe tbody tr th:only-of-type {\n",
       "        vertical-align: middle;\n",
       "    }\n",
       "\n",
       "    .dataframe tbody tr th {\n",
       "        vertical-align: top;\n",
       "    }\n",
       "\n",
       "    .dataframe thead th {\n",
       "        text-align: right;\n",
       "    }\n",
       "</style>\n",
       "<table border=\"1\" class=\"dataframe\">\n",
       "  <thead>\n",
       "    <tr style=\"text-align: right;\">\n",
       "      <th></th>\n",
       "      <th>Country</th>\n",
       "      <th>Continent</th>\n",
       "      <th>Growth</th>\n",
       "    </tr>\n",
       "  </thead>\n",
       "  <tbody>\n",
       "    <tr>\n",
       "      <th>7173</th>\n",
       "      <td>VEN</td>\n",
       "      <td>Americas</td>\n",
       "      <td>-16.456</td>\n",
       "    </tr>\n",
       "    <tr>\n",
       "      <th>7142</th>\n",
       "      <td>SSD</td>\n",
       "      <td>Africa</td>\n",
       "      <td>-13.933</td>\n",
       "    </tr>\n",
       "    <tr>\n",
       "      <th>7175</th>\n",
       "      <td>YEM</td>\n",
       "      <td>Asia</td>\n",
       "      <td>-13.621</td>\n",
       "    </tr>\n",
       "    <tr>\n",
       "      <th>7036</th>\n",
       "      <td>GNQ</td>\n",
       "      <td>Africa</td>\n",
       "      <td>-8.576</td>\n",
       "    </tr>\n",
       "    <tr>\n",
       "      <th>7082</th>\n",
       "      <td>LBY</td>\n",
       "      <td>Africa</td>\n",
       "      <td>-7.389</td>\n",
       "    </tr>\n",
       "    <tr>\n",
       "      <th>7017</th>\n",
       "      <td>TCD</td>\n",
       "      <td>Africa</td>\n",
       "      <td>-6.431</td>\n",
       "    </tr>\n",
       "    <tr>\n",
       "      <th>7160</th>\n",
       "      <td>TTO</td>\n",
       "      <td>Americas</td>\n",
       "      <td>-6.076</td>\n",
       "    </tr>\n",
       "    <tr>\n",
       "      <th>7149</th>\n",
       "      <td>SUR</td>\n",
       "      <td>Americas</td>\n",
       "      <td>-5.139</td>\n",
       "    </tr>\n",
       "    <tr>\n",
       "      <th>7007</th>\n",
       "      <td>BRA</td>\n",
       "      <td>Americas</td>\n",
       "      <td>-3.469</td>\n",
       "    </tr>\n",
       "    <tr>\n",
       "      <th>6994</th>\n",
       "      <td>AZE</td>\n",
       "      <td>Asia</td>\n",
       "      <td>-3.100</td>\n",
       "    </tr>\n",
       "  </tbody>\n",
       "</table>\n",
       "</div>"
      ],
      "text/plain": [
       "     Country Continent  Growth\n",
       "7173  VEN     Americas -16.456\n",
       "7142  SSD     Africa   -13.933\n",
       "7175  YEM     Asia     -13.621\n",
       "7036  GNQ     Africa   -8.576 \n",
       "7082  LBY     Africa   -7.389 \n",
       "7017  TCD     Africa   -6.431 \n",
       "7160  TTO     Americas -6.076 \n",
       "7149  SUR     Americas -5.139 \n",
       "7007  BRA     Americas -3.469 \n",
       "6994  AZE     Asia     -3.100 "
      ]
     },
     "execution_count": 55,
     "metadata": {},
     "output_type": "execute_result"
    }
   ],
   "source": [
    "GDP_growth.loc[index_s,:]#  последние k стран по значению темпов прироста ВВП"
   ]
  },
  {
   "cell_type": "code",
   "execution_count": 56,
   "metadata": {},
   "outputs": [],
   "source": [
    "index_outliers=index_l+index_s# общий список для стран с наименьшими и наибольшими значениями тепмпов роста ВВП"
   ]
  },
  {
   "cell_type": "code",
   "execution_count": 57,
   "metadata": {},
   "outputs": [],
   "source": [
    "GDP_growth_reduced=GDP_growth.drop(index=index_outliers)# dataframe без стран с наименьшими и наибольшими значениями тепмпов роста ВВП"
   ]
  },
  {
   "cell_type": "code",
   "execution_count": 58,
   "metadata": {},
   "outputs": [
    {
     "data": {
      "text/plain": [
       "ShapiroResult(statistic=0.9833655953407288, pvalue=0.03781586140394211)"
      ]
     },
     "execution_count": 58,
     "metadata": {},
     "output_type": "execute_result"
    }
   ],
   "source": [
    "stats.shapiro(GDP_growth_reduced.Growth)# тест Шапиро для усеченной dataframe"
   ]
  },
  {
   "cell_type": "markdown",
   "metadata": {},
   "source": [
    "## 9.1. Проверка гипотезы относительно различия средних темпов прироста двух континентов"
   ]
  },
  {
   "cell_type": "code",
   "execution_count": 59,
   "metadata": {},
   "outputs": [
    {
     "data": {
      "text/html": [
       "<div>\n",
       "<style scoped>\n",
       "    .dataframe tbody tr th:only-of-type {\n",
       "        vertical-align: middle;\n",
       "    }\n",
       "\n",
       "    .dataframe tbody tr th {\n",
       "        vertical-align: top;\n",
       "    }\n",
       "\n",
       "    .dataframe thead th {\n",
       "        text-align: right;\n",
       "    }\n",
       "</style>\n",
       "<table border=\"1\" class=\"dataframe\">\n",
       "  <thead>\n",
       "    <tr style=\"text-align: right;\">\n",
       "      <th></th>\n",
       "      <th>Africa</th>\n",
       "      <th>Asia</th>\n",
       "    </tr>\n",
       "  </thead>\n",
       "  <tbody>\n",
       "    <tr>\n",
       "      <th>count</th>\n",
       "      <td>54.000000</td>\n",
       "      <td>48.000000</td>\n",
       "    </tr>\n",
       "    <tr>\n",
       "      <th>mean</th>\n",
       "      <td>2.508037</td>\n",
       "      <td>3.607208</td>\n",
       "    </tr>\n",
       "    <tr>\n",
       "      <th>std</th>\n",
       "      <td>4.342461</td>\n",
       "      <td>4.055219</td>\n",
       "    </tr>\n",
       "    <tr>\n",
       "      <th>min</th>\n",
       "      <td>-13.933000</td>\n",
       "      <td>-13.621000</td>\n",
       "    </tr>\n",
       "    <tr>\n",
       "      <th>25%</th>\n",
       "      <td>1.112500</td>\n",
       "      <td>1.945000</td>\n",
       "    </tr>\n",
       "    <tr>\n",
       "      <th>50%</th>\n",
       "      <td>3.739500</td>\n",
       "      <td>3.431000</td>\n",
       "    </tr>\n",
       "    <tr>\n",
       "      <th>75%</th>\n",
       "      <td>4.819250</td>\n",
       "      <td>6.202750</td>\n",
       "    </tr>\n",
       "    <tr>\n",
       "      <th>max</th>\n",
       "      <td>10.458000</td>\n",
       "      <td>13.062000</td>\n",
       "    </tr>\n",
       "  </tbody>\n",
       "</table>\n",
       "</div>"
      ],
      "text/plain": [
       "          Africa       Asia\n",
       "count  54.000000  48.000000\n",
       "mean   2.508037   3.607208 \n",
       "std    4.342461   4.055219 \n",
       "min   -13.933000 -13.621000\n",
       "25%    1.112500   1.945000 \n",
       "50%    3.739500   3.431000 \n",
       "75%    4.819250   6.202750 \n",
       "max    10.458000  13.062000"
      ]
     },
     "execution_count": 59,
     "metadata": {},
     "output_type": "execute_result"
    }
   ],
   "source": [
    "pd.concat([GDP_growth[GDP_growth.Continent=='Africa']['Growth'].describe().rename('Africa'),\n",
    "           GDP_growth[GDP_growth.Continent=='Asia']['Growth'].describe().rename('Asia')],axis=1)\n",
    "# Сравнение распределения показателей средних темпов прироста ВВП Азии и Африки"
   ]
  },
  {
   "cell_type": "markdown",
   "metadata": {
    "collapsed": true
   },
   "source": [
    "### 1.Проверим гипотезу равенства средних значений (равенство понимается в статистическом смысле),  уровень значимости $\\alpha$=0.05\n",
    "$$H_0:\\mu_0=\\mu_1$$\n",
    "$$H_1:\\mu_0\\neq\\mu_1$$  "
   ]
  },
  {
   "cell_type": "markdown",
   "metadata": {},
   "source": [
    "<font size='5'>Welch's test </font>\n",
    "<font size='5'> $t=\\frac{(\\bar{x_1}-\\bar{x_2})-(\\mu_1-\\mu_2)}{(\\frac{s_1^2}{n_1}+\\frac{s_2^2}{n_2})^\\frac{1}{2}}$</font>"
   ]
  },
  {
   "cell_type": "markdown",
   "metadata": {},
   "source": [
    "<font size='5'>Число степеней свободы </font>"
   ]
  },
  {
   "cell_type": "markdown",
   "metadata": {
    "collapsed": true
   },
   "source": [
    "<font size='5'>$\\nu=\\frac{(\\frac{s_1^2}{n_1}+\\frac{s_2^2}{n_2})^2}{\\frac{s_1^4}{n_1^2(n_1-1)}+\\frac{s_2^4}{n_2^2(n_2-1)}}$</font>"
   ]
  },
  {
   "cell_type": "code",
   "execution_count": 60,
   "metadata": {},
   "outputs": [
    {
     "data": {
      "text/plain": [
       "Ttest_indResult(statistic=-1.3215212209803235, pvalue=0.18935082368961664)"
      ]
     },
     "execution_count": 60,
     "metadata": {},
     "output_type": "execute_result"
    }
   ],
   "source": [
    "stats.ttest_ind(GDP_growth[GDP_growth.Continent=='Africa']['Growth'],GDP_growth[GDP_growth.Continent=='Asia']['Growth'],\n",
    "                equal_var=False)\n",
    "# Welch's test - сравнение средних значений двух выборок "
   ]
  },
  {
   "cell_type": "code",
   "execution_count": 61,
   "metadata": {},
   "outputs": [],
   "source": [
    "mean1=np.mean(GDP_growth[GDP_growth.Continent=='Africa']['Growth'])\n",
    "mean2=np.mean(GDP_growth[GDP_growth.Continent=='Asia']['Growth'])   \n",
    "var1=np.var(GDP_growth[GDP_growth.Continent=='Africa']['Growth'])\n",
    "var2=np.var(GDP_growth[GDP_growth.Continent=='Asia']['Growth'])\n",
    "n1=len(GDP_growth[GDP_growth.Continent=='Africa']['Growth'])\n",
    "n2=len(GDP_growth[GDP_growth.Continent=='Asia']['Growth'])"
   ]
  },
  {
   "cell_type": "code",
   "execution_count": 62,
   "metadata": {},
   "outputs": [
    {
     "data": {
      "text/plain": [
       "(2.5080370370370364,\n",
       " 3.6072083333333325,\n",
       " 18.507763294924544,\n",
       " 16.10219870659722,\n",
       " 54,\n",
       " 48)"
      ]
     },
     "execution_count": 62,
     "metadata": {},
     "output_type": "execute_result"
    }
   ],
   "source": [
    "mean1,mean2,var1,var2,n1,n2"
   ]
  },
  {
   "cell_type": "code",
   "execution_count": 63,
   "metadata": {},
   "outputs": [
    {
     "name": "stdout",
     "output_type": "stream",
     "text": [
      "t_=-1.33\n"
     ]
    }
   ],
   "source": [
    "t_=(mean1-mean2)/((var1/n1+var2/n2)**0.5)\n",
    "print('t_=%.2f'%t_)\n",
    "# Welch's test - считаем вручную"
   ]
  },
  {
   "cell_type": "code",
   "execution_count": 64,
   "metadata": {},
   "outputs": [
    {
     "name": "stdout",
     "output_type": "stream",
     "text": [
      "nu=99.76\n"
     ]
    }
   ],
   "source": [
    "nu=((var1/n1+var2/n2)**2)/(((var1**2)/((n1**2)*(n1-1)))+((var2**2)/((n2**2)*(n2-1))))\n",
    "print('nu=%.2f'%nu)\n",
    "# число степеней свободы df"
   ]
  },
  {
   "cell_type": "code",
   "execution_count": 65,
   "metadata": {},
   "outputs": [
    {
     "data": {
      "text/plain": [
       "-1.321520150567727"
      ]
     },
     "execution_count": 65,
     "metadata": {},
     "output_type": "execute_result"
    }
   ],
   "source": [
    "stats.t.ppf(0.18935082368961664/2,nu)\n",
    "# самопроверка соответствия результатов"
   ]
  },
  {
   "cell_type": "code",
   "execution_count": 66,
   "metadata": {},
   "outputs": [
    {
     "data": {
      "text/plain": [
       "0.18500966470386607"
      ]
     },
     "execution_count": 66,
     "metadata": {},
     "output_type": "execute_result"
    }
   ],
   "source": [
    "2*stats.t.cdf(t_,nu)\n",
    "# самопроверка соответствия результатов"
   ]
  },
  {
   "cell_type": "markdown",
   "metadata": {},
   "source": [
    "### Вывод: Так как pvalue>$\\alpha$ или, что, то же самое, критическое значение критерия меньше табличного значения, гипотеза $H_0$ не отвергается. Другими словами, различия в темпах прироста ВВП двух континентов статистически незначимы."
   ]
  },
  {
   "cell_type": "markdown",
   "metadata": {
    "collapsed": true
   },
   "source": [
    "### 2.Проверим гипотезу о равенстве дисперсий,                                                                                                   уровень значимости $\\alpha$=0.05\n",
    "$$H_0:\\sigma_0^2=\\sigma_1^2$$\n",
    "$$H_1:\\sigma_0^2\\neq\\sigma_1^2$$  "
   ]
  },
  {
   "cell_type": "code",
   "execution_count": 67,
   "metadata": {},
   "outputs": [
    {
     "data": {
      "text/plain": [
       "LeveneResult(statistic=0.27446783328079305, pvalue=0.6015095459788419)"
      ]
     },
     "execution_count": 67,
     "metadata": {},
     "output_type": "execute_result"
    }
   ],
   "source": [
    "stats.levene(GDP_growth[GDP_growth.Continent=='Africa']['Growth'],GDP_growth[GDP_growth.Continent=='Asia']['Growth'],\n",
    "                center='mean')\n",
    "# Levene's test - сравнение дисперсий двух выборок "
   ]
  },
  {
   "cell_type": "markdown",
   "metadata": {},
   "source": [
    "<font size='5'>Levene's test</font>     \n",
    "<font size='5'>$W=\\frac{(N-k)}{(k-1)}\\frac{\\sum_{i=1}^{k}N_i(\\bar{Z_i}-\\bar{Z_{..}})^2}\n",
    "{\\sum_{i=1}^{k}\\sum_{j=1}^{N_i}(Z_{ij}-\\bar{Z_i})^2}$ </font>                                            "
   ]
  },
  {
   "cell_type": "markdown",
   "metadata": {},
   "source": [
    "<font size='5'>$Z_{ij}=|Y_{ij}-\\bar{Y_i}|$<font size='5'>\n",
    "\n",
    "<font size='5'>$\\bar{Z_{..}}$ - общая средняя по двум группам <font size='5'>"
   ]
  },
  {
   "cell_type": "code",
   "execution_count": 68,
   "metadata": {},
   "outputs": [],
   "source": [
    "Z1=np.abs(GDP_growth[GDP_growth.Continent=='Africa']['Growth']-mean1)\n",
    "Z2=np.abs(GDP_growth[GDP_growth.Continent=='Asia']['Growth']-mean2)\n",
    "meanZ=np.mean(np.hstack((Z1,Z2)))\n",
    "W=(np.sum(np.hstack((n1*(np.mean(Z1)-meanZ)**2,n2*(np.mean(Z2)-meanZ)**2)))\n",
    " /np.sum(np.hstack(((Z1-np.mean(Z1))**2,(Z2-np.mean(Z2))**2))))*((n1+n2-2)/(2-1))\n",
    "# расчет теста вручную "
   ]
  },
  {
   "cell_type": "code",
   "execution_count": 69,
   "metadata": {},
   "outputs": [
    {
     "data": {
      "text/plain": [
       "0.2744678332807915"
      ]
     },
     "execution_count": 69,
     "metadata": {},
     "output_type": "execute_result"
    }
   ],
   "source": [
    "W"
   ]
  },
  {
   "cell_type": "code",
   "execution_count": 70,
   "metadata": {},
   "outputs": [
    {
     "data": {
      "text/plain": [
       "array([1.16059736, 1.30567202])"
      ]
     },
     "execution_count": 70,
     "metadata": {},
     "output_type": "execute_result"
    }
   ],
   "source": [
    "np.hstack((n1*(np.mean(Z1)-meanZ)**2,n2*(np.mean(Z2)-meanZ)**2))"
   ]
  },
  {
   "cell_type": "code",
   "execution_count": 71,
   "metadata": {},
   "outputs": [
    {
     "data": {
      "text/plain": [
       "array([ 0.69196296,  5.08803704,  1.46096296,  1.80696296,  3.40696296,\n",
       "        3.55003704,  2.19796296,  2.13996296,  2.02296296,  8.93903704,\n",
       "        0.35103704,  0.10803704,  5.33703704,  5.83396296,  3.99196296,\n",
       "        1.83896296, 11.08403704,  0.65803704,  1.13903704,  5.49196296,\n",
       "        0.42603704,  2.10203704,  1.21396296,  7.94996296,  3.75496296,\n",
       "        3.36096296,  0.55296296,  4.13803704,  9.89703704,  1.67196296,\n",
       "        0.23803704,  3.25496296,  0.68803704,  1.32996296,  1.38203704,\n",
       "        1.25496296,  1.80803704,  2.34896296,  4.12503704,  3.47396296,\n",
       "        1.67096296,  3.71996296,  1.99496296,  3.78896296,  1.87196296,\n",
       "        1.94303704, 16.44103704,  0.48596296,  4.44496296,  2.59196296,\n",
       "        1.40003704,  0.18503704,  1.24896296,  1.84303704,  1.44320833,\n",
       "        3.34620833,  6.70720833,  0.14520833,  3.59479167,  3.70879167,\n",
       "        6.07220833,  3.34579167,  3.11279167,  0.20720833,  0.75820833,\n",
       "        1.44420833,  3.50579167,  1.42579167,  8.91079167,  9.45479167,\n",
       "        0.35379167,  2.64620833,  1.59420833,  2.52420833,  0.67820833,\n",
       "        1.41120833,  0.72879167,  3.41579167,  1.86620833,  4.47020833,\n",
       "        0.61579167,  0.87379167,  2.43920833,  2.28479167,  3.01820833,\n",
       "        1.37179167,  0.95579167,  3.26879167,  1.47620833,  1.93620833,\n",
       "        1.21020833,  0.86179167,  2.19720833,  3.29279167,  0.32420833,\n",
       "        1.71379167,  0.42320833,  2.59279167,  0.61920833,  4.19279167,\n",
       "        2.60379167, 17.22820833])"
      ]
     },
     "execution_count": 71,
     "metadata": {},
     "output_type": "execute_result"
    }
   ],
   "source": [
    "np.hstack((Z1,Z2))"
   ]
  },
  {
   "cell_type": "code",
   "execution_count": 72,
   "metadata": {},
   "outputs": [
    {
     "data": {
      "text/plain": [
       "0.6015095459788429"
      ]
     },
     "execution_count": 72,
     "metadata": {},
     "output_type": "execute_result"
    }
   ],
   "source": [
    "1-stats.f.cdf(W,2-1,n1+n2-2)\n",
    "# самопроверка  соответствия результатов"
   ]
  },
  {
   "cell_type": "code",
   "execution_count": 73,
   "metadata": {},
   "outputs": [
    {
     "data": {
      "text/plain": [
       "3.9361429863126487"
      ]
     },
     "execution_count": 73,
     "metadata": {},
     "output_type": "execute_result"
    }
   ],
   "source": [
    "stats.f.ppf(1-alpha,2-1,n1+n2-2)\n",
    "# критическое значение F-критерия"
   ]
  },
  {
   "cell_type": "markdown",
   "metadata": {},
   "source": [
    "### Вывод: Так как pvalue>$\\alpha$, гипотеза $H_0$ не отвергается. Это подтверждает вывод об отсутствии статистических различий в распределении темпов прироста ВВП двух континентов."
   ]
  },
  {
   "cell_type": "markdown",
   "metadata": {},
   "source": [
    "## 9.2.Проверка гипотезы о равенстве среднего значения темпа прироста ВВП нулю"
   ]
  },
  {
   "cell_type": "markdown",
   "metadata": {},
   "source": [
    "###  Уровень значимости $\\alpha$=0.05\n",
    "$$H_0:\\mu=0$$"
   ]
  },
  {
   "cell_type": "markdown",
   "metadata": {},
   "source": [
    "### Конкурирующая гипотеза - среднее значение темпа прироста ВВП больше нуля\n",
    "$$H_1:\\mu>0$$  "
   ]
  },
  {
   "cell_type": "code",
   "execution_count": 74,
   "metadata": {},
   "outputs": [
    {
     "data": {
      "text/plain": [
       "Ttest_1sampResult(statistic=6.162792760559224, pvalue=7.628048365925913e-08)"
      ]
     },
     "execution_count": 74,
     "metadata": {},
     "output_type": "execute_result"
    }
   ],
   "source": [
    "stats.ttest_1samp(GDP_growth[GDP_growth.Continent=='Asia']['Growth'],0, alternative='greater')\n",
    "#Z-test правосторонняя критическая область"
   ]
  },
  {
   "cell_type": "code",
   "execution_count": 75,
   "metadata": {},
   "outputs": [
    {
     "name": "stdout",
     "output_type": "stream",
     "text": [
      "t_=6.16,pvalue=0.0000000763\n"
     ]
    }
   ],
   "source": [
    "t_=mean2/((var2/(n2-1))**.5)\n",
    "pvalue=(1-stats.t.cdf(t_,n2-1))\n",
    "print('t_=%.2f,pvalue=%.10f'%(t_,pvalue))# правостороняя критическая область\n",
    "#Z-test  - расчет вручную"
   ]
  },
  {
   "cell_type": "code",
   "execution_count": 76,
   "metadata": {},
   "outputs": [
    {
     "data": {
      "text/plain": [
       "1.67792672077558"
      ]
     },
     "execution_count": 76,
     "metadata": {},
     "output_type": "execute_result"
    }
   ],
   "source": [
    "stats.t.ppf(0.95, n2-1)\n",
    "# критическое значение Стьюдента для правосторонней критической области  "
   ]
  },
  {
   "cell_type": "markdown",
   "metadata": {},
   "source": [
    "### Вывод: Так как pvalue<$\\alpha$, гипотеза $H_0$ не принимается. Средний темп прироста ВВП статистически значимо отличается от нуля."
   ]
  },
  {
   "cell_type": "markdown",
   "metadata": {
    "collapsed": true
   },
   "source": [
    "## 9.3. Проверка гипотезы относительно разницы средних темпов прироста между двумя периодами. Сравнение распределения показателей средних темпов прироста ВВП Азии в 2000г. и 2016 г."
   ]
  },
  {
   "cell_type": "code",
   "execution_count": 77,
   "metadata": {},
   "outputs": [],
   "source": [
    "GDP_growth_Asia=imf_long[((imf_long.Year==2000)|(imf_long.Year==2016))\n",
    "                         &(imf_long.Continent=='Asia')].drop(columns=['Continent'])"
   ]
  },
  {
   "cell_type": "code",
   "execution_count": 78,
   "metadata": {},
   "outputs": [
    {
     "data": {
      "text/html": [
       "<div>\n",
       "<style scoped>\n",
       "    .dataframe tbody tr th:only-of-type {\n",
       "        vertical-align: middle;\n",
       "    }\n",
       "\n",
       "    .dataframe tbody tr th {\n",
       "        vertical-align: top;\n",
       "    }\n",
       "\n",
       "    .dataframe thead th {\n",
       "        text-align: right;\n",
       "    }\n",
       "</style>\n",
       "<table border=\"1\" class=\"dataframe\">\n",
       "  <thead>\n",
       "    <tr style=\"text-align: right;\">\n",
       "      <th></th>\n",
       "      <th>Country</th>\n",
       "      <th>Year</th>\n",
       "      <th>Growth</th>\n",
       "    </tr>\n",
       "  </thead>\n",
       "  <tbody>\n",
       "    <tr>\n",
       "      <th>3880</th>\n",
       "      <td>AFG</td>\n",
       "      <td>2000</td>\n",
       "      <td>NaN</td>\n",
       "    </tr>\n",
       "    <tr>\n",
       "      <th>3886</th>\n",
       "      <td>ARM</td>\n",
       "      <td>2000</td>\n",
       "      <td>5.853</td>\n",
       "    </tr>\n",
       "    <tr>\n",
       "      <th>3890</th>\n",
       "      <td>AZE</td>\n",
       "      <td>2000</td>\n",
       "      <td>6.227</td>\n",
       "    </tr>\n",
       "    <tr>\n",
       "      <th>3892</th>\n",
       "      <td>BHR</td>\n",
       "      <td>2000</td>\n",
       "      <td>7.018</td>\n",
       "    </tr>\n",
       "    <tr>\n",
       "      <th>3893</th>\n",
       "      <td>BGD</td>\n",
       "      <td>2000</td>\n",
       "      <td>5.600</td>\n",
       "    </tr>\n",
       "  </tbody>\n",
       "</table>\n",
       "</div>"
      ],
      "text/plain": [
       "     Country  Year  Growth\n",
       "3880  AFG     2000 NaN    \n",
       "3886  ARM     2000  5.853 \n",
       "3890  AZE     2000  6.227 \n",
       "3892  BHR     2000  7.018 \n",
       "3893  BGD     2000  5.600 "
      ]
     },
     "execution_count": 78,
     "metadata": {},
     "output_type": "execute_result"
    }
   ],
   "source": [
    "GDP_growth_Asia.head()"
   ]
  },
  {
   "cell_type": "code",
   "execution_count": 79,
   "metadata": {},
   "outputs": [
    {
     "data": {
      "text/plain": [
       "Country    0\n",
       "Year       0\n",
       "Growth     4\n",
       "dtype: int64"
      ]
     },
     "execution_count": 79,
     "metadata": {},
     "output_type": "execute_result"
    }
   ],
   "source": [
    "GDP_growth_Asia.isnull().sum()"
   ]
  },
  {
   "cell_type": "code",
   "execution_count": 80,
   "metadata": {},
   "outputs": [],
   "source": [
    "GDP_growth_Asia.dropna(inplace=True)"
   ]
  },
  {
   "cell_type": "markdown",
   "metadata": {
    "collapsed": true
   },
   "source": [
    "### Проверим гипотезу равентсва средних значений,                                                                                     уровень значимости $\\alpha$=0.05\n",
    "$$H_0:\\mu_0=\\mu_1$$\n",
    "$$H_1:\\mu_0\\neq\\mu_1$$  "
   ]
  },
  {
   "cell_type": "code",
   "execution_count": 81,
   "metadata": {},
   "outputs": [
    {
     "data": {
      "text/html": [
       "<div>\n",
       "<style scoped>\n",
       "    .dataframe tbody tr th:only-of-type {\n",
       "        vertical-align: middle;\n",
       "    }\n",
       "\n",
       "    .dataframe tbody tr th {\n",
       "        vertical-align: top;\n",
       "    }\n",
       "\n",
       "    .dataframe thead th {\n",
       "        text-align: right;\n",
       "    }\n",
       "</style>\n",
       "<table border=\"1\" class=\"dataframe\">\n",
       "  <thead>\n",
       "    <tr style=\"text-align: right;\">\n",
       "      <th></th>\n",
       "      <th>2000</th>\n",
       "      <th>2016</th>\n",
       "    </tr>\n",
       "  </thead>\n",
       "  <tbody>\n",
       "    <tr>\n",
       "      <th>count</th>\n",
       "      <td>46.000000</td>\n",
       "      <td>48.000000</td>\n",
       "    </tr>\n",
       "    <tr>\n",
       "      <th>mean</th>\n",
       "      <td>6.262870</td>\n",
       "      <td>3.607208</td>\n",
       "    </tr>\n",
       "    <tr>\n",
       "      <th>std</th>\n",
       "      <td>3.559341</td>\n",
       "      <td>4.055219</td>\n",
       "    </tr>\n",
       "    <tr>\n",
       "      <th>min</th>\n",
       "      <td>-4.341000</td>\n",
       "      <td>-13.621000</td>\n",
       "    </tr>\n",
       "    <tr>\n",
       "      <th>25%</th>\n",
       "      <td>4.422250</td>\n",
       "      <td>1.945000</td>\n",
       "    </tr>\n",
       "    <tr>\n",
       "      <th>50%</th>\n",
       "      <td>6.204500</td>\n",
       "      <td>3.431000</td>\n",
       "    </tr>\n",
       "    <tr>\n",
       "      <th>75%</th>\n",
       "      <td>8.232000</td>\n",
       "      <td>6.202750</td>\n",
       "    </tr>\n",
       "    <tr>\n",
       "      <th>max</th>\n",
       "      <td>18.587000</td>\n",
       "      <td>13.062000</td>\n",
       "    </tr>\n",
       "  </tbody>\n",
       "</table>\n",
       "</div>"
      ],
      "text/plain": [
       "            2000       2016\n",
       "count  46.000000  48.000000\n",
       "mean   6.262870   3.607208 \n",
       "std    3.559341   4.055219 \n",
       "min   -4.341000  -13.621000\n",
       "25%    4.422250   1.945000 \n",
       "50%    6.204500   3.431000 \n",
       "75%    8.232000   6.202750 \n",
       "max    18.587000  13.062000"
      ]
     },
     "execution_count": 81,
     "metadata": {},
     "output_type": "execute_result"
    }
   ],
   "source": [
    "pd.concat([GDP_growth_Asia[GDP_growth_Asia.Year==2000]['Growth'].describe().rename('2000'),\n",
    "          GDP_growth_Asia[GDP_growth_Asia.Year==2016]['Growth'].describe().rename('2016')],axis=1)\n",
    "# Сравнение распределения показателей средних темпов роста ВВП Азии в 2000г. и 2016 г."
   ]
  },
  {
   "cell_type": "code",
   "execution_count": 82,
   "metadata": {},
   "outputs": [
    {
     "data": {
      "text/plain": [
       "Ttest_indResult(statistic=3.378116234153487, pvalue=0.0010743884243988315)"
      ]
     },
     "execution_count": 82,
     "metadata": {},
     "output_type": "execute_result"
    }
   ],
   "source": [
    "stats.ttest_ind(GDP_growth_Asia[GDP_growth_Asia.Year==2000]['Growth'],GDP_growth_Asia[GDP_growth_Asia.Year==2016]['Growth'],\n",
    "                equal_var=False)\n",
    "# Welch's test - проверка равенства средних значений двух выборок "
   ]
  },
  {
   "cell_type": "markdown",
   "metadata": {},
   "source": [
    "### Вывод: Так как pvalue<$\\alpha$, гипотеза $H_0$ не принимается. Существует статистически значимое различие в темпах прироста ВВП в двух рассматриваемых периодах."
   ]
  },
  {
   "cell_type": "markdown",
   "metadata": {},
   "source": [
    "### Проверим гипотезу равентсва дисперсий,                                                                                                    уровень значимости $\\alpha$=0.05\n",
    "$$H_0:\\sigma_0^2=\\sigma_1^2$$\n",
    "$$H_1:\\sigma_0^2\\neq\\sigma_1^2$$  "
   ]
  },
  {
   "cell_type": "code",
   "execution_count": 83,
   "metadata": {},
   "outputs": [
    {
     "data": {
      "text/plain": [
       "LeveneResult(statistic=0.318582508714576, pvalue=0.5738343136180002)"
      ]
     },
     "execution_count": 83,
     "metadata": {},
     "output_type": "execute_result"
    }
   ],
   "source": [
    "stats.levene(GDP_growth_Asia[GDP_growth_Asia.Year==2000]['Growth'],GDP_growth_Asia[GDP_growth_Asia.Year==2016]['Growth'],\n",
    "                center='mean')\n",
    "# Levene's test - проверка равенства средних значений двух выборок "
   ]
  },
  {
   "cell_type": "markdown",
   "metadata": {},
   "source": [
    "### Вывод: Так как pvalue>$\\alpha$, гипотеза $H_0$ не отвергается. Данная гипотеза является дополнительной, и в данном случае не влияет на окончательный вывод."
   ]
  },
  {
   "cell_type": "markdown",
   "metadata": {
    "collapsed": true
   },
   "source": [
    "## Задание"
   ]
  },
  {
   "cell_type": "markdown",
   "metadata": {
    "collapsed": true
   },
   "source": [
    "### 1. Осуществить загрузку данных и их преобразование в необходимый формат\n",
    "### 2. Получить описательную статистику\n",
    "### 3. Визуализировать эмпирическое распределение и проверить гипотезу соответствия распределения нормальному закону\n",
    "### 4. Построить интервальные оценки для математического ожидания и дисперсии\n",
    "### 5. Сравнить средние и дисперсии двух выборок (проверить соответствующие гипотезы), а также проверить гипотезу равенства нулю средних темпов роста ВВП\n",
    "### 6. Сделать выводы"
   ]
  },
  {
   "cell_type": "code",
   "execution_count": null,
   "metadata": {},
   "outputs": [],
   "source": []
  }
 ],
 "metadata": {
  "kernelspec": {
   "display_name": "Python 3 (ipykernel)",
   "language": "python",
   "name": "python3"
  },
  "language_info": {
   "codemirror_mode": {
    "name": "ipython",
    "version": 3
   },
   "file_extension": ".py",
   "mimetype": "text/x-python",
   "name": "python",
   "nbconvert_exporter": "python",
   "pygments_lexer": "ipython3",
   "version": "3.10.9"
  }
 },
 "nbformat": 4,
 "nbformat_minor": 2
}
