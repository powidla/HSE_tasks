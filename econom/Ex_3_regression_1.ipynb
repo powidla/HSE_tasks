{
 "cells": [
  {
   "cell_type": "markdown",
   "metadata": {},
   "source": [
    "# Задания 3. Модели линейной регрессии "
   ]
  },
  {
   "cell_type": "markdown",
   "metadata": {},
   "source": [
    "## Цель задания:\n",
    "### 1.Рассмотреть основные подходы к исследованию взаимосвязей в экономике\n",
    "### 2.Изучить модель парной линейной регрессии\n",
    "### 3.Изучить модель множественной линейной регрессии\n",
    "### 4.Рассмотреть тесты, позволяющие проверить выполнение основных предпосылок регрессионных моделей\n"
   ]
  },
  {
   "cell_type": "markdown",
   "metadata": {},
   "source": [
    "## Цель исследования - выявить показатели, влияющие на темп роста ВВП"
   ]
  },
  {
   "cell_type": "markdown",
   "metadata": {},
   "source": [
    "## 1.Загрузка библиотек"
   ]
  },
  {
   "cell_type": "code",
   "execution_count": 1,
   "metadata": {},
   "outputs": [],
   "source": [
    "import pandas as pd\n",
    "import numpy as np\n",
    "from scipy import stats\n",
    "import statsmodels.api as sm\n",
    "import statsmodels.stats.api as test ### регрессионные тесты\n",
    "import statsmodels.stats.outliers_influence ### регрессионные тесты"
   ]
  },
  {
   "cell_type": "code",
   "execution_count": 2,
   "metadata": {},
   "outputs": [],
   "source": [
    "%matplotlib inline"
   ]
  },
  {
   "cell_type": "code",
   "execution_count": 3,
   "metadata": {},
   "outputs": [],
   "source": [
    "import matplotlib.pyplot as plt # графическая библиотека\n",
    "import seaborn as sns"
   ]
  },
  {
   "cell_type": "code",
   "execution_count": 4,
   "metadata": {},
   "outputs": [],
   "source": [
    "import warnings"
   ]
  },
  {
   "cell_type": "code",
   "execution_count": 5,
   "metadata": {},
   "outputs": [],
   "source": [
    "warnings.simplefilter('ignore')"
   ]
  },
  {
   "cell_type": "markdown",
   "metadata": {},
   "source": [
    "## 2.Загрузка необходимых файлов"
   ]
  },
  {
   "cell_type": "code",
   "execution_count": 6,
   "metadata": {},
   "outputs": [],
   "source": [
    "path='/Users/massimozharkovsky/Documents/ML/Econometrics/'"
   ]
  },
  {
   "cell_type": "code",
   "execution_count": 7,
   "metadata": {},
   "outputs": [],
   "source": [
    "pd.set_option('display.max_colwidth',-1)# опция позволяет читать текстовые поля в \"необрезанном виде\""
   ]
  },
  {
   "cell_type": "code",
   "execution_count": 8,
   "metadata": {},
   "outputs": [],
   "source": [
    "econ_model=pd.read_csv(path+'econ_model_regression.csv')# загрузка данных IMF в dataframe"
   ]
  },
  {
   "cell_type": "code",
   "execution_count": 9,
   "metadata": {},
   "outputs": [],
   "source": [
    "ind=pd.read_csv(path+'ind_model.csv')#загрузка базы индикаторов в dataframe"
   ]
  },
  {
   "cell_type": "markdown",
   "metadata": {},
   "source": [
    "## 3. Выбор показателей для дальнейшего анализа и подготовка данных"
   ]
  },
  {
   "cell_type": "markdown",
   "metadata": {},
   "source": [
    "### Для более компактного представления результатов приведен готовый список используемых показателей.  Каждый слушатель самостоятельно формирует  перечень экономических показателей."
   ]
  },
  {
   "cell_type": "markdown",
   "metadata": {},
   "source": [
    "### Для проведения ргрессионного анализа сформируем пространственную выборку по данным 2016 г."
   ]
  },
  {
   "cell_type": "code",
   "execution_count": 10,
   "metadata": {},
   "outputs": [
    {
     "data": {
      "text/html": [
       "<div>\n",
       "<style scoped>\n",
       "    .dataframe tbody tr th:only-of-type {\n",
       "        vertical-align: middle;\n",
       "    }\n",
       "\n",
       "    .dataframe tbody tr th {\n",
       "        vertical-align: top;\n",
       "    }\n",
       "\n",
       "    .dataframe thead th {\n",
       "        text-align: right;\n",
       "    }\n",
       "</style>\n",
       "<table border=\"1\" class=\"dataframe\">\n",
       "  <thead>\n",
       "    <tr style=\"text-align: right;\">\n",
       "      <th></th>\n",
       "      <th>Country</th>\n",
       "      <th>Year</th>\n",
       "      <th>BN.CAB.XOKA.GD.ZS</th>\n",
       "      <th>BX.KLT.DINV.WD.GD.ZS</th>\n",
       "      <th>CM.MKT.LCAP.GD.ZS</th>\n",
       "      <th>FM.LBL.BMNY.GD.ZS</th>\n",
       "      <th>FM.LBL.BMNY.ZG</th>\n",
       "      <th>FP.CPI.TOTL</th>\n",
       "      <th>FP.CPI.TOTL.ZG</th>\n",
       "      <th>FS.AST.DOMS.GD.ZS</th>\n",
       "      <th>...</th>\n",
       "      <th>NE.IMP.GNFS.KD.ZG</th>\n",
       "      <th>NE.IMP.GNFS.ZS</th>\n",
       "      <th>NY.GDP.MKTP.KD.ZG</th>\n",
       "      <th>NY.GDP.PCAP.CD</th>\n",
       "      <th>NY.GDP.PCAP.KD.ZG</th>\n",
       "      <th>NY.GDP.PCAP.PP.CD</th>\n",
       "      <th>NY.GNS.ICTR.ZS</th>\n",
       "      <th>PX.REX.REER</th>\n",
       "      <th>SI.POV.NAGP</th>\n",
       "      <th>SL.UEM.TOTL.ZS</th>\n",
       "    </tr>\n",
       "  </thead>\n",
       "  <tbody>\n",
       "    <tr>\n",
       "      <th>0</th>\n",
       "      <td>ABW</td>\n",
       "      <td>1995</td>\n",
       "      <td>-0.021154</td>\n",
       "      <td>-0.418844</td>\n",
       "      <td>NaN</td>\n",
       "      <td>53.362723</td>\n",
       "      <td>5.226240</td>\n",
       "      <td>62.495348</td>\n",
       "      <td>3.361391</td>\n",
       "      <td>39.427707</td>\n",
       "      <td>...</td>\n",
       "      <td>NaN</td>\n",
       "      <td>86.476424</td>\n",
       "      <td>2.547143</td>\n",
       "      <td>16439.356361</td>\n",
       "      <td>-2.079505</td>\n",
       "      <td>28648.990020</td>\n",
       "      <td>30.945783</td>\n",
       "      <td>NaN</td>\n",
       "      <td>NaN</td>\n",
       "      <td>NaN</td>\n",
       "    </tr>\n",
       "    <tr>\n",
       "      <th>1</th>\n",
       "      <td>ABW</td>\n",
       "      <td>1996</td>\n",
       "      <td>-5.007834</td>\n",
       "      <td>6.121135</td>\n",
       "      <td>NaN</td>\n",
       "      <td>52.671560</td>\n",
       "      <td>3.151332</td>\n",
       "      <td>64.511003</td>\n",
       "      <td>3.225288</td>\n",
       "      <td>43.411804</td>\n",
       "      <td>...</td>\n",
       "      <td>NaN</td>\n",
       "      <td>88.699785</td>\n",
       "      <td>1.185790</td>\n",
       "      <td>16586.068436</td>\n",
       "      <td>-2.311930</td>\n",
       "      <td>28499.089435</td>\n",
       "      <td>24.846061</td>\n",
       "      <td>NaN</td>\n",
       "      <td>NaN</td>\n",
       "      <td>NaN</td>\n",
       "    </tr>\n",
       "    <tr>\n",
       "      <th>2</th>\n",
       "      <td>ABW</td>\n",
       "      <td>1997</td>\n",
       "      <td>-12.781801</td>\n",
       "      <td>12.789095</td>\n",
       "      <td>NaN</td>\n",
       "      <td>49.623985</td>\n",
       "      <td>4.590348</td>\n",
       "      <td>66.446300</td>\n",
       "      <td>2.999948</td>\n",
       "      <td>42.331539</td>\n",
       "      <td>...</td>\n",
       "      <td>NaN</td>\n",
       "      <td>86.245250</td>\n",
       "      <td>7.046872</td>\n",
       "      <td>17927.749635</td>\n",
       "      <td>4.226981</td>\n",
       "      <td>30215.949226</td>\n",
       "      <td>24.319337</td>\n",
       "      <td>NaN</td>\n",
       "      <td>NaN</td>\n",
       "      <td>NaN</td>\n",
       "    </tr>\n",
       "    <tr>\n",
       "      <th>3</th>\n",
       "      <td>ABW</td>\n",
       "      <td>1998</td>\n",
       "      <td>-1.127316</td>\n",
       "      <td>5.019242</td>\n",
       "      <td>NaN</td>\n",
       "      <td>51.628167</td>\n",
       "      <td>13.081772</td>\n",
       "      <td>67.688506</td>\n",
       "      <td>1.869489</td>\n",
       "      <td>41.174523</td>\n",
       "      <td>...</td>\n",
       "      <td>NaN</td>\n",
       "      <td>83.642842</td>\n",
       "      <td>1.991988</td>\n",
       "      <td>19078.343191</td>\n",
       "      <td>-0.141877</td>\n",
       "      <td>30512.683909</td>\n",
       "      <td>27.073373</td>\n",
       "      <td>NaN</td>\n",
       "      <td>NaN</td>\n",
       "      <td>NaN</td>\n",
       "    </tr>\n",
       "    <tr>\n",
       "      <th>4</th>\n",
       "      <td>ABW</td>\n",
       "      <td>1999</td>\n",
       "      <td>-25.279443</td>\n",
       "      <td>26.875845</td>\n",
       "      <td>NaN</td>\n",
       "      <td>55.097071</td>\n",
       "      <td>10.416996</td>\n",
       "      <td>69.232056</td>\n",
       "      <td>2.280372</td>\n",
       "      <td>44.554334</td>\n",
       "      <td>...</td>\n",
       "      <td>NaN</td>\n",
       "      <td>84.635564</td>\n",
       "      <td>1.238039</td>\n",
       "      <td>19356.203389</td>\n",
       "      <td>-0.727461</td>\n",
       "      <td>30728.054500</td>\n",
       "      <td>20.645241</td>\n",
       "      <td>NaN</td>\n",
       "      <td>NaN</td>\n",
       "      <td>NaN</td>\n",
       "    </tr>\n",
       "  </tbody>\n",
       "</table>\n",
       "<p>5 rows × 30 columns</p>\n",
       "</div>"
      ],
      "text/plain": [
       "  Country  Year  BN.CAB.XOKA.GD.ZS  BX.KLT.DINV.WD.GD.ZS  CM.MKT.LCAP.GD.ZS  \\\n",
       "0  ABW     1995 -0.021154          -0.418844             NaN                  \n",
       "1  ABW     1996 -5.007834           6.121135             NaN                  \n",
       "2  ABW     1997 -12.781801          12.789095            NaN                  \n",
       "3  ABW     1998 -1.127316           5.019242             NaN                  \n",
       "4  ABW     1999 -25.279443          26.875845            NaN                  \n",
       "\n",
       "   FM.LBL.BMNY.GD.ZS  FM.LBL.BMNY.ZG  FP.CPI.TOTL  FP.CPI.TOTL.ZG  \\\n",
       "0  53.362723          5.226240        62.495348    3.361391         \n",
       "1  52.671560          3.151332        64.511003    3.225288         \n",
       "2  49.623985          4.590348        66.446300    2.999948         \n",
       "3  51.628167          13.081772       67.688506    1.869489         \n",
       "4  55.097071          10.416996       69.232056    2.280372         \n",
       "\n",
       "   FS.AST.DOMS.GD.ZS  ...  NE.IMP.GNFS.KD.ZG  NE.IMP.GNFS.ZS  \\\n",
       "0  39.427707          ... NaN                 86.476424        \n",
       "1  43.411804          ... NaN                 88.699785        \n",
       "2  42.331539          ... NaN                 86.245250        \n",
       "3  41.174523          ... NaN                 83.642842        \n",
       "4  44.554334          ... NaN                 84.635564        \n",
       "\n",
       "   NY.GDP.MKTP.KD.ZG  NY.GDP.PCAP.CD  NY.GDP.PCAP.KD.ZG  NY.GDP.PCAP.PP.CD  \\\n",
       "0  2.547143           16439.356361   -2.079505           28648.990020        \n",
       "1  1.185790           16586.068436   -2.311930           28499.089435        \n",
       "2  7.046872           17927.749635    4.226981           30215.949226        \n",
       "3  1.991988           19078.343191   -0.141877           30512.683909        \n",
       "4  1.238039           19356.203389   -0.727461           30728.054500        \n",
       "\n",
       "   NY.GNS.ICTR.ZS  PX.REX.REER  SI.POV.NAGP  SL.UEM.TOTL.ZS  \n",
       "0  30.945783      NaN          NaN          NaN              \n",
       "1  24.846061      NaN          NaN          NaN              \n",
       "2  24.319337      NaN          NaN          NaN              \n",
       "3  27.073373      NaN          NaN          NaN              \n",
       "4  20.645241      NaN          NaN          NaN              \n",
       "\n",
       "[5 rows x 30 columns]"
      ]
     },
     "execution_count": 10,
     "metadata": {},
     "output_type": "execute_result"
    }
   ],
   "source": [
    "econ_model.head()"
   ]
  },
  {
   "cell_type": "code",
   "execution_count": 11,
   "metadata": {},
   "outputs": [
    {
     "data": {
      "text/html": [
       "<div>\n",
       "<style scoped>\n",
       "    .dataframe tbody tr th:only-of-type {\n",
       "        vertical-align: middle;\n",
       "    }\n",
       "\n",
       "    .dataframe tbody tr th {\n",
       "        vertical-align: top;\n",
       "    }\n",
       "\n",
       "    .dataframe thead th {\n",
       "        text-align: right;\n",
       "    }\n",
       "</style>\n",
       "<table border=\"1\" class=\"dataframe\">\n",
       "  <thead>\n",
       "    <tr style=\"text-align: right;\">\n",
       "      <th></th>\n",
       "      <th>Series Code</th>\n",
       "      <th>Series Name</th>\n",
       "    </tr>\n",
       "  </thead>\n",
       "  <tbody>\n",
       "    <tr>\n",
       "      <th>0</th>\n",
       "      <td>BN.CAB.XOKA.GD.ZS</td>\n",
       "      <td>Current account balance (% of GDP)</td>\n",
       "    </tr>\n",
       "    <tr>\n",
       "      <th>1</th>\n",
       "      <td>BX.KLT.DINV.WD.GD.ZS</td>\n",
       "      <td>Foreign direct investment, net inflows (% of GDP)</td>\n",
       "    </tr>\n",
       "    <tr>\n",
       "      <th>2</th>\n",
       "      <td>CM.MKT.LCAP.GD.ZS</td>\n",
       "      <td>Market capitalization of listed domestic companies (% of GDP)</td>\n",
       "    </tr>\n",
       "    <tr>\n",
       "      <th>3</th>\n",
       "      <td>FM.LBL.BMNY.GD.ZS</td>\n",
       "      <td>Broad money (% of GDP)</td>\n",
       "    </tr>\n",
       "    <tr>\n",
       "      <th>4</th>\n",
       "      <td>FM.LBL.BMNY.ZG</td>\n",
       "      <td>Broad money growth (annual %)</td>\n",
       "    </tr>\n",
       "  </tbody>\n",
       "</table>\n",
       "</div>"
      ],
      "text/plain": [
       "            Series Code  \\\n",
       "0  BN.CAB.XOKA.GD.ZS      \n",
       "1  BX.KLT.DINV.WD.GD.ZS   \n",
       "2  CM.MKT.LCAP.GD.ZS      \n",
       "3  FM.LBL.BMNY.GD.ZS      \n",
       "4  FM.LBL.BMNY.ZG         \n",
       "\n",
       "                                                     Series Name  \n",
       "0  Current account balance (% of GDP)                             \n",
       "1  Foreign direct investment, net inflows (% of GDP)              \n",
       "2  Market capitalization of listed domestic companies (% of GDP)  \n",
       "3  Broad money (% of GDP)                                         \n",
       "4  Broad money growth (annual %)                                  "
      ]
     },
     "execution_count": 11,
     "metadata": {},
     "output_type": "execute_result"
    }
   ],
   "source": [
    "ind.head()"
   ]
  },
  {
   "cell_type": "code",
   "execution_count": 12,
   "metadata": {},
   "outputs": [],
   "source": [
    "econ_model=econ_model[econ_model.Year==2016].drop(columns='Year')"
   ]
  },
  {
   "cell_type": "code",
   "execution_count": 13,
   "metadata": {},
   "outputs": [
    {
     "data": {
      "text/html": [
       "<div>\n",
       "<style scoped>\n",
       "    .dataframe tbody tr th:only-of-type {\n",
       "        vertical-align: middle;\n",
       "    }\n",
       "\n",
       "    .dataframe tbody tr th {\n",
       "        vertical-align: top;\n",
       "    }\n",
       "\n",
       "    .dataframe thead th {\n",
       "        text-align: right;\n",
       "    }\n",
       "</style>\n",
       "<table border=\"1\" class=\"dataframe\">\n",
       "  <thead>\n",
       "    <tr style=\"text-align: right;\">\n",
       "      <th></th>\n",
       "      <th>Country</th>\n",
       "      <th>BN.CAB.XOKA.GD.ZS</th>\n",
       "      <th>BX.KLT.DINV.WD.GD.ZS</th>\n",
       "      <th>CM.MKT.LCAP.GD.ZS</th>\n",
       "      <th>FM.LBL.BMNY.GD.ZS</th>\n",
       "      <th>FM.LBL.BMNY.ZG</th>\n",
       "      <th>FP.CPI.TOTL</th>\n",
       "      <th>FP.CPI.TOTL.ZG</th>\n",
       "      <th>FS.AST.DOMS.GD.ZS</th>\n",
       "      <th>FS.AST.PRVT.GD.ZS</th>\n",
       "      <th>...</th>\n",
       "      <th>NE.IMP.GNFS.KD.ZG</th>\n",
       "      <th>NE.IMP.GNFS.ZS</th>\n",
       "      <th>NY.GDP.MKTP.KD.ZG</th>\n",
       "      <th>NY.GDP.PCAP.CD</th>\n",
       "      <th>NY.GDP.PCAP.KD.ZG</th>\n",
       "      <th>NY.GDP.PCAP.PP.CD</th>\n",
       "      <th>NY.GNS.ICTR.ZS</th>\n",
       "      <th>PX.REX.REER</th>\n",
       "      <th>SI.POV.NAGP</th>\n",
       "      <th>SL.UEM.TOTL.ZS</th>\n",
       "    </tr>\n",
       "  </thead>\n",
       "  <tbody>\n",
       "    <tr>\n",
       "      <th>21</th>\n",
       "      <td>ABW</td>\n",
       "      <td>5.329558</td>\n",
       "      <td>0.792699</td>\n",
       "      <td>NaN</td>\n",
       "      <td>87.935838</td>\n",
       "      <td>9.500907</td>\n",
       "      <td>102.485245</td>\n",
       "      <td>-0.886758</td>\n",
       "      <td>69.810511</td>\n",
       "      <td>64.501013</td>\n",
       "      <td>...</td>\n",
       "      <td>NaN</td>\n",
       "      <td>74.630646</td>\n",
       "      <td>-0.211225</td>\n",
       "      <td>25239.600411</td>\n",
       "      <td>-0.716487</td>\n",
       "      <td>38390.271649</td>\n",
       "      <td>9.798360</td>\n",
       "      <td>NaN</td>\n",
       "      <td>NaN</td>\n",
       "      <td>NaN</td>\n",
       "    </tr>\n",
       "    <tr>\n",
       "      <th>45</th>\n",
       "      <td>AFG</td>\n",
       "      <td>-21.745688</td>\n",
       "      <td>0.483360</td>\n",
       "      <td>NaN</td>\n",
       "      <td>34.637391</td>\n",
       "      <td>9.725428</td>\n",
       "      <td>138.708666</td>\n",
       "      <td>4.383892</td>\n",
       "      <td>-1.186978</td>\n",
       "      <td>3.618246</td>\n",
       "      <td>...</td>\n",
       "      <td>NaN</td>\n",
       "      <td>41.725695</td>\n",
       "      <td>2.260314</td>\n",
       "      <td>547.228110</td>\n",
       "      <td>-0.541697</td>\n",
       "      <td>1896.992520</td>\n",
       "      <td>14.734625</td>\n",
       "      <td>NaN</td>\n",
       "      <td>NaN</td>\n",
       "      <td>1.634</td>\n",
       "    </tr>\n",
       "    <tr>\n",
       "      <th>69</th>\n",
       "      <td>AGO</td>\n",
       "      <td>-3.050908</td>\n",
       "      <td>-0.177523</td>\n",
       "      <td>NaN</td>\n",
       "      <td>39.162307</td>\n",
       "      <td>13.468242</td>\n",
       "      <td>213.197420</td>\n",
       "      <td>32.377734</td>\n",
       "      <td>27.334951</td>\n",
       "      <td>21.097875</td>\n",
       "      <td>...</td>\n",
       "      <td>-24.738901</td>\n",
       "      <td>25.245671</td>\n",
       "      <td>-2.580097</td>\n",
       "      <td>3506.072885</td>\n",
       "      <td>-5.816237</td>\n",
       "      <td>6756.935074</td>\n",
       "      <td>24.443308</td>\n",
       "      <td>NaN</td>\n",
       "      <td>NaN</td>\n",
       "      <td>7.281</td>\n",
       "    </tr>\n",
       "    <tr>\n",
       "      <th>93</th>\n",
       "      <td>ALB</td>\n",
       "      <td>-7.590727</td>\n",
       "      <td>8.804978</td>\n",
       "      <td>NaN</td>\n",
       "      <td>85.804951</td>\n",
       "      <td>3.887582</td>\n",
       "      <td>112.825527</td>\n",
       "      <td>1.275125</td>\n",
       "      <td>61.497946</td>\n",
       "      <td>36.626867</td>\n",
       "      <td>...</td>\n",
       "      <td>6.920120</td>\n",
       "      <td>45.831960</td>\n",
       "      <td>3.314805</td>\n",
       "      <td>4124.108907</td>\n",
       "      <td>3.480117</td>\n",
       "      <td>11868.178968</td>\n",
       "      <td>17.053212</td>\n",
       "      <td>NaN</td>\n",
       "      <td>NaN</td>\n",
       "      <td>15.220</td>\n",
       "    </tr>\n",
       "    <tr>\n",
       "      <th>117</th>\n",
       "      <td>AND</td>\n",
       "      <td>NaN</td>\n",
       "      <td>NaN</td>\n",
       "      <td>NaN</td>\n",
       "      <td>NaN</td>\n",
       "      <td>NaN</td>\n",
       "      <td>NaN</td>\n",
       "      <td>NaN</td>\n",
       "      <td>NaN</td>\n",
       "      <td>NaN</td>\n",
       "      <td>...</td>\n",
       "      <td>NaN</td>\n",
       "      <td>NaN</td>\n",
       "      <td>1.889124</td>\n",
       "      <td>37224.108916</td>\n",
       "      <td>2.830284</td>\n",
       "      <td>NaN</td>\n",
       "      <td>NaN</td>\n",
       "      <td>NaN</td>\n",
       "      <td>NaN</td>\n",
       "      <td>NaN</td>\n",
       "    </tr>\n",
       "  </tbody>\n",
       "</table>\n",
       "<p>5 rows × 29 columns</p>\n",
       "</div>"
      ],
      "text/plain": [
       "    Country  BN.CAB.XOKA.GD.ZS  BX.KLT.DINV.WD.GD.ZS  CM.MKT.LCAP.GD.ZS  \\\n",
       "21   ABW     5.329558           0.792699             NaN                  \n",
       "45   AFG    -21.745688          0.483360             NaN                  \n",
       "69   AGO    -3.050908          -0.177523             NaN                  \n",
       "93   ALB    -7.590727           8.804978             NaN                  \n",
       "117  AND    NaN                NaN                   NaN                  \n",
       "\n",
       "     FM.LBL.BMNY.GD.ZS  FM.LBL.BMNY.ZG  FP.CPI.TOTL  FP.CPI.TOTL.ZG  \\\n",
       "21   87.935838          9.500907        102.485245  -0.886758         \n",
       "45   34.637391          9.725428        138.708666   4.383892         \n",
       "69   39.162307          13.468242       213.197420   32.377734        \n",
       "93   85.804951          3.887582        112.825527   1.275125         \n",
       "117 NaN                NaN             NaN          NaN               \n",
       "\n",
       "     FS.AST.DOMS.GD.ZS  FS.AST.PRVT.GD.ZS  ...  NE.IMP.GNFS.KD.ZG  \\\n",
       "21   69.810511          64.501013          ... NaN                  \n",
       "45  -1.186978           3.618246           ... NaN                  \n",
       "69   27.334951          21.097875          ... -24.738901           \n",
       "93   61.497946          36.626867          ...  6.920120            \n",
       "117 NaN                NaN                 ... NaN                  \n",
       "\n",
       "     NE.IMP.GNFS.ZS  NY.GDP.MKTP.KD.ZG  NY.GDP.PCAP.CD  NY.GDP.PCAP.KD.ZG  \\\n",
       "21   74.630646      -0.211225           25239.600411   -0.716487            \n",
       "45   41.725695       2.260314           547.228110     -0.541697            \n",
       "69   25.245671      -2.580097           3506.072885    -5.816237            \n",
       "93   45.831960       3.314805           4124.108907     3.480117            \n",
       "117 NaN              1.889124           37224.108916    2.830284            \n",
       "\n",
       "     NY.GDP.PCAP.PP.CD  NY.GNS.ICTR.ZS  PX.REX.REER  SI.POV.NAGP  \\\n",
       "21   38390.271649       9.798360       NaN          NaN            \n",
       "45   1896.992520        14.734625      NaN          NaN            \n",
       "69   6756.935074        24.443308      NaN          NaN            \n",
       "93   11868.178968       17.053212      NaN          NaN            \n",
       "117 NaN                NaN             NaN          NaN            \n",
       "\n",
       "     SL.UEM.TOTL.ZS  \n",
       "21  NaN              \n",
       "45   1.634           \n",
       "69   7.281           \n",
       "93   15.220          \n",
       "117 NaN              \n",
       "\n",
       "[5 rows x 29 columns]"
      ]
     },
     "execution_count": 13,
     "metadata": {},
     "output_type": "execute_result"
    }
   ],
   "source": [
    "econ_model.head()"
   ]
  },
  {
   "cell_type": "markdown",
   "metadata": {},
   "source": [
    "### Проведем предварительный отбор переменных с учетом количества nan наблюдений для каждого показателя. Не существует формальных критериев выбора переменных,  данный этап анализа необходимо производить с учетом целей и задач всего исследования. Одним из факторов,влияющих на отбор показателей, является количество nan наблюдений."
   ]
  },
  {
   "cell_type": "code",
   "execution_count": 14,
   "metadata": {},
   "outputs": [],
   "source": [
    "null_columns=econ_model.iloc[:,1:].isnull().sum() \n",
    "# вспомогательный массив, содержащий количество nan наблюдений для каждого показателя"
   ]
  },
  {
   "cell_type": "code",
   "execution_count": 15,
   "metadata": {},
   "outputs": [
    {
     "data": {
      "text/plain": [
       "pandas.core.series.Series"
      ]
     },
     "execution_count": 15,
     "metadata": {},
     "output_type": "execute_result"
    }
   ],
   "source": [
    "type(null_columns)\n",
    "# данный массив представляет из себя тип Series, одномерный вариант dataframe   "
   ]
  },
  {
   "cell_type": "code",
   "execution_count": 16,
   "metadata": {},
   "outputs": [],
   "source": [
    "null_columns=null_columns.rename('NaN')\n",
    "# для дальнейшей работы с типом Series необходимо присвоить ему имя "
   ]
  },
  {
   "cell_type": "code",
   "execution_count": 17,
   "metadata": {},
   "outputs": [
    {
     "data": {
      "text/plain": [
       "BN.CAB.XOKA.GD.ZS       34 \n",
       "BX.KLT.DINV.WD.GD.ZS    22 \n",
       "CM.MKT.LCAP.GD.ZS       147\n",
       "FM.LBL.BMNY.GD.ZS       61 \n",
       "FM.LBL.BMNY.ZG          60 \n",
       "Name: NaN, dtype: int64"
      ]
     },
     "execution_count": 17,
     "metadata": {},
     "output_type": "execute_result"
    }
   ],
   "source": [
    "null_columns.head()"
   ]
  },
  {
   "cell_type": "markdown",
   "metadata": {},
   "source": [
    "### Объединим два массива для удобства дальнейшего отбора показателей"
   ]
  },
  {
   "cell_type": "code",
   "execution_count": 18,
   "metadata": {},
   "outputs": [
    {
     "data": {
      "text/html": [
       "<div>\n",
       "<style scoped>\n",
       "    .dataframe tbody tr th:only-of-type {\n",
       "        vertical-align: middle;\n",
       "    }\n",
       "\n",
       "    .dataframe tbody tr th {\n",
       "        vertical-align: top;\n",
       "    }\n",
       "\n",
       "    .dataframe thead th {\n",
       "        text-align: right;\n",
       "    }\n",
       "</style>\n",
       "<table border=\"1\" class=\"dataframe\">\n",
       "  <thead>\n",
       "    <tr style=\"text-align: right;\">\n",
       "      <th></th>\n",
       "      <th>Series Code</th>\n",
       "      <th>Series Name</th>\n",
       "      <th>NaN</th>\n",
       "    </tr>\n",
       "  </thead>\n",
       "  <tbody>\n",
       "    <tr>\n",
       "      <th>0</th>\n",
       "      <td>BN.CAB.XOKA.GD.ZS</td>\n",
       "      <td>Current account balance (% of GDP)</td>\n",
       "      <td>34</td>\n",
       "    </tr>\n",
       "    <tr>\n",
       "      <th>1</th>\n",
       "      <td>BX.KLT.DINV.WD.GD.ZS</td>\n",
       "      <td>Foreign direct investment, net inflows (% of GDP)</td>\n",
       "      <td>22</td>\n",
       "    </tr>\n",
       "    <tr>\n",
       "      <th>2</th>\n",
       "      <td>CM.MKT.LCAP.GD.ZS</td>\n",
       "      <td>Market capitalization of listed domestic companies (% of GDP)</td>\n",
       "      <td>147</td>\n",
       "    </tr>\n",
       "    <tr>\n",
       "      <th>3</th>\n",
       "      <td>FM.LBL.BMNY.GD.ZS</td>\n",
       "      <td>Broad money (% of GDP)</td>\n",
       "      <td>61</td>\n",
       "    </tr>\n",
       "    <tr>\n",
       "      <th>4</th>\n",
       "      <td>FM.LBL.BMNY.ZG</td>\n",
       "      <td>Broad money growth (annual %)</td>\n",
       "      <td>60</td>\n",
       "    </tr>\n",
       "    <tr>\n",
       "      <th>5</th>\n",
       "      <td>FP.CPI.TOTL</td>\n",
       "      <td>Consumer price index (2010 = 100)</td>\n",
       "      <td>39</td>\n",
       "    </tr>\n",
       "    <tr>\n",
       "      <th>6</th>\n",
       "      <td>FP.CPI.TOTL.ZG</td>\n",
       "      <td>Inflation, consumer prices (annual %)</td>\n",
       "      <td>38</td>\n",
       "    </tr>\n",
       "    <tr>\n",
       "      <th>7</th>\n",
       "      <td>FS.AST.DOMS.GD.ZS</td>\n",
       "      <td>Domestic credit provided by financial sector (% of GDP)</td>\n",
       "      <td>40</td>\n",
       "    </tr>\n",
       "    <tr>\n",
       "      <th>8</th>\n",
       "      <td>FS.AST.PRVT.GD.ZS</td>\n",
       "      <td>Domestic credit to private sector (% of GDP)</td>\n",
       "      <td>39</td>\n",
       "    </tr>\n",
       "    <tr>\n",
       "      <th>9</th>\n",
       "      <td>GC.DOD.TOTL.GD.ZS</td>\n",
       "      <td>Central government debt, total (% of GDP)</td>\n",
       "      <td>170</td>\n",
       "    </tr>\n",
       "    <tr>\n",
       "      <th>10</th>\n",
       "      <td>NE.CON.GOVT.KD.ZG</td>\n",
       "      <td>General government final consumption expenditure (annual % growth)</td>\n",
       "      <td>53</td>\n",
       "    </tr>\n",
       "    <tr>\n",
       "      <th>11</th>\n",
       "      <td>NE.CON.GOVT.ZS</td>\n",
       "      <td>General government final consumption expenditure (% of GDP)</td>\n",
       "      <td>40</td>\n",
       "    </tr>\n",
       "    <tr>\n",
       "      <th>12</th>\n",
       "      <td>NE.CON.TOTL.KD.ZG</td>\n",
       "      <td>Final consumption expenditure (annual % growth)</td>\n",
       "      <td>51</td>\n",
       "    </tr>\n",
       "    <tr>\n",
       "      <th>13</th>\n",
       "      <td>NE.CON.TOTL.ZS</td>\n",
       "      <td>Final consumption expenditure (% of GDP)</td>\n",
       "      <td>41</td>\n",
       "    </tr>\n",
       "    <tr>\n",
       "      <th>14</th>\n",
       "      <td>NE.EXP.GNFS.KD.ZG</td>\n",
       "      <td>Exports of goods and services (annual % growth)</td>\n",
       "      <td>47</td>\n",
       "    </tr>\n",
       "    <tr>\n",
       "      <th>15</th>\n",
       "      <td>NE.EXP.GNFS.ZS</td>\n",
       "      <td>Exports of goods and services (% of GDP)</td>\n",
       "      <td>25</td>\n",
       "    </tr>\n",
       "    <tr>\n",
       "      <th>16</th>\n",
       "      <td>NE.GDI.TOTL.KD.ZG</td>\n",
       "      <td>Gross capital formation (annual % growth)</td>\n",
       "      <td>52</td>\n",
       "    </tr>\n",
       "    <tr>\n",
       "      <th>17</th>\n",
       "      <td>NE.GDI.TOTL.ZS</td>\n",
       "      <td>Gross capital formation (% of GDP)</td>\n",
       "      <td>42</td>\n",
       "    </tr>\n",
       "    <tr>\n",
       "      <th>18</th>\n",
       "      <td>NE.IMP.GNFS.KD.ZG</td>\n",
       "      <td>Imports of goods and services (annual % growth)</td>\n",
       "      <td>47</td>\n",
       "    </tr>\n",
       "    <tr>\n",
       "      <th>19</th>\n",
       "      <td>NE.IMP.GNFS.ZS</td>\n",
       "      <td>Imports of goods and services (% of GDP)</td>\n",
       "      <td>25</td>\n",
       "    </tr>\n",
       "    <tr>\n",
       "      <th>20</th>\n",
       "      <td>NY.GDP.MKTP.KD.ZG</td>\n",
       "      <td>GDP growth (annual %)</td>\n",
       "      <td>10</td>\n",
       "    </tr>\n",
       "    <tr>\n",
       "      <th>21</th>\n",
       "      <td>NY.GDP.PCAP.CD</td>\n",
       "      <td>GDP per capita (current US$)</td>\n",
       "      <td>9</td>\n",
       "    </tr>\n",
       "    <tr>\n",
       "      <th>22</th>\n",
       "      <td>NY.GDP.PCAP.KD.ZG</td>\n",
       "      <td>GDP per capita growth (annual %)</td>\n",
       "      <td>10</td>\n",
       "    </tr>\n",
       "    <tr>\n",
       "      <th>23</th>\n",
       "      <td>NY.GDP.PCAP.PP.CD</td>\n",
       "      <td>GDP per capita, PPP (current international $)</td>\n",
       "      <td>21</td>\n",
       "    </tr>\n",
       "    <tr>\n",
       "      <th>24</th>\n",
       "      <td>NY.GNS.ICTR.ZS</td>\n",
       "      <td>Gross savings (% of GDP)</td>\n",
       "      <td>54</td>\n",
       "    </tr>\n",
       "    <tr>\n",
       "      <th>25</th>\n",
       "      <td>PX.REX.REER</td>\n",
       "      <td>Real effective exchange rate index (2010 = 100)</td>\n",
       "      <td>118</td>\n",
       "    </tr>\n",
       "    <tr>\n",
       "      <th>26</th>\n",
       "      <td>SI.POV.NAGP</td>\n",
       "      <td>Poverty gap at national poverty lines (%)</td>\n",
       "      <td>213</td>\n",
       "    </tr>\n",
       "    <tr>\n",
       "      <th>27</th>\n",
       "      <td>SL.UEM.TOTL.ZS</td>\n",
       "      <td>Unemployment, total (% of total labor force) (modeled ILO estimate)</td>\n",
       "      <td>26</td>\n",
       "    </tr>\n",
       "  </tbody>\n",
       "</table>\n",
       "</div>"
      ],
      "text/plain": [
       "             Series Code  \\\n",
       "0   BN.CAB.XOKA.GD.ZS      \n",
       "1   BX.KLT.DINV.WD.GD.ZS   \n",
       "2   CM.MKT.LCAP.GD.ZS      \n",
       "3   FM.LBL.BMNY.GD.ZS      \n",
       "4   FM.LBL.BMNY.ZG         \n",
       "5   FP.CPI.TOTL            \n",
       "6   FP.CPI.TOTL.ZG         \n",
       "7   FS.AST.DOMS.GD.ZS      \n",
       "8   FS.AST.PRVT.GD.ZS      \n",
       "9   GC.DOD.TOTL.GD.ZS      \n",
       "10  NE.CON.GOVT.KD.ZG      \n",
       "11  NE.CON.GOVT.ZS         \n",
       "12  NE.CON.TOTL.KD.ZG      \n",
       "13  NE.CON.TOTL.ZS         \n",
       "14  NE.EXP.GNFS.KD.ZG      \n",
       "15  NE.EXP.GNFS.ZS         \n",
       "16  NE.GDI.TOTL.KD.ZG      \n",
       "17  NE.GDI.TOTL.ZS         \n",
       "18  NE.IMP.GNFS.KD.ZG      \n",
       "19  NE.IMP.GNFS.ZS         \n",
       "20  NY.GDP.MKTP.KD.ZG      \n",
       "21  NY.GDP.PCAP.CD         \n",
       "22  NY.GDP.PCAP.KD.ZG      \n",
       "23  NY.GDP.PCAP.PP.CD      \n",
       "24  NY.GNS.ICTR.ZS         \n",
       "25  PX.REX.REER            \n",
       "26  SI.POV.NAGP            \n",
       "27  SL.UEM.TOTL.ZS         \n",
       "\n",
       "                                                            Series Name  NaN  \n",
       "0   Current account balance (% of GDP)                                   34   \n",
       "1   Foreign direct investment, net inflows (% of GDP)                    22   \n",
       "2   Market capitalization of listed domestic companies (% of GDP)        147  \n",
       "3   Broad money (% of GDP)                                               61   \n",
       "4   Broad money growth (annual %)                                        60   \n",
       "5   Consumer price index (2010 = 100)                                    39   \n",
       "6   Inflation, consumer prices (annual %)                                38   \n",
       "7   Domestic credit provided by financial sector (% of GDP)              40   \n",
       "8   Domestic credit to private sector (% of GDP)                         39   \n",
       "9   Central government debt, total (% of GDP)                            170  \n",
       "10  General government final consumption expenditure (annual % growth)   53   \n",
       "11  General government final consumption expenditure (% of GDP)          40   \n",
       "12  Final consumption expenditure (annual % growth)                      51   \n",
       "13  Final consumption expenditure (% of GDP)                             41   \n",
       "14  Exports of goods and services (annual % growth)                      47   \n",
       "15  Exports of goods and services (% of GDP)                             25   \n",
       "16  Gross capital formation (annual % growth)                            52   \n",
       "17  Gross capital formation (% of GDP)                                   42   \n",
       "18  Imports of goods and services (annual % growth)                      47   \n",
       "19  Imports of goods and services (% of GDP)                             25   \n",
       "20  GDP growth (annual %)                                                10   \n",
       "21  GDP per capita (current US$)                                         9    \n",
       "22  GDP per capita growth (annual %)                                     10   \n",
       "23  GDP per capita, PPP (current international $)                        21   \n",
       "24  Gross savings (% of GDP)                                             54   \n",
       "25  Real effective exchange rate index (2010 = 100)                      118  \n",
       "26  Poverty gap at national poverty lines (%)                            213  \n",
       "27  Unemployment, total (% of total labor force) (modeled ILO estimate)  26   "
      ]
     },
     "execution_count": 18,
     "metadata": {},
     "output_type": "execute_result"
    }
   ],
   "source": [
    "ind.merge(null_columns,left_on='Series Code',right_on=null_columns.index)"
   ]
  },
  {
   "cell_type": "markdown",
   "metadata": {},
   "source": [
    "### Проведем предварительный отбор переменных, учитывая цели и задачи  исследования"
   ]
  },
  {
   "cell_type": "markdown",
   "metadata": {},
   "source": [
    "### Для построения модели линейной регрессии будем использовать следующие показатели:\n",
    "### BN.CAB.XOKA.GD.ZS Current account balance (% of GDP) (Баланс счета текущих операций к ВВП,%)\n",
    "### BX.KLT.DINV.WD.GD.ZS Foreign direct investment, net inflows (% of GDP) (Чистый приток иностранных инвестиций к ВВП,%)\n",
    "### FP.CPI.TOTL.ZG Inflation, consumer prices (annual %) (Инфляция, %)\n",
    "### NE.GDI.TOTL.ZS Gross capital formation (% of GDP) (Валовое образование капитала,%)\n",
    "### NY.GDP.MKTP.KD.ZG GDP growth (annual %) (Рост ВВП,%)\n",
    "### NY.GDP.PCAP.PP.CD GDP per capita, PPP (current international USD) (ВВП по паритету покупательной способности, доллары США)\n",
    "### SL.UEM.TOTL.ZS Unemployment, total (% of total labor force) (modeled ILO estimate), (Безработица,%)"
   ]
  },
  {
   "cell_type": "code",
   "execution_count": 19,
   "metadata": {},
   "outputs": [],
   "source": [
    "col_list=list(ind.iloc[[0,1,6,17,20,23,27],0]) # вспомогательный список, содержащий анализируемые показатели"
   ]
  },
  {
   "cell_type": "code",
   "execution_count": 20,
   "metadata": {},
   "outputs": [],
   "source": [
    "econ_model.index=econ_model.Country # переиндексация массива (код страны - новый индекс)"
   ]
  },
  {
   "cell_type": "markdown",
   "metadata": {},
   "source": [
    "### Наложим фильтр на исходный массив "
   ]
  },
  {
   "cell_type": "code",
   "execution_count": 21,
   "metadata": {},
   "outputs": [],
   "source": [
    "econ_model=econ_model[col_list]"
   ]
  },
  {
   "cell_type": "code",
   "execution_count": 22,
   "metadata": {},
   "outputs": [
    {
     "data": {
      "text/plain": [
       "BN.CAB.XOKA.GD.ZS       34\n",
       "BX.KLT.DINV.WD.GD.ZS    22\n",
       "FP.CPI.TOTL.ZG          38\n",
       "NE.GDI.TOTL.ZS          42\n",
       "NY.GDP.MKTP.KD.ZG       10\n",
       "NY.GDP.PCAP.PP.CD       21\n",
       "SL.UEM.TOTL.ZS          26\n",
       "dtype: int64"
      ]
     },
     "execution_count": 22,
     "metadata": {},
     "output_type": "execute_result"
    }
   ],
   "source": [
    "econ_model.isnull().sum()\n",
    "# определяем количество nan наблюдений"
   ]
  },
  {
   "cell_type": "markdown",
   "metadata": {},
   "source": [
    "### Удалим страны, в которых присутствуют nan наблюдения"
   ]
  },
  {
   "cell_type": "code",
   "execution_count": 23,
   "metadata": {},
   "outputs": [],
   "source": [
    "econ_model.dropna(inplace=True)"
   ]
  },
  {
   "cell_type": "code",
   "execution_count": 24,
   "metadata": {},
   "outputs": [
    {
     "data": {
      "text/plain": [
       "(144, 7)"
      ]
     },
     "execution_count": 24,
     "metadata": {},
     "output_type": "execute_result"
    }
   ],
   "source": [
    "econ_model.shape\n",
    "## В итоге осталось 144 страны и 7 показателей"
   ]
  },
  {
   "cell_type": "markdown",
   "metadata": {},
   "source": [
    "### Преобразуем переменную NY.GDP.PCAP.PP.CD в логарифмическую шкалу "
   ]
  },
  {
   "cell_type": "code",
   "execution_count": 25,
   "metadata": {},
   "outputs": [],
   "source": [
    "econ_model['NY.GDP.PCAP.PP.CD']=np.log(econ_model['NY.GDP.PCAP.PP.CD'])"
   ]
  },
  {
   "cell_type": "code",
   "execution_count": 26,
   "metadata": {},
   "outputs": [
    {
     "data": {
      "text/html": [
       "<div>\n",
       "<style scoped>\n",
       "    .dataframe tbody tr th:only-of-type {\n",
       "        vertical-align: middle;\n",
       "    }\n",
       "\n",
       "    .dataframe tbody tr th {\n",
       "        vertical-align: top;\n",
       "    }\n",
       "\n",
       "    .dataframe thead th {\n",
       "        text-align: right;\n",
       "    }\n",
       "</style>\n",
       "<table border=\"1\" class=\"dataframe\">\n",
       "  <thead>\n",
       "    <tr style=\"text-align: right;\">\n",
       "      <th></th>\n",
       "      <th>BN.CAB.XOKA.GD.ZS</th>\n",
       "      <th>BX.KLT.DINV.WD.GD.ZS</th>\n",
       "      <th>FP.CPI.TOTL.ZG</th>\n",
       "      <th>NE.GDI.TOTL.ZS</th>\n",
       "      <th>NY.GDP.MKTP.KD.ZG</th>\n",
       "      <th>NY.GDP.PCAP.PP.CD</th>\n",
       "      <th>SL.UEM.TOTL.ZS</th>\n",
       "    </tr>\n",
       "    <tr>\n",
       "      <th>Country</th>\n",
       "      <th></th>\n",
       "      <th></th>\n",
       "      <th></th>\n",
       "      <th></th>\n",
       "      <th></th>\n",
       "      <th></th>\n",
       "      <th></th>\n",
       "    </tr>\n",
       "  </thead>\n",
       "  <tbody>\n",
       "    <tr>\n",
       "      <th>AFG</th>\n",
       "      <td>-21.745688</td>\n",
       "      <td>0.483360</td>\n",
       "      <td>4.383892</td>\n",
       "      <td>17.808790</td>\n",
       "      <td>2.260314</td>\n",
       "      <td>7.548025</td>\n",
       "      <td>1.634000</td>\n",
       "    </tr>\n",
       "    <tr>\n",
       "      <th>AGO</th>\n",
       "      <td>-3.050908</td>\n",
       "      <td>-0.177523</td>\n",
       "      <td>32.377734</td>\n",
       "      <td>27.214708</td>\n",
       "      <td>-2.580097</td>\n",
       "      <td>8.818325</td>\n",
       "      <td>7.281000</td>\n",
       "    </tr>\n",
       "    <tr>\n",
       "      <th>ALB</th>\n",
       "      <td>-7.590727</td>\n",
       "      <td>8.804978</td>\n",
       "      <td>1.275125</td>\n",
       "      <td>25.223824</td>\n",
       "      <td>3.314805</td>\n",
       "      <td>9.381616</td>\n",
       "      <td>15.220000</td>\n",
       "    </tr>\n",
       "    <tr>\n",
       "      <th>ARM</th>\n",
       "      <td>-2.061092</td>\n",
       "      <td>3.164508</td>\n",
       "      <td>-1.403608</td>\n",
       "      <td>18.015509</td>\n",
       "      <td>0.200000</td>\n",
       "      <td>9.083481</td>\n",
       "      <td>17.617001</td>\n",
       "    </tr>\n",
       "    <tr>\n",
       "      <th>AUS</th>\n",
       "      <td>-3.395593</td>\n",
       "      <td>3.244887</td>\n",
       "      <td>1.276991</td>\n",
       "      <td>25.371979</td>\n",
       "      <td>2.770657</td>\n",
       "      <td>10.764390</td>\n",
       "      <td>5.711000</td>\n",
       "    </tr>\n",
       "  </tbody>\n",
       "</table>\n",
       "</div>"
      ],
      "text/plain": [
       "         BN.CAB.XOKA.GD.ZS  BX.KLT.DINV.WD.GD.ZS  FP.CPI.TOTL.ZG  \\\n",
       "Country                                                            \n",
       "AFG     -21.745688          0.483360              4.383892         \n",
       "AGO     -3.050908          -0.177523              32.377734        \n",
       "ALB     -7.590727           8.804978              1.275125         \n",
       "ARM     -2.061092           3.164508             -1.403608         \n",
       "AUS     -3.395593           3.244887              1.276991         \n",
       "\n",
       "         NE.GDI.TOTL.ZS  NY.GDP.MKTP.KD.ZG  NY.GDP.PCAP.PP.CD  SL.UEM.TOTL.ZS  \n",
       "Country                                                                        \n",
       "AFG      17.808790       2.260314           7.548025           1.634000        \n",
       "AGO      27.214708      -2.580097           8.818325           7.281000        \n",
       "ALB      25.223824       3.314805           9.381616           15.220000       \n",
       "ARM      18.015509       0.200000           9.083481           17.617001       \n",
       "AUS      25.371979       2.770657           10.764390          5.711000        "
      ]
     },
     "execution_count": 26,
     "metadata": {},
     "output_type": "execute_result"
    }
   ],
   "source": [
    "econ_model.head()"
   ]
  },
  {
   "cell_type": "markdown",
   "metadata": {},
   "source": [
    "##  4. Корреляционный анализ"
   ]
  },
  {
   "cell_type": "code",
   "execution_count": 27,
   "metadata": {},
   "outputs": [],
   "source": [
    "alpha=0.05 # установим уровень значимости для проверки гипотез"
   ]
  },
  {
   "cell_type": "markdown",
   "metadata": {},
   "source": [
    "### Построим корреляционную матрицу с помощью  pandas"
   ]
  },
  {
   "cell_type": "code",
   "execution_count": 28,
   "metadata": {},
   "outputs": [
    {
     "data": {
      "text/html": [
       "<div>\n",
       "<style scoped>\n",
       "    .dataframe tbody tr th:only-of-type {\n",
       "        vertical-align: middle;\n",
       "    }\n",
       "\n",
       "    .dataframe tbody tr th {\n",
       "        vertical-align: top;\n",
       "    }\n",
       "\n",
       "    .dataframe thead th {\n",
       "        text-align: right;\n",
       "    }\n",
       "</style>\n",
       "<table border=\"1\" class=\"dataframe\">\n",
       "  <thead>\n",
       "    <tr style=\"text-align: right;\">\n",
       "      <th></th>\n",
       "      <th>BN.CAB.XOKA.GD.ZS</th>\n",
       "      <th>BX.KLT.DINV.WD.GD.ZS</th>\n",
       "      <th>FP.CPI.TOTL.ZG</th>\n",
       "      <th>NE.GDI.TOTL.ZS</th>\n",
       "      <th>NY.GDP.MKTP.KD.ZG</th>\n",
       "      <th>NY.GDP.PCAP.PP.CD</th>\n",
       "      <th>SL.UEM.TOTL.ZS</th>\n",
       "    </tr>\n",
       "  </thead>\n",
       "  <tbody>\n",
       "    <tr>\n",
       "      <th>BN.CAB.XOKA.GD.ZS</th>\n",
       "      <td>1.000000</td>\n",
       "      <td>0.102876</td>\n",
       "      <td>-0.160610</td>\n",
       "      <td>-0.289430</td>\n",
       "      <td>-0.108743</td>\n",
       "      <td>0.511227</td>\n",
       "      <td>-0.055555</td>\n",
       "    </tr>\n",
       "    <tr>\n",
       "      <th>BX.KLT.DINV.WD.GD.ZS</th>\n",
       "      <td>0.102876</td>\n",
       "      <td>1.000000</td>\n",
       "      <td>-0.089575</td>\n",
       "      <td>-0.005713</td>\n",
       "      <td>0.073494</td>\n",
       "      <td>0.201386</td>\n",
       "      <td>-0.015384</td>\n",
       "    </tr>\n",
       "    <tr>\n",
       "      <th>FP.CPI.TOTL.ZG</th>\n",
       "      <td>-0.160610</td>\n",
       "      <td>-0.089575</td>\n",
       "      <td>1.000000</td>\n",
       "      <td>0.060945</td>\n",
       "      <td>-0.184326</td>\n",
       "      <td>-0.337179</td>\n",
       "      <td>-0.082014</td>\n",
       "    </tr>\n",
       "    <tr>\n",
       "      <th>NE.GDI.TOTL.ZS</th>\n",
       "      <td>-0.289430</td>\n",
       "      <td>-0.005713</td>\n",
       "      <td>0.060945</td>\n",
       "      <td>1.000000</td>\n",
       "      <td>0.229779</td>\n",
       "      <td>-0.022714</td>\n",
       "      <td>-0.181009</td>\n",
       "    </tr>\n",
       "    <tr>\n",
       "      <th>NY.GDP.MKTP.KD.ZG</th>\n",
       "      <td>-0.108743</td>\n",
       "      <td>0.073494</td>\n",
       "      <td>-0.184326</td>\n",
       "      <td>0.229779</td>\n",
       "      <td>1.000000</td>\n",
       "      <td>-0.238473</td>\n",
       "      <td>-0.204679</td>\n",
       "    </tr>\n",
       "    <tr>\n",
       "      <th>NY.GDP.PCAP.PP.CD</th>\n",
       "      <td>0.511227</td>\n",
       "      <td>0.201386</td>\n",
       "      <td>-0.337179</td>\n",
       "      <td>-0.022714</td>\n",
       "      <td>-0.238473</td>\n",
       "      <td>1.000000</td>\n",
       "      <td>0.061695</td>\n",
       "    </tr>\n",
       "    <tr>\n",
       "      <th>SL.UEM.TOTL.ZS</th>\n",
       "      <td>-0.055555</td>\n",
       "      <td>-0.015384</td>\n",
       "      <td>-0.082014</td>\n",
       "      <td>-0.181009</td>\n",
       "      <td>-0.204679</td>\n",
       "      <td>0.061695</td>\n",
       "      <td>1.000000</td>\n",
       "    </tr>\n",
       "  </tbody>\n",
       "</table>\n",
       "</div>"
      ],
      "text/plain": [
       "                      BN.CAB.XOKA.GD.ZS  BX.KLT.DINV.WD.GD.ZS  FP.CPI.TOTL.ZG  \\\n",
       "BN.CAB.XOKA.GD.ZS     1.000000           0.102876             -0.160610         \n",
       "BX.KLT.DINV.WD.GD.ZS  0.102876           1.000000             -0.089575         \n",
       "FP.CPI.TOTL.ZG       -0.160610          -0.089575              1.000000         \n",
       "NE.GDI.TOTL.ZS       -0.289430          -0.005713              0.060945         \n",
       "NY.GDP.MKTP.KD.ZG    -0.108743           0.073494             -0.184326         \n",
       "NY.GDP.PCAP.PP.CD     0.511227           0.201386             -0.337179         \n",
       "SL.UEM.TOTL.ZS       -0.055555          -0.015384             -0.082014         \n",
       "\n",
       "                      NE.GDI.TOTL.ZS  NY.GDP.MKTP.KD.ZG  NY.GDP.PCAP.PP.CD  \\\n",
       "BN.CAB.XOKA.GD.ZS    -0.289430       -0.108743           0.511227            \n",
       "BX.KLT.DINV.WD.GD.ZS -0.005713        0.073494           0.201386            \n",
       "FP.CPI.TOTL.ZG        0.060945       -0.184326          -0.337179            \n",
       "NE.GDI.TOTL.ZS        1.000000        0.229779          -0.022714            \n",
       "NY.GDP.MKTP.KD.ZG     0.229779        1.000000          -0.238473            \n",
       "NY.GDP.PCAP.PP.CD    -0.022714       -0.238473           1.000000            \n",
       "SL.UEM.TOTL.ZS       -0.181009       -0.204679           0.061695            \n",
       "\n",
       "                      SL.UEM.TOTL.ZS  \n",
       "BN.CAB.XOKA.GD.ZS    -0.055555        \n",
       "BX.KLT.DINV.WD.GD.ZS -0.015384        \n",
       "FP.CPI.TOTL.ZG       -0.082014        \n",
       "NE.GDI.TOTL.ZS       -0.181009        \n",
       "NY.GDP.MKTP.KD.ZG    -0.204679        \n",
       "NY.GDP.PCAP.PP.CD     0.061695        \n",
       "SL.UEM.TOTL.ZS        1.000000        "
      ]
     },
     "execution_count": 28,
     "metadata": {},
     "output_type": "execute_result"
    }
   ],
   "source": [
    "econ_model.corr()"
   ]
  },
  {
   "cell_type": "markdown",
   "metadata": {},
   "source": [
    "### Пример проверки значимости коэффициента корреляции ($\\alpha$=0.05)"
   ]
  },
  {
   "cell_type": "code",
   "execution_count": 29,
   "metadata": {},
   "outputs": [
    {
     "data": {
      "text/plain": [
       "(0.0734939039710778, 0.38134263261280366)"
      ]
     },
     "execution_count": 29,
     "metadata": {},
     "output_type": "execute_result"
    }
   ],
   "source": [
    "stats.pearsonr(econ_model.iloc[:,1], econ_model.iloc[:,4])"
   ]
  },
  {
   "cell_type": "markdown",
   "metadata": {},
   "source": [
    "###  Т.к. p-value  > 0.05, гипотеза о равенстве нулю коэффициента корреляции не отвергается. Статистическая связь между указанными показателями отсутствует."
   ]
  },
  {
   "cell_type": "markdown",
   "metadata": {},
   "source": [
    "## 5.Модель парной линейной регрессии"
   ]
  },
  {
   "cell_type": "markdown",
   "metadata": {},
   "source": [
    "### В качестве зависимой переменной Y выступает показатель темпа роста ВВП, в качестве объясняющей переменной X возьмем отношение общего объема инвестиций к ВВП."
   ]
  },
  {
   "cell_type": "code",
   "execution_count": 30,
   "metadata": {},
   "outputs": [
    {
     "data": {
      "image/png": "[encoded data removed]",
      "text/plain": [
       "<Figure size 720x360 with 1 Axes>"
      ]
     },
     "metadata": {
      "needs_background": "light"
     },
     "output_type": "display_data"
    }
   ],
   "source": [
    "p=econ_model.plot.scatter(x='NE.GDI.TOTL.ZS',y='NY.GDP.MKTP.KD.ZG',title='Завимость между темпом прироста ВВП и инвестициями',figsize=(10,5),)\n",
    "p.set(xlabel='Отношение инвестиций к ВВП (%)',ylabel='Темп прироста ВВП (%)')\n",
    "plt.show()"
   ]
  },
  {
   "cell_type": "code",
   "execution_count": 31,
   "metadata": {},
   "outputs": [
    {
     "data": {
      "text/plain": [
       "144"
      ]
     },
     "execution_count": 31,
     "metadata": {},
     "output_type": "execute_result"
    }
   ],
   "source": [
    "n=econ_model.shape[0] # общее число наблюдений \n",
    "n"
   ]
  },
  {
   "cell_type": "code",
   "execution_count": 32,
   "metadata": {},
   "outputs": [],
   "source": [
    "k=2 # общее число коэффициентов регрессии с учетом свободного члена"
   ]
  },
  {
   "cell_type": "code",
   "execution_count": 33,
   "metadata": {},
   "outputs": [],
   "source": [
    "Y=econ_model['NY.GDP.MKTP.KD.ZG']"
   ]
  },
  {
   "cell_type": "code",
   "execution_count": 34,
   "metadata": {},
   "outputs": [],
   "source": [
    "X=sm.add_constant(econ_model['NE.GDI.TOTL.ZS'],prepend=True)\n",
    "# добавим единичный вектор к вектору X - для плучения модели со свободной переменной"
   ]
  },
  {
   "cell_type": "code",
   "execution_count": 35,
   "metadata": {},
   "outputs": [
    {
     "data": {
      "text/html": [
       "<div>\n",
       "<style scoped>\n",
       "    .dataframe tbody tr th:only-of-type {\n",
       "        vertical-align: middle;\n",
       "    }\n",
       "\n",
       "    .dataframe tbody tr th {\n",
       "        vertical-align: top;\n",
       "    }\n",
       "\n",
       "    .dataframe thead th {\n",
       "        text-align: right;\n",
       "    }\n",
       "</style>\n",
       "<table border=\"1\" class=\"dataframe\">\n",
       "  <thead>\n",
       "    <tr style=\"text-align: right;\">\n",
       "      <th></th>\n",
       "      <th>const</th>\n",
       "      <th>NE.GDI.TOTL.ZS</th>\n",
       "    </tr>\n",
       "    <tr>\n",
       "      <th>Country</th>\n",
       "      <th></th>\n",
       "      <th></th>\n",
       "    </tr>\n",
       "  </thead>\n",
       "  <tbody>\n",
       "    <tr>\n",
       "      <th>AFG</th>\n",
       "      <td>1.0</td>\n",
       "      <td>17.808790</td>\n",
       "    </tr>\n",
       "    <tr>\n",
       "      <th>AGO</th>\n",
       "      <td>1.0</td>\n",
       "      <td>27.214708</td>\n",
       "    </tr>\n",
       "    <tr>\n",
       "      <th>ALB</th>\n",
       "      <td>1.0</td>\n",
       "      <td>25.223824</td>\n",
       "    </tr>\n",
       "    <tr>\n",
       "      <th>ARM</th>\n",
       "      <td>1.0</td>\n",
       "      <td>18.015509</td>\n",
       "    </tr>\n",
       "    <tr>\n",
       "      <th>AUS</th>\n",
       "      <td>1.0</td>\n",
       "      <td>25.371979</td>\n",
       "    </tr>\n",
       "  </tbody>\n",
       "</table>\n",
       "</div>"
      ],
      "text/plain": [
       "         const  NE.GDI.TOTL.ZS\n",
       "Country                       \n",
       "AFG      1.0    17.808790     \n",
       "AGO      1.0    27.214708     \n",
       "ALB      1.0    25.223824     \n",
       "ARM      1.0    18.015509     \n",
       "AUS      1.0    25.371979     "
      ]
     },
     "execution_count": 35,
     "metadata": {},
     "output_type": "execute_result"
    }
   ],
   "source": [
    "X.head()"
   ]
  },
  {
   "cell_type": "code",
   "execution_count": 36,
   "metadata": {},
   "outputs": [
    {
     "data": {
      "text/html": [
       "<table class=\"simpletable\">\n",
       "<caption>OLS Regression Results</caption>\n",
       "<tr>\n",
       "  <th>Dep. Variable:</th>    <td>NY.GDP.MKTP.KD.ZG</td> <th>  R-squared:         </th> <td>   0.053</td>\n",
       "</tr>\n",
       "<tr>\n",
       "  <th>Model:</th>                   <td>OLS</td>        <th>  Adj. R-squared:    </th> <td>   0.046</td>\n",
       "</tr>\n",
       "<tr>\n",
       "  <th>Method:</th>             <td>Least Squares</td>   <th>  F-statistic:       </th> <td>   7.915</td>\n",
       "</tr>\n",
       "<tr>\n",
       "  <th>Date:</th>             <td>Wed, 18 May 2022</td>  <th>  Prob (F-statistic):</th>  <td>0.00560</td>\n",
       "</tr>\n",
       "<tr>\n",
       "  <th>Time:</th>                 <td>23:08:57</td>      <th>  Log-Likelihood:    </th> <td> -343.57</td>\n",
       "</tr>\n",
       "<tr>\n",
       "  <th>No. Observations:</th>      <td>   144</td>       <th>  AIC:               </th> <td>   691.1</td>\n",
       "</tr>\n",
       "<tr>\n",
       "  <th>Df Residuals:</th>          <td>   142</td>       <th>  BIC:               </th> <td>   697.1</td>\n",
       "</tr>\n",
       "<tr>\n",
       "  <th>Df Model:</th>              <td>     1</td>       <th>                     </th>     <td> </td>   \n",
       "</tr>\n",
       "<tr>\n",
       "  <th>Covariance Type:</th>      <td>nonrobust</td>     <th>                     </th>     <td> </td>   \n",
       "</tr>\n",
       "</table>\n",
       "<table class=\"simpletable\">\n",
       "<tr>\n",
       "         <td></td>           <th>coef</th>     <th>std err</th>      <th>t</th>      <th>P>|t|</th>  <th>[0.025</th>    <th>0.975]</th>  \n",
       "</tr>\n",
       "<tr>\n",
       "  <th>const</th>          <td>    1.2727</td> <td>    0.715</td> <td>    1.781</td> <td> 0.077</td> <td>   -0.140</td> <td>    2.685</td>\n",
       "</tr>\n",
       "<tr>\n",
       "  <th>NE.GDI.TOTL.ZS</th> <td>    0.0776</td> <td>    0.028</td> <td>    2.813</td> <td> 0.006</td> <td>    0.023</td> <td>    0.132</td>\n",
       "</tr>\n",
       "</table>\n",
       "<table class=\"simpletable\">\n",
       "<tr>\n",
       "  <th>Omnibus:</th>       <td>19.613</td> <th>  Durbin-Watson:     </th> <td>   1.801</td>\n",
       "</tr>\n",
       "<tr>\n",
       "  <th>Prob(Omnibus):</th> <td> 0.000</td> <th>  Jarque-Bera (JB):  </th> <td>  50.461</td>\n",
       "</tr>\n",
       "<tr>\n",
       "  <th>Skew:</th>          <td> 0.487</td> <th>  Prob(JB):          </th> <td>1.10e-11</td>\n",
       "</tr>\n",
       "<tr>\n",
       "  <th>Kurtosis:</th>      <td> 5.732</td> <th>  Cond. No.          </th> <td>    84.0</td>\n",
       "</tr>\n",
       "</table><br/><br/>Notes:<br/>[1] Standard Errors assume that the covariance matrix of the errors is correctly specified."
      ],
      "text/plain": [
       "<class 'statsmodels.iolib.summary.Summary'>\n",
       "\"\"\"\n",
       "                            OLS Regression Results                            \n",
       "==============================================================================\n",
       "Dep. Variable:      NY.GDP.MKTP.KD.ZG   R-squared:                       0.053\n",
       "Model:                            OLS   Adj. R-squared:                  0.046\n",
       "Method:                 Least Squares   F-statistic:                     7.915\n",
       "Date:                Wed, 18 May 2022   Prob (F-statistic):            0.00560\n",
       "Time:                        23:08:57   Log-Likelihood:                -343.57\n",
       "No. Observations:                 144   AIC:                             691.1\n",
       "Df Residuals:                     142   BIC:                             697.1\n",
       "Df Model:                           1                                         \n",
       "Covariance Type:            nonrobust                                         \n",
       "==================================================================================\n",
       "                     coef    std err          t      P>|t|      [0.025      0.975]\n",
       "----------------------------------------------------------------------------------\n",
       "const              1.2727      0.715      1.781      0.077      -0.140       2.685\n",
       "NE.GDI.TOTL.ZS     0.0776      0.028      2.813      0.006       0.023       0.132\n",
       "==============================================================================\n",
       "Omnibus:                       19.613   Durbin-Watson:                   1.801\n",
       "Prob(Omnibus):                  0.000   Jarque-Bera (JB):               50.461\n",
       "Skew:                           0.487   Prob(JB):                     1.10e-11\n",
       "Kurtosis:                       5.732   Cond. No.                         84.0\n",
       "==============================================================================\n",
       "\n",
       "Notes:\n",
       "[1] Standard Errors assume that the covariance matrix of the errors is correctly specified.\n",
       "\"\"\""
      ]
     },
     "execution_count": 36,
     "metadata": {},
     "output_type": "execute_result"
    }
   ],
   "source": [
    "sm.OLS(Y,X).fit().summary()\n",
    "# вызов процедуры МНК и визуализация результатов"
   ]
  },
  {
   "cell_type": "markdown",
   "metadata": {},
   "source": [
    "### Проведем \"ручной\" расчет"
   ]
  },
  {
   "cell_type": "markdown",
   "metadata": {},
   "source": [
    "<font size='5'>$b_1=\\frac{cov(x,y)}{var(x)}$</font>"
   ]
  },
  {
   "cell_type": "code",
   "execution_count": 37,
   "metadata": {},
   "outputs": [],
   "source": [
    "b1=np.mean(np.multiply((econ_model['NE.GDI.TOTL.ZS']-np.mean(econ_model['NE.GDI.TOTL.ZS'])),\n",
    "(econ_model['NY.GDP.MKTP.KD.ZG']-np.mean(econ_model['NY.GDP.MKTP.KD.ZG']))))/(np.mean((econ_model['NE.GDI.TOTL.ZS']-np.mean(econ_model['NE.GDI.TOTL.ZS']))**2))"
   ]
  },
  {
   "cell_type": "markdown",
   "metadata": {},
   "source": [
    "<font size='5'>$b_0=\\overline{y}-\\overline{x}b_1$</font>"
   ]
  },
  {
   "cell_type": "code",
   "execution_count": 38,
   "metadata": {},
   "outputs": [],
   "source": [
    "b0=np.mean(econ_model['NY.GDP.MKTP.KD.ZG'])-np.mean(econ_model['NE.GDI.TOTL.ZS'])*b1"
   ]
  },
  {
   "cell_type": "code",
   "execution_count": 39,
   "metadata": {},
   "outputs": [
    {
     "data": {
      "text/plain": [
       "(1.2726730266321633, 0.07757510668891016)"
      ]
     },
     "execution_count": 39,
     "metadata": {},
     "output_type": "execute_result"
    }
   ],
   "source": [
    "b0,b1"
   ]
  },
  {
   "cell_type": "code",
   "execution_count": 40,
   "metadata": {},
   "outputs": [],
   "source": [
    "Y_hat=b0+b1*econ_model['NE.GDI.TOTL.ZS']\n",
    "# выравненные значения переменной Y"
   ]
  },
  {
   "cell_type": "code",
   "execution_count": 41,
   "metadata": {},
   "outputs": [
    {
     "data": {
      "text/plain": [
       "Country\n",
       "AFG    2.654192\n",
       "AGO    3.383857\n",
       "ALB    3.229414\n",
       "ARM    2.670228\n",
       "AUS    3.240907\n",
       "Name: NE.GDI.TOTL.ZS, dtype: float64"
      ]
     },
     "execution_count": 41,
     "metadata": {},
     "output_type": "execute_result"
    }
   ],
   "source": [
    "Y_hat.head()"
   ]
  },
  {
   "cell_type": "code",
   "execution_count": 42,
   "metadata": {},
   "outputs": [],
   "source": [
    "resid=(Y-Y_hat)\n",
    "# остатки уравнения регрессии"
   ]
  },
  {
   "cell_type": "code",
   "execution_count": 43,
   "metadata": {},
   "outputs": [
    {
     "data": {
      "text/plain": [
       "2.279041153327752e-15"
      ]
     },
     "execution_count": 43,
     "metadata": {},
     "output_type": "execute_result"
    }
   ],
   "source": [
    "np.mean(resid)\n",
    "# проверка равенства нулю среднего значения остатков"
   ]
  },
  {
   "cell_type": "markdown",
   "metadata": {},
   "source": [
    "### Проверка нормальности распределения остатков"
   ]
  },
  {
   "cell_type": "code",
   "execution_count": 44,
   "metadata": {},
   "outputs": [
    {
     "data": {
      "text/plain": [
       "<matplotlib.axes._subplots.AxesSubplot at 0x7fa6b42ccd30>"
      ]
     },
     "execution_count": 44,
     "metadata": {},
     "output_type": "execute_result"
    },
    {
     "data": {
      "image/png": "[encoded data removed]",
      "text/plain": [
       "<Figure size 432x288 with 1 Axes>"
      ]
     },
     "metadata": {
      "needs_background": "light"
     },
     "output_type": "display_data"
    }
   ],
   "source": [
    "resid.plot(kind='hist')"
   ]
  },
  {
   "cell_type": "code",
   "execution_count": 45,
   "metadata": {},
   "outputs": [
    {
     "data": {
      "text/plain": [
       "NormaltestResult(statistic=19.612954293133665, pvalue=5.509359198029422e-05)"
      ]
     },
     "execution_count": 45,
     "metadata": {},
     "output_type": "execute_result"
    }
   ],
   "source": [
    "stats.normaltest(resid)"
   ]
  },
  {
   "cell_type": "markdown",
   "metadata": {},
   "source": [
    "### Вывод: распределение существенно отличается от нормального закона, т.к. p-value <  $\\alpha$"
   ]
  },
  {
   "cell_type": "code",
   "execution_count": 46,
   "metadata": {},
   "outputs": [
    {
     "data": {
      "text/plain": [
       "996.0451129437411"
      ]
     },
     "execution_count": 46,
     "metadata": {},
     "output_type": "execute_result"
    }
   ],
   "source": [
    "SSR=np.sum((resid)**2)\n",
    "SSR\n",
    "# cумма квадратов остатков уравнения регрессии, необходима для дальнейших расчетов"
   ]
  },
  {
   "cell_type": "markdown",
   "metadata": {},
   "source": [
    "### Коэффициент детерминации $R^2=1-\\frac{SSR}{\\sum(y_i-\\overline{y})^2}$"
   ]
  },
  {
   "cell_type": "code",
   "execution_count": 47,
   "metadata": {},
   "outputs": [
    {
     "data": {
      "text/plain": [
       "0.05279861119835749"
      ]
     },
     "execution_count": 47,
     "metadata": {},
     "output_type": "execute_result"
    }
   ],
   "source": [
    "R_sq=1-(SSR/np.sum((econ_model['NY.GDP.MKTP.KD.ZG']-np.mean(econ_model['NY.GDP.MKTP.KD.ZG']))**2))\n",
    "R_sq"
   ]
  },
  {
   "cell_type": "markdown",
   "metadata": {},
   "source": [
    "### Скорректированный коэффициент детерминации $R^2=1-\\frac{(1-R^2)(n-1)}{n-k}$"
   ]
  },
  {
   "cell_type": "code",
   "execution_count": 48,
   "metadata": {},
   "outputs": [
    {
     "data": {
      "text/plain": [
       "0.04612817888285292"
      ]
     },
     "execution_count": 48,
     "metadata": {},
     "output_type": "execute_result"
    }
   ],
   "source": [
    "R_sq_adjusted=1-(((1-R_sq)*(n-1))/(n-k))\n",
    "R_sq_adjusted"
   ]
  },
  {
   "cell_type": "code",
   "execution_count": 49,
   "metadata": {},
   "outputs": [
    {
     "data": {
      "text/plain": [
       "0.22977948384996755"
      ]
     },
     "execution_count": 49,
     "metadata": {},
     "output_type": "execute_result"
    }
   ],
   "source": [
    "R_sq**.5\n",
    "# коэффициент корреляции (парный совпадает со множественным)"
   ]
  },
  {
   "cell_type": "markdown",
   "metadata": {},
   "source": [
    "### Проверим гипотезу $H_0:\\beta_1=0$"
   ]
  },
  {
   "cell_type": "markdown",
   "metadata": {},
   "source": [
    "### Для этой цели рассчитаем стандартные ошибки коэффициентов регрессии, используя ковариационную матрицу коэффициентов регрессии $\\sigma^2(X^{'}X)^{-1}$ "
   ]
  },
  {
   "cell_type": "markdown",
   "metadata": {},
   "source": [
    "###  $\\sigma^2$ - вариация остатков"
   ]
  },
  {
   "cell_type": "code",
   "execution_count": 50,
   "metadata": {},
   "outputs": [],
   "source": [
    "A=np.vstack([np.ones(n),econ_model['NE.GDI.TOTL.ZS']]).T\n",
    "# добавим единичный вектор к вектору X - для получения модели со свободной переменной"
   ]
  },
  {
   "cell_type": "code",
   "execution_count": 51,
   "metadata": {},
   "outputs": [
    {
     "data": {
      "text/plain": [
       "array([[ 0.07281414, -0.00267199],\n",
       "       [-0.00267199,  0.00010839]])"
      ]
     },
     "execution_count": 51,
     "metadata": {},
     "output_type": "execute_result"
    }
   ],
   "source": [
    "S_2=np.dot(A.T,A)\n",
    "S_2=np.linalg.inv(S_2)\n",
    "S_2"
   ]
  },
  {
   "cell_type": "code",
   "execution_count": 52,
   "metadata": {},
   "outputs": [
    {
     "data": {
      "text/plain": [
       "0.0275732604367577"
      ]
     },
     "execution_count": 52,
     "metadata": {},
     "output_type": "execute_result"
    }
   ],
   "source": [
    "std_err=((SSR/(n-k))*S_2[1,1])**.5\n",
    "std_err # стандартная ошибка коэффициента регрессии"
   ]
  },
  {
   "cell_type": "markdown",
   "metadata": {},
   "source": [
    "<font size='5'>$t=\\frac{b_1}{s}$</font>"
   ]
  },
  {
   "cell_type": "code",
   "execution_count": 53,
   "metadata": {},
   "outputs": [
    {
     "data": {
      "text/plain": [
       "2.813417980323262"
      ]
     },
     "execution_count": 53,
     "metadata": {},
     "output_type": "execute_result"
    }
   ],
   "source": [
    "t=b1/std_err\n",
    "t # t-критерий Стьюдента"
   ]
  },
  {
   "cell_type": "markdown",
   "metadata": {},
   "source": [
    "###  Табличное значение t-критерия Стьюдента (двусторонняя критическая область):"
   ]
  },
  {
   "cell_type": "code",
   "execution_count": 54,
   "metadata": {},
   "outputs": [
    {
     "data": {
      "text/plain": [
       "1.9768109936200895"
      ]
     },
     "execution_count": 54,
     "metadata": {},
     "output_type": "execute_result"
    }
   ],
   "source": [
    "stats.t.ppf(1-alpha/2,n-k)"
   ]
  },
  {
   "cell_type": "code",
   "execution_count": 55,
   "metadata": {},
   "outputs": [
    {
     "data": {
      "text/plain": [
       "0.005597146681518783"
      ]
     },
     "execution_count": 55,
     "metadata": {},
     "output_type": "execute_result"
    }
   ],
   "source": [
    "2*(1-stats.t.cdf(np.abs(t),n-k))# p-value"
   ]
  },
  {
   "cell_type": "markdown",
   "metadata": {},
   "source": [
    "### Сравнение табличного значения критерия и рассчетного говорит о том, что коэффициент значим (этот же вывод мы можем сделать и на основании p-value)"
   ]
  },
  {
   "cell_type": "markdown",
   "metadata": {},
   "source": [
    "### Построение интервальной оценки коэффициента регрессии "
   ]
  },
  {
   "cell_type": "code",
   "execution_count": 56,
   "metadata": {},
   "outputs": [
    {
     "data": {
      "text/plain": [
       "0.054507124361332496"
      ]
     },
     "execution_count": 56,
     "metadata": {},
     "output_type": "execute_result"
    }
   ],
   "source": [
    "delta=stats.t.ppf(.975,n-k)*std_err\n",
    "delta\n",
    "# построение интервальной оценки коэффициента регрессии"
   ]
  },
  {
   "cell_type": "markdown",
   "metadata": {},
   "source": [
    "### С вероятностью 95% коэф.регресси находится в пределах:"
   ]
  },
  {
   "cell_type": "code",
   "execution_count": 57,
   "metadata": {},
   "outputs": [
    {
     "data": {
      "text/plain": [
       "(0.02306798232757766, 0.13208223105024264)"
      ]
     },
     "execution_count": 57,
     "metadata": {},
     "output_type": "execute_result"
    }
   ],
   "source": [
    "b1-delta,b1+delta"
   ]
  },
  {
   "cell_type": "markdown",
   "metadata": {},
   "source": [
    "### Проверка значимости уравнения регрессии. В случае двумерной модели совпадает с проверкой значимости коэффициента регрессии."
   ]
  },
  {
   "cell_type": "code",
   "execution_count": 58,
   "metadata": {},
   "outputs": [
    {
     "data": {
      "text/plain": [
       "7.915320732006222"
      ]
     },
     "execution_count": 58,
     "metadata": {},
     "output_type": "execute_result"
    }
   ],
   "source": [
    "t**2 # Для парной регрессии t-критерий Стьдента в квадрате равен F- критерию Фишера-Снедекора"
   ]
  },
  {
   "cell_type": "markdown",
   "metadata": {},
   "source": [
    "### F-критерий $F=\\frac{\\frac{\\sum(y_i-\\overline{y})^2-\\sum(y_i-\\hat{y})^2}{(k-1)}}{\\frac{\\sum(y_i-\\hat{y})^2}{(n-k)}}$ "
   ]
  },
  {
   "cell_type": "code",
   "execution_count": 59,
   "metadata": {},
   "outputs": [
    {
     "data": {
      "text/plain": [
       "7.915320732006193"
      ]
     },
     "execution_count": 59,
     "metadata": {},
     "output_type": "execute_result"
    }
   ],
   "source": [
    "F=((np.var(econ_model['NY.GDP.MKTP.KD.ZG'])*n-SSR)/(k-1))/(SSR/(n-k))\n",
    "F "
   ]
  },
  {
   "cell_type": "code",
   "execution_count": 60,
   "metadata": {},
   "outputs": [
    {
     "data": {
      "text/plain": [
       "0.005597146681518783"
      ]
     },
     "execution_count": 60,
     "metadata": {},
     "output_type": "execute_result"
    }
   ],
   "source": [
    "1-stats.f.cdf(F,k-1,n-k)# p-value"
   ]
  },
  {
   "cell_type": "markdown",
   "metadata": {},
   "source": [
    "### Табличное значение критерия F (односторонняя критическая область):"
   ]
  },
  {
   "cell_type": "code",
   "execution_count": 61,
   "metadata": {},
   "outputs": [
    {
     "data": {
      "text/plain": [
       "3.9077817045477476"
      ]
     },
     "execution_count": 61,
     "metadata": {},
     "output_type": "execute_result"
    }
   ],
   "source": [
    "stats.f.ppf(1-alpha,k-1,n-k)# табличное значение критерия "
   ]
  },
  {
   "cell_type": "markdown",
   "metadata": {},
   "source": [
    "### Функция правдоподобия $ln\\lbrack\\prod_{i=1}^{n}\\frac{1}{\\sigma\\sqrt{2\\pi}}exp(-\\frac{(y_i-\\hat{y_i})^2}{2\\sigma^2})\\rbrack$"
   ]
  },
  {
   "cell_type": "code",
   "execution_count": 62,
   "metadata": {},
   "outputs": [
    {
     "data": {
      "text/plain": [
       "-343.573654860894"
      ]
     },
     "execution_count": 62,
     "metadata": {},
     "output_type": "execute_result"
    }
   ],
   "source": [
    "L=(1/np.sqrt(2*np.pi*(SSR/n)))**n*np.exp(-SSR/((SSR/n)*2))\n",
    "np.log(L)"
   ]
  },
  {
   "cell_type": "markdown",
   "metadata": {},
   "source": [
    "### Общий вывод: Уравнение регрессии значимо, о чем свидетельствуют значения F-критерия.  Выявленная взаимосвязь   слабая - коэффициент детерминации равен 0.053, т.е. только 5.3% прироста ВВП объясняется долей инвестиций ВВП. Интерпретация коэффициента регрессии - увеличение доли инвестиций в ВВП на 1 п.п. увеличивает рост ВВП на 0.078 п.п."
   ]
  },
  {
   "cell_type": "markdown",
   "metadata": {
    "collapsed": true
   },
   "source": [
    "## 6. Модель множественной регрессии"
   ]
  },
  {
   "cell_type": "markdown",
   "metadata": {},
   "source": [
    "### В качестве зависимой переменной Y будем рассматривать показатель темпа роста ВВП, в качестве объясняющих возьмем остальные экономические показатели (таким образом, X - уже не вектор, а матрица)."
   ]
  },
  {
   "cell_type": "code",
   "execution_count": 63,
   "metadata": {},
   "outputs": [
    {
     "data": {
      "text/html": [
       "<div>\n",
       "<style scoped>\n",
       "    .dataframe tbody tr th:only-of-type {\n",
       "        vertical-align: middle;\n",
       "    }\n",
       "\n",
       "    .dataframe tbody tr th {\n",
       "        vertical-align: top;\n",
       "    }\n",
       "\n",
       "    .dataframe thead th {\n",
       "        text-align: right;\n",
       "    }\n",
       "</style>\n",
       "<table border=\"1\" class=\"dataframe\">\n",
       "  <thead>\n",
       "    <tr style=\"text-align: right;\">\n",
       "      <th></th>\n",
       "      <th>BN.CAB.XOKA.GD.ZS</th>\n",
       "      <th>BX.KLT.DINV.WD.GD.ZS</th>\n",
       "      <th>FP.CPI.TOTL.ZG</th>\n",
       "      <th>NE.GDI.TOTL.ZS</th>\n",
       "      <th>NY.GDP.MKTP.KD.ZG</th>\n",
       "      <th>NY.GDP.PCAP.PP.CD</th>\n",
       "      <th>SL.UEM.TOTL.ZS</th>\n",
       "    </tr>\n",
       "    <tr>\n",
       "      <th>Country</th>\n",
       "      <th></th>\n",
       "      <th></th>\n",
       "      <th></th>\n",
       "      <th></th>\n",
       "      <th></th>\n",
       "      <th></th>\n",
       "      <th></th>\n",
       "    </tr>\n",
       "  </thead>\n",
       "  <tbody>\n",
       "    <tr>\n",
       "      <th>AFG</th>\n",
       "      <td>-21.745688</td>\n",
       "      <td>0.483360</td>\n",
       "      <td>4.383892</td>\n",
       "      <td>17.808790</td>\n",
       "      <td>2.260314</td>\n",
       "      <td>7.548025</td>\n",
       "      <td>1.634000</td>\n",
       "    </tr>\n",
       "    <tr>\n",
       "      <th>AGO</th>\n",
       "      <td>-3.050908</td>\n",
       "      <td>-0.177523</td>\n",
       "      <td>32.377734</td>\n",
       "      <td>27.214708</td>\n",
       "      <td>-2.580097</td>\n",
       "      <td>8.818325</td>\n",
       "      <td>7.281000</td>\n",
       "    </tr>\n",
       "    <tr>\n",
       "      <th>ALB</th>\n",
       "      <td>-7.590727</td>\n",
       "      <td>8.804978</td>\n",
       "      <td>1.275125</td>\n",
       "      <td>25.223824</td>\n",
       "      <td>3.314805</td>\n",
       "      <td>9.381616</td>\n",
       "      <td>15.220000</td>\n",
       "    </tr>\n",
       "    <tr>\n",
       "      <th>ARM</th>\n",
       "      <td>-2.061092</td>\n",
       "      <td>3.164508</td>\n",
       "      <td>-1.403608</td>\n",
       "      <td>18.015509</td>\n",
       "      <td>0.200000</td>\n",
       "      <td>9.083481</td>\n",
       "      <td>17.617001</td>\n",
       "    </tr>\n",
       "    <tr>\n",
       "      <th>AUS</th>\n",
       "      <td>-3.395593</td>\n",
       "      <td>3.244887</td>\n",
       "      <td>1.276991</td>\n",
       "      <td>25.371979</td>\n",
       "      <td>2.770657</td>\n",
       "      <td>10.764390</td>\n",
       "      <td>5.711000</td>\n",
       "    </tr>\n",
       "  </tbody>\n",
       "</table>\n",
       "</div>"
      ],
      "text/plain": [
       "         BN.CAB.XOKA.GD.ZS  BX.KLT.DINV.WD.GD.ZS  FP.CPI.TOTL.ZG  \\\n",
       "Country                                                            \n",
       "AFG     -21.745688          0.483360              4.383892         \n",
       "AGO     -3.050908          -0.177523              32.377734        \n",
       "ALB     -7.590727           8.804978              1.275125         \n",
       "ARM     -2.061092           3.164508             -1.403608         \n",
       "AUS     -3.395593           3.244887              1.276991         \n",
       "\n",
       "         NE.GDI.TOTL.ZS  NY.GDP.MKTP.KD.ZG  NY.GDP.PCAP.PP.CD  SL.UEM.TOTL.ZS  \n",
       "Country                                                                        \n",
       "AFG      17.808790       2.260314           7.548025           1.634000        \n",
       "AGO      27.214708      -2.580097           8.818325           7.281000        \n",
       "ALB      25.223824       3.314805           9.381616           15.220000       \n",
       "ARM      18.015509       0.200000           9.083481           17.617001       \n",
       "AUS      25.371979       2.770657           10.764390          5.711000        "
      ]
     },
     "execution_count": 63,
     "metadata": {},
     "output_type": "execute_result"
    }
   ],
   "source": [
    "econ_model.head()"
   ]
  },
  {
   "cell_type": "code",
   "execution_count": 64,
   "metadata": {},
   "outputs": [],
   "source": [
    "X_m=sm.add_constant(econ_model.iloc[:,[0,1,2,3,5,6]],prepend=True)\n",
    "# формирование матрицы независимых переменных с учетом единичного вектора"
   ]
  },
  {
   "cell_type": "code",
   "execution_count": 65,
   "metadata": {},
   "outputs": [
    {
     "data": {
      "text/html": [
       "<div>\n",
       "<style scoped>\n",
       "    .dataframe tbody tr th:only-of-type {\n",
       "        vertical-align: middle;\n",
       "    }\n",
       "\n",
       "    .dataframe tbody tr th {\n",
       "        vertical-align: top;\n",
       "    }\n",
       "\n",
       "    .dataframe thead th {\n",
       "        text-align: right;\n",
       "    }\n",
       "</style>\n",
       "<table border=\"1\" class=\"dataframe\">\n",
       "  <thead>\n",
       "    <tr style=\"text-align: right;\">\n",
       "      <th></th>\n",
       "      <th>const</th>\n",
       "      <th>BN.CAB.XOKA.GD.ZS</th>\n",
       "      <th>BX.KLT.DINV.WD.GD.ZS</th>\n",
       "      <th>FP.CPI.TOTL.ZG</th>\n",
       "      <th>NE.GDI.TOTL.ZS</th>\n",
       "      <th>NY.GDP.PCAP.PP.CD</th>\n",
       "      <th>SL.UEM.TOTL.ZS</th>\n",
       "    </tr>\n",
       "    <tr>\n",
       "      <th>Country</th>\n",
       "      <th></th>\n",
       "      <th></th>\n",
       "      <th></th>\n",
       "      <th></th>\n",
       "      <th></th>\n",
       "      <th></th>\n",
       "      <th></th>\n",
       "    </tr>\n",
       "  </thead>\n",
       "  <tbody>\n",
       "    <tr>\n",
       "      <th>AFG</th>\n",
       "      <td>1.0</td>\n",
       "      <td>-21.745688</td>\n",
       "      <td>0.483360</td>\n",
       "      <td>4.383892</td>\n",
       "      <td>17.808790</td>\n",
       "      <td>7.548025</td>\n",
       "      <td>1.634000</td>\n",
       "    </tr>\n",
       "    <tr>\n",
       "      <th>AGO</th>\n",
       "      <td>1.0</td>\n",
       "      <td>-3.050908</td>\n",
       "      <td>-0.177523</td>\n",
       "      <td>32.377734</td>\n",
       "      <td>27.214708</td>\n",
       "      <td>8.818325</td>\n",
       "      <td>7.281000</td>\n",
       "    </tr>\n",
       "    <tr>\n",
       "      <th>ALB</th>\n",
       "      <td>1.0</td>\n",
       "      <td>-7.590727</td>\n",
       "      <td>8.804978</td>\n",
       "      <td>1.275125</td>\n",
       "      <td>25.223824</td>\n",
       "      <td>9.381616</td>\n",
       "      <td>15.220000</td>\n",
       "    </tr>\n",
       "    <tr>\n",
       "      <th>ARM</th>\n",
       "      <td>1.0</td>\n",
       "      <td>-2.061092</td>\n",
       "      <td>3.164508</td>\n",
       "      <td>-1.403608</td>\n",
       "      <td>18.015509</td>\n",
       "      <td>9.083481</td>\n",
       "      <td>17.617001</td>\n",
       "    </tr>\n",
       "    <tr>\n",
       "      <th>AUS</th>\n",
       "      <td>1.0</td>\n",
       "      <td>-3.395593</td>\n",
       "      <td>3.244887</td>\n",
       "      <td>1.276991</td>\n",
       "      <td>25.371979</td>\n",
       "      <td>10.764390</td>\n",
       "      <td>5.711000</td>\n",
       "    </tr>\n",
       "  </tbody>\n",
       "</table>\n",
       "</div>"
      ],
      "text/plain": [
       "         const  BN.CAB.XOKA.GD.ZS  BX.KLT.DINV.WD.GD.ZS  FP.CPI.TOTL.ZG  \\\n",
       "Country                                                                   \n",
       "AFG      1.0   -21.745688          0.483360              4.383892         \n",
       "AGO      1.0   -3.050908          -0.177523              32.377734        \n",
       "ALB      1.0   -7.590727           8.804978              1.275125         \n",
       "ARM      1.0   -2.061092           3.164508             -1.403608         \n",
       "AUS      1.0   -3.395593           3.244887              1.276991         \n",
       "\n",
       "         NE.GDI.TOTL.ZS  NY.GDP.PCAP.PP.CD  SL.UEM.TOTL.ZS  \n",
       "Country                                                     \n",
       "AFG      17.808790       7.548025           1.634000        \n",
       "AGO      27.214708       8.818325           7.281000        \n",
       "ALB      25.223824       9.381616           15.220000       \n",
       "ARM      18.015509       9.083481           17.617001       \n",
       "AUS      25.371979       10.764390          5.711000        "
      ]
     },
     "execution_count": 65,
     "metadata": {},
     "output_type": "execute_result"
    }
   ],
   "source": [
    "X_m.head()"
   ]
  },
  {
   "cell_type": "code",
   "execution_count": 66,
   "metadata": {},
   "outputs": [
    {
     "data": {
      "text/plain": [
       "7"
      ]
     },
     "execution_count": 66,
     "metadata": {},
     "output_type": "execute_result"
    }
   ],
   "source": [
    "k_m=X_m.shape[1] # количество переменных\n",
    "k_m"
   ]
  },
  {
   "cell_type": "code",
   "execution_count": 67,
   "metadata": {},
   "outputs": [],
   "source": [
    "Y_m=np.asarray(econ_model['NY.GDP.MKTP.KD.ZG'])"
   ]
  },
  {
   "cell_type": "code",
   "execution_count": 68,
   "metadata": {},
   "outputs": [],
   "source": [
    "Y_m=Y_m[:,np.newaxis]"
   ]
  },
  {
   "cell_type": "code",
   "execution_count": 69,
   "metadata": {},
   "outputs": [
    {
     "data": {
      "text/plain": [
       "(144, 1)"
      ]
     },
     "execution_count": 69,
     "metadata": {},
     "output_type": "execute_result"
    }
   ],
   "source": [
    "Y_m.shape"
   ]
  },
  {
   "cell_type": "code",
   "execution_count": 70,
   "metadata": {},
   "outputs": [],
   "source": [
    "model_linear_m=sm.OLS(Y_m,X_m)\n",
    "# создание модели"
   ]
  },
  {
   "cell_type": "code",
   "execution_count": 71,
   "metadata": {},
   "outputs": [],
   "source": [
    "results=model_linear_m.fit()"
   ]
  },
  {
   "cell_type": "code",
   "execution_count": 72,
   "metadata": {
    "scrolled": true
   },
   "outputs": [
    {
     "name": "stdout",
     "output_type": "stream",
     "text": [
      "                            OLS Regression Results                            \n",
      "==============================================================================\n",
      "Dep. Variable:                      y   R-squared:                       0.241\n",
      "Model:                            OLS   Adj. R-squared:                  0.208\n",
      "Method:                 Least Squares   F-statistic:                     7.247\n",
      "Date:                Wed, 18 May 2022   Prob (F-statistic):           9.82e-07\n",
      "Time:                        23:08:57   Log-Likelihood:                -327.63\n",
      "No. Observations:                 144   AIC:                             669.3\n",
      "Df Residuals:                     137   BIC:                             690.1\n",
      "Df Model:                           6                                         \n",
      "Covariance Type:            nonrobust                                         \n",
      "========================================================================================\n",
      "                           coef    std err          t      P>|t|      [0.025      0.975]\n",
      "----------------------------------------------------------------------------------------\n",
      "const                   10.9067      2.087      5.227      0.000       6.780      15.033\n",
      "BN.CAB.XOKA.GD.ZS        0.0307      0.030      1.022      0.309      -0.029       0.090\n",
      "BX.KLT.DINV.WD.GD.ZS     0.0325      0.021      1.514      0.132      -0.010       0.075\n",
      "FP.CPI.TOTL.ZG          -0.1746      0.043     -4.061      0.000      -0.260      -0.090\n",
      "NE.GDI.TOTL.ZS           0.0811      0.027      2.970      0.004       0.027       0.135\n",
      "NY.GDP.PCAP.PP.CD       -0.9192      0.214     -4.299      0.000      -1.342      -0.496\n",
      "SL.UEM.TOTL.ZS          -0.0708      0.035     -2.019      0.045      -0.140      -0.001\n",
      "==============================================================================\n",
      "Omnibus:                       30.805   Durbin-Watson:                   1.686\n",
      "Prob(Omnibus):                  0.000   Jarque-Bera (JB):              138.028\n",
      "Skew:                           0.610   Prob(JB):                     1.07e-30\n",
      "Kurtosis:                       7.638   Cond. No.                         305.\n",
      "==============================================================================\n",
      "\n",
      "Notes:\n",
      "[1] Standard Errors assume that the covariance matrix of the errors is correctly specified.\n"
     ]
    }
   ],
   "source": [
    "print(results.summary())"
   ]
  },
  {
   "cell_type": "markdown",
   "metadata": {},
   "source": [
    "<font size='5'>$\\beta=(X^{'}X)^{-1}(X^{'}Y)$</font>"
   ]
  },
  {
   "cell_type": "code",
   "execution_count": 73,
   "metadata": {},
   "outputs": [],
   "source": [
    "Betas=np.dot(np.linalg.inv(np.dot(X_m.T,X_m)),np.dot(X_m.T,Y_m))\n",
    "# расчет коэффициентов регрессии"
   ]
  },
  {
   "cell_type": "code",
   "execution_count": 74,
   "metadata": {},
   "outputs": [
    {
     "data": {
      "text/plain": [
       "array([[10.90667606],\n",
       "       [ 0.03069693],\n",
       "       [ 0.0325133 ],\n",
       "       [-0.17458415],\n",
       "       [ 0.08109963],\n",
       "       [-0.9191583 ],\n",
       "       [-0.07083114]])"
      ]
     },
     "execution_count": 74,
     "metadata": {},
     "output_type": "execute_result"
    }
   ],
   "source": [
    "Betas"
   ]
  },
  {
   "cell_type": "code",
   "execution_count": 75,
   "metadata": {},
   "outputs": [],
   "source": [
    "Y_hat_m=np.dot(X_m,Betas)\n",
    "# выравненные значения переменной Y"
   ]
  },
  {
   "cell_type": "code",
   "execution_count": 76,
   "metadata": {},
   "outputs": [
    {
     "data": {
      "text/plain": [
       "array([[ 3.88022608],\n",
       "       [-1.2594435 ],\n",
       "       [ 3.08172883],\n",
       "       [ 3.05540531],\n",
       "       [ 2.44396456],\n",
       "       [ 2.15509137],\n",
       "       [ 1.76184652],\n",
       "       [ 4.14116147],\n",
       "       [ 2.38541908],\n",
       "       [ 5.57670253]])"
      ]
     },
     "execution_count": 76,
     "metadata": {},
     "output_type": "execute_result"
    }
   ],
   "source": [
    "Y_hat_m[0:10]"
   ]
  },
  {
   "cell_type": "code",
   "execution_count": 77,
   "metadata": {},
   "outputs": [],
   "source": [
    "resid_m=Y_m-Y_hat_m\n",
    "# остатки уравнения регессии"
   ]
  },
  {
   "cell_type": "code",
   "execution_count": 78,
   "metadata": {},
   "outputs": [
    {
     "data": {
      "text/plain": [
       "-7.48691232467359e-14"
      ]
     },
     "execution_count": 78,
     "metadata": {},
     "output_type": "execute_result"
    }
   ],
   "source": [
    "np.mean(resid_m)\n",
    "# среднее значение остатков незначимо отличается от нуля"
   ]
  },
  {
   "cell_type": "code",
   "execution_count": 79,
   "metadata": {},
   "outputs": [
    {
     "data": {
      "text/plain": [
       "NormaltestResult(statistic=array([30.80535973]), pvalue=array([2.0450368e-07]))"
      ]
     },
     "execution_count": 79,
     "metadata": {},
     "output_type": "execute_result"
    }
   ],
   "source": [
    "stats.normaltest(resid_m)\n",
    "# проверка нормальности распределения остатков"
   ]
  },
  {
   "cell_type": "code",
   "execution_count": 80,
   "metadata": {},
   "outputs": [
    {
     "data": {
      "text/plain": [
       "798.2295141788246"
      ]
     },
     "execution_count": 80,
     "metadata": {},
     "output_type": "execute_result"
    }
   ],
   "source": [
    "SSR_m=np.sum((resid_m)**2)\n",
    "SSR_m\n",
    "# cумма квадратов остатков уравнения регрессии"
   ]
  },
  {
   "cell_type": "markdown",
   "metadata": {},
   "source": [
    "### Проверим гипотезы $H_0:\\beta_i=0$ для каждого коэффициента регрессии"
   ]
  },
  {
   "cell_type": "markdown",
   "metadata": {},
   "source": [
    "### Используем тот же подход и формулы, как и в случае парной регрессии"
   ]
  },
  {
   "cell_type": "code",
   "execution_count": 81,
   "metadata": {},
   "outputs": [],
   "source": [
    "S_2_m=np.linalg.inv(np.dot(X_m.T,X_m))"
   ]
  },
  {
   "cell_type": "code",
   "execution_count": 82,
   "metadata": {},
   "outputs": [
    {
     "data": {
      "text/plain": [
       "array([[ 4.35410651e+00,  2.57383127e-02,  4.37248848e-03,\n",
       "        -3.04982487e-02, -8.77699374e-03, -4.12925619e-01,\n",
       "        -5.85873212e-03],\n",
       "       [ 2.57383127e-02,  9.02329783e-04,  3.18581752e-06,\n",
       "        -3.28663138e-05,  2.86970245e-04, -3.31145010e-03,\n",
       "         1.79232866e-04],\n",
       "       [ 4.37248848e-03,  3.18581752e-06,  4.61057923e-04,\n",
       "         2.30940338e-05,  3.88821737e-06, -7.33835434e-04,\n",
       "         2.32704223e-05],\n",
       "       [-3.04982487e-02, -3.28663138e-05,  2.30940338e-05,\n",
       "         1.84800993e-03, -6.05668936e-05,  2.66602664e-03,\n",
       "         7.76690951e-05],\n",
       "       [-8.77699374e-03,  2.86970245e-04,  3.88821737e-06,\n",
       "        -6.05668936e-05,  7.45663414e-04, -1.07692900e-03,\n",
       "         2.13556559e-04],\n",
       "       [-4.12925619e-01, -3.31145010e-03, -7.33835434e-04,\n",
       "         2.66602664e-03, -1.07692900e-03,  4.57124405e-02,\n",
       "        -9.20008228e-04],\n",
       "       [-5.85873212e-03,  1.79232866e-04,  2.32704223e-05,\n",
       "         7.76690951e-05,  2.13556559e-04, -9.20008228e-04,\n",
       "         1.23051380e-03]])"
      ]
     },
     "execution_count": 82,
     "metadata": {},
     "output_type": "execute_result"
    }
   ],
   "source": [
    "sigma_sq_m=((SSR_m/(n-k_m))*S_2_m)\n",
    "sigma_sq_m"
   ]
  },
  {
   "cell_type": "code",
   "execution_count": 83,
   "metadata": {},
   "outputs": [
    {
     "data": {
      "text/plain": [
       "array([[2.08664959],\n",
       "       [0.0300388 ],\n",
       "       [0.02147226],\n",
       "       [0.04298849],\n",
       "       [0.02730684],\n",
       "       [0.21380468],\n",
       "       [0.03507868]])"
      ]
     },
     "execution_count": 83,
     "metadata": {},
     "output_type": "execute_result"
    }
   ],
   "source": [
    "std_err_betas=np.sqrt(sigma_sq_m.diagonal())\n",
    "std_err_betas=std_err_betas[:,np.newaxis]\n",
    "std_err_betas\n",
    "# стандартная ошибка коэффициентов регрессии"
   ]
  },
  {
   "cell_type": "code",
   "execution_count": 84,
   "metadata": {},
   "outputs": [
    {
     "data": {
      "text/plain": [
       "array([[ 5.22688434],\n",
       "       [ 1.02190927],\n",
       "       [ 1.51420045],\n",
       "       [-4.06118395],\n",
       "       [ 2.96993849],\n",
       "       [-4.29905605],\n",
       "       [-2.01920767]])"
      ]
     },
     "execution_count": 84,
     "metadata": {},
     "output_type": "execute_result"
    }
   ],
   "source": [
    "t_m=Betas/std_err_betas\n",
    "t_m\n",
    "# t-критерий для коэффицентов регрессии"
   ]
  },
  {
   "cell_type": "code",
   "execution_count": 85,
   "metadata": {},
   "outputs": [
    {
     "data": {
      "text/plain": [
       "array([[6.28671847e-07],\n",
       "       [3.08624970e-01],\n",
       "       [1.32278686e-01],\n",
       "       [8.17518929e-05],\n",
       "       [3.51798440e-03],\n",
       "       [3.23477955e-05],\n",
       "       [4.54164790e-02]])"
      ]
     },
     "execution_count": 85,
     "metadata": {},
     "output_type": "execute_result"
    }
   ],
   "source": [
    "(2*(1-stats.t.cdf(np.abs(t_m),n-k_m)))\n",
    "# p-value"
   ]
  },
  {
   "cell_type": "markdown",
   "metadata": {},
   "source": [
    "### Проверим значимость уравнения ререссии, гипотеза $H_0:\\beta_1=...=\\beta_k=0$ "
   ]
  },
  {
   "cell_type": "code",
   "execution_count": 86,
   "metadata": {},
   "outputs": [
    {
     "data": {
      "text/plain": [
       "7.246693407276151"
      ]
     },
     "execution_count": 86,
     "metadata": {},
     "output_type": "execute_result"
    }
   ],
   "source": [
    "F_m=((np.var(econ_model['NY.GDP.MKTP.KD.ZG'])*n-SSR_m)/(k_m-1))/(SSR_m/(n-k_m))\n",
    "F_m\n",
    "# F-критерий"
   ]
  },
  {
   "cell_type": "code",
   "execution_count": 87,
   "metadata": {},
   "outputs": [
    {
     "data": {
      "text/plain": [
       "9.820021912299026e-07"
      ]
     },
     "execution_count": 87,
     "metadata": {},
     "output_type": "execute_result"
    }
   ],
   "source": [
    "1-stats.f.cdf(F_m,k_m-1,n-k_m)# p-value"
   ]
  },
  {
   "cell_type": "markdown",
   "metadata": {},
   "source": [
    "### В общем случае проверка  значимости коэффициентов регрессии осуществляется с использованием комбинации линейных ограничений: $R\\beta=q$"
   ]
  },
  {
   "cell_type": "code",
   "execution_count": 88,
   "metadata": {},
   "outputs": [],
   "source": [
    "R=np.identity(7) # создание единичной матрицы"
   ]
  },
  {
   "cell_type": "code",
   "execution_count": 89,
   "metadata": {},
   "outputs": [
    {
     "name": "stdout",
     "output_type": "stream",
     "text": [
      "[[1. 0. 0. 0. 0. 0. 0.]\n",
      " [0. 1. 0. 0. 0. 0. 0.]\n",
      " [0. 0. 1. 0. 0. 0. 0.]\n",
      " [0. 0. 0. 1. 0. 0. 0.]\n",
      " [0. 0. 0. 0. 1. 0. 0.]\n",
      " [0. 0. 0. 0. 0. 1. 0.]\n",
      " [0. 0. 0. 0. 0. 0. 1.]]\n"
     ]
    }
   ],
   "source": [
    "print(np.array(R))"
   ]
  },
  {
   "cell_type": "markdown",
   "metadata": {},
   "source": [
    "### Тестируем 6 линейных ограничений (все коэфф. регрессии кроме свободного члена равны 0)"
   ]
  },
  {
   "cell_type": "code",
   "execution_count": 90,
   "metadata": {},
   "outputs": [
    {
     "name": "stdout",
     "output_type": "stream",
     "text": [
      "<F test: F=7.246693407276164, p=9.820021912133978e-07, df_denom=137, df_num=6>\n"
     ]
    }
   ],
   "source": [
    "print(results.f_test(R[1:,])) # тестируем 6 линейных ограничений (все коэфф. регресси кроме свободного члена равны 0)"
   ]
  },
  {
   "cell_type": "markdown",
   "metadata": {},
   "source": [
    "### Результаты совпадают с предыдущим тестом (иначе и не может быть)"
   ]
  },
  {
   "cell_type": "markdown",
   "metadata": {},
   "source": [
    "### Проверим дополнительно гипотезу об одновременном равентстве нулю только коэффициентов регрессии для инфляции и инвестиций "
   ]
  },
  {
   "cell_type": "code",
   "execution_count": 91,
   "metadata": {},
   "outputs": [
    {
     "data": {
      "text/plain": [
       "array([[0., 0., 0., 1., 0., 0., 0.],\n",
       "       [0., 0., 0., 0., 1., 0., 0.]])"
      ]
     },
     "execution_count": 91,
     "metadata": {},
     "output_type": "execute_result"
    }
   ],
   "source": [
    "R[[3,4],:]"
   ]
  },
  {
   "cell_type": "code",
   "execution_count": 92,
   "metadata": {},
   "outputs": [
    {
     "name": "stdout",
     "output_type": "stream",
     "text": [
      "<F test: F=12.066680219469994, p=1.4898911424703721e-05, df_denom=137, df_num=2>\n"
     ]
    }
   ],
   "source": [
    "print(results.f_test(R[[3,4],:])) "
   ]
  },
  {
   "cell_type": "code",
   "execution_count": 93,
   "metadata": {},
   "outputs": [
    {
     "data": {
      "text/plain": [
       "1.4898911424698902e-05"
      ]
     },
     "execution_count": 93,
     "metadata": {},
     "output_type": "execute_result"
    }
   ],
   "source": [
    "1-stats.f.cdf(results.f_test(R[[3,4],:]).fvalue,k_m-5,n-k_m)# p-value"
   ]
  },
  {
   "cell_type": "markdown",
   "metadata": {},
   "source": [
    "### Гипотеза об одновременном равенстве 0 двух рассмотренных коэффициентов отвергается (p-value<$\\alpha$)"
   ]
  },
  {
   "cell_type": "code",
   "execution_count": 94,
   "metadata": {},
   "outputs": [
    {
     "data": {
      "text/plain": [
       "0.24091379538212898"
      ]
     },
     "execution_count": 94,
     "metadata": {},
     "output_type": "execute_result"
    }
   ],
   "source": [
    "R_sq_m=1-(SSR_m/np.sum((econ_model['NY.GDP.MKTP.KD.ZG']-np.mean(econ_model['NY.GDP.MKTP.KD.ZG']))**2))\n",
    "R_sq_m\n",
    "# коэффициент детерминации"
   ]
  },
  {
   "cell_type": "code",
   "execution_count": 95,
   "metadata": {},
   "outputs": [
    {
     "data": {
      "text/plain": [
       "0.20766914408499593"
      ]
     },
     "execution_count": 95,
     "metadata": {},
     "output_type": "execute_result"
    }
   ],
   "source": [
    "R_sq_adjusted=1-(((1-R_sq_m)*(n-1))/(n-k_m))\n",
    "R_sq_adjusted\n",
    "# скорректированный коэффициент детерминации"
   ]
  },
  {
   "cell_type": "code",
   "execution_count": 96,
   "metadata": {},
   "outputs": [
    {
     "data": {
      "text/plain": [
       "-327.6331152972289"
      ]
     },
     "execution_count": 96,
     "metadata": {},
     "output_type": "execute_result"
    }
   ],
   "source": [
    "L=(1/np.sqrt(2*np.pi*(SSR_m/n)))**n*np.exp(-SSR_m/((SSR_m/n)*2))\n",
    "np.log(L)\n",
    "# логарифмическая функция правдоподобия"
   ]
  },
  {
   "cell_type": "markdown",
   "metadata": {},
   "source": [
    "### Выводы: Уравнение регрессии значимо (p-value F-критерия существенно меньше уровня значимости $\\alpha$).  Модель объясняет 24.1% вариации роста ВВП. Две переменных, а именно BN.CAB.XOKA.GD.ZS, BX.KLT.DINV.WD.GD.ZS, оказались незначимы. Интерпретация каждого из коэффициентов регрессии осуществляется по аналогии с парной моделью."
   ]
  },
  {
   "cell_type": "markdown",
   "metadata": {
    "collapsed": true
   },
   "source": [
    "## 7. Построение модели множественной регрессии пошаговым методом"
   ]
  },
  {
   "cell_type": "markdown",
   "metadata": {},
   "source": [
    "### В предыдущем разделе была рассмотрена множественная регрессионная модель, в которую вошли все независимые переменные. Однако на практике такой подход не всегда оправдан. При большом количестве переменных пользуются пошаговым методом. Это означает, что на каждом шаге мы включаем или исключаем переменные в зависимости от значимости коэффициентов регрессии (формальный критерий не всегда является окончательным решением)."
   ]
  },
  {
   "cell_type": "markdown",
   "metadata": {},
   "source": [
    "### Шаг 1. Начинаем построение модели с двух переменных BN.CAB.XOKA.GD.ZS и BX.KLT.DINV.WD.GD.ZS (текущий баланс и прямые инвестиции)"
   ]
  },
  {
   "cell_type": "code",
   "execution_count": 97,
   "metadata": {},
   "outputs": [],
   "source": [
    "X_m=sm.add_constant(econ_model.iloc[:,[0,1]],prepend=True)"
   ]
  },
  {
   "cell_type": "code",
   "execution_count": 98,
   "metadata": {},
   "outputs": [
    {
     "data": {
      "text/html": [
       "<table class=\"simpletable\">\n",
       "<caption>OLS Regression Results</caption>\n",
       "<tr>\n",
       "  <th>Dep. Variable:</th>            <td>y</td>        <th>  R-squared:         </th> <td>   0.019</td>\n",
       "</tr>\n",
       "<tr>\n",
       "  <th>Model:</th>                   <td>OLS</td>       <th>  Adj. R-squared:    </th> <td>   0.005</td>\n",
       "</tr>\n",
       "<tr>\n",
       "  <th>Method:</th>             <td>Least Squares</td>  <th>  F-statistic:       </th> <td>   1.371</td>\n",
       "</tr>\n",
       "<tr>\n",
       "  <th>Date:</th>             <td>Wed, 18 May 2022</td> <th>  Prob (F-statistic):</th>  <td> 0.257</td> \n",
       "</tr>\n",
       "<tr>\n",
       "  <th>Time:</th>                 <td>23:08:58</td>     <th>  Log-Likelihood:    </th> <td> -346.09</td>\n",
       "</tr>\n",
       "<tr>\n",
       "  <th>No. Observations:</th>      <td>   144</td>      <th>  AIC:               </th> <td>   698.2</td>\n",
       "</tr>\n",
       "<tr>\n",
       "  <th>Df Residuals:</th>          <td>   141</td>      <th>  BIC:               </th> <td>   707.1</td>\n",
       "</tr>\n",
       "<tr>\n",
       "  <th>Df Model:</th>              <td>     2</td>      <th>                     </th>     <td> </td>   \n",
       "</tr>\n",
       "<tr>\n",
       "  <th>Covariance Type:</th>      <td>nonrobust</td>    <th>                     </th>     <td> </td>   \n",
       "</tr>\n",
       "</table>\n",
       "<table class=\"simpletable\">\n",
       "<tr>\n",
       "            <td></td>              <th>coef</th>     <th>std err</th>      <th>t</th>      <th>P>|t|</th>  <th>[0.025</th>    <th>0.975]</th>  \n",
       "</tr>\n",
       "<tr>\n",
       "  <th>const</th>                <td>    2.9475</td> <td>    0.271</td> <td>   10.895</td> <td> 0.000</td> <td>    2.413</td> <td>    3.482</td>\n",
       "</tr>\n",
       "<tr>\n",
       "  <th>BN.CAB.XOKA.GD.ZS</th>    <td>   -0.0380</td> <td>    0.027</td> <td>   -1.402</td> <td> 0.163</td> <td>   -0.092</td> <td>    0.016</td>\n",
       "</tr>\n",
       "<tr>\n",
       "  <th>BX.KLT.DINV.WD.GD.ZS</th> <td>    0.0242</td> <td>    0.024</td> <td>    1.021</td> <td> 0.309</td> <td>   -0.023</td> <td>    0.071</td>\n",
       "</tr>\n",
       "</table>\n",
       "<table class=\"simpletable\">\n",
       "<tr>\n",
       "  <th>Omnibus:</th>       <td>19.878</td> <th>  Durbin-Watson:     </th> <td>   1.721</td>\n",
       "</tr>\n",
       "<tr>\n",
       "  <th>Prob(Omnibus):</th> <td> 0.000</td> <th>  Jarque-Bera (JB):  </th> <td>  49.996</td>\n",
       "</tr>\n",
       "<tr>\n",
       "  <th>Skew:</th>          <td> 0.506</td> <th>  Prob(JB):          </th> <td>1.39e-11</td>\n",
       "</tr>\n",
       "<tr>\n",
       "  <th>Kurtosis:</th>      <td> 5.704</td> <th>  Cond. No.          </th> <td>    13.0</td>\n",
       "</tr>\n",
       "</table><br/><br/>Notes:<br/>[1] Standard Errors assume that the covariance matrix of the errors is correctly specified."
      ],
      "text/plain": [
       "<class 'statsmodels.iolib.summary.Summary'>\n",
       "\"\"\"\n",
       "                            OLS Regression Results                            \n",
       "==============================================================================\n",
       "Dep. Variable:                      y   R-squared:                       0.019\n",
       "Model:                            OLS   Adj. R-squared:                  0.005\n",
       "Method:                 Least Squares   F-statistic:                     1.371\n",
       "Date:                Wed, 18 May 2022   Prob (F-statistic):              0.257\n",
       "Time:                        23:08:58   Log-Likelihood:                -346.09\n",
       "No. Observations:                 144   AIC:                             698.2\n",
       "Df Residuals:                     141   BIC:                             707.1\n",
       "Df Model:                           2                                         \n",
       "Covariance Type:            nonrobust                                         \n",
       "========================================================================================\n",
       "                           coef    std err          t      P>|t|      [0.025      0.975]\n",
       "----------------------------------------------------------------------------------------\n",
       "const                    2.9475      0.271     10.895      0.000       2.413       3.482\n",
       "BN.CAB.XOKA.GD.ZS       -0.0380      0.027     -1.402      0.163      -0.092       0.016\n",
       "BX.KLT.DINV.WD.GD.ZS     0.0242      0.024      1.021      0.309      -0.023       0.071\n",
       "==============================================================================\n",
       "Omnibus:                       19.878   Durbin-Watson:                   1.721\n",
       "Prob(Omnibus):                  0.000   Jarque-Bera (JB):               49.996\n",
       "Skew:                           0.506   Prob(JB):                     1.39e-11\n",
       "Kurtosis:                       5.704   Cond. No.                         13.0\n",
       "==============================================================================\n",
       "\n",
       "Notes:\n",
       "[1] Standard Errors assume that the covariance matrix of the errors is correctly specified.\n",
       "\"\"\""
      ]
     },
     "execution_count": 98,
     "metadata": {},
     "output_type": "execute_result"
    }
   ],
   "source": [
    "sm.OLS(Y_m,X_m).fit().summary()"
   ]
  },
  {
   "cell_type": "markdown",
   "metadata": {},
   "source": [
    "### Уравнение незначимо, что следует из значения F-критерия (p-value)"
   ]
  },
  {
   "cell_type": "markdown",
   "metadata": {},
   "source": [
    "### Шаг 2. Включаем в модель переменные FP.CPI.TOTL.ZG и NE.GDI.TOTL.ZS (инфляция и инвестиции)"
   ]
  },
  {
   "cell_type": "code",
   "execution_count": 99,
   "metadata": {},
   "outputs": [],
   "source": [
    "X_m=sm.add_constant(econ_model.iloc[:,[2,3]],prepend=True)"
   ]
  },
  {
   "cell_type": "code",
   "execution_count": 100,
   "metadata": {},
   "outputs": [
    {
     "data": {
      "text/html": [
       "<table class=\"simpletable\">\n",
       "<caption>OLS Regression Results</caption>\n",
       "<tr>\n",
       "  <th>Dep. Variable:</th>            <td>y</td>        <th>  R-squared:         </th> <td>   0.092</td>\n",
       "</tr>\n",
       "<tr>\n",
       "  <th>Model:</th>                   <td>OLS</td>       <th>  Adj. R-squared:    </th> <td>   0.079</td>\n",
       "</tr>\n",
       "<tr>\n",
       "  <th>Method:</th>             <td>Least Squares</td>  <th>  F-statistic:       </th> <td>   7.167</td>\n",
       "</tr>\n",
       "<tr>\n",
       "  <th>Date:</th>             <td>Wed, 18 May 2022</td> <th>  Prob (F-statistic):</th>  <td>0.00109</td>\n",
       "</tr>\n",
       "<tr>\n",
       "  <th>Time:</th>                 <td>23:08:58</td>     <th>  Log-Likelihood:    </th> <td> -340.51</td>\n",
       "</tr>\n",
       "<tr>\n",
       "  <th>No. Observations:</th>      <td>   144</td>      <th>  AIC:               </th> <td>   687.0</td>\n",
       "</tr>\n",
       "<tr>\n",
       "  <th>Df Residuals:</th>          <td>   141</td>      <th>  BIC:               </th> <td>   695.9</td>\n",
       "</tr>\n",
       "<tr>\n",
       "  <th>Df Model:</th>              <td>     2</td>      <th>                     </th>     <td> </td>   \n",
       "</tr>\n",
       "<tr>\n",
       "  <th>Covariance Type:</th>      <td>nonrobust</td>    <th>                     </th>     <td> </td>   \n",
       "</tr>\n",
       "</table>\n",
       "<table class=\"simpletable\">\n",
       "<tr>\n",
       "         <td></td>           <th>coef</th>     <th>std err</th>      <th>t</th>      <th>P>|t|</th>  <th>[0.025</th>    <th>0.975]</th>  \n",
       "</tr>\n",
       "<tr>\n",
       "  <th>const</th>          <td>    1.5253</td> <td>    0.709</td> <td>    2.150</td> <td> 0.033</td> <td>    0.123</td> <td>    2.928</td>\n",
       "</tr>\n",
       "<tr>\n",
       "  <th>FP.CPI.TOTL.ZG</th> <td>   -0.1078</td> <td>    0.044</td> <td>   -2.476</td> <td> 0.014</td> <td>   -0.194</td> <td>   -0.022</td>\n",
       "</tr>\n",
       "<tr>\n",
       "  <th>NE.GDI.TOTL.ZS</th> <td>    0.0817</td> <td>    0.027</td> <td>    3.009</td> <td> 0.003</td> <td>    0.028</td> <td>    0.135</td>\n",
       "</tr>\n",
       "</table>\n",
       "<table class=\"simpletable\">\n",
       "<tr>\n",
       "  <th>Omnibus:</th>       <td>22.908</td> <th>  Durbin-Watson:     </th> <td>   1.829</td>\n",
       "</tr>\n",
       "<tr>\n",
       "  <th>Prob(Omnibus):</th> <td> 0.000</td> <th>  Jarque-Bera (JB):  </th> <td>  50.842</td>\n",
       "</tr>\n",
       "<tr>\n",
       "  <th>Skew:</th>          <td> 0.654</td> <th>  Prob(JB):          </th> <td>9.12e-12</td>\n",
       "</tr>\n",
       "<tr>\n",
       "  <th>Kurtosis:</th>      <td> 5.600</td> <th>  Cond. No.          </th> <td>    85.6</td>\n",
       "</tr>\n",
       "</table><br/><br/>Notes:<br/>[1] Standard Errors assume that the covariance matrix of the errors is correctly specified."
      ],
      "text/plain": [
       "<class 'statsmodels.iolib.summary.Summary'>\n",
       "\"\"\"\n",
       "                            OLS Regression Results                            \n",
       "==============================================================================\n",
       "Dep. Variable:                      y   R-squared:                       0.092\n",
       "Model:                            OLS   Adj. R-squared:                  0.079\n",
       "Method:                 Least Squares   F-statistic:                     7.167\n",
       "Date:                Wed, 18 May 2022   Prob (F-statistic):            0.00109\n",
       "Time:                        23:08:58   Log-Likelihood:                -340.51\n",
       "No. Observations:                 144   AIC:                             687.0\n",
       "Df Residuals:                     141   BIC:                             695.9\n",
       "Df Model:                           2                                         \n",
       "Covariance Type:            nonrobust                                         \n",
       "==================================================================================\n",
       "                     coef    std err          t      P>|t|      [0.025      0.975]\n",
       "----------------------------------------------------------------------------------\n",
       "const              1.5253      0.709      2.150      0.033       0.123       2.928\n",
       "FP.CPI.TOTL.ZG    -0.1078      0.044     -2.476      0.014      -0.194      -0.022\n",
       "NE.GDI.TOTL.ZS     0.0817      0.027      3.009      0.003       0.028       0.135\n",
       "==============================================================================\n",
       "Omnibus:                       22.908   Durbin-Watson:                   1.829\n",
       "Prob(Omnibus):                  0.000   Jarque-Bera (JB):               50.842\n",
       "Skew:                           0.654   Prob(JB):                     9.12e-12\n",
       "Kurtosis:                       5.600   Cond. No.                         85.6\n",
       "==============================================================================\n",
       "\n",
       "Notes:\n",
       "[1] Standard Errors assume that the covariance matrix of the errors is correctly specified.\n",
       "\"\"\""
      ]
     },
     "execution_count": 100,
     "metadata": {},
     "output_type": "execute_result"
    }
   ],
   "source": [
    "sm.OLS(Y_m,X_m).fit().summary()"
   ]
  },
  {
   "cell_type": "markdown",
   "metadata": {},
   "source": [
    "### Уравнение  значимо, что следует из значения F-критерия, однако связь носит достаточно слабый характер"
   ]
  },
  {
   "cell_type": "markdown",
   "metadata": {},
   "source": [
    "### Шаг 3. Добавляем переменную NY.GDP.PCAP.PP.CD (логарифм ВВП по ППС)"
   ]
  },
  {
   "cell_type": "code",
   "execution_count": 101,
   "metadata": {},
   "outputs": [],
   "source": [
    "X_m=sm.add_constant(econ_model.iloc[:,[2,3,5]],prepend=True)"
   ]
  },
  {
   "cell_type": "code",
   "execution_count": 102,
   "metadata": {},
   "outputs": [
    {
     "data": {
      "text/html": [
       "<table class=\"simpletable\">\n",
       "<caption>OLS Regression Results</caption>\n",
       "<tr>\n",
       "  <th>Dep. Variable:</th>            <td>y</td>        <th>  R-squared:         </th> <td>   0.194</td>\n",
       "</tr>\n",
       "<tr>\n",
       "  <th>Model:</th>                   <td>OLS</td>       <th>  Adj. R-squared:    </th> <td>   0.177</td>\n",
       "</tr>\n",
       "<tr>\n",
       "  <th>Method:</th>             <td>Least Squares</td>  <th>  F-statistic:       </th> <td>   11.22</td>\n",
       "</tr>\n",
       "<tr>\n",
       "  <th>Date:</th>             <td>Wed, 18 May 2022</td> <th>  Prob (F-statistic):</th> <td>1.20e-06</td>\n",
       "</tr>\n",
       "<tr>\n",
       "  <th>Time:</th>                 <td>23:08:58</td>     <th>  Log-Likelihood:    </th> <td> -331.96</td>\n",
       "</tr>\n",
       "<tr>\n",
       "  <th>No. Observations:</th>      <td>   144</td>      <th>  AIC:               </th> <td>   671.9</td>\n",
       "</tr>\n",
       "<tr>\n",
       "  <th>Df Residuals:</th>          <td>   140</td>      <th>  BIC:               </th> <td>   683.8</td>\n",
       "</tr>\n",
       "<tr>\n",
       "  <th>Df Model:</th>              <td>     3</td>      <th>                     </th>     <td> </td>   \n",
       "</tr>\n",
       "<tr>\n",
       "  <th>Covariance Type:</th>      <td>nonrobust</td>    <th>                     </th>     <td> </td>   \n",
       "</tr>\n",
       "</table>\n",
       "<table class=\"simpletable\">\n",
       "<tr>\n",
       "          <td></td>             <th>coef</th>     <th>std err</th>      <th>t</th>      <th>P>|t|</th>  <th>[0.025</th>    <th>0.975]</th>  \n",
       "</tr>\n",
       "<tr>\n",
       "  <th>const</th>             <td>    8.9947</td> <td>    1.900</td> <td>    4.733</td> <td> 0.000</td> <td>    5.237</td> <td>   12.752</td>\n",
       "</tr>\n",
       "<tr>\n",
       "  <th>FP.CPI.TOTL.ZG</th>    <td>   -0.1696</td> <td>    0.044</td> <td>   -3.879</td> <td> 0.000</td> <td>   -0.256</td> <td>   -0.083</td>\n",
       "</tr>\n",
       "<tr>\n",
       "  <th>NE.GDI.TOTL.ZS</th>    <td>    0.0814</td> <td>    0.026</td> <td>    3.172</td> <td> 0.002</td> <td>    0.031</td> <td>    0.132</td>\n",
       "</tr>\n",
       "<tr>\n",
       "  <th>NY.GDP.PCAP.PP.CD</th> <td>   -0.7707</td> <td>    0.183</td> <td>   -4.201</td> <td> 0.000</td> <td>   -1.133</td> <td>   -0.408</td>\n",
       "</tr>\n",
       "</table>\n",
       "<table class=\"simpletable\">\n",
       "<tr>\n",
       "  <th>Omnibus:</th>       <td>26.269</td> <th>  Durbin-Watson:     </th> <td>   1.642</td>\n",
       "</tr>\n",
       "<tr>\n",
       "  <th>Prob(Omnibus):</th> <td> 0.000</td> <th>  Jarque-Bera (JB):  </th> <td>  91.047</td>\n",
       "</tr>\n",
       "<tr>\n",
       "  <th>Skew:</th>          <td> 0.578</td> <th>  Prob(JB):          </th> <td>1.70e-20</td>\n",
       "</tr>\n",
       "<tr>\n",
       "  <th>Kurtosis:</th>      <td> 6.720</td> <th>  Cond. No.          </th> <td>    257.</td>\n",
       "</tr>\n",
       "</table><br/><br/>Notes:<br/>[1] Standard Errors assume that the covariance matrix of the errors is correctly specified."
      ],
      "text/plain": [
       "<class 'statsmodels.iolib.summary.Summary'>\n",
       "\"\"\"\n",
       "                            OLS Regression Results                            \n",
       "==============================================================================\n",
       "Dep. Variable:                      y   R-squared:                       0.194\n",
       "Model:                            OLS   Adj. R-squared:                  0.177\n",
       "Method:                 Least Squares   F-statistic:                     11.22\n",
       "Date:                Wed, 18 May 2022   Prob (F-statistic):           1.20e-06\n",
       "Time:                        23:08:58   Log-Likelihood:                -331.96\n",
       "No. Observations:                 144   AIC:                             671.9\n",
       "Df Residuals:                     140   BIC:                             683.8\n",
       "Df Model:                           3                                         \n",
       "Covariance Type:            nonrobust                                         \n",
       "=====================================================================================\n",
       "                        coef    std err          t      P>|t|      [0.025      0.975]\n",
       "-------------------------------------------------------------------------------------\n",
       "const                 8.9947      1.900      4.733      0.000       5.237      12.752\n",
       "FP.CPI.TOTL.ZG       -0.1696      0.044     -3.879      0.000      -0.256      -0.083\n",
       "NE.GDI.TOTL.ZS        0.0814      0.026      3.172      0.002       0.031       0.132\n",
       "NY.GDP.PCAP.PP.CD    -0.7707      0.183     -4.201      0.000      -1.133      -0.408\n",
       "==============================================================================\n",
       "Omnibus:                       26.269   Durbin-Watson:                   1.642\n",
       "Prob(Omnibus):                  0.000   Jarque-Bera (JB):               91.047\n",
       "Skew:                           0.578   Prob(JB):                     1.70e-20\n",
       "Kurtosis:                       6.720   Cond. No.                         257.\n",
       "==============================================================================\n",
       "\n",
       "Notes:\n",
       "[1] Standard Errors assume that the covariance matrix of the errors is correctly specified.\n",
       "\"\"\""
      ]
     },
     "execution_count": 102,
     "metadata": {},
     "output_type": "execute_result"
    }
   ],
   "source": [
    "sm.OLS(Y_m,X_m).fit().summary()"
   ]
  },
  {
   "cell_type": "markdown",
   "metadata": {},
   "source": [
    "### Включенная переменная - логарифм ВВП по ППС  -  улучшила качество модели. Модель  объясняет порядка 20% вариации переменной Y. На улучшение качества модели также указывают значения критериев Log-Likelihood (логарифмическая функция правдоподобия), AIC и BIC."
   ]
  },
  {
   "cell_type": "markdown",
   "metadata": {},
   "source": [
    "### Шаг 4. Добавляем переменную SL.UEM.TOTL.ZS (безработица)"
   ]
  },
  {
   "cell_type": "code",
   "execution_count": 103,
   "metadata": {},
   "outputs": [],
   "source": [
    "X_m=sm.add_constant(econ_model.iloc[:,[2,3,5,6]],prepend=True)"
   ]
  },
  {
   "cell_type": "code",
   "execution_count": 104,
   "metadata": {},
   "outputs": [],
   "source": [
    "model_step=sm.OLS(Y,X_m).fit()"
   ]
  },
  {
   "cell_type": "code",
   "execution_count": 105,
   "metadata": {},
   "outputs": [
    {
     "data": {
      "text/html": [
       "<table class=\"simpletable\">\n",
       "<caption>OLS Regression Results</caption>\n",
       "<tr>\n",
       "  <th>Dep. Variable:</th>    <td>NY.GDP.MKTP.KD.ZG</td> <th>  R-squared:         </th> <td>   0.223</td>\n",
       "</tr>\n",
       "<tr>\n",
       "  <th>Model:</th>                   <td>OLS</td>        <th>  Adj. R-squared:    </th> <td>   0.200</td>\n",
       "</tr>\n",
       "<tr>\n",
       "  <th>Method:</th>             <td>Least Squares</td>   <th>  F-statistic:       </th> <td>   9.945</td>\n",
       "</tr>\n",
       "<tr>\n",
       "  <th>Date:</th>             <td>Wed, 18 May 2022</td>  <th>  Prob (F-statistic):</th> <td>4.17e-07</td>\n",
       "</tr>\n",
       "<tr>\n",
       "  <th>Time:</th>                 <td>23:08:58</td>      <th>  Log-Likelihood:    </th> <td> -329.36</td>\n",
       "</tr>\n",
       "<tr>\n",
       "  <th>No. Observations:</th>      <td>   144</td>       <th>  AIC:               </th> <td>   668.7</td>\n",
       "</tr>\n",
       "<tr>\n",
       "  <th>Df Residuals:</th>          <td>   139</td>       <th>  BIC:               </th> <td>   683.6</td>\n",
       "</tr>\n",
       "<tr>\n",
       "  <th>Df Model:</th>              <td>     4</td>       <th>                     </th>     <td> </td>   \n",
       "</tr>\n",
       "<tr>\n",
       "  <th>Covariance Type:</th>      <td>nonrobust</td>     <th>                     </th>     <td> </td>   \n",
       "</tr>\n",
       "</table>\n",
       "<table class=\"simpletable\">\n",
       "<tr>\n",
       "          <td></td>             <th>coef</th>     <th>std err</th>      <th>t</th>      <th>P>|t|</th>  <th>[0.025</th>    <th>0.975]</th>  \n",
       "</tr>\n",
       "<tr>\n",
       "  <th>const</th>             <td>    9.7301</td> <td>    1.901</td> <td>    5.118</td> <td> 0.000</td> <td>    5.971</td> <td>   13.489</td>\n",
       "</tr>\n",
       "<tr>\n",
       "  <th>FP.CPI.TOTL.ZG</th>    <td>   -0.1751</td> <td>    0.043</td> <td>   -4.056</td> <td> 0.000</td> <td>   -0.260</td> <td>   -0.090</td>\n",
       "</tr>\n",
       "<tr>\n",
       "  <th>NE.GDI.TOTL.ZS</th>    <td>    0.0711</td> <td>    0.026</td> <td>    2.768</td> <td> 0.006</td> <td>    0.020</td> <td>    0.122</td>\n",
       "</tr>\n",
       "<tr>\n",
       "  <th>NY.GDP.PCAP.PP.CD</th> <td>   -0.7557</td> <td>    0.181</td> <td>   -4.177</td> <td> 0.000</td> <td>   -1.113</td> <td>   -0.398</td>\n",
       "</tr>\n",
       "<tr>\n",
       "  <th>SL.UEM.TOTL.ZS</th>    <td>   -0.0785</td> <td>    0.035</td> <td>   -2.262</td> <td> 0.025</td> <td>   -0.147</td> <td>   -0.010</td>\n",
       "</tr>\n",
       "</table>\n",
       "<table class=\"simpletable\">\n",
       "<tr>\n",
       "  <th>Omnibus:</th>       <td>26.636</td> <th>  Durbin-Watson:     </th> <td>   1.648</td>\n",
       "</tr>\n",
       "<tr>\n",
       "  <th>Prob(Omnibus):</th> <td> 0.000</td> <th>  Jarque-Bera (JB):  </th> <td> 107.866</td>\n",
       "</tr>\n",
       "<tr>\n",
       "  <th>Skew:</th>          <td> 0.523</td> <th>  Prob(JB):          </th> <td>3.78e-24</td>\n",
       "</tr>\n",
       "<tr>\n",
       "  <th>Kurtosis:</th>      <td> 7.109</td> <th>  Cond. No.          </th> <td>    270.</td>\n",
       "</tr>\n",
       "</table><br/><br/>Notes:<br/>[1] Standard Errors assume that the covariance matrix of the errors is correctly specified."
      ],
      "text/plain": [
       "<class 'statsmodels.iolib.summary.Summary'>\n",
       "\"\"\"\n",
       "                            OLS Regression Results                            \n",
       "==============================================================================\n",
       "Dep. Variable:      NY.GDP.MKTP.KD.ZG   R-squared:                       0.223\n",
       "Model:                            OLS   Adj. R-squared:                  0.200\n",
       "Method:                 Least Squares   F-statistic:                     9.945\n",
       "Date:                Wed, 18 May 2022   Prob (F-statistic):           4.17e-07\n",
       "Time:                        23:08:58   Log-Likelihood:                -329.36\n",
       "No. Observations:                 144   AIC:                             668.7\n",
       "Df Residuals:                     139   BIC:                             683.6\n",
       "Df Model:                           4                                         \n",
       "Covariance Type:            nonrobust                                         \n",
       "=====================================================================================\n",
       "                        coef    std err          t      P>|t|      [0.025      0.975]\n",
       "-------------------------------------------------------------------------------------\n",
       "const                 9.7301      1.901      5.118      0.000       5.971      13.489\n",
       "FP.CPI.TOTL.ZG       -0.1751      0.043     -4.056      0.000      -0.260      -0.090\n",
       "NE.GDI.TOTL.ZS        0.0711      0.026      2.768      0.006       0.020       0.122\n",
       "NY.GDP.PCAP.PP.CD    -0.7557      0.181     -4.177      0.000      -1.113      -0.398\n",
       "SL.UEM.TOTL.ZS       -0.0785      0.035     -2.262      0.025      -0.147      -0.010\n",
       "==============================================================================\n",
       "Omnibus:                       26.636   Durbin-Watson:                   1.648\n",
       "Prob(Omnibus):                  0.000   Jarque-Bera (JB):              107.866\n",
       "Skew:                           0.523   Prob(JB):                     3.78e-24\n",
       "Kurtosis:                       7.109   Cond. No.                         270.\n",
       "==============================================================================\n",
       "\n",
       "Notes:\n",
       "[1] Standard Errors assume that the covariance matrix of the errors is correctly specified.\n",
       "\"\"\""
      ]
     },
     "execution_count": 105,
     "metadata": {},
     "output_type": "execute_result"
    }
   ],
   "source": [
    "model_step.summary()"
   ]
  },
  {
   "cell_type": "markdown",
   "metadata": {},
   "source": [
    "### Общий вывод: рост ВВП положительно зависит от валового образования капитала (инвестиции) и отрицательно от инфляции, ВВП по ППС и безработицы.\n",
    "### Более бедные страны растут быстрее, а снижение инфляции и безработицы положительно влияет на экономический рост. Последний вывод нуждается в проверке, т.к. несколько противоречит кривой Филлипса."
   ]
  },
  {
   "cell_type": "markdown",
   "metadata": {},
   "source": [
    "### Критерии AIC и BIC"
   ]
  },
  {
   "cell_type": "markdown",
   "metadata": {},
   "source": [
    "### С помощью функции Log-Likelihood (логарифмическая функция правдоподобия) и критериев AIC и BIC можно провести сравительный анализ  качества модели. Снижение указанных критериев свидетельствует об улучшении качества модели."
   ]
  },
  {
   "cell_type": "code",
   "execution_count": 106,
   "metadata": {},
   "outputs": [
    {
     "data": {
      "text/plain": [
       "-329.35810000846305"
      ]
     },
     "execution_count": 106,
     "metadata": {},
     "output_type": "execute_result"
    }
   ],
   "source": [
    "model_step.llf"
   ]
  },
  {
   "cell_type": "code",
   "execution_count": 107,
   "metadata": {},
   "outputs": [],
   "source": [
    "k=5"
   ]
  },
  {
   "cell_type": "code",
   "execution_count": 108,
   "metadata": {},
   "outputs": [
    {
     "data": {
      "text/plain": [
       "668.7162000169261"
      ]
     },
     "execution_count": 108,
     "metadata": {},
     "output_type": "execute_result"
    }
   ],
   "source": [
    "AIC=2*k-2*model_step.llf\n",
    "AIC"
   ]
  },
  {
   "cell_type": "code",
   "execution_count": 109,
   "metadata": {},
   "outputs": [
    {
     "data": {
      "text/plain": [
       "683.5652665148061"
      ]
     },
     "execution_count": 109,
     "metadata": {},
     "output_type": "execute_result"
    }
   ],
   "source": [
    "BIC=k*np.log(n)-2*model_step.llf\n",
    "BIC"
   ]
  },
  {
   "cell_type": "markdown",
   "metadata": {},
   "source": [
    "## 8.Проверка выполнения предпосылок Гаусса-Маркова"
   ]
  },
  {
   "cell_type": "markdown",
   "metadata": {},
   "source": [
    "### 8.1. Анализ остатков уравнения регрессии"
   ]
  },
  {
   "cell_type": "markdown",
   "metadata": {},
   "source": [
    "### Графический анализ остатков позволяет визуализировать отклонения модели от предпосылок теоремы Маркова-Гаусса и провести первичную диагностику модели. Для этих целей используются разные виды графиков. В задании мы остановимся на двух из них."
   ]
  },
  {
   "cell_type": "markdown",
   "metadata": {},
   "source": [
    "### График 'Выравненные значения vs Остатки'. Цель построения графика - проанализировать зависимость остатков от выравненных значений переменной Y. С помощью графика можно выявить признаки автокорреляции и гетеоскедастичности."
   ]
  },
  {
   "cell_type": "code",
   "execution_count": 110,
   "metadata": {},
   "outputs": [
    {
     "data": {
      "image/png": "[encoded data removed]",
      "text/plain": [
       "<Figure size 432x288 with 1 Axes>"
      ]
     },
     "metadata": {
      "needs_background": "light"
     },
     "output_type": "display_data"
    },
    {
     "data": {
      "text/plain": [
       "<Figure size 432x288 with 0 Axes>"
      ]
     },
     "metadata": {},
     "output_type": "display_data"
    }
   ],
   "source": [
    "plt.scatter(x=model_step.fittedvalues,y=model_step.resid, c='green')\n",
    "plt.title('Выравненные значени vs Остатки')\n",
    "plt.ylabel('Остатки уравнения')\n",
    "plt.xlabel('Выравненные значения')\n",
    "plt.show()\n",
    "plt.gcf().clear()"
   ]
  },
  {
   "cell_type": "markdown",
   "metadata": {},
   "source": [
    "### Проверка нормальности распределения остатков "
   ]
  },
  {
   "cell_type": "code",
   "execution_count": 111,
   "metadata": {},
   "outputs": [
    {
     "data": {
      "image/png": "[encoded data removed]",
      "text/plain": [
       "<Figure size 432x288 with 1 Axes>"
      ]
     },
     "metadata": {
      "needs_background": "light"
     },
     "output_type": "display_data"
    },
    {
     "data": {
      "text/plain": [
       "<Figure size 432x288 with 0 Axes>"
      ]
     },
     "metadata": {},
     "output_type": "display_data"
    }
   ],
   "source": [
    "sm.qqplot(model_step.resid)\n",
    "plt.show()\n",
    "plt.gcf().clear()"
   ]
  },
  {
   "cell_type": "markdown",
   "metadata": {},
   "source": [
    "### Вывод: Визуальный анализ QQ-plot не позволяет сделать однозначный вывод о нормальности рапсределения остатков. Вывод следует делать на основании тестов (например, Jarque-Bera тест), которые говорят о том, что гипотеза нормальности не принимается. Само по себе отсутствие нормальности рапсределения остатков не является препятствием для использования модели, однако стоит обратить внимание на экстремальные значения."
   ]
  },
  {
   "cell_type": "markdown",
   "metadata": {},
   "source": [
    "### 8.2. Автокорреляция"
   ]
  },
  {
   "cell_type": "markdown",
   "metadata": {},
   "source": [
    "### Наличие автокорреляции в остатках может говорить о том, что модель систематически недоучитывает влияние других факторов, невключенных в модель. Для выявления наличия авткорреляции в остатках уравнения регрессии воспользуемся критериями Дарбина-Уотсона и Льюнга-Бокса."
   ]
  },
  {
   "cell_type": "code",
   "execution_count": 112,
   "metadata": {},
   "outputs": [
    {
     "data": {
      "text/html": [
       "<div>\n",
       "<style scoped>\n",
       "    .dataframe tbody tr th:only-of-type {\n",
       "        vertical-align: middle;\n",
       "    }\n",
       "\n",
       "    .dataframe tbody tr th {\n",
       "        vertical-align: top;\n",
       "    }\n",
       "\n",
       "    .dataframe thead th {\n",
       "        text-align: right;\n",
       "    }\n",
       "</style>\n",
       "<table border=\"1\" class=\"dataframe\">\n",
       "  <thead>\n",
       "    <tr style=\"text-align: right;\">\n",
       "      <th></th>\n",
       "      <th>lb_stat</th>\n",
       "      <th>lb_pvalue</th>\n",
       "    </tr>\n",
       "  </thead>\n",
       "  <tbody>\n",
       "    <tr>\n",
       "      <th>1</th>\n",
       "      <td>4.027416</td>\n",
       "      <td>0.044766</td>\n",
       "    </tr>\n",
       "    <tr>\n",
       "      <th>2</th>\n",
       "      <td>4.030979</td>\n",
       "      <td>0.133255</td>\n",
       "    </tr>\n",
       "    <tr>\n",
       "      <th>3</th>\n",
       "      <td>4.465919</td>\n",
       "      <td>0.215350</td>\n",
       "    </tr>\n",
       "    <tr>\n",
       "      <th>4</th>\n",
       "      <td>4.833441</td>\n",
       "      <td>0.304818</td>\n",
       "    </tr>\n",
       "    <tr>\n",
       "      <th>5</th>\n",
       "      <td>6.647046</td>\n",
       "      <td>0.248241</td>\n",
       "    </tr>\n",
       "    <tr>\n",
       "      <th>6</th>\n",
       "      <td>6.679047</td>\n",
       "      <td>0.351551</td>\n",
       "    </tr>\n",
       "    <tr>\n",
       "      <th>7</th>\n",
       "      <td>6.902324</td>\n",
       "      <td>0.439120</td>\n",
       "    </tr>\n",
       "    <tr>\n",
       "      <th>8</th>\n",
       "      <td>6.999826</td>\n",
       "      <td>0.536651</td>\n",
       "    </tr>\n",
       "    <tr>\n",
       "      <th>9</th>\n",
       "      <td>7.133566</td>\n",
       "      <td>0.623216</td>\n",
       "    </tr>\n",
       "    <tr>\n",
       "      <th>10</th>\n",
       "      <td>15.107377</td>\n",
       "      <td>0.128196</td>\n",
       "    </tr>\n",
       "  </tbody>\n",
       "</table>\n",
       "</div>"
      ],
      "text/plain": [
       "      lb_stat  lb_pvalue\n",
       "1   4.027416   0.044766 \n",
       "2   4.030979   0.133255 \n",
       "3   4.465919   0.215350 \n",
       "4   4.833441   0.304818 \n",
       "5   6.647046   0.248241 \n",
       "6   6.679047   0.351551 \n",
       "7   6.902324   0.439120 \n",
       "8   6.999826   0.536651 \n",
       "9   7.133566   0.623216 \n",
       "10  15.107377  0.128196 "
      ]
     },
     "execution_count": 112,
     "metadata": {},
     "output_type": "execute_result"
    }
   ],
   "source": [
    "test.acorr_ljungbox(model_step.resid)\n",
    "###  p-value статистики Льюнга-Бокса"
   ]
  },
  {
   "cell_type": "markdown",
   "metadata": {},
   "source": [
    "### Критерии Дарбина-Уотсона и статистика Льюнга-Бокса говорят о том, что в остатках присутствует автокорреляция (первый лаг)."
   ]
  },
  {
   "cell_type": "markdown",
   "metadata": {},
   "source": [
    "### 8.3. Мультиколлинеарность"
   ]
  },
  {
   "cell_type": "markdown",
   "metadata": {},
   "source": [
    "### Расчет показателя VIF для каждой независимой переменной X"
   ]
  },
  {
   "cell_type": "code",
   "execution_count": 113,
   "metadata": {},
   "outputs": [
    {
     "data": {
      "text/plain": [
       "[1.135456139794824, 1.036184187485341, 1.1297798485861628, 1.0406907328842654]"
      ]
     },
     "execution_count": 113,
     "metadata": {},
     "output_type": "execute_result"
    }
   ],
   "source": [
    "[statsmodels.stats.outliers_influence.variance_inflation_factor(model_step.model.exog,i) \n",
    " for i in range(1,model_step.model.exog.shape[1])]"
   ]
  },
  {
   "cell_type": "markdown",
   "metadata": {},
   "source": [
    "### Значения VIF меньше 10 для каждого из показателей,можно сделать вывод об отсутствии мультиколлинеарности "
   ]
  },
  {
   "cell_type": "markdown",
   "metadata": {},
   "source": [
    "### 8.4. Гетероскедастичность"
   ]
  },
  {
   "cell_type": "markdown",
   "metadata": {},
   "source": [
    "### Гетероскедастичность означает остутствие постоянства дисперсии остатков. Как и автокорреляция, гетероскедастичность говорит о том, что в модели может отсутствовать важная информация (дополнительные факторы, объясняющие поведение переменной Y). Для проверки наличия гетероскедастичности воспользуемся тестом Бреуша-Пагана. Тест основан на построении и проверки значимости дополнительного уравнения, где в качестве зависимой переменной берется квадрат ошибки."
   ]
  },
  {
   "cell_type": "code",
   "execution_count": 114,
   "metadata": {},
   "outputs": [],
   "source": [
    "lm,lm_value,fvalue,f_pvalue=test.het_breuschpagan(model_step.resid,model_step.model.exog)"
   ]
  },
  {
   "cell_type": "code",
   "execution_count": 115,
   "metadata": {},
   "outputs": [
    {
     "name": "stdout",
     "output_type": "stream",
     "text": [
      "lm 2.2309,lm_pvalue 0.6934,fvalue 0.5468,f_pvalue 0.7016\n"
     ]
    }
   ],
   "source": [
    "print('lm %.4f,lm_pvalue %.4f,fvalue %.4f,f_pvalue %.4f'%(lm,lm_value,fvalue,f_pvalue))"
   ]
  },
  {
   "cell_type": "markdown",
   "metadata": {},
   "source": [
    "### Для проверки гипотезы используются $\\chi^2$ и F-критерий"
   ]
  },
  {
   "cell_type": "markdown",
   "metadata": {},
   "source": [
    "### Вывод: значения p-value обоих критериев говорят об отсутствии гетероскедастичности"
   ]
  },
  {
   "cell_type": "markdown",
   "metadata": {},
   "source": [
    "### 8.5. Спецификация модели (RESET test, тест Рамсея)"
   ]
  },
  {
   "cell_type": "markdown",
   "metadata": {},
   "source": [
    "### Для проверки предпосылки линейности связей в модели используется несколько тестов. Остановимся на тесте Рамсея (RESET). Данный тест предполагает построение дополнительной регрессионной модели. В данной модели в качестве независимых переменных используются степени различных порядков выравненных значений $\\hat{Y}$. Если коэффициенты при этих переменных статистически незначимы, линейную спецификацию модели можно считать приемлемой.  "
   ]
  },
  {
   "cell_type": "code",
   "execution_count": 116,
   "metadata": {},
   "outputs": [
    {
     "data": {
      "text/plain": [
       "<class 'statsmodels.stats.contrast.ContrastResults'>\n",
       "<F test: F=0.5420992846577919, p=0.4628137412283059, df_denom=138, df_num=1>"
      ]
     },
     "execution_count": 116,
     "metadata": {},
     "output_type": "execute_result"
    }
   ],
   "source": [
    "statsmodels.stats.outliers_influence.reset_ramsey(model_step,degree=2)"
   ]
  },
  {
   "cell_type": "markdown",
   "metadata": {},
   "source": [
    "### P-value больше уровня значимости $\\alpha$, следовательно гипотеза о линейности связи в модели  принимается"
   ]
  },
  {
   "cell_type": "markdown",
   "metadata": {},
   "source": [
    "### 8.6. Графический анализ влияния наблюдений"
   ]
  },
  {
   "cell_type": "code",
   "execution_count": 117,
   "metadata": {},
   "outputs": [
    {
     "data": {
      "image/png": "[encoded data removed]",
      "text/plain": [
       "<Figure size 432x288 with 1 Axes>"
      ]
     },
     "metadata": {
      "needs_background": "light"
     },
     "output_type": "display_data"
    }
   ],
   "source": [
    "sm.graphics.influence_plot(model_step)\n",
    "plt.show()"
   ]
  },
  {
   "cell_type": "markdown",
   "metadata": {},
   "source": [
    "### На графике представлена зависимость \"стьюдентезированных остатков\" и показателя h-leverage. Оба показателя рассчитываются на основании матрицы проекций (матрицы влияний). "
   ]
  },
  {
   "cell_type": "markdown",
   "metadata": {},
   "source": [
    "### Можно выделить влияние двух стран: Ангола, Ирак. Построим уравнение регрессии,исключив две указанные страны."
   ]
  },
  {
   "cell_type": "code",
   "execution_count": 118,
   "metadata": {},
   "outputs": [
    {
     "data": {
      "text/html": [
       "<div>\n",
       "<style scoped>\n",
       "    .dataframe tbody tr th:only-of-type {\n",
       "        vertical-align: middle;\n",
       "    }\n",
       "\n",
       "    .dataframe tbody tr th {\n",
       "        vertical-align: top;\n",
       "    }\n",
       "\n",
       "    .dataframe thead th {\n",
       "        text-align: right;\n",
       "    }\n",
       "</style>\n",
       "<table border=\"1\" class=\"dataframe\">\n",
       "  <thead>\n",
       "    <tr style=\"text-align: right;\">\n",
       "      <th></th>\n",
       "      <th>BN.CAB.XOKA.GD.ZS</th>\n",
       "      <th>BX.KLT.DINV.WD.GD.ZS</th>\n",
       "      <th>FP.CPI.TOTL.ZG</th>\n",
       "      <th>NE.GDI.TOTL.ZS</th>\n",
       "      <th>NY.GDP.MKTP.KD.ZG</th>\n",
       "      <th>NY.GDP.PCAP.PP.CD</th>\n",
       "      <th>SL.UEM.TOTL.ZS</th>\n",
       "    </tr>\n",
       "    <tr>\n",
       "      <th>Country</th>\n",
       "      <th></th>\n",
       "      <th></th>\n",
       "      <th></th>\n",
       "      <th></th>\n",
       "      <th></th>\n",
       "      <th></th>\n",
       "      <th></th>\n",
       "    </tr>\n",
       "  </thead>\n",
       "  <tbody>\n",
       "    <tr>\n",
       "      <th>AGO</th>\n",
       "      <td>-3.050908</td>\n",
       "      <td>-0.177523</td>\n",
       "      <td>32.377734</td>\n",
       "      <td>27.214708</td>\n",
       "      <td>-2.580097</td>\n",
       "      <td>8.818325</td>\n",
       "      <td>7.281</td>\n",
       "    </tr>\n",
       "    <tr>\n",
       "      <th>GIN</th>\n",
       "      <td>-31.903600</td>\n",
       "      <td>18.810770</td>\n",
       "      <td>8.172681</td>\n",
       "      <td>52.669842</td>\n",
       "      <td>10.820621</td>\n",
       "      <td>7.681229</td>\n",
       "      <td>3.668</td>\n",
       "    </tr>\n",
       "  </tbody>\n",
       "</table>\n",
       "</div>"
      ],
      "text/plain": [
       "         BN.CAB.XOKA.GD.ZS  BX.KLT.DINV.WD.GD.ZS  FP.CPI.TOTL.ZG  \\\n",
       "Country                                                            \n",
       "AGO     -3.050908          -0.177523              32.377734        \n",
       "GIN     -31.903600          18.810770             8.172681         \n",
       "\n",
       "         NE.GDI.TOTL.ZS  NY.GDP.MKTP.KD.ZG  NY.GDP.PCAP.PP.CD  SL.UEM.TOTL.ZS  \n",
       "Country                                                                        \n",
       "AGO      27.214708      -2.580097           8.818325           7.281           \n",
       "GIN      52.669842       10.820621          7.681229           3.668           "
      ]
     },
     "execution_count": 118,
     "metadata": {},
     "output_type": "execute_result"
    }
   ],
   "source": [
    "econ_model.loc[econ_model.index.isin(['AGO','GIN']),:]"
   ]
  },
  {
   "cell_type": "code",
   "execution_count": 119,
   "metadata": {},
   "outputs": [],
   "source": [
    "econ_model_reduced=econ_model.loc[~econ_model.index.isin(['AGO','GIN']),:].copy()"
   ]
  },
  {
   "cell_type": "code",
   "execution_count": 120,
   "metadata": {},
   "outputs": [
    {
     "data": {
      "text/plain": [
       "(142, 7)"
      ]
     },
     "execution_count": 120,
     "metadata": {},
     "output_type": "execute_result"
    }
   ],
   "source": [
    "econ_model_reduced.shape"
   ]
  },
  {
   "cell_type": "code",
   "execution_count": 121,
   "metadata": {},
   "outputs": [],
   "source": [
    "Y_m=np.asarray(econ_model_reduced['NY.GDP.MKTP.KD.ZG'])"
   ]
  },
  {
   "cell_type": "code",
   "execution_count": 122,
   "metadata": {},
   "outputs": [],
   "source": [
    "Y_m=Y_m[:,np.newaxis]"
   ]
  },
  {
   "cell_type": "code",
   "execution_count": 123,
   "metadata": {},
   "outputs": [],
   "source": [
    "X_m=sm.add_constant(econ_model_reduced.iloc[:,[0,1,2,3,5,6]],prepend=True)"
   ]
  },
  {
   "cell_type": "code",
   "execution_count": 124,
   "metadata": {},
   "outputs": [
    {
     "data": {
      "text/html": [
       "<table class=\"simpletable\">\n",
       "<caption>OLS Regression Results</caption>\n",
       "<tr>\n",
       "  <th>Dep. Variable:</th>            <td>y</td>        <th>  R-squared:         </th> <td>   0.199</td>\n",
       "</tr>\n",
       "<tr>\n",
       "  <th>Model:</th>                   <td>OLS</td>       <th>  Adj. R-squared:    </th> <td>   0.163</td>\n",
       "</tr>\n",
       "<tr>\n",
       "  <th>Method:</th>             <td>Least Squares</td>  <th>  F-statistic:       </th> <td>   5.574</td>\n",
       "</tr>\n",
       "<tr>\n",
       "  <th>Date:</th>             <td>Wed, 18 May 2022</td> <th>  Prob (F-statistic):</th> <td>3.43e-05</td>\n",
       "</tr>\n",
       "<tr>\n",
       "  <th>Time:</th>                 <td>23:08:58</td>     <th>  Log-Likelihood:    </th> <td> -321.46</td>\n",
       "</tr>\n",
       "<tr>\n",
       "  <th>No. Observations:</th>      <td>   142</td>      <th>  AIC:               </th> <td>   656.9</td>\n",
       "</tr>\n",
       "<tr>\n",
       "  <th>Df Residuals:</th>          <td>   135</td>      <th>  BIC:               </th> <td>   677.6</td>\n",
       "</tr>\n",
       "<tr>\n",
       "  <th>Df Model:</th>              <td>     6</td>      <th>                     </th>     <td> </td>   \n",
       "</tr>\n",
       "<tr>\n",
       "  <th>Covariance Type:</th>      <td>nonrobust</td>    <th>                     </th>     <td> </td>   \n",
       "</tr>\n",
       "</table>\n",
       "<table class=\"simpletable\">\n",
       "<tr>\n",
       "            <td></td>              <th>coef</th>     <th>std err</th>      <th>t</th>      <th>P>|t|</th>  <th>[0.025</th>    <th>0.975]</th>  \n",
       "</tr>\n",
       "<tr>\n",
       "  <th>const</th>                <td>   11.0117</td> <td>    2.090</td> <td>    5.268</td> <td> 0.000</td> <td>    6.877</td> <td>   15.146</td>\n",
       "</tr>\n",
       "<tr>\n",
       "  <th>BN.CAB.XOKA.GD.ZS</th>    <td>    0.0437</td> <td>    0.030</td> <td>    1.442</td> <td> 0.152</td> <td>   -0.016</td> <td>    0.104</td>\n",
       "</tr>\n",
       "<tr>\n",
       "  <th>BX.KLT.DINV.WD.GD.ZS</th> <td>    0.0247</td> <td>    0.022</td> <td>    1.147</td> <td> 0.254</td> <td>   -0.018</td> <td>    0.067</td>\n",
       "</tr>\n",
       "<tr>\n",
       "  <th>FP.CPI.TOTL.ZG</th>       <td>   -0.1639</td> <td>    0.049</td> <td>   -3.328</td> <td> 0.001</td> <td>   -0.261</td> <td>   -0.067</td>\n",
       "</tr>\n",
       "<tr>\n",
       "  <th>NE.GDI.TOTL.ZS</th>       <td>    0.0683</td> <td>    0.028</td> <td>    2.470</td> <td> 0.015</td> <td>    0.014</td> <td>    0.123</td>\n",
       "</tr>\n",
       "<tr>\n",
       "  <th>NY.GDP.PCAP.PP.CD</th>    <td>   -0.8973</td> <td>    0.213</td> <td>   -4.215</td> <td> 0.000</td> <td>   -1.318</td> <td>   -0.476</td>\n",
       "</tr>\n",
       "<tr>\n",
       "  <th>SL.UEM.TOTL.ZS</th>       <td>   -0.0683</td> <td>    0.035</td> <td>   -1.968</td> <td> 0.051</td> <td>   -0.137</td> <td>    0.000</td>\n",
       "</tr>\n",
       "</table>\n",
       "<table class=\"simpletable\">\n",
       "<tr>\n",
       "  <th>Omnibus:</th>       <td>30.510</td> <th>  Durbin-Watson:     </th> <td>   1.699</td>\n",
       "</tr>\n",
       "<tr>\n",
       "  <th>Prob(Omnibus):</th> <td> 0.000</td> <th>  Jarque-Bera (JB):  </th> <td> 139.179</td>\n",
       "</tr>\n",
       "<tr>\n",
       "  <th>Skew:</th>          <td> 0.602</td> <th>  Prob(JB):          </th> <td>5.99e-31</td>\n",
       "</tr>\n",
       "<tr>\n",
       "  <th>Kurtosis:</th>      <td> 7.698</td> <th>  Cond. No.          </th> <td>    303.</td>\n",
       "</tr>\n",
       "</table><br/><br/>Notes:<br/>[1] Standard Errors assume that the covariance matrix of the errors is correctly specified."
      ],
      "text/plain": [
       "<class 'statsmodels.iolib.summary.Summary'>\n",
       "\"\"\"\n",
       "                            OLS Regression Results                            \n",
       "==============================================================================\n",
       "Dep. Variable:                      y   R-squared:                       0.199\n",
       "Model:                            OLS   Adj. R-squared:                  0.163\n",
       "Method:                 Least Squares   F-statistic:                     5.574\n",
       "Date:                Wed, 18 May 2022   Prob (F-statistic):           3.43e-05\n",
       "Time:                        23:08:58   Log-Likelihood:                -321.46\n",
       "No. Observations:                 142   AIC:                             656.9\n",
       "Df Residuals:                     135   BIC:                             677.6\n",
       "Df Model:                           6                                         \n",
       "Covariance Type:            nonrobust                                         \n",
       "========================================================================================\n",
       "                           coef    std err          t      P>|t|      [0.025      0.975]\n",
       "----------------------------------------------------------------------------------------\n",
       "const                   11.0117      2.090      5.268      0.000       6.877      15.146\n",
       "BN.CAB.XOKA.GD.ZS        0.0437      0.030      1.442      0.152      -0.016       0.104\n",
       "BX.KLT.DINV.WD.GD.ZS     0.0247      0.022      1.147      0.254      -0.018       0.067\n",
       "FP.CPI.TOTL.ZG          -0.1639      0.049     -3.328      0.001      -0.261      -0.067\n",
       "NE.GDI.TOTL.ZS           0.0683      0.028      2.470      0.015       0.014       0.123\n",
       "NY.GDP.PCAP.PP.CD       -0.8973      0.213     -4.215      0.000      -1.318      -0.476\n",
       "SL.UEM.TOTL.ZS          -0.0683      0.035     -1.968      0.051      -0.137       0.000\n",
       "==============================================================================\n",
       "Omnibus:                       30.510   Durbin-Watson:                   1.699\n",
       "Prob(Omnibus):                  0.000   Jarque-Bera (JB):              139.179\n",
       "Skew:                           0.602   Prob(JB):                     5.99e-31\n",
       "Kurtosis:                       7.698   Cond. No.                         303.\n",
       "==============================================================================\n",
       "\n",
       "Notes:\n",
       "[1] Standard Errors assume that the covariance matrix of the errors is correctly specified.\n",
       "\"\"\""
      ]
     },
     "execution_count": 124,
     "metadata": {},
     "output_type": "execute_result"
    }
   ],
   "source": [
    "sm.OLS(Y_m,X_m).fit().summary()"
   ]
  },
  {
   "cell_type": "markdown",
   "metadata": {},
   "source": [
    "### Сохраним в отдельном файле исходные данные окончательного варианта модели (включим также показатель безработицы, коэффциент для которого формально незначим)"
   ]
  },
  {
   "cell_type": "code",
   "execution_count": 125,
   "metadata": {},
   "outputs": [],
   "source": [
    "col_save=sm.OLS(Y_m,X_m).fit().pvalues"
   ]
  },
  {
   "cell_type": "code",
   "execution_count": 126,
   "metadata": {},
   "outputs": [],
   "source": [
    "col_save=list(col_save[col_save<0.06].index)[1:]+['NY.GDP.MKTP.KD.ZG']"
   ]
  },
  {
   "cell_type": "code",
   "execution_count": 127,
   "metadata": {},
   "outputs": [],
   "source": [
    "econ_model_reduced[col_save].to_csv(path+'econ_model_ex_5.csv',index=True)\n",
    "# сохранение dataframe в файл"
   ]
  },
  {
   "cell_type": "markdown",
   "metadata": {},
   "source": [
    "## Задание"
   ]
  },
  {
   "cell_type": "markdown",
   "metadata": {},
   "source": [
    "### 1.Получить корреляционную матрицу и проверить значимость коэффициентов корреляции (не менее двух)\n",
    "### 2.Построить модель парной линейной регрессии и провести первичную диагностику модели\n",
    "### 3.Построить модель множественной линейной регрессии и провести первичную диагностику модели\n",
    "### 4.Построить модель множественной линейной регрессии пошаговым методом (не менее трех шагов)\n",
    "### 5.Проверить выполнение предпосылок Гаусса-Маркова с помощью специальных тестов\n",
    "### 6.Сделать выводы"
   ]
  },
  {
   "cell_type": "code",
   "execution_count": null,
   "metadata": {},
   "outputs": [],
   "source": []
  }
 ],
 "metadata": {
  "kernelspec": {
   "display_name": "Python 3 (ipykernel)",
   "language": "python",
   "name": "python3"
  },
  "language_info": {
   "codemirror_mode": {
    "name": "ipython",
    "version": 3
   },
   "file_extension": ".py",
   "mimetype": "text/x-python",
   "name": "python",
   "nbconvert_exporter": "python",
   "pygments_lexer": "ipython3",
   "version": "3.10.9"
  }
 },
 "nbformat": 4,
 "nbformat_minor": 2
}
