{
 "cells": [
  {
   "cell_type": "markdown",
   "metadata": {
    "collapsed": true
   },
   "source": [
    "## Задание 4. Модели линейной регрессии (часть II)"
   ]
  },
  {
   "cell_type": "markdown",
   "metadata": {
    "collapsed": true
   },
   "source": [
    "## Цель задания:\n",
    "### 1. Получить прогнозные значения зависимой переменной\n",
    "### 2. Построить регрессионную модель с фиктивными переменными\n",
    "### 3. Оценить предсказательные возможности модели и предложить пути ее улучшения\n",
    "### Цель исследования - выявить показатели, влияющие на темп роста ВВП"
   ]
  },
  {
   "cell_type": "markdown",
   "metadata": {
    "collapsed": true
   },
   "source": [
    "### 1.Загрузка библиотек"
   ]
  },
  {
   "cell_type": "code",
   "execution_count": 1,
   "metadata": {},
   "outputs": [],
   "source": [
    "import pandas as pd\n",
    "import numpy as np\n",
    "from scipy import stats\n",
    "import statsmodels.api as sm ### получение регрессионной модели\n",
    "import statsmodels.formula.api as smf ### получение регрессионной модели\n",
    "import statsmodels.graphics.regressionplots as graph ### графический анализ регрессионной модели\n",
    "import statsmodels.stats.api as test ### регрессионные тесты\n",
    "import statsmodels.stats.outliers_influence ### регрессионные тесты\n",
    "from patsy.contrasts import Treatment"
   ]
  },
  {
   "cell_type": "code",
   "execution_count": 2,
   "metadata": {},
   "outputs": [],
   "source": [
    "import matplotlib.pyplot as plt # графическая библиотека"
   ]
  },
  {
   "cell_type": "code",
   "execution_count": 3,
   "metadata": {},
   "outputs": [],
   "source": [
    "### %matplotlib inline"
   ]
  },
  {
   "cell_type": "code",
   "execution_count": 4,
   "metadata": {},
   "outputs": [],
   "source": [
    "from __future__ import division #  деление с дробной частью (модуль из Python 3)"
   ]
  },
  {
   "cell_type": "code",
   "execution_count": 5,
   "metadata": {},
   "outputs": [
    {
     "name": "stderr",
     "output_type": "stream",
     "text": [
      "<ipython-input-5-21748cb69847>:1: FutureWarning: Passing a negative integer is deprecated in version 1.0 and will not be supported in future version. Instead, use None to not limit the column width.\n",
      "  pd.set_option('display.max_colwidth',-1)# опция позволяет читать текстовые поля в \"необрезанном виде\"\n"
     ]
    }
   ],
   "source": [
    "pd.set_option('display.max_colwidth',-1)# опция позволяет читать текстовые поля в \"необрезанном виде\""
   ]
  },
  {
   "cell_type": "markdown",
   "metadata": {
    "collapsed": true
   },
   "source": [
    "### 2.Загрузка необходимых файлов"
   ]
  },
  {
   "cell_type": "code",
   "execution_count": 6,
   "metadata": {},
   "outputs": [],
   "source": [
    "path='/Users/massimozharkovsky/Documents/ML/Econometrics/'"
   ]
  },
  {
   "cell_type": "code",
   "execution_count": 7,
   "metadata": {},
   "outputs": [],
   "source": [
    "econ_model=pd.read_csv(path+'econ_model_ex_5.csv')\n",
    "# загрузка данных, полученных в Задание 4"
   ]
  },
  {
   "cell_type": "code",
   "execution_count": 8,
   "metadata": {},
   "outputs": [
    {
     "data": {
      "text/html": [
       "<div>\n",
       "<style scoped>\n",
       "    .dataframe tbody tr th:only-of-type {\n",
       "        vertical-align: middle;\n",
       "    }\n",
       "\n",
       "    .dataframe tbody tr th {\n",
       "        vertical-align: top;\n",
       "    }\n",
       "\n",
       "    .dataframe thead th {\n",
       "        text-align: right;\n",
       "    }\n",
       "</style>\n",
       "<table border=\"1\" class=\"dataframe\">\n",
       "  <thead>\n",
       "    <tr style=\"text-align: right;\">\n",
       "      <th></th>\n",
       "      <th>Country</th>\n",
       "      <th>FP.CPI.TOTL.ZG</th>\n",
       "      <th>NE.GDI.TOTL.ZS</th>\n",
       "      <th>NY.GDP.PCAP.PP.CD</th>\n",
       "      <th>SL.UEM.TOTL.ZS</th>\n",
       "      <th>NY.GDP.MKTP.KD.ZG</th>\n",
       "    </tr>\n",
       "  </thead>\n",
       "  <tbody>\n",
       "    <tr>\n",
       "      <th>0</th>\n",
       "      <td>AFG</td>\n",
       "      <td>4.383892</td>\n",
       "      <td>17.808790</td>\n",
       "      <td>7.548025</td>\n",
       "      <td>1.634000</td>\n",
       "      <td>2.260314</td>\n",
       "    </tr>\n",
       "    <tr>\n",
       "      <th>1</th>\n",
       "      <td>ALB</td>\n",
       "      <td>1.275125</td>\n",
       "      <td>25.223824</td>\n",
       "      <td>9.381616</td>\n",
       "      <td>15.220000</td>\n",
       "      <td>3.314805</td>\n",
       "    </tr>\n",
       "    <tr>\n",
       "      <th>2</th>\n",
       "      <td>ARM</td>\n",
       "      <td>-1.403608</td>\n",
       "      <td>18.015509</td>\n",
       "      <td>9.083481</td>\n",
       "      <td>17.617001</td>\n",
       "      <td>0.200000</td>\n",
       "    </tr>\n",
       "    <tr>\n",
       "      <th>3</th>\n",
       "      <td>AUS</td>\n",
       "      <td>1.276991</td>\n",
       "      <td>25.371979</td>\n",
       "      <td>10.764390</td>\n",
       "      <td>5.711000</td>\n",
       "      <td>2.770657</td>\n",
       "    </tr>\n",
       "    <tr>\n",
       "      <th>4</th>\n",
       "      <td>AUT</td>\n",
       "      <td>0.891592</td>\n",
       "      <td>24.188464</td>\n",
       "      <td>10.855329</td>\n",
       "      <td>6.014000</td>\n",
       "      <td>2.082608</td>\n",
       "    </tr>\n",
       "  </tbody>\n",
       "</table>\n",
       "</div>"
      ],
      "text/plain": [
       "  Country  FP.CPI.TOTL.ZG  NE.GDI.TOTL.ZS  NY.GDP.PCAP.PP.CD  SL.UEM.TOTL.ZS  \\\n",
       "0  AFG     4.383892        17.808790       7.548025           1.634000         \n",
       "1  ALB     1.275125        25.223824       9.381616           15.220000        \n",
       "2  ARM    -1.403608        18.015509       9.083481           17.617001        \n",
       "3  AUS     1.276991        25.371979       10.764390          5.711000         \n",
       "4  AUT     0.891592        24.188464       10.855329          6.014000         \n",
       "\n",
       "   NY.GDP.MKTP.KD.ZG  \n",
       "0  2.260314           \n",
       "1  3.314805           \n",
       "2  0.200000           \n",
       "3  2.770657           \n",
       "4  2.082608           "
      ]
     },
     "execution_count": 8,
     "metadata": {},
     "output_type": "execute_result"
    }
   ],
   "source": [
    "econ_model.head()"
   ]
  },
  {
   "cell_type": "markdown",
   "metadata": {},
   "source": [
    "### Для дальнейшего анализа нам понадобится информация о принадлежности  той или иной страны к определенному континенту"
   ]
  },
  {
   "cell_type": "code",
   "execution_count": 9,
   "metadata": {},
   "outputs": [],
   "source": [
    "continent=pd.read_csv(path+'countryContinent.csv',encoding='latin-1')"
   ]
  },
  {
   "cell_type": "code",
   "execution_count": 10,
   "metadata": {},
   "outputs": [
    {
     "data": {
      "text/html": [
       "<div>\n",
       "<style scoped>\n",
       "    .dataframe tbody tr th:only-of-type {\n",
       "        vertical-align: middle;\n",
       "    }\n",
       "\n",
       "    .dataframe tbody tr th {\n",
       "        vertical-align: top;\n",
       "    }\n",
       "\n",
       "    .dataframe thead th {\n",
       "        text-align: right;\n",
       "    }\n",
       "</style>\n",
       "<table border=\"1\" class=\"dataframe\">\n",
       "  <thead>\n",
       "    <tr style=\"text-align: right;\">\n",
       "      <th></th>\n",
       "      <th>country</th>\n",
       "      <th>code_2</th>\n",
       "      <th>code_3</th>\n",
       "      <th>country_code</th>\n",
       "      <th>iso_3166_2</th>\n",
       "      <th>continent</th>\n",
       "      <th>sub_region</th>\n",
       "      <th>region_code</th>\n",
       "      <th>sub_region_code</th>\n",
       "    </tr>\n",
       "  </thead>\n",
       "  <tbody>\n",
       "    <tr>\n",
       "      <th>0</th>\n",
       "      <td>Afghanistan</td>\n",
       "      <td>AF</td>\n",
       "      <td>AFG</td>\n",
       "      <td>4</td>\n",
       "      <td>ISO 3166-2:AF</td>\n",
       "      <td>Asia</td>\n",
       "      <td>Southern Asia</td>\n",
       "      <td>142.0</td>\n",
       "      <td>34.0</td>\n",
       "    </tr>\n",
       "    <tr>\n",
       "      <th>1</th>\n",
       "      <td>Åland Islands</td>\n",
       "      <td>AX</td>\n",
       "      <td>ALA</td>\n",
       "      <td>248</td>\n",
       "      <td>ISO 3166-2:AX</td>\n",
       "      <td>Europe</td>\n",
       "      <td>Northern Europe</td>\n",
       "      <td>150.0</td>\n",
       "      <td>154.0</td>\n",
       "    </tr>\n",
       "    <tr>\n",
       "      <th>2</th>\n",
       "      <td>Albania</td>\n",
       "      <td>AL</td>\n",
       "      <td>ALB</td>\n",
       "      <td>8</td>\n",
       "      <td>ISO 3166-2:AL</td>\n",
       "      <td>Europe</td>\n",
       "      <td>Southern Europe</td>\n",
       "      <td>150.0</td>\n",
       "      <td>39.0</td>\n",
       "    </tr>\n",
       "    <tr>\n",
       "      <th>3</th>\n",
       "      <td>Algeria</td>\n",
       "      <td>DZ</td>\n",
       "      <td>DZA</td>\n",
       "      <td>12</td>\n",
       "      <td>ISO 3166-2:DZ</td>\n",
       "      <td>Africa</td>\n",
       "      <td>Northern Africa</td>\n",
       "      <td>2.0</td>\n",
       "      <td>15.0</td>\n",
       "    </tr>\n",
       "    <tr>\n",
       "      <th>4</th>\n",
       "      <td>American Samoa</td>\n",
       "      <td>AS</td>\n",
       "      <td>ASM</td>\n",
       "      <td>16</td>\n",
       "      <td>ISO 3166-2:AS</td>\n",
       "      <td>Oceania</td>\n",
       "      <td>Polynesia</td>\n",
       "      <td>9.0</td>\n",
       "      <td>61.0</td>\n",
       "    </tr>\n",
       "  </tbody>\n",
       "</table>\n",
       "</div>"
      ],
      "text/plain": [
       "          country code_2 code_3  country_code     iso_3166_2 continent  \\\n",
       "0  Afghanistan     AF     AFG    4             ISO 3166-2:AF  Asia       \n",
       "1  Åland Islands   AX     ALA    248           ISO 3166-2:AX  Europe     \n",
       "2  Albania         AL     ALB    8             ISO 3166-2:AL  Europe     \n",
       "3  Algeria         DZ     DZA    12            ISO 3166-2:DZ  Africa     \n",
       "4  American Samoa  AS     ASM    16            ISO 3166-2:AS  Oceania    \n",
       "\n",
       "        sub_region  region_code  sub_region_code  \n",
       "0  Southern Asia    142.0        34.0             \n",
       "1  Northern Europe  150.0        154.0            \n",
       "2  Southern Europe  150.0        39.0             \n",
       "3  Northern Africa  2.0          15.0             \n",
       "4  Polynesia        9.0          61.0             "
      ]
     },
     "execution_count": 10,
     "metadata": {},
     "output_type": "execute_result"
    }
   ],
   "source": [
    "continent.head()"
   ]
  },
  {
   "cell_type": "code",
   "execution_count": 11,
   "metadata": {},
   "outputs": [],
   "source": [
    "econ_model=econ_model.merge(continent[['code_3','continent']],left_on='Country',right_on='code_3')"
   ]
  },
  {
   "cell_type": "code",
   "execution_count": 12,
   "metadata": {},
   "outputs": [
    {
     "data": {
      "text/html": [
       "<div>\n",
       "<style scoped>\n",
       "    .dataframe tbody tr th:only-of-type {\n",
       "        vertical-align: middle;\n",
       "    }\n",
       "\n",
       "    .dataframe tbody tr th {\n",
       "        vertical-align: top;\n",
       "    }\n",
       "\n",
       "    .dataframe thead th {\n",
       "        text-align: right;\n",
       "    }\n",
       "</style>\n",
       "<table border=\"1\" class=\"dataframe\">\n",
       "  <thead>\n",
       "    <tr style=\"text-align: right;\">\n",
       "      <th></th>\n",
       "      <th>Country</th>\n",
       "      <th>FP.CPI.TOTL.ZG</th>\n",
       "      <th>NE.GDI.TOTL.ZS</th>\n",
       "      <th>NY.GDP.PCAP.PP.CD</th>\n",
       "      <th>SL.UEM.TOTL.ZS</th>\n",
       "      <th>NY.GDP.MKTP.KD.ZG</th>\n",
       "      <th>code_3</th>\n",
       "      <th>continent</th>\n",
       "    </tr>\n",
       "  </thead>\n",
       "  <tbody>\n",
       "    <tr>\n",
       "      <th>0</th>\n",
       "      <td>AFG</td>\n",
       "      <td>4.383892</td>\n",
       "      <td>17.808790</td>\n",
       "      <td>7.548025</td>\n",
       "      <td>1.634000</td>\n",
       "      <td>2.260314</td>\n",
       "      <td>AFG</td>\n",
       "      <td>Asia</td>\n",
       "    </tr>\n",
       "    <tr>\n",
       "      <th>1</th>\n",
       "      <td>ALB</td>\n",
       "      <td>1.275125</td>\n",
       "      <td>25.223824</td>\n",
       "      <td>9.381616</td>\n",
       "      <td>15.220000</td>\n",
       "      <td>3.314805</td>\n",
       "      <td>ALB</td>\n",
       "      <td>Europe</td>\n",
       "    </tr>\n",
       "    <tr>\n",
       "      <th>2</th>\n",
       "      <td>ARM</td>\n",
       "      <td>-1.403608</td>\n",
       "      <td>18.015509</td>\n",
       "      <td>9.083481</td>\n",
       "      <td>17.617001</td>\n",
       "      <td>0.200000</td>\n",
       "      <td>ARM</td>\n",
       "      <td>Asia</td>\n",
       "    </tr>\n",
       "    <tr>\n",
       "      <th>3</th>\n",
       "      <td>AUS</td>\n",
       "      <td>1.276991</td>\n",
       "      <td>25.371979</td>\n",
       "      <td>10.764390</td>\n",
       "      <td>5.711000</td>\n",
       "      <td>2.770657</td>\n",
       "      <td>AUS</td>\n",
       "      <td>Oceania</td>\n",
       "    </tr>\n",
       "    <tr>\n",
       "      <th>4</th>\n",
       "      <td>AUT</td>\n",
       "      <td>0.891592</td>\n",
       "      <td>24.188464</td>\n",
       "      <td>10.855329</td>\n",
       "      <td>6.014000</td>\n",
       "      <td>2.082608</td>\n",
       "      <td>AUT</td>\n",
       "      <td>Europe</td>\n",
       "    </tr>\n",
       "  </tbody>\n",
       "</table>\n",
       "</div>"
      ],
      "text/plain": [
       "  Country  FP.CPI.TOTL.ZG  NE.GDI.TOTL.ZS  NY.GDP.PCAP.PP.CD  SL.UEM.TOTL.ZS  \\\n",
       "0  AFG     4.383892        17.808790       7.548025           1.634000         \n",
       "1  ALB     1.275125        25.223824       9.381616           15.220000        \n",
       "2  ARM    -1.403608        18.015509       9.083481           17.617001        \n",
       "3  AUS     1.276991        25.371979       10.764390          5.711000         \n",
       "4  AUT     0.891592        24.188464       10.855329          6.014000         \n",
       "\n",
       "   NY.GDP.MKTP.KD.ZG code_3 continent  \n",
       "0  2.260314           AFG    Asia      \n",
       "1  3.314805           ALB    Europe    \n",
       "2  0.200000           ARM    Asia      \n",
       "3  2.770657           AUS    Oceania   \n",
       "4  2.082608           AUT    Europe    "
      ]
     },
     "execution_count": 12,
     "metadata": {},
     "output_type": "execute_result"
    }
   ],
   "source": [
    "econ_model.head()"
   ]
  },
  {
   "cell_type": "code",
   "execution_count": 13,
   "metadata": {},
   "outputs": [],
   "source": [
    "econ_model.drop('code_3',axis=1,inplace=True)"
   ]
  },
  {
   "cell_type": "code",
   "execution_count": 14,
   "metadata": {},
   "outputs": [],
   "source": [
    "econ_model.columns=['Country','CPI','GDI','PCAP','UNEMP','GDP','Continent']"
   ]
  },
  {
   "cell_type": "code",
   "execution_count": 15,
   "metadata": {},
   "outputs": [
    {
     "data": {
      "text/html": [
       "<div>\n",
       "<style scoped>\n",
       "    .dataframe tbody tr th:only-of-type {\n",
       "        vertical-align: middle;\n",
       "    }\n",
       "\n",
       "    .dataframe tbody tr th {\n",
       "        vertical-align: top;\n",
       "    }\n",
       "\n",
       "    .dataframe thead th {\n",
       "        text-align: right;\n",
       "    }\n",
       "</style>\n",
       "<table border=\"1\" class=\"dataframe\">\n",
       "  <thead>\n",
       "    <tr style=\"text-align: right;\">\n",
       "      <th></th>\n",
       "      <th>Country</th>\n",
       "      <th>CPI</th>\n",
       "      <th>GDI</th>\n",
       "      <th>PCAP</th>\n",
       "      <th>UNEMP</th>\n",
       "      <th>GDP</th>\n",
       "      <th>Continent</th>\n",
       "    </tr>\n",
       "  </thead>\n",
       "  <tbody>\n",
       "    <tr>\n",
       "      <th>0</th>\n",
       "      <td>AFG</td>\n",
       "      <td>4.383892</td>\n",
       "      <td>17.808790</td>\n",
       "      <td>7.548025</td>\n",
       "      <td>1.634000</td>\n",
       "      <td>2.260314</td>\n",
       "      <td>Asia</td>\n",
       "    </tr>\n",
       "    <tr>\n",
       "      <th>1</th>\n",
       "      <td>ALB</td>\n",
       "      <td>1.275125</td>\n",
       "      <td>25.223824</td>\n",
       "      <td>9.381616</td>\n",
       "      <td>15.220000</td>\n",
       "      <td>3.314805</td>\n",
       "      <td>Europe</td>\n",
       "    </tr>\n",
       "    <tr>\n",
       "      <th>2</th>\n",
       "      <td>ARM</td>\n",
       "      <td>-1.403608</td>\n",
       "      <td>18.015509</td>\n",
       "      <td>9.083481</td>\n",
       "      <td>17.617001</td>\n",
       "      <td>0.200000</td>\n",
       "      <td>Asia</td>\n",
       "    </tr>\n",
       "    <tr>\n",
       "      <th>3</th>\n",
       "      <td>AUS</td>\n",
       "      <td>1.276991</td>\n",
       "      <td>25.371979</td>\n",
       "      <td>10.764390</td>\n",
       "      <td>5.711000</td>\n",
       "      <td>2.770657</td>\n",
       "      <td>Oceania</td>\n",
       "    </tr>\n",
       "    <tr>\n",
       "      <th>4</th>\n",
       "      <td>AUT</td>\n",
       "      <td>0.891592</td>\n",
       "      <td>24.188464</td>\n",
       "      <td>10.855329</td>\n",
       "      <td>6.014000</td>\n",
       "      <td>2.082608</td>\n",
       "      <td>Europe</td>\n",
       "    </tr>\n",
       "  </tbody>\n",
       "</table>\n",
       "</div>"
      ],
      "text/plain": [
       "  Country       CPI        GDI       PCAP      UNEMP       GDP Continent\n",
       "0  AFG     4.383892  17.808790  7.548025   1.634000   2.260314  Asia    \n",
       "1  ALB     1.275125  25.223824  9.381616   15.220000  3.314805  Europe  \n",
       "2  ARM    -1.403608  18.015509  9.083481   17.617001  0.200000  Asia    \n",
       "3  AUS     1.276991  25.371979  10.764390  5.711000   2.770657  Oceania \n",
       "4  AUT     0.891592  24.188464  10.855329  6.014000   2.082608  Europe  "
      ]
     },
     "execution_count": 15,
     "metadata": {},
     "output_type": "execute_result"
    }
   ],
   "source": [
    "econ_model.head()"
   ]
  },
  {
   "cell_type": "markdown",
   "metadata": {
    "collapsed": true
   },
   "source": [
    "### 3. Построение модели множественной регрессии по данным Задания 4"
   ]
  },
  {
   "cell_type": "markdown",
   "metadata": {},
   "source": [
    "### Регрессионную модель построим по анлогии с предыдущим заданием, при этом будем использовать символьную нотацию (форму записи) уравнения. Данная нотация преобразуется в математическое выражение с помощью библиотеки patsy и является аналогом символьной записи, применяемой в языке R."
   ]
  },
  {
   "cell_type": "code",
   "execution_count": 16,
   "metadata": {},
   "outputs": [],
   "source": [
    "results=smf.ols('GDP ~ CPI+GDI+PCAP+UNEMP',data=econ_model).fit()"
   ]
  },
  {
   "cell_type": "code",
   "execution_count": 17,
   "metadata": {},
   "outputs": [
    {
     "name": "stdout",
     "output_type": "stream",
     "text": [
      "                            OLS Regression Results                            \n",
      "==============================================================================\n",
      "Dep. Variable:                    GDP   R-squared:                       0.178\n",
      "Model:                            OLS   Adj. R-squared:                  0.154\n",
      "Method:                 Least Squares   F-statistic:                     7.410\n",
      "Date:                Sun, 28 Feb 2021   Prob (F-statistic):           1.97e-05\n",
      "Time:                        23:47:36   Log-Likelihood:                -323.27\n",
      "No. Observations:                 142   AIC:                             656.5\n",
      "Df Residuals:                     137   BIC:                             671.3\n",
      "Df Model:                           4                                         \n",
      "Covariance Type:            nonrobust                                         \n",
      "==============================================================================\n",
      "                 coef    std err          t      P>|t|      [0.025      0.975]\n",
      "------------------------------------------------------------------------------\n",
      "Intercept      9.5416      1.909      4.998      0.000       5.766      13.317\n",
      "CPI           -0.1637      0.049     -3.306      0.001      -0.262      -0.066\n",
      "GDI            0.0550      0.027      2.071      0.040       0.002       0.108\n",
      "PCAP          -0.7006      0.182     -3.851      0.000      -1.060      -0.341\n",
      "UNEMP         -0.0782      0.034     -2.275      0.024      -0.146      -0.010\n",
      "==============================================================================\n",
      "Omnibus:                       27.150   Durbin-Watson:                   1.654\n",
      "Prob(Omnibus):                  0.000   Jarque-Bera (JB):              115.527\n",
      "Skew:                           0.525   Prob(JB):                     8.20e-26\n",
      "Kurtosis:                       7.292   Cond. No.                         270.\n",
      "==============================================================================\n",
      "\n",
      "Warnings:\n",
      "[1] Standard Errors assume that the covariance matrix of the errors is correctly specified.\n"
     ]
    }
   ],
   "source": [
    "print(results.summary())"
   ]
  },
  {
   "cell_type": "markdown",
   "metadata": {},
   "source": [
    "### Проведем анализ вариации (ANOVA). Анализ построен на разложениее общей вариации процесса на две составляющие: вариация, объясненная моделью, и вариация остатков. В предыдущем задании мы уже проводили подобный анализ, считая самостоятельно указанные вариации. В данном задании воспользуемся возможностью statsmodels."
   ]
  },
  {
   "cell_type": "markdown",
   "metadata": {},
   "source": [
    "$\\sum(y-\\overline{y})^2=\\sum(\\hat{y}_x-\\overline{y})^2-\\sum(y-\\hat{y}_x)^2$"
   ]
  },
  {
   "cell_type": "code",
   "execution_count": 18,
   "metadata": {},
   "outputs": [],
   "source": [
    "ANOVA=pd.DataFrame()\n",
    "ANOVA['Source']=['Model','Error','Total']\n",
    "ANOVA['DF']=[results.df_model,results.df_resid,results.nobs-1]\n",
    "ANOVA['MSE']= [results.mse_model,results.mse_resid,results.mse_total]\n",
    "ANOVA['SumSq']=ANOVA['DF']*ANOVA['MSE']"
   ]
  },
  {
   "cell_type": "code",
   "execution_count": 19,
   "metadata": {},
   "outputs": [
    {
     "data": {
      "text/html": [
       "<div>\n",
       "<style scoped>\n",
       "    .dataframe tbody tr th:only-of-type {\n",
       "        vertical-align: middle;\n",
       "    }\n",
       "\n",
       "    .dataframe tbody tr th {\n",
       "        vertical-align: top;\n",
       "    }\n",
       "\n",
       "    .dataframe thead th {\n",
       "        text-align: right;\n",
       "    }\n",
       "</style>\n",
       "<table border=\"1\" class=\"dataframe\">\n",
       "  <thead>\n",
       "    <tr style=\"text-align: right;\">\n",
       "      <th></th>\n",
       "      <th>Source</th>\n",
       "      <th>DF</th>\n",
       "      <th>MSE</th>\n",
       "      <th>SumSq</th>\n",
       "    </tr>\n",
       "  </thead>\n",
       "  <tbody>\n",
       "    <tr>\n",
       "      <th>0</th>\n",
       "      <td>Model</td>\n",
       "      <td>4.0</td>\n",
       "      <td>42.688308</td>\n",
       "      <td>170.753233</td>\n",
       "    </tr>\n",
       "    <tr>\n",
       "      <th>1</th>\n",
       "      <td>Error</td>\n",
       "      <td>137.0</td>\n",
       "      <td>5.760946</td>\n",
       "      <td>789.249597</td>\n",
       "    </tr>\n",
       "    <tr>\n",
       "      <th>2</th>\n",
       "      <td>Total</td>\n",
       "      <td>141.0</td>\n",
       "      <td>6.808531</td>\n",
       "      <td>960.002830</td>\n",
       "    </tr>\n",
       "  </tbody>\n",
       "</table>\n",
       "</div>"
      ],
      "text/plain": [
       "  Source     DF        MSE       SumSq\n",
       "0  Model  4.0    42.688308  170.753233\n",
       "1  Error  137.0  5.760946   789.249597\n",
       "2  Total  141.0  6.808531   960.002830"
      ]
     },
     "execution_count": 19,
     "metadata": {},
     "output_type": "execute_result"
    }
   ],
   "source": [
    "ANOVA.head()"
   ]
  },
  {
   "cell_type": "markdown",
   "metadata": {},
   "source": [
    "### Добавим в исходный dataframe выравненные значения $\\hat{Y}$ и остатки уравнения"
   ]
  },
  {
   "cell_type": "code",
   "execution_count": 20,
   "metadata": {},
   "outputs": [],
   "source": [
    "econ_model['Fitted']=results.fittedvalues"
   ]
  },
  {
   "cell_type": "code",
   "execution_count": 21,
   "metadata": {},
   "outputs": [],
   "source": [
    "econ_model['Resid']=results.resid"
   ]
  },
  {
   "cell_type": "code",
   "execution_count": 22,
   "metadata": {},
   "outputs": [
    {
     "data": {
      "text/html": [
       "<div>\n",
       "<style scoped>\n",
       "    .dataframe tbody tr th:only-of-type {\n",
       "        vertical-align: middle;\n",
       "    }\n",
       "\n",
       "    .dataframe tbody tr th {\n",
       "        vertical-align: top;\n",
       "    }\n",
       "\n",
       "    .dataframe thead th {\n",
       "        text-align: right;\n",
       "    }\n",
       "</style>\n",
       "<table border=\"1\" class=\"dataframe\">\n",
       "  <thead>\n",
       "    <tr style=\"text-align: right;\">\n",
       "      <th></th>\n",
       "      <th>Country</th>\n",
       "      <th>CPI</th>\n",
       "      <th>GDI</th>\n",
       "      <th>PCAP</th>\n",
       "      <th>UNEMP</th>\n",
       "      <th>GDP</th>\n",
       "      <th>Continent</th>\n",
       "      <th>Fitted</th>\n",
       "      <th>Resid</th>\n",
       "    </tr>\n",
       "  </thead>\n",
       "  <tbody>\n",
       "    <tr>\n",
       "      <th>0</th>\n",
       "      <td>AFG</td>\n",
       "      <td>4.383892</td>\n",
       "      <td>17.808790</td>\n",
       "      <td>7.548025</td>\n",
       "      <td>1.634000</td>\n",
       "      <td>2.260314</td>\n",
       "      <td>Asia</td>\n",
       "      <td>4.387925</td>\n",
       "      <td>-2.127611</td>\n",
       "    </tr>\n",
       "    <tr>\n",
       "      <th>1</th>\n",
       "      <td>ALB</td>\n",
       "      <td>1.275125</td>\n",
       "      <td>25.223824</td>\n",
       "      <td>9.381616</td>\n",
       "      <td>15.220000</td>\n",
       "      <td>3.314805</td>\n",
       "      <td>Europe</td>\n",
       "      <td>2.957507</td>\n",
       "      <td>0.357298</td>\n",
       "    </tr>\n",
       "    <tr>\n",
       "      <th>2</th>\n",
       "      <td>ARM</td>\n",
       "      <td>-1.403608</td>\n",
       "      <td>18.015509</td>\n",
       "      <td>9.083481</td>\n",
       "      <td>17.617001</td>\n",
       "      <td>0.200000</td>\n",
       "      <td>Asia</td>\n",
       "      <td>3.020821</td>\n",
       "      <td>-2.820821</td>\n",
       "    </tr>\n",
       "    <tr>\n",
       "      <th>3</th>\n",
       "      <td>AUS</td>\n",
       "      <td>1.276991</td>\n",
       "      <td>25.371979</td>\n",
       "      <td>10.764390</td>\n",
       "      <td>5.711000</td>\n",
       "      <td>2.770657</td>\n",
       "      <td>Oceania</td>\n",
       "      <td>2.740209</td>\n",
       "      <td>0.030447</td>\n",
       "    </tr>\n",
       "    <tr>\n",
       "      <th>4</th>\n",
       "      <td>AUT</td>\n",
       "      <td>0.891592</td>\n",
       "      <td>24.188464</td>\n",
       "      <td>10.855329</td>\n",
       "      <td>6.014000</td>\n",
       "      <td>2.082608</td>\n",
       "      <td>Europe</td>\n",
       "      <td>2.650776</td>\n",
       "      <td>-0.568168</td>\n",
       "    </tr>\n",
       "    <tr>\n",
       "      <th>5</th>\n",
       "      <td>AZE</td>\n",
       "      <td>12.449496</td>\n",
       "      <td>25.681504</td>\n",
       "      <td>9.765207</td>\n",
       "      <td>5.000000</td>\n",
       "      <td>-3.064200</td>\n",
       "      <td>Asia</td>\n",
       "      <td>1.684448</td>\n",
       "      <td>-4.748648</td>\n",
       "    </tr>\n",
       "    <tr>\n",
       "      <th>6</th>\n",
       "      <td>BDI</td>\n",
       "      <td>5.557690</td>\n",
       "      <td>9.190554</td>\n",
       "      <td>6.611911</td>\n",
       "      <td>1.566000</td>\n",
       "      <td>-0.600020</td>\n",
       "      <td>Africa</td>\n",
       "      <td>4.382939</td>\n",
       "      <td>-4.982959</td>\n",
       "    </tr>\n",
       "    <tr>\n",
       "      <th>7</th>\n",
       "      <td>BEL</td>\n",
       "      <td>1.973853</td>\n",
       "      <td>24.193227</td>\n",
       "      <td>10.775941</td>\n",
       "      <td>7.830000</td>\n",
       "      <td>1.511106</td>\n",
       "      <td>Europe</td>\n",
       "      <td>2.387529</td>\n",
       "      <td>-0.876423</td>\n",
       "    </tr>\n",
       "    <tr>\n",
       "      <th>8</th>\n",
       "      <td>BEN</td>\n",
       "      <td>-0.848348</td>\n",
       "      <td>24.587966</td>\n",
       "      <td>7.682370</td>\n",
       "      <td>2.419000</td>\n",
       "      <td>3.964860</td>\n",
       "      <td>Africa</td>\n",
       "      <td>5.461567</td>\n",
       "      <td>-1.496707</td>\n",
       "    </tr>\n",
       "    <tr>\n",
       "      <th>9</th>\n",
       "      <td>BFA</td>\n",
       "      <td>-0.244764</td>\n",
       "      <td>22.883732</td>\n",
       "      <td>7.480343</td>\n",
       "      <td>6.364000</td>\n",
       "      <td>5.906025</td>\n",
       "      <td>Africa</td>\n",
       "      <td>5.102084</td>\n",
       "      <td>0.803941</td>\n",
       "    </tr>\n",
       "  </tbody>\n",
       "</table>\n",
       "</div>"
      ],
      "text/plain": [
       "  Country        CPI        GDI       PCAP      UNEMP       GDP Continent  \\\n",
       "0  AFG     4.383892   17.808790  7.548025   1.634000   2.260314  Asia       \n",
       "1  ALB     1.275125   25.223824  9.381616   15.220000  3.314805  Europe     \n",
       "2  ARM    -1.403608   18.015509  9.083481   17.617001  0.200000  Asia       \n",
       "3  AUS     1.276991   25.371979  10.764390  5.711000   2.770657  Oceania    \n",
       "4  AUT     0.891592   24.188464  10.855329  6.014000   2.082608  Europe     \n",
       "5  AZE     12.449496  25.681504  9.765207   5.000000  -3.064200  Asia       \n",
       "6  BDI     5.557690   9.190554   6.611911   1.566000  -0.600020  Africa     \n",
       "7  BEL     1.973853   24.193227  10.775941  7.830000   1.511106  Europe     \n",
       "8  BEN    -0.848348   24.587966  7.682370   2.419000   3.964860  Africa     \n",
       "9  BFA    -0.244764   22.883732  7.480343   6.364000   5.906025  Africa     \n",
       "\n",
       "     Fitted     Resid  \n",
       "0  4.387925 -2.127611  \n",
       "1  2.957507  0.357298  \n",
       "2  3.020821 -2.820821  \n",
       "3  2.740209  0.030447  \n",
       "4  2.650776 -0.568168  \n",
       "5  1.684448 -4.748648  \n",
       "6  4.382939 -4.982959  \n",
       "7  2.387529 -0.876423  \n",
       "8  5.461567 -1.496707  \n",
       "9  5.102084  0.803941  "
      ]
     },
     "execution_count": 22,
     "metadata": {},
     "output_type": "execute_result"
    }
   ],
   "source": [
    "econ_model.head(10)"
   ]
  },
  {
   "cell_type": "markdown",
   "metadata": {},
   "source": [
    "### 4. Прогнозные оценки, получаемые на основе регрессии"
   ]
  },
  {
   "cell_type": "markdown",
   "metadata": {},
   "source": [
    "### Эконометрические модели служат не только для анализа влияния факторов на зависимую переменную, но и для целей прогнозирования. Данная часть задания посвящена построению интервальных оценок выравненных или прогнозных значений."
   ]
  },
  {
   "cell_type": "markdown",
   "metadata": {},
   "source": [
    "### Интервальная оценка строится как для среднего значения, предсказанного моделью, так и для точечной оценки. В библиотеке statsmodels используются следующие формулы:"
   ]
  },
  {
   "cell_type": "markdown",
   "metadata": {},
   "source": [
    "### Точечная  оценка $\\Delta=t(1-\\frac{\\alpha}{2},\\nu=n-k)\\sqrt{1+x_0(X^{'}X)^{-1}x_0^{'}}$\n",
    "### Средняя оценка $\\Delta=t(1-\\frac{\\alpha}{2},\\nu=n-k)\\sqrt{x_0(X^{'}X)^{-1}x_0^{'}}$"
   ]
  },
  {
   "cell_type": "code",
   "execution_count": 23,
   "metadata": {},
   "outputs": [],
   "source": [
    "pred=results.get_prediction()\n",
    "### инициализация процедуры расчета интервальных оценок выравненных значений"
   ]
  },
  {
   "cell_type": "code",
   "execution_count": 24,
   "metadata": {},
   "outputs": [
    {
     "data": {
      "text/html": [
       "<div>\n",
       "<style scoped>\n",
       "    .dataframe tbody tr th:only-of-type {\n",
       "        vertical-align: middle;\n",
       "    }\n",
       "\n",
       "    .dataframe tbody tr th {\n",
       "        vertical-align: top;\n",
       "    }\n",
       "\n",
       "    .dataframe thead th {\n",
       "        text-align: right;\n",
       "    }\n",
       "</style>\n",
       "<table border=\"1\" class=\"dataframe\">\n",
       "  <thead>\n",
       "    <tr style=\"text-align: right;\">\n",
       "      <th></th>\n",
       "      <th>mean</th>\n",
       "      <th>mean_se</th>\n",
       "      <th>mean_ci_lower</th>\n",
       "      <th>mean_ci_upper</th>\n",
       "      <th>obs_ci_lower</th>\n",
       "      <th>obs_ci_upper</th>\n",
       "      <th>Country</th>\n",
       "      <th>GDP</th>\n",
       "      <th>Fitted</th>\n",
       "    </tr>\n",
       "  </thead>\n",
       "  <tbody>\n",
       "    <tr>\n",
       "      <th>0</th>\n",
       "      <td>4.387925</td>\n",
       "      <td>0.474231</td>\n",
       "      <td>3.450166</td>\n",
       "      <td>5.325683</td>\n",
       "      <td>-0.450054</td>\n",
       "      <td>9.225904</td>\n",
       "      <td>AFG</td>\n",
       "      <td>2.260314</td>\n",
       "      <td>4.387925</td>\n",
       "    </tr>\n",
       "    <tr>\n",
       "      <th>1</th>\n",
       "      <td>2.957507</td>\n",
       "      <td>0.338872</td>\n",
       "      <td>2.287412</td>\n",
       "      <td>3.627603</td>\n",
       "      <td>-1.835788</td>\n",
       "      <td>7.750802</td>\n",
       "      <td>ALB</td>\n",
       "      <td>3.314805</td>\n",
       "      <td>2.957507</td>\n",
       "    </tr>\n",
       "    <tr>\n",
       "      <th>2</th>\n",
       "      <td>3.020821</td>\n",
       "      <td>0.465792</td>\n",
       "      <td>2.099750</td>\n",
       "      <td>3.941893</td>\n",
       "      <td>-1.813951</td>\n",
       "      <td>7.855593</td>\n",
       "      <td>ARM</td>\n",
       "      <td>0.200000</td>\n",
       "      <td>3.020821</td>\n",
       "    </tr>\n",
       "    <tr>\n",
       "      <th>3</th>\n",
       "      <td>2.740209</td>\n",
       "      <td>0.313024</td>\n",
       "      <td>2.121226</td>\n",
       "      <td>3.359193</td>\n",
       "      <td>-2.046208</td>\n",
       "      <td>7.526626</td>\n",
       "      <td>AUS</td>\n",
       "      <td>2.770657</td>\n",
       "      <td>2.740209</td>\n",
       "    </tr>\n",
       "    <tr>\n",
       "      <th>4</th>\n",
       "      <td>2.650776</td>\n",
       "      <td>0.323334</td>\n",
       "      <td>2.011405</td>\n",
       "      <td>3.290148</td>\n",
       "      <td>-2.138320</td>\n",
       "      <td>7.439873</td>\n",
       "      <td>AUT</td>\n",
       "      <td>2.082608</td>\n",
       "      <td>2.650776</td>\n",
       "    </tr>\n",
       "    <tr>\n",
       "      <th>5</th>\n",
       "      <td>1.684448</td>\n",
       "      <td>0.532191</td>\n",
       "      <td>0.632077</td>\n",
       "      <td>2.736819</td>\n",
       "      <td>-3.177047</td>\n",
       "      <td>6.545943</td>\n",
       "      <td>AZE</td>\n",
       "      <td>-3.064200</td>\n",
       "      <td>1.684448</td>\n",
       "    </tr>\n",
       "    <tr>\n",
       "      <th>6</th>\n",
       "      <td>4.382939</td>\n",
       "      <td>0.701560</td>\n",
       "      <td>2.995651</td>\n",
       "      <td>5.770226</td>\n",
       "      <td>-0.561878</td>\n",
       "      <td>9.327756</td>\n",
       "      <td>BDI</td>\n",
       "      <td>-0.600020</td>\n",
       "      <td>4.382939</td>\n",
       "    </tr>\n",
       "    <tr>\n",
       "      <th>7</th>\n",
       "      <td>2.387529</td>\n",
       "      <td>0.305956</td>\n",
       "      <td>1.782522</td>\n",
       "      <td>2.992537</td>\n",
       "      <td>-2.397100</td>\n",
       "      <td>7.172159</td>\n",
       "      <td>BEL</td>\n",
       "      <td>1.511106</td>\n",
       "      <td>2.387529</td>\n",
       "    </tr>\n",
       "    <tr>\n",
       "      <th>8</th>\n",
       "      <td>5.461567</td>\n",
       "      <td>0.507055</td>\n",
       "      <td>4.458901</td>\n",
       "      <td>6.464233</td>\n",
       "      <td>0.610589</td>\n",
       "      <td>10.312545</td>\n",
       "      <td>BEN</td>\n",
       "      <td>3.964860</td>\n",
       "      <td>5.461567</td>\n",
       "    </tr>\n",
       "    <tr>\n",
       "      <th>9</th>\n",
       "      <td>5.102084</td>\n",
       "      <td>0.487764</td>\n",
       "      <td>4.137565</td>\n",
       "      <td>6.066603</td>\n",
       "      <td>0.258847</td>\n",
       "      <td>9.945321</td>\n",
       "      <td>BFA</td>\n",
       "      <td>5.906025</td>\n",
       "      <td>5.102084</td>\n",
       "    </tr>\n",
       "  </tbody>\n",
       "</table>\n",
       "</div>"
      ],
      "text/plain": [
       "       mean   mean_se  mean_ci_lower  mean_ci_upper  obs_ci_lower  \\\n",
       "0  4.387925  0.474231  3.450166       5.325683      -0.450054       \n",
       "1  2.957507  0.338872  2.287412       3.627603      -1.835788       \n",
       "2  3.020821  0.465792  2.099750       3.941893      -1.813951       \n",
       "3  2.740209  0.313024  2.121226       3.359193      -2.046208       \n",
       "4  2.650776  0.323334  2.011405       3.290148      -2.138320       \n",
       "5  1.684448  0.532191  0.632077       2.736819      -3.177047       \n",
       "6  4.382939  0.701560  2.995651       5.770226      -0.561878       \n",
       "7  2.387529  0.305956  1.782522       2.992537      -2.397100       \n",
       "8  5.461567  0.507055  4.458901       6.464233       0.610589       \n",
       "9  5.102084  0.487764  4.137565       6.066603       0.258847       \n",
       "\n",
       "   obs_ci_upper Country       GDP    Fitted  \n",
       "0  9.225904      AFG     2.260314  4.387925  \n",
       "1  7.750802      ALB     3.314805  2.957507  \n",
       "2  7.855593      ARM     0.200000  3.020821  \n",
       "3  7.526626      AUS     2.770657  2.740209  \n",
       "4  7.439873      AUT     2.082608  2.650776  \n",
       "5  6.545943      AZE    -3.064200  1.684448  \n",
       "6  9.327756      BDI    -0.600020  4.382939  \n",
       "7  7.172159      BEL     1.511106  2.387529  \n",
       "8  10.312545     BEN     3.964860  5.461567  \n",
       "9  9.945321      BFA     5.906025  5.102084  "
      ]
     },
     "execution_count": 24,
     "metadata": {},
     "output_type": "execute_result"
    }
   ],
   "source": [
    "pd.concat([pred.summary_frame(),econ_model[['Country','GDP','Fitted']]],axis=1).head(10)\n",
    "### получение интервальных оценок"
   ]
  },
  {
   "cell_type": "markdown",
   "metadata": {},
   "source": [
    "### Получение интервальной оценки на примере наблюдения с индексом 3 (Австралия)"
   ]
  },
  {
   "cell_type": "code",
   "execution_count": 25,
   "metadata": {},
   "outputs": [],
   "source": [
    "n=econ_model.shape[0] ### число наблюдений\n",
    "k=4 # число параметров, включая свободный член"
   ]
  },
  {
   "cell_type": "code",
   "execution_count": 26,
   "metadata": {},
   "outputs": [],
   "source": [
    "X_m=sm.add_constant(econ_model.iloc[:,[1,2,3,4]],prepend=True)"
   ]
  },
  {
   "cell_type": "code",
   "execution_count": 27,
   "metadata": {},
   "outputs": [
    {
     "data": {
      "text/html": [
       "<div>\n",
       "<style scoped>\n",
       "    .dataframe tbody tr th:only-of-type {\n",
       "        vertical-align: middle;\n",
       "    }\n",
       "\n",
       "    .dataframe tbody tr th {\n",
       "        vertical-align: top;\n",
       "    }\n",
       "\n",
       "    .dataframe thead th {\n",
       "        text-align: right;\n",
       "    }\n",
       "</style>\n",
       "<table border=\"1\" class=\"dataframe\">\n",
       "  <thead>\n",
       "    <tr style=\"text-align: right;\">\n",
       "      <th></th>\n",
       "      <th>const</th>\n",
       "      <th>CPI</th>\n",
       "      <th>GDI</th>\n",
       "      <th>PCAP</th>\n",
       "      <th>UNEMP</th>\n",
       "    </tr>\n",
       "  </thead>\n",
       "  <tbody>\n",
       "    <tr>\n",
       "      <th>0</th>\n",
       "      <td>1.0</td>\n",
       "      <td>4.383892</td>\n",
       "      <td>17.808790</td>\n",
       "      <td>7.548025</td>\n",
       "      <td>1.634000</td>\n",
       "    </tr>\n",
       "    <tr>\n",
       "      <th>1</th>\n",
       "      <td>1.0</td>\n",
       "      <td>1.275125</td>\n",
       "      <td>25.223824</td>\n",
       "      <td>9.381616</td>\n",
       "      <td>15.220000</td>\n",
       "    </tr>\n",
       "    <tr>\n",
       "      <th>2</th>\n",
       "      <td>1.0</td>\n",
       "      <td>-1.403608</td>\n",
       "      <td>18.015509</td>\n",
       "      <td>9.083481</td>\n",
       "      <td>17.617001</td>\n",
       "    </tr>\n",
       "    <tr>\n",
       "      <th>3</th>\n",
       "      <td>1.0</td>\n",
       "      <td>1.276991</td>\n",
       "      <td>25.371979</td>\n",
       "      <td>10.764390</td>\n",
       "      <td>5.711000</td>\n",
       "    </tr>\n",
       "    <tr>\n",
       "      <th>4</th>\n",
       "      <td>1.0</td>\n",
       "      <td>0.891592</td>\n",
       "      <td>24.188464</td>\n",
       "      <td>10.855329</td>\n",
       "      <td>6.014000</td>\n",
       "    </tr>\n",
       "    <tr>\n",
       "      <th>...</th>\n",
       "      <td>...</td>\n",
       "      <td>...</td>\n",
       "      <td>...</td>\n",
       "      <td>...</td>\n",
       "      <td>...</td>\n",
       "    </tr>\n",
       "    <tr>\n",
       "      <th>137</th>\n",
       "      <td>1.0</td>\n",
       "      <td>-0.149642</td>\n",
       "      <td>26.580523</td>\n",
       "      <td>9.348963</td>\n",
       "      <td>20.065001</td>\n",
       "    </tr>\n",
       "    <tr>\n",
       "      <th>138</th>\n",
       "      <td>1.0</td>\n",
       "      <td>3.243567</td>\n",
       "      <td>26.578058</td>\n",
       "      <td>8.758615</td>\n",
       "      <td>1.851000</td>\n",
       "    </tr>\n",
       "    <tr>\n",
       "      <th>139</th>\n",
       "      <td>1.0</td>\n",
       "      <td>6.594604</td>\n",
       "      <td>19.160966</td>\n",
       "      <td>9.487065</td>\n",
       "      <td>26.551001</td>\n",
       "    </tr>\n",
       "    <tr>\n",
       "      <th>140</th>\n",
       "      <td>1.0</td>\n",
       "      <td>17.869730</td>\n",
       "      <td>38.206231</td>\n",
       "      <td>8.293551</td>\n",
       "      <td>7.372000</td>\n",
       "    </tr>\n",
       "    <tr>\n",
       "      <th>141</th>\n",
       "      <td>1.0</td>\n",
       "      <td>-1.566413</td>\n",
       "      <td>9.861371</td>\n",
       "      <td>7.896324</td>\n",
       "      <td>5.239000</td>\n",
       "    </tr>\n",
       "  </tbody>\n",
       "</table>\n",
       "<p>142 rows × 5 columns</p>\n",
       "</div>"
      ],
      "text/plain": [
       "     const        CPI        GDI       PCAP      UNEMP\n",
       "0    1.0    4.383892   17.808790  7.548025   1.634000 \n",
       "1    1.0    1.275125   25.223824  9.381616   15.220000\n",
       "2    1.0   -1.403608   18.015509  9.083481   17.617001\n",
       "3    1.0    1.276991   25.371979  10.764390  5.711000 \n",
       "4    1.0    0.891592   24.188464  10.855329  6.014000 \n",
       "..   ...         ...         ...        ...       ... \n",
       "137  1.0   -0.149642   26.580523  9.348963   20.065001\n",
       "138  1.0    3.243567   26.578058  8.758615   1.851000 \n",
       "139  1.0    6.594604   19.160966  9.487065   26.551001\n",
       "140  1.0    17.869730  38.206231  8.293551   7.372000 \n",
       "141  1.0   -1.566413   9.861371   7.896324   5.239000 \n",
       "\n",
       "[142 rows x 5 columns]"
      ]
     },
     "execution_count": 27,
     "metadata": {},
     "output_type": "execute_result"
    }
   ],
   "source": [
    "X_m"
   ]
  },
  {
   "cell_type": "code",
   "execution_count": 28,
   "metadata": {},
   "outputs": [],
   "source": [
    "forecast=np.array([1,econ_model.iloc[3,1],econ_model.iloc[3,2],econ_model.iloc[3,3],econ_model.iloc[3,4]])\n",
    "### массив со значением независимых переменных Х, используемый \n",
    "### для получения выравненного (прогнозного) значения Y"
   ]
  },
  {
   "cell_type": "code",
   "execution_count": 29,
   "metadata": {},
   "outputs": [
    {
     "data": {
      "text/plain": [
       "array([ 1.        ,  1.27699094, 25.37197856, 10.76438988,  5.71099997])"
      ]
     },
     "execution_count": 29,
     "metadata": {},
     "output_type": "execute_result"
    }
   ],
   "source": [
    "forecast"
   ]
  },
  {
   "cell_type": "markdown",
   "metadata": {},
   "source": [
    "### Матрица  $(X^{'}X)^{-1}$ "
   ]
  },
  {
   "cell_type": "code",
   "execution_count": 30,
   "metadata": {},
   "outputs": [
    {
     "data": {
      "text/plain": [
       "array([[ 6.32741127e-01, -6.51665715e-03, -2.93408471e-03,\n",
       "        -5.49754383e-02, -1.98571291e-03],\n",
       "       [-6.51665715e-03,  4.25312025e-04, -5.33421448e-06,\n",
       "         5.51395960e-04,  1.94254048e-05],\n",
       "       [-2.93408471e-03, -5.33421448e-06,  1.22419556e-04,\n",
       "        -2.65929123e-05,  2.71396142e-05],\n",
       "       [-5.49754383e-02,  5.51395960e-04, -2.65929123e-05,\n",
       "         5.74428852e-03, -3.41304896e-05],\n",
       "       [-1.98571291e-03,  1.94254048e-05,  2.71396142e-05,\n",
       "        -3.41304896e-05,  2.05139967e-04]])"
      ]
     },
     "execution_count": 30,
     "metadata": {},
     "output_type": "execute_result"
    }
   ],
   "source": [
    "np.linalg.inv(np.dot(X_m.T,X_m))\n",
    "### расчет с использованием numpy"
   ]
  },
  {
   "cell_type": "code",
   "execution_count": 31,
   "metadata": {},
   "outputs": [
    {
     "data": {
      "text/html": [
       "<div>\n",
       "<style scoped>\n",
       "    .dataframe tbody tr th:only-of-type {\n",
       "        vertical-align: middle;\n",
       "    }\n",
       "\n",
       "    .dataframe tbody tr th {\n",
       "        vertical-align: top;\n",
       "    }\n",
       "\n",
       "    .dataframe thead th {\n",
       "        text-align: right;\n",
       "    }\n",
       "</style>\n",
       "<table border=\"1\" class=\"dataframe\">\n",
       "  <thead>\n",
       "    <tr style=\"text-align: right;\">\n",
       "      <th></th>\n",
       "      <th>Intercept</th>\n",
       "      <th>CPI</th>\n",
       "      <th>GDI</th>\n",
       "      <th>PCAP</th>\n",
       "      <th>UNEMP</th>\n",
       "    </tr>\n",
       "  </thead>\n",
       "  <tbody>\n",
       "    <tr>\n",
       "      <th>Intercept</th>\n",
       "      <td>0.632741</td>\n",
       "      <td>-0.006517</td>\n",
       "      <td>-0.002934</td>\n",
       "      <td>-0.054975</td>\n",
       "      <td>-0.001986</td>\n",
       "    </tr>\n",
       "    <tr>\n",
       "      <th>CPI</th>\n",
       "      <td>-0.006517</td>\n",
       "      <td>0.000425</td>\n",
       "      <td>-0.000005</td>\n",
       "      <td>0.000551</td>\n",
       "      <td>0.000019</td>\n",
       "    </tr>\n",
       "    <tr>\n",
       "      <th>GDI</th>\n",
       "      <td>-0.002934</td>\n",
       "      <td>-0.000005</td>\n",
       "      <td>0.000122</td>\n",
       "      <td>-0.000027</td>\n",
       "      <td>0.000027</td>\n",
       "    </tr>\n",
       "    <tr>\n",
       "      <th>PCAP</th>\n",
       "      <td>-0.054975</td>\n",
       "      <td>0.000551</td>\n",
       "      <td>-0.000027</td>\n",
       "      <td>0.005744</td>\n",
       "      <td>-0.000034</td>\n",
       "    </tr>\n",
       "    <tr>\n",
       "      <th>UNEMP</th>\n",
       "      <td>-0.001986</td>\n",
       "      <td>0.000019</td>\n",
       "      <td>0.000027</td>\n",
       "      <td>-0.000034</td>\n",
       "      <td>0.000205</td>\n",
       "    </tr>\n",
       "  </tbody>\n",
       "</table>\n",
       "</div>"
      ],
      "text/plain": [
       "           Intercept       CPI       GDI      PCAP     UNEMP\n",
       "Intercept  0.632741  -0.006517 -0.002934 -0.054975 -0.001986\n",
       "CPI       -0.006517   0.000425 -0.000005  0.000551  0.000019\n",
       "GDI       -0.002934  -0.000005  0.000122 -0.000027  0.000027\n",
       "PCAP      -0.054975   0.000551 -0.000027  0.005744 -0.000034\n",
       "UNEMP     -0.001986   0.000019  0.000027 -0.000034  0.000205"
      ]
     },
     "execution_count": 31,
     "metadata": {},
     "output_type": "execute_result"
    }
   ],
   "source": [
    "results.normalized_cov_params\n",
    "### использование функции statsmodels"
   ]
  },
  {
   "cell_type": "markdown",
   "metadata": {},
   "source": [
    "### Расчет стандартного отклонения для точечной и средней оценок"
   ]
  },
  {
   "cell_type": "code",
   "execution_count": 32,
   "metadata": {},
   "outputs": [],
   "source": [
    "sigma_point=np.sqrt(results.mse_resid)*np.sqrt(1+np.dot(np.dot(forecast,np.linalg.inv(np.dot(X_m.T,X_m))),forecast.T))"
   ]
  },
  {
   "cell_type": "code",
   "execution_count": 33,
   "metadata": {},
   "outputs": [],
   "source": [
    "sigma_mean=np.sqrt(results.mse_resid)*np.sqrt(np.dot(np.dot(forecast,np.linalg.inv(np.dot(X_m.T,X_m))),forecast.T))"
   ]
  },
  {
   "cell_type": "code",
   "execution_count": 34,
   "metadata": {},
   "outputs": [
    {
     "data": {
      "text/plain": [
       "2.420522673771461"
      ]
     },
     "execution_count": 34,
     "metadata": {},
     "output_type": "execute_result"
    }
   ],
   "source": [
    "sigma_point"
   ]
  },
  {
   "cell_type": "code",
   "execution_count": 35,
   "metadata": {},
   "outputs": [
    {
     "data": {
      "text/plain": [
       "0.3130240439926128"
      ]
     },
     "execution_count": 35,
     "metadata": {},
     "output_type": "execute_result"
    }
   ],
   "source": [
    "sigma_mean"
   ]
  },
  {
   "cell_type": "markdown",
   "metadata": {},
   "source": [
    "### Интервалы для точечной и средней оценок"
   ]
  },
  {
   "cell_type": "code",
   "execution_count": 36,
   "metadata": {},
   "outputs": [],
   "source": [
    "delta_mean=stats.t.ppf(0.975,n-k)*sigma_mean"
   ]
  },
  {
   "cell_type": "code",
   "execution_count": 37,
   "metadata": {},
   "outputs": [
    {
     "data": {
      "text/plain": [
       "0.6189435509218002"
      ]
     },
     "execution_count": 37,
     "metadata": {},
     "output_type": "execute_result"
    }
   ],
   "source": [
    "delta_mean"
   ]
  },
  {
   "cell_type": "code",
   "execution_count": 38,
   "metadata": {},
   "outputs": [],
   "source": [
    "delta_point=stats.t.ppf(0.975,n-k)*sigma_point"
   ]
  },
  {
   "cell_type": "code",
   "execution_count": 39,
   "metadata": {},
   "outputs": [
    {
     "data": {
      "text/plain": [
       "4.7861080563708835"
      ]
     },
     "execution_count": 39,
     "metadata": {},
     "output_type": "execute_result"
    }
   ],
   "source": [
    "delta_point"
   ]
  },
  {
   "cell_type": "code",
   "execution_count": 40,
   "metadata": {},
   "outputs": [
    {
     "data": {
      "text/plain": [
       "(-2.0458988288450115, 7.526317283896756)"
      ]
     },
     "execution_count": 40,
     "metadata": {},
     "output_type": "execute_result"
    }
   ],
   "source": [
    "econ_model.loc[3,'Fitted']-delta_point,econ_model.loc[3,'Fitted']+delta_point"
   ]
  },
  {
   "cell_type": "code",
   "execution_count": 41,
   "metadata": {},
   "outputs": [
    {
     "data": {
      "text/plain": [
       "(2.1212656766040716, 3.3591527784476725)"
      ]
     },
     "execution_count": 41,
     "metadata": {},
     "output_type": "execute_result"
    }
   ],
   "source": [
    "econ_model.loc[3,'Fitted']-delta_mean,econ_model.loc[3,'Fitted']+delta_mean"
   ]
  },
  {
   "cell_type": "markdown",
   "metadata": {},
   "source": [
    "### 5. Предсказательные свойства модели и ее практическая применимость"
   ]
  },
  {
   "cell_type": "markdown",
   "metadata": {},
   "source": [
    "### На предыдущих этапах была получена и проанализирована модель, описывающая влияние рзличных факторов на экономический рост. Модель объясняет только порядка 18% вариации зависимой переменной Y. Попробуем рассмотреть причины низкой предсказательной способности модели и  наметить пути ее улучшения."
   ]
  },
  {
   "cell_type": "markdown",
   "metadata": {},
   "source": [
    "### Одной из причин низкой предсказательной способности модели является то, что она дает систематическую ошибку для тех стран, у которых имеет место отрицательный рост.   "
   ]
  },
  {
   "cell_type": "code",
   "execution_count": 42,
   "metadata": {},
   "outputs": [
    {
     "data": {
      "text/html": [
       "<div>\n",
       "<style scoped>\n",
       "    .dataframe tbody tr th:only-of-type {\n",
       "        vertical-align: middle;\n",
       "    }\n",
       "\n",
       "    .dataframe tbody tr th {\n",
       "        vertical-align: top;\n",
       "    }\n",
       "\n",
       "    .dataframe thead th {\n",
       "        text-align: right;\n",
       "    }\n",
       "</style>\n",
       "<table border=\"1\" class=\"dataframe\">\n",
       "  <thead>\n",
       "    <tr style=\"text-align: right;\">\n",
       "      <th></th>\n",
       "      <th>Country</th>\n",
       "      <th>CPI</th>\n",
       "      <th>GDI</th>\n",
       "      <th>PCAP</th>\n",
       "      <th>UNEMP</th>\n",
       "      <th>GDP</th>\n",
       "      <th>Continent</th>\n",
       "      <th>Fitted</th>\n",
       "      <th>Resid</th>\n",
       "    </tr>\n",
       "  </thead>\n",
       "  <tbody>\n",
       "    <tr>\n",
       "      <th>5</th>\n",
       "      <td>AZE</td>\n",
       "      <td>12.449496</td>\n",
       "      <td>25.681504</td>\n",
       "      <td>9.765207</td>\n",
       "      <td>5.000</td>\n",
       "      <td>-3.064200</td>\n",
       "      <td>Asia</td>\n",
       "      <td>1.684448</td>\n",
       "      <td>-4.748648</td>\n",
       "    </tr>\n",
       "    <tr>\n",
       "      <th>6</th>\n",
       "      <td>BDI</td>\n",
       "      <td>5.557690</td>\n",
       "      <td>9.190554</td>\n",
       "      <td>6.611911</td>\n",
       "      <td>1.566</td>\n",
       "      <td>-0.600020</td>\n",
       "      <td>Africa</td>\n",
       "      <td>4.382939</td>\n",
       "      <td>-4.982959</td>\n",
       "    </tr>\n",
       "    <tr>\n",
       "      <th>15</th>\n",
       "      <td>BLR</td>\n",
       "      <td>11.836581</td>\n",
       "      <td>26.477583</td>\n",
       "      <td>9.803580</td>\n",
       "      <td>5.840</td>\n",
       "      <td>-2.526446</td>\n",
       "      <td>Europe</td>\n",
       "      <td>1.735968</td>\n",
       "      <td>-4.262414</td>\n",
       "    </tr>\n",
       "    <tr>\n",
       "      <th>17</th>\n",
       "      <td>BRA</td>\n",
       "      <td>8.739128</td>\n",
       "      <td>14.974618</td>\n",
       "      <td>9.637668</td>\n",
       "      <td>11.609</td>\n",
       "      <td>-3.305358</td>\n",
       "      <td>Americas</td>\n",
       "      <td>1.275254</td>\n",
       "      <td>-4.580613</td>\n",
       "    </tr>\n",
       "    <tr>\n",
       "      <th>18</th>\n",
       "      <td>BRN</td>\n",
       "      <td>-0.739069</td>\n",
       "      <td>34.619655</td>\n",
       "      <td>11.266189</td>\n",
       "      <td>8.559</td>\n",
       "      <td>-2.465515</td>\n",
       "      <td>Asia</td>\n",
       "      <td>3.004532</td>\n",
       "      <td>-5.470047</td>\n",
       "    </tr>\n",
       "    <tr>\n",
       "      <th>28</th>\n",
       "      <td>COG</td>\n",
       "      <td>3.190562</td>\n",
       "      <td>27.759583</td>\n",
       "      <td>8.671457</td>\n",
       "      <td>9.709</td>\n",
       "      <td>-2.800019</td>\n",
       "      <td>Africa</td>\n",
       "      <td>3.712015</td>\n",
       "      <td>-6.512034</td>\n",
       "    </tr>\n",
       "    <tr>\n",
       "      <th>38</th>\n",
       "      <td>ECU</td>\n",
       "      <td>1.728265</td>\n",
       "      <td>24.979035</td>\n",
       "      <td>9.325638</td>\n",
       "      <td>4.597</td>\n",
       "      <td>-1.226384</td>\n",
       "      <td>Americas</td>\n",
       "      <td>3.739833</td>\n",
       "      <td>-4.966217</td>\n",
       "    </tr>\n",
       "    <tr>\n",
       "      <th>49</th>\n",
       "      <td>GRC</td>\n",
       "      <td>-0.825652</td>\n",
       "      <td>11.474562</td>\n",
       "      <td>10.213687</td>\n",
       "      <td>23.539</td>\n",
       "      <td>-0.190952</td>\n",
       "      <td>Europe</td>\n",
       "      <td>1.311542</td>\n",
       "      <td>-1.502494</td>\n",
       "    </tr>\n",
       "    <tr>\n",
       "      <th>75</th>\n",
       "      <td>LBR</td>\n",
       "      <td>8.834249</td>\n",
       "      <td>20.084044</td>\n",
       "      <td>7.146683</td>\n",
       "      <td>2.150</td>\n",
       "      <td>-1.599584</td>\n",
       "      <td>Africa</td>\n",
       "      <td>4.025588</td>\n",
       "      <td>-5.625172</td>\n",
       "    </tr>\n",
       "    <tr>\n",
       "      <th>82</th>\n",
       "      <td>MAC</td>\n",
       "      <td>2.370161</td>\n",
       "      <td>21.586437</td>\n",
       "      <td>11.567202</td>\n",
       "      <td>1.900</td>\n",
       "      <td>-0.718343</td>\n",
       "      <td>Asia</td>\n",
       "      <td>2.088672</td>\n",
       "      <td>-2.807015</td>\n",
       "    </tr>\n",
       "    <tr>\n",
       "      <th>97</th>\n",
       "      <td>NGA</td>\n",
       "      <td>15.675341</td>\n",
       "      <td>15.366736</td>\n",
       "      <td>8.679820</td>\n",
       "      <td>6.237</td>\n",
       "      <td>-1.616869</td>\n",
       "      <td>Africa</td>\n",
       "      <td>1.252851</td>\n",
       "      <td>-2.869720</td>\n",
       "    </tr>\n",
       "  </tbody>\n",
       "</table>\n",
       "</div>"
      ],
      "text/plain": [
       "   Country        CPI        GDI       PCAP   UNEMP       GDP Continent  \\\n",
       "5   AZE     12.449496  25.681504  9.765207   5.000  -3.064200  Asia       \n",
       "6   BDI     5.557690   9.190554   6.611911   1.566  -0.600020  Africa     \n",
       "15  BLR     11.836581  26.477583  9.803580   5.840  -2.526446  Europe     \n",
       "17  BRA     8.739128   14.974618  9.637668   11.609 -3.305358  Americas   \n",
       "18  BRN    -0.739069   34.619655  11.266189  8.559  -2.465515  Asia       \n",
       "28  COG     3.190562   27.759583  8.671457   9.709  -2.800019  Africa     \n",
       "38  ECU     1.728265   24.979035  9.325638   4.597  -1.226384  Americas   \n",
       "49  GRC    -0.825652   11.474562  10.213687  23.539 -0.190952  Europe     \n",
       "75  LBR     8.834249   20.084044  7.146683   2.150  -1.599584  Africa     \n",
       "82  MAC     2.370161   21.586437  11.567202  1.900  -0.718343  Asia       \n",
       "97  NGA     15.675341  15.366736  8.679820   6.237  -1.616869  Africa     \n",
       "\n",
       "      Fitted     Resid  \n",
       "5   1.684448 -4.748648  \n",
       "6   4.382939 -4.982959  \n",
       "15  1.735968 -4.262414  \n",
       "17  1.275254 -4.580613  \n",
       "18  3.004532 -5.470047  \n",
       "28  3.712015 -6.512034  \n",
       "38  3.739833 -4.966217  \n",
       "49  1.311542 -1.502494  \n",
       "75  4.025588 -5.625172  \n",
       "82  2.088672 -2.807015  \n",
       "97  1.252851 -2.869720  "
      ]
     },
     "execution_count": 42,
     "metadata": {},
     "output_type": "execute_result"
    }
   ],
   "source": [
    "econ_model[econ_model['GDP']<0]"
   ]
  },
  {
   "cell_type": "code",
   "execution_count": 43,
   "metadata": {},
   "outputs": [
    {
     "data": {
      "text/html": [
       "<div>\n",
       "<style scoped>\n",
       "    .dataframe tbody tr th:only-of-type {\n",
       "        vertical-align: middle;\n",
       "    }\n",
       "\n",
       "    .dataframe tbody tr th {\n",
       "        vertical-align: top;\n",
       "    }\n",
       "\n",
       "    .dataframe thead th {\n",
       "        text-align: right;\n",
       "    }\n",
       "</style>\n",
       "<table border=\"1\" class=\"dataframe\">\n",
       "  <thead>\n",
       "    <tr style=\"text-align: right;\">\n",
       "      <th></th>\n",
       "      <th>Country</th>\n",
       "      <th>CPI</th>\n",
       "      <th>GDI</th>\n",
       "      <th>PCAP</th>\n",
       "      <th>UNEMP</th>\n",
       "      <th>GDP</th>\n",
       "      <th>Continent</th>\n",
       "      <th>Fitted</th>\n",
       "      <th>Resid</th>\n",
       "    </tr>\n",
       "  </thead>\n",
       "  <tbody>\n",
       "  </tbody>\n",
       "</table>\n",
       "</div>"
      ],
      "text/plain": [
       "Empty DataFrame\n",
       "Columns: [Country, CPI, GDI, PCAP, UNEMP, GDP, Continent, Fitted, Resid]\n",
       "Index: []"
      ]
     },
     "execution_count": 43,
     "metadata": {},
     "output_type": "execute_result"
    }
   ],
   "source": [
    "econ_model[econ_model['Fitted']<0]"
   ]
  },
  {
   "cell_type": "markdown",
   "metadata": {},
   "source": [
    "### Построим модель только для стран с неотрицательным ростом. В данной модели показатели инфляции и инвестиций оказываются незначимыми."
   ]
  },
  {
   "cell_type": "code",
   "execution_count": 44,
   "metadata": {},
   "outputs": [],
   "source": [
    "results_2=smf.ols('GDP ~ CPI+GDI+PCAP+UNEMP',data=econ_model[econ_model['GDP']>=0]).fit()"
   ]
  },
  {
   "cell_type": "code",
   "execution_count": 45,
   "metadata": {},
   "outputs": [
    {
     "name": "stdout",
     "output_type": "stream",
     "text": [
      "                            OLS Regression Results                            \n",
      "==============================================================================\n",
      "Dep. Variable:                    GDP   R-squared:                       0.198\n",
      "Model:                            OLS   Adj. R-squared:                  0.173\n",
      "Method:                 Least Squares   F-statistic:                     7.777\n",
      "Date:                Sun, 28 Feb 2021   Prob (F-statistic):           1.24e-05\n",
      "Time:                        23:47:36   Log-Likelihood:                -276.39\n",
      "No. Observations:                 131   AIC:                             562.8\n",
      "Df Residuals:                     126   BIC:                             577.2\n",
      "Df Model:                           4                                         \n",
      "Covariance Type:            nonrobust                                         \n",
      "==============================================================================\n",
      "                 coef    std err          t      P>|t|      [0.025      0.975]\n",
      "------------------------------------------------------------------------------\n",
      "Intercept     10.1330      1.741      5.821      0.000       6.688      13.578\n",
      "CPI           -0.0854      0.046     -1.860      0.065      -0.176       0.005\n",
      "GDI            0.0346      0.024      1.467      0.145      -0.012       0.081\n",
      "PCAP          -0.6814      0.164     -4.151      0.000      -1.006      -0.357\n",
      "UNEMP         -0.0932      0.030     -3.079      0.003      -0.153      -0.033\n",
      "==============================================================================\n",
      "Omnibus:                       64.870   Durbin-Watson:                   1.696\n",
      "Prob(Omnibus):                  0.000   Jarque-Bera (JB):              415.791\n",
      "Skew:                           1.562   Prob(JB):                     5.15e-91\n",
      "Kurtosis:                      11.149   Cond. No.                         281.\n",
      "==============================================================================\n",
      "\n",
      "Warnings:\n",
      "[1] Standard Errors assume that the covariance matrix of the errors is correctly specified.\n"
     ]
    }
   ],
   "source": [
    "print(results_2.summary())"
   ]
  },
  {
   "cell_type": "markdown",
   "metadata": {},
   "source": [
    "### Для улучшения модели можно предложить следующие варианты:\n",
    "###  - построение не одной  модели, а нескольких моделей для разных групп стран\n",
    "###  - включение в модель других экономических показателей\n",
    "###  - включение в модель степеней независимых переменных ($X^2$)\n",
    "###  -  включение в модель качественных переменных"
   ]
  },
  {
   "cell_type": "markdown",
   "metadata": {},
   "source": [
    "### 6. Включение фиктивных переменных в регрессионную модель"
   ]
  },
  {
   "cell_type": "markdown",
   "metadata": {},
   "source": [
    "### Построим простую регрессионную модель, включив в нее качестенную переменную, показывающую принадлежность страны к определенному континенту. Для этой целей применем процедуру кодирования или бинаризации к данной перменной. Качественная переменная превращаетя в, так называемые, фиктивные переменные  (dummy variables)."
   ]
  },
  {
   "cell_type": "code",
   "execution_count": 46,
   "metadata": {},
   "outputs": [
    {
     "data": {
      "text/html": [
       "<div>\n",
       "<style scoped>\n",
       "    .dataframe tbody tr th:only-of-type {\n",
       "        vertical-align: middle;\n",
       "    }\n",
       "\n",
       "    .dataframe tbody tr th {\n",
       "        vertical-align: top;\n",
       "    }\n",
       "\n",
       "    .dataframe thead th {\n",
       "        text-align: right;\n",
       "    }\n",
       "</style>\n",
       "<table border=\"1\" class=\"dataframe\">\n",
       "  <thead>\n",
       "    <tr style=\"text-align: right;\">\n",
       "      <th></th>\n",
       "      <th>Africa</th>\n",
       "      <th>Americas</th>\n",
       "      <th>Asia</th>\n",
       "      <th>Europe</th>\n",
       "      <th>Oceania</th>\n",
       "    </tr>\n",
       "  </thead>\n",
       "  <tbody>\n",
       "    <tr>\n",
       "      <th>0</th>\n",
       "      <td>0</td>\n",
       "      <td>0</td>\n",
       "      <td>1</td>\n",
       "      <td>0</td>\n",
       "      <td>0</td>\n",
       "    </tr>\n",
       "    <tr>\n",
       "      <th>1</th>\n",
       "      <td>0</td>\n",
       "      <td>0</td>\n",
       "      <td>0</td>\n",
       "      <td>1</td>\n",
       "      <td>0</td>\n",
       "    </tr>\n",
       "    <tr>\n",
       "      <th>2</th>\n",
       "      <td>0</td>\n",
       "      <td>0</td>\n",
       "      <td>1</td>\n",
       "      <td>0</td>\n",
       "      <td>0</td>\n",
       "    </tr>\n",
       "    <tr>\n",
       "      <th>3</th>\n",
       "      <td>0</td>\n",
       "      <td>0</td>\n",
       "      <td>0</td>\n",
       "      <td>0</td>\n",
       "      <td>1</td>\n",
       "    </tr>\n",
       "    <tr>\n",
       "      <th>4</th>\n",
       "      <td>0</td>\n",
       "      <td>0</td>\n",
       "      <td>0</td>\n",
       "      <td>1</td>\n",
       "      <td>0</td>\n",
       "    </tr>\n",
       "  </tbody>\n",
       "</table>\n",
       "</div>"
      ],
      "text/plain": [
       "   Africa  Americas  Asia  Europe  Oceania\n",
       "0  0       0         1     0       0      \n",
       "1  0       0         0     1       0      \n",
       "2  0       0         1     0       0      \n",
       "3  0       0         0     0       1      \n",
       "4  0       0         0     1       0      "
      ]
     },
     "execution_count": 46,
     "metadata": {},
     "output_type": "execute_result"
    }
   ],
   "source": [
    "pd.get_dummies(econ_model['Continent']).head()\n",
    "### преобразование качественных переменных можно реализовать с помощью pandas"
   ]
  },
  {
   "cell_type": "markdown",
   "metadata": {},
   "source": [
    "### Значение 1 фиктивной переменной означает принадлежность к тому или иному континенту. Для создания фиктивных переменных с целью их включения  в регрессионную модель необходимо выбрать базовый уровень качественной переменной (или референтную группу). Таким образом, при n различных значениях качественной переменной в модели появится n-1 фиктивных переменных. Это делается с помощью команд библиотеки patsy. В рассматриваемом примере базовым уровнем выступает европейский континент."
   ]
  },
  {
   "cell_type": "code",
   "execution_count": 47,
   "metadata": {},
   "outputs": [],
   "source": [
    "results_3=smf.ols(\"GDP ~ C(Continent,Treatment('Europe'))+CPI\",data=econ_model).fit()"
   ]
  },
  {
   "cell_type": "code",
   "execution_count": 48,
   "metadata": {},
   "outputs": [
    {
     "name": "stdout",
     "output_type": "stream",
     "text": [
      "                            OLS Regression Results                            \n",
      "==============================================================================\n",
      "Dep. Variable:                    GDP   R-squared:                       0.080\n",
      "Model:                            OLS   Adj. R-squared:                  0.046\n",
      "Method:                 Least Squares   F-statistic:                     2.357\n",
      "Date:                Sun, 28 Feb 2021   Prob (F-statistic):             0.0435\n",
      "Time:                        23:47:36   Log-Likelihood:                -331.28\n",
      "No. Observations:                 142   AIC:                             674.6\n",
      "Df Residuals:                     136   BIC:                             692.3\n",
      "Df Model:                           5                                         \n",
      "Covariance Type:            nonrobust                                         \n",
      "=================================================================================================================\n",
      "                                                    coef    std err          t      P>|t|      [0.025      0.975]\n",
      "-----------------------------------------------------------------------------------------------------------------\n",
      "Intercept                                         2.7664      0.413      6.690      0.000       1.949       3.584\n",
      "C(Continent, Treatment('Europe'))[T.Africa]       1.3872      0.625      2.218      0.028       0.150       2.624\n",
      "C(Continent, Treatment('Europe'))[T.Americas]     0.1288      0.668      0.193      0.847      -1.192       1.449\n",
      "C(Continent, Treatment('Europe'))[T.Asia]         1.3595      0.578      2.352      0.020       0.216       2.503\n",
      "C(Continent, Treatment('Europe'))[T.Oceania]      0.5584      1.848      0.302      0.763      -3.096       4.213\n",
      "CPI                                              -0.1212      0.053     -2.305      0.023      -0.225      -0.017\n",
      "==============================================================================\n",
      "Omnibus:                       14.283   Durbin-Watson:                   1.795\n",
      "Prob(Omnibus):                  0.001   Jarque-Bera (JB):               33.483\n",
      "Skew:                           0.333   Prob(JB):                     5.36e-08\n",
      "Kurtosis:                       5.284   Cond. No.                         46.6\n",
      "==============================================================================\n",
      "\n",
      "Warnings:\n",
      "[1] Standard Errors assume that the covariance matrix of the errors is correctly specified.\n"
     ]
    }
   ],
   "source": [
    "print(results_3.summary())"
   ]
  },
  {
   "cell_type": "markdown",
   "metadata": {},
   "source": [
    "### Интерпретация модели.  Роль фиктивной перменной в данном случае сводится к новой интерпретации свободного члена регрессионного уравнения. В рассматриваемой модели базой являтся Европа, таким образом свободный член показвает, каким в среднем должен быть рост в Европе при нулевой инфляции. Значение коэффициентов регрессии при фиктивных переменных показывает, как изменится экономический рост при \"переходе\" от одного континента к другому. Например, при прочих равных (т.е. без учета эффекта инфляции) рост в азиатских странах составит исходя из модели 2.76%+1.36% = 4.13%. Таким образом, мы оцениваем влияние на рост принадлежность к тому или иному континенту."
   ]
  },
  {
   "cell_type": "markdown",
   "metadata": {},
   "source": [
    "### Регрессионное уравнение только для Европы"
   ]
  },
  {
   "cell_type": "code",
   "execution_count": 49,
   "metadata": {},
   "outputs": [],
   "source": [
    "results_4=smf.ols(\"GDP ~ CPI\",data=econ_model[econ_model.Continent=='Europe']).fit()"
   ]
  },
  {
   "cell_type": "code",
   "execution_count": 50,
   "metadata": {},
   "outputs": [
    {
     "name": "stdout",
     "output_type": "stream",
     "text": [
      "                            OLS Regression Results                            \n",
      "==============================================================================\n",
      "Dep. Variable:                    GDP   R-squared:                       0.121\n",
      "Model:                            OLS   Adj. R-squared:                  0.097\n",
      "Method:                 Least Squares   F-statistic:                     5.075\n",
      "Date:                Sun, 28 Feb 2021   Prob (F-statistic):             0.0303\n",
      "Time:                        23:47:36   Log-Likelihood:                -71.283\n",
      "No. Observations:                  39   AIC:                             146.6\n",
      "Df Residuals:                      37   BIC:                             149.9\n",
      "Df Model:                           1                                         \n",
      "Covariance Type:            nonrobust                                         \n",
      "==============================================================================\n",
      "                 coef    std err          t      P>|t|      [0.025      0.975]\n",
      "------------------------------------------------------------------------------\n",
      "Intercept      2.8339      0.266     10.650      0.000       2.295       3.373\n",
      "CPI           -0.1747      0.078     -2.253      0.030      -0.332      -0.018\n",
      "==============================================================================\n",
      "Omnibus:                        8.149   Durbin-Watson:                   2.140\n",
      "Prob(Omnibus):                  0.017   Jarque-Bera (JB):                7.994\n",
      "Skew:                           0.696   Prob(JB):                       0.0184\n",
      "Kurtosis:                       4.726   Cond. No.                         3.73\n",
      "==============================================================================\n",
      "\n",
      "Warnings:\n",
      "[1] Standard Errors assume that the covariance matrix of the errors is correctly specified.\n"
     ]
    }
   ],
   "source": [
    "print(results_4.summary())"
   ]
  },
  {
   "cell_type": "code",
   "execution_count": 51,
   "metadata": {},
   "outputs": [
    {
     "data": {
      "image/png": "[encoded data removed]",
      "text/plain": [
       "<Figure size 576x432 with 1 Axes>"
      ]
     },
     "metadata": {
      "needs_background": "light"
     },
     "output_type": "display_data"
    },
    {
     "data": {
      "text/plain": [
       "<Figure size 432x288 with 0 Axes>"
      ]
     },
     "metadata": {},
     "output_type": "display_data"
    }
   ],
   "source": [
    "plt.figure(figsize=(8,6))\n",
    "plt.scatter(econ_model[econ_model.Continent=='Europe']['CPI'],econ_model[econ_model.Continent=='Europe']['GDP'], c='green')\n",
    "plt.plot(econ_model[econ_model.Continent=='Europe']['CPI'],results_4.fittedvalues)\n",
    "plt.title('Завимость между темпом прироста ВВП и инфляцией в Европе')\n",
    "plt.ylabel('Темп прироста ВВП (%)')\n",
    "plt.xlabel('Инфляция (%)')\n",
    "plt.show()\n",
    "plt.gcf().clear()"
   ]
  },
  {
   "cell_type": "markdown",
   "metadata": {},
   "source": [
    "### Регрессионное уравнение только с фиктивными переменными"
   ]
  },
  {
   "cell_type": "code",
   "execution_count": 52,
   "metadata": {},
   "outputs": [],
   "source": [
    "results_5=smf.ols(\"GDP ~ C(Continent,Treatment('Europe'))\",data=econ_model).fit()"
   ]
  },
  {
   "cell_type": "code",
   "execution_count": 53,
   "metadata": {},
   "outputs": [
    {
     "name": "stdout",
     "output_type": "stream",
     "text": [
      "                            OLS Regression Results                            \n",
      "==============================================================================\n",
      "Dep. Variable:                    GDP   R-squared:                       0.044\n",
      "Model:                            OLS   Adj. R-squared:                  0.016\n",
      "Method:                 Least Squares   F-statistic:                     1.569\n",
      "Date:                Sun, 28 Feb 2021   Prob (F-statistic):              0.186\n",
      "Time:                        23:47:36   Log-Likelihood:                -334.00\n",
      "No. Observations:                 142   AIC:                             678.0\n",
      "Df Residuals:                     137   BIC:                             692.8\n",
      "Df Model:                           4                                         \n",
      "Covariance Type:            nonrobust                                         \n",
      "=================================================================================================================\n",
      "                                                    coef    std err          t      P>|t|      [0.025      0.975]\n",
      "-----------------------------------------------------------------------------------------------------------------\n",
      "Intercept                                         2.6134      0.414      6.305      0.000       1.794       3.433\n",
      "C(Continent, Treatment('Europe'))[T.Africa]       0.8767      0.594      1.476      0.142      -0.298       2.051\n",
      "C(Continent, Treatment('Europe'))[T.Americas]    -0.0867      0.672     -0.129      0.897      -1.415       1.241\n",
      "C(Continent, Treatment('Europe'))[T.Asia]         1.1939      0.583      2.050      0.042       0.042       2.346\n",
      "C(Continent, Treatment('Europe'))[T.Oceania]      0.5948      1.877      0.317      0.752      -3.116       4.306\n",
      "==============================================================================\n",
      "Omnibus:                       13.738   Durbin-Watson:                   1.748\n",
      "Prob(Omnibus):                  0.001   Jarque-Bera (JB):               35.255\n",
      "Skew:                           0.258   Prob(JB):                     2.21e-08\n",
      "Kurtosis:                       5.386   Cond. No.                         9.48\n",
      "==============================================================================\n",
      "\n",
      "Warnings:\n",
      "[1] Standard Errors assume that the covariance matrix of the errors is correctly specified.\n"
     ]
    }
   ],
   "source": [
    "print(results_5.summary())"
   ]
  },
  {
   "cell_type": "code",
   "execution_count": 54,
   "metadata": {},
   "outputs": [
    {
     "data": {
      "text/plain": [
       "array([1.        , 0.        , 0.        , 1.        , 0.        ,\n",
       "       4.38389196])"
      ]
     },
     "execution_count": 54,
     "metadata": {},
     "output_type": "execute_result"
    }
   ],
   "source": [
    "results_3.model.exog[0]\n",
    "### пример наблюдения с учетом фиктивных переменных"
   ]
  },
  {
   "cell_type": "markdown",
   "metadata": {},
   "source": [
    "## Задание"
   ]
  },
  {
   "cell_type": "markdown",
   "metadata": {
    "collapsed": true
   },
   "source": [
    "### Для выполнения данного задания необходимо загрузить данные, подготовленные в Задании 4    \n",
    "### 1. Построить интервальные прогнозные оценки для зависимой переменной\n",
    "### 2. Построить  модель  линейной регрессии с фиктивными переменными (в примере разобрано несколько моделей, достаточно построить только общую модель).  Для перменной Continent рассмотреть разные референтные группы.\n",
    "### 3. Сформулировать основные выводы, указать недостатки модели и наметить возможные пути ее улучшения"
   ]
  },
  {
   "cell_type": "code",
   "execution_count": null,
   "metadata": {},
   "outputs": [],
   "source": []
  }
 ],
 "metadata": {
  "kernelspec": {
   "display_name": "Python 3 (ipykernel)",
   "language": "python",
   "name": "python3"
  },
  "language_info": {
   "codemirror_mode": {
    "name": "ipython",
    "version": 3
   },
   "file_extension": ".py",
   "mimetype": "text/x-python",
   "name": "python",
   "nbconvert_exporter": "python",
   "pygments_lexer": "ipython3",
   "version": "3.10.9"
  }
 },
 "nbformat": 4,
 "nbformat_minor": 2
}
