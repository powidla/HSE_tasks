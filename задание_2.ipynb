{
  "nbformat": 4,
  "nbformat_minor": 0,
  "metadata": {
    "colab": {
      "provenance": []
    },
    "kernelspec": {
      "display_name": "Python 3",
      "language": "python",
      "name": "python3"
    },
    "accelerator": "GPU"
  },
  "cells": [
    {
      "metadata": {
        "id": "FC8-DVX2JEAn",
        "colab": {
          "base_uri": "https://localhost:8080/",
          "height": 104
        },
        "outputId": "3563cbe0-68b9-4042-c1ab-55ffe5ffe356"
      },
      "cell_type": "code",
      "source": [
        "from os import path\n",
        "from wheel.pep425tags import get_abbr_impl, get_impl_ver, get_abi_tag\n",
        "platform = '{}{}-{}'.format(get_abbr_impl(), get_impl_ver(), get_abi_tag())\n",
        "\n",
        "accelerator = 'cu80' if path.exists('/opt/bin/nvidia-smi') else 'cpu'\n",
        "\n",
        "!pip3 install -q http://download.pytorch.org/whl/{accelerator}/torch-0.4.0-{platform}-linux_x86_64.whl \n",
        "!pip3 install torchvision"
      ],
      "execution_count": null,
      "outputs": [
        {
          "output_type": "stream",
          "text": [
            "Requirement already satisfied: torchvision in /usr/local/lib/python3.6/dist-packages (0.2.1)\r\n",
            "Requirement already satisfied: six in /usr/local/lib/python3.6/dist-packages (from torchvision) (1.11.0)\r\n",
            "Requirement already satisfied: torch in /usr/local/lib/python3.6/dist-packages (from torchvision) (0.4.0)\r\n",
            "Requirement already satisfied: numpy in /usr/local/lib/python3.6/dist-packages (from torchvision) (1.14.5)\r\n",
            "Requirement already satisfied: pillow>=4.1.1 in /usr/local/lib/python3.6/dist-packages (from torchvision) (5.2.0)\r\n"
          ],
          "name": "stdout"
        }
      ]
    },
    {
      "metadata": {
        "id": "dwEE99RAJqXS",
        "colab": {
          "base_uri": "https://localhost:8080/",
          "height": 69
        },
        "outputId": "d0394e96-d211-45d8-8176-22f039e55c7b"
      },
      "cell_type": "code",
      "source": [
        "import torch\n",
        "print(torch.__version__)\n",
        "print(accelerator)\n",
        "print(torch.cuda.is_available())"
      ],
      "execution_count": null,
      "outputs": [
        {
          "output_type": "stream",
          "text": [
            "0.4.0\n",
            "cu80\n",
            "True\n"
          ],
          "name": "stdout"
        }
      ]
    },
    {
      "metadata": {
        "id": "LNCmPBQvH34p"
      },
      "cell_type": "markdown",
      "source": [
        "# 1. Датасет с логотипами с сайта по ссылке ниже\n"
      ]
    },
    {
      "metadata": {
        "id": "p7v0V-uzH34t"
      },
      "cell_type": "code",
      "source": [
        "import urllib.request\n",
        "import os\n",
        "import zipfile\n",
        "import shutil\n",
        "from pathlib import Path"
      ],
      "execution_count": null,
      "outputs": []
    },
    {
      "metadata": {
        "id": "_FnOg43fH35F"
      },
      "cell_type": "code",
      "source": [
        "# See download section on URL: http://www.multimedia-computing.de/flickrlogos/\n",
        "FLICKLOGOS_URL = <...FlickrLogos-32_dataset_v2.zip>"
      ],
      "execution_count": null,
      "outputs": []
    },
    {
      "metadata": {
        "id": "1tliHKANH35S"
      },
      "cell_type": "code",
      "source": [
        "SOURCE_DIR = Path('FlickrLogos-v2')\n",
        "DATA_DIR = Path('data')\n",
        "SETS = ['train', 'val', 'test']"
      ],
      "execution_count": null,
      "outputs": []
    },
    {
      "metadata": {
        "id": "enT5tQm1H35h"
      },
      "cell_type": "code",
      "source": [
        "def load_datasets(url, dst_dir):\n",
        "    zip_file = url.split(sep='/')[-1]\n",
        "    zip_file_path = SOURCE_DIR / zip_file\n",
        "    if not dst_dir.is_dir():\n",
        "        if not zip_file_path.is_file():\n",
        "            urllib.request.urlretrieve(url, zip_file)        \n",
        "        with zipfile.ZipFile(zip_file) as zip_ref:\n",
        "            zip_ref.extractall()\n",
        "        #os.unlink(zip_file)    # comment out if you want to delete zip file"
      ],
      "execution_count": null,
      "outputs": []
    },
    {
      "metadata": {
        "id": "0_ErH0Z5H35q",
        "colab": {
          "base_uri": "https://localhost:8080/",
          "height": 52
        },
        "outputId": "bc9b57cf-ba9f-4da0-f376-6c807bc2d3f0"
      },
      "cell_type": "code",
      "source": [
        "%time load_datasets(FLICKLOGOS_URL, SOURCE_DIR)"
      ],
      "execution_count": null,
      "outputs": [
        {
          "output_type": "stream",
          "text": [
            "CPU times: user 0 ns, sys: 0 ns, total: 0 ns\n",
            "Wall time: 750 µs\n"
          ],
          "name": "stdout"
        }
      ]
    },
    {
      "metadata": {
        "id": "GwG_vqUyMfgM",
        "colab": {
          "base_uri": "https://localhost:8080/",
          "height": 347
        },
        "outputId": "b237fabc-f5be-4ecf-82d5-b5895fafbecb"
      },
      "cell_type": "code",
      "source": [
        "!ls FlickrLogos-v2"
      ],
      "execution_count": null,
      "outputs": [
        {
          "output_type": "stream",
          "text": [
            "all.filenames.txt\t\t trainset.relpaths.txt\r\n",
            "all.relpaths.txt\t\t trainset.spaces.txt\r\n",
            "all.spaces.txt\t\t\t trainset.txt\r\n",
            "all.txt\t\t\t\t trainvalset.filenames.txt\r\n",
            "classes\t\t\t\t trainvalset.relpaths.txt\r\n",
            "README.txt\t\t\t trainvalset.spaces.txt\r\n",
            "scripts\t\t\t\t trainvalset.txt\r\n",
            "testset.filenames.txt\t\t valset.filenames.txt\r\n",
            "testset-logosonly.filenames.txt  valset-logosonly.filenames.txt\r\n",
            "testset-logosonly.relpaths.txt\t valset-logosonly.relpaths.txt\r\n",
            "testset-logosonly.spaces.txt\t valset-logosonly.spaces.txt\r\n",
            "testset-logosonly.txt\t\t valset-nologos.filenames.txt\r\n",
            "testset-nologos.filenames.txt\t valset-nologos.relpaths.txt\r\n",
            "testset-nologos.relpaths.txt\t valset-nologos.spaces.txt\r\n",
            "testset-nologos.spaces.txt\t valset.relpaths.txt\r\n",
            "testset.relpaths.txt\t\t valset.spaces.txt\r\n",
            "testset.spaces.txt\t\t valset.txt\r\n",
            "testset.txt\t\t\t visualsummary.jpg\r\n",
            "trainset.filenames.txt\r\n"
          ],
          "name": "stdout"
        }
      ]
    },
    {
      "metadata": {
        "id": "Yby4uPZnH350"
      },
      "cell_type": "markdown",
      "source": [
        "# 2. Разделение данных и подготовка к обработке"
      ]
    },
    {
      "metadata": {
        "id": "UzGPnZRnH352"
      },
      "cell_type": "code",
      "source": [
        "def list_image_paths(txt_relpath):\n",
        "    with open(txt_relpath) as f:\n",
        "        image_paths = f.read().splitlines()\n",
        "    return image_paths"
      ],
      "execution_count": null,
      "outputs": []
    },
    {
      "metadata": {
        "id": "KZh37i1-H36I"
      },
      "cell_type": "code",
      "source": [
        "train_logo_relpaths = list_image_paths(SOURCE_DIR / 'trainset.relpaths.txt')\n",
        "val_logo_relpaths = list_image_paths(SOURCE_DIR / 'valset-logosonly.relpaths.txt')\n",
        "val_nologo_relpaths = list_image_paths(SOURCE_DIR / 'valset-nologos.relpaths.txt')\n",
        "test_relpaths = list_image_paths(SOURCE_DIR / 'testset.relpaths.txt')"
      ],
      "execution_count": null,
      "outputs": []
    },
    {
      "metadata": {
        "id": "M-V38tMjH36f",
        "colab": {
          "base_uri": "https://localhost:8080/",
          "height": 86
        },
        "outputId": "f17c6fe2-aa6d-46b2-abc2-7b993ebc4341"
      },
      "cell_type": "code",
      "source": [
        "print('Numbers of Training Images (logo): ',len(train_logo_relpaths))\n",
        "print('Numbers of Validation Images (logo): ',len(val_logo_relpaths))\n",
        "print('Numbers of Training Images (no logo): ',len(val_nologo_relpaths))\n",
        "print('Numbers of Test Images (logos + no log): ',len(test_relpaths))"
      ],
      "execution_count": null,
      "outputs": [
        {
          "output_type": "stream",
          "text": [
            "Numbers of Training Images (logo):  320\n",
            "Numbers of Validation Images (logo):  960\n",
            "Numbers of Training Images (no logo):  3000\n",
            "Numbers of Test Images (logos + no log):  3960\n"
          ],
          "name": "stdout"
        }
      ]
    },
    {
      "metadata": {
        "id": "yOZ8FuJNH361"
      },
      "cell_type": "code",
      "source": [
        "train_relpaths = train_logo_relpaths + val_nologo_relpaths[:int(len(val_nologo_relpaths) / 2)]\n",
        "val_relpaths = val_logo_relpaths + val_nologo_relpaths[int(len(val_nologo_relpaths) / 2):]"
      ],
      "execution_count": null,
      "outputs": []
    },
    {
      "metadata": {
        "id": "DmBKHqdmH37I",
        "colab": {
          "base_uri": "https://localhost:8080/",
          "height": 69
        },
        "outputId": "1ce8d1b6-1f4a-4574-f8d2-600da04804fb"
      },
      "cell_type": "code",
      "source": [
        "print('Numbers of Training Images (logos + no logo): ',len(train_relpaths))\n",
        "print('Numbers of Validation Images (logos + no logo): ',len(val_relpaths))\n",
        "print('Numbers of Training Images (logos + no log): ',len(test_relpaths))"
      ],
      "execution_count": null,
      "outputs": [
        {
          "output_type": "stream",
          "text": [
            "Numbers of Training Images (logos + no logo):  1820\n",
            "Numbers of Validation Images (logos + no logo):  2460\n",
            "Numbers of Training Images (logos + no log):  3960\n"
          ],
          "name": "stdout"
        }
      ]
    },
    {
      "metadata": {
        "id": "QP32paBvH37a"
      },
      "cell_type": "code",
      "source": [
        "relpaths = [train_relpaths, val_relpaths, test_relpaths]\n",
        "dataset_paths = dict(zip(SETS, relpaths))"
      ],
      "execution_count": null,
      "outputs": []
    },
    {
      "metadata": {
        "id": "cAzK0ur1H37n",
        "colab": {
          "base_uri": "https://localhost:8080/",
          "height": 34
        },
        "outputId": "65b509de-b6f9-44ec-a603-5eeea1195d9f"
      },
      "cell_type": "code",
      "source": [
        "len(dataset_paths['train'])"
      ],
      "execution_count": null,
      "outputs": [
        {
          "output_type": "execute_result",
          "data": {
            "text/plain": [
              "1820"
            ]
          },
          "metadata": {
            "tags": []
          },
          "execution_count": 15
        }
      ]
    },
    {
      "metadata": {
        "id": "9LSA_QOtH377",
        "colab": {
          "base_uri": "https://localhost:8080/",
          "height": 34
        },
        "outputId": "5ec45de4-f2b6-4545-cce5-194441493288"
      },
      "cell_type": "code",
      "source": [
        "train_logo_relpaths[0]"
      ],
      "execution_count": null,
      "outputs": [
        {
          "output_type": "execute_result",
          "data": {
            "text/plain": [
              "'classes/jpg/google/2325670467.jpg'"
            ]
          },
          "metadata": {
            "tags": []
          },
          "execution_count": 16
        }
      ]
    },
    {
      "metadata": {
        "id": "Uw03R1ZhH38J"
      },
      "cell_type": "code",
      "source": [
        "def prepare_datasets(src_dir, dst_dir, keep_source=True):\n",
        "    for dataset, paths in dataset_paths.items():\n",
        "        num_files = 0\n",
        "        for path in paths:\n",
        "            num_files += 1\n",
        "            src = src_dir / path\n",
        "            dst = dst_dir / (path.replace('classes/jpg', dataset))\n",
        "            dst.parent.mkdir(parents=True, exist_ok=True)\n",
        "            shutil.copy2(src, dst)\n",
        "        print(dataset, 'dataset:', str(num_files))\n",
        "    if not keep_source: shutil.rmtree(src_dir)"
      ],
      "execution_count": null,
      "outputs": []
    },
    {
      "metadata": {
        "id": "0GQ881Q6V9ZW",
        "colab": {
          "base_uri": "https://localhost:8080/",
          "height": 34
        },
        "outputId": "e6af7bfc-7a7b-424f-871d-e9f0d362297b"
      },
      "cell_type": "code",
      "source": [
        "!ls data"
      ],
      "execution_count": null,
      "outputs": [
        {
          "output_type": "stream",
          "text": [
            "test  train  val\r\n"
          ],
          "name": "stdout"
        }
      ]
    },
    {
      "metadata": {
        "id": "0ricwxcPH38V",
        "colab": {
          "base_uri": "https://localhost:8080/",
          "height": 104
        },
        "outputId": "1c56dcad-c6a1-4824-e7a2-f77291d373d8"
      },
      "cell_type": "code",
      "source": [
        "%time prepare_datasets(SOURCE_DIR, DATA_DIR)"
      ],
      "execution_count": null,
      "outputs": [
        {
          "output_type": "stream",
          "text": [
            "train dataset: 1820\n",
            "val dataset: 2460\n",
            "test dataset: 3960\n",
            "CPU times: user 3.25 s, sys: 6.09 s, total: 9.34 s\n",
            "Wall time: 45.6 s\n"
          ],
          "name": "stdout"
        }
      ]
    },
    {
      "metadata": {
        "id": "ETDrcqBwH38j"
      },
      "cell_type": "markdown",
      "source": [
        "## DataLoader"
      ]
    },
    {
      "metadata": {
        "id": "cQdSGN7pH38m"
      },
      "cell_type": "code",
      "source": [
        "%matplotlib inline\n",
        "import time\n",
        "import copy\n",
        "import numpy as np\n",
        "import matplotlib.pyplot as plt\n",
        "import torch\n",
        "import torch.nn as nn\n",
        "import torch.nn.functional as F\n",
        "import torch.optim as optim\n",
        "import torchvision\n",
        "from torchvision.transforms import transforms\n",
        "from torch.utils.data import DataLoader"
      ],
      "execution_count": null,
      "outputs": []
    },
    {
      "metadata": {
        "id": "A5PDZ1IiH397"
      },
      "cell_type": "code",
      "source": [
        "train_mean = np.array([0.44943, 0.4331 , 0.40244])\n",
        "train_std = np.array([0.29053, 0.28417, 0.30194])"
      ],
      "execution_count": null,
      "outputs": []
    },
    {
      "metadata": {
        "id": "fdFoMKNlH3-O"
      },
      "cell_type": "code",
      "source": [
        "data_transforms = transforms.Compose([\n",
        "    transforms.Resize((224, 224)), \n",
        "    transforms.ToTensor(),\n",
        "    transforms.Normalize(train_mean, train_std)\n",
        "])"
      ],
      "execution_count": null,
      "outputs": []
    },
    {
      "metadata": {
        "id": "DRS6UDxqH3-b"
      },
      "cell_type": "code",
      "source": [
        "datasets = {i : torchvision.datasets.ImageFolder(DATA_DIR / i, data_transforms) \n",
        "            for i in SETS}"
      ],
      "execution_count": null,
      "outputs": []
    },
    {
      "metadata": {
        "id": "X1C9rGSuH3-y"
      },
      "cell_type": "code",
      "source": [
        "bz = 8 # lower if error"
      ],
      "execution_count": null,
      "outputs": []
    },
    {
      "metadata": {
        "id": "rHyctCawH3-4"
      },
      "cell_type": "code",
      "source": [
        "dataloaders = {i : DataLoader(datasets[i], batch_size=bz, shuffle=(i == 'train'), num_workers=4) \n",
        "               for i in SETS}"
      ],
      "execution_count": null,
      "outputs": []
    },
    {
      "metadata": {
        "id": "IEBq8iS8H3_E"
      },
      "cell_type": "markdown",
      "source": [
        "## Visualize Datasets"
      ]
    },
    {
      "metadata": {
        "id": "bTfDEOGLH3_F"
      },
      "cell_type": "code",
      "source": [
        "def imshow(img):\n",
        "    npimg = img.numpy().transpose((1, 2, 0))\n",
        "    npimg = npimg * train_std + train_std    # denorm\n",
        "    npimg = np.clip(npimg, 0, 1)\n",
        "    plt.imshow(npimg)"
      ],
      "execution_count": null,
      "outputs": []
    },
    {
      "metadata": {
        "id": "7SoYQqg0H3_L"
      },
      "cell_type": "code",
      "source": [
        "imgs, labels = next(iter(dataloaders['train']))"
      ],
      "execution_count": null,
      "outputs": []
    },
    {
      "metadata": {
        "id": "fZWrp7klH3_d",
        "colab": {
          "base_uri": "https://localhost:8080/",
          "height": 153
        },
        "outputId": "f193b791-a291-4e46-d362-7cb73af5c4f6"
      },
      "cell_type": "code",
      "source": [
        "img = torchvision.utils.make_grid(imgs[:4])\n",
        "classes = datasets['train'].classes\n",
        "print(', '.join(classes[i] for i in labels[:4]))\n",
        "imshow(img)"
      ],
      "execution_count": null,
      "outputs": [
        {
          "output_type": "stream",
          "text": [
            "no-logo, no-logo, singha, no-logo\n"
          ],
          "name": "stdout"
        },
        {
          "output_type": "display_data",
          "data": {
            "image/png": "[encoded data removed]",
            "text/plain": [
              "<matplotlib.figure.Figure at 0x7f078a82e6a0>"
            ]
          },
          "metadata": {
            "tags": []
          }
        }
      ]
    },
    {
      "metadata": {
        "id": "8ZZiFG5dH3_9"
      },
      "cell_type": "markdown",
      "source": [
        "# Архитектура используемой модели(копия AlexNet)"
      ]
    },
    {
      "metadata": {
        "id": "popiZSfHH4AD"
      },
      "cell_type": "markdown",
      "source": [
        "<img src=\"https://pytorch.org/tutorials/_images/mnist.png\">"
      ]
    },
    {
      "metadata": {
        "id": "p5HYkglaH4AF"
      },
      "cell_type": "code",
      "source": [
        "class CNN(nn.Module):\n",
        "    def __init__(self):\n",
        "        super(CNN, self).__init__()\n",
        "        self.conv1 = nn.Conv2d(3, 6, 5)\n",
        "        self.pool = nn.MaxPool2d(2, 2)\n",
        "        self.conv2 = nn.Conv2d(6, 16, 5)\n",
        "        self.fc1 = nn.Linear(16 * 53 * 53, 120)\n",
        "        self.fc2 = nn.Linear(120, 84)\n",
        "        self.fc3 = nn.Linear(84, 33)        \n",
        "        \n",
        "    def forward(self, x):\n",
        "        x = self.pool(F.relu(self.conv1(x)))\n",
        "        x = self.pool(F.relu(self.conv2(x)))\n",
        "        x = x.view(-1, 16 * 53 * 53)\n",
        "        x = F.relu(self.fc1(x))\n",
        "        x = F.relu(self.fc2(x))\n",
        "        x = self.fc3(x)\n",
        "        return x"
      ],
      "execution_count": null,
      "outputs": []
    },
    {
      "metadata": {
        "id": "B5OKjTJpH4AO"
      },
      "cell_type": "code",
      "source": [
        "device = torch.device('cuda' if torch.cuda.is_available() else 'cpu')"
      ],
      "execution_count": null,
      "outputs": []
    },
    {
      "metadata": {
        "id": "eL6T4YTyH4AZ",
        "colab": {
          "base_uri": "https://localhost:8080/",
          "height": 156
        },
        "outputId": "872103e7-1352-4e8e-be56-804db4ab3f9e"
      },
      "cell_type": "code",
      "source": [
        "cnn = CNN()\n",
        "cnn = cnn.to(device)\n",
        "cnn"
      ],
      "execution_count": null,
      "outputs": [
        {
          "output_type": "execute_result",
          "data": {
            "text/plain": [
              "CNN(\n",
              "  (conv1): Conv2d(3, 6, kernel_size=(5, 5), stride=(1, 1))\n",
              "  (pool): MaxPool2d(kernel_size=2, stride=2, padding=0, dilation=1, ceil_mode=False)\n",
              "  (conv2): Conv2d(6, 16, kernel_size=(5, 5), stride=(1, 1))\n",
              "  (fc1): Linear(in_features=44944, out_features=120, bias=True)\n",
              "  (fc2): Linear(in_features=120, out_features=84, bias=True)\n",
              "  (fc3): Linear(in_features=84, out_features=33, bias=True)\n",
              ")"
            ]
          },
          "metadata": {
            "tags": []
          },
          "execution_count": 30
        }
      ]
    },
    {
      "metadata": {
        "id": "UxZLZ0uaH4At"
      },
      "cell_type": "markdown",
      "source": [
        "## Функция потерь и оптимайзер"
      ]
    },
    {
      "metadata": {
        "id": "SMFHhqJqH4Av"
      },
      "cell_type": "code",
      "source": [
        "criterion = nn.CrossEntropyLoss()\n",
        "optimizer = optim.SGD(cnn.parameters(), lr=0.001, momentum=0.9)"
      ],
      "execution_count": null,
      "outputs": []
    },
    {
      "metadata": {
        "id": "jhP3gDBiH4A1"
      },
      "cell_type": "markdown",
      "source": [
        "## Фукция обучения и валидация качества"
      ]
    },
    {
      "metadata": {
        "id": "AsdoXiN3H4A3"
      },
      "cell_type": "code",
      "source": [
        "def train_val(model, criterion, optimizer, num_epochs=25):\n",
        "    since = time.time()\n",
        "    \n",
        "    best_model_wts = copy.deepcopy(model.state_dict())\n",
        "    best_acc = 0.0\n",
        "    \n",
        "    for epoch in range(num_epochs):\n",
        "        print('Epoc {}/{}'.format(epoch, num_epochs - 1))\n",
        "        print('-' * 10)\n",
        "        for phase in ['train', 'val']:\n",
        "            if phase == 'train':\n",
        "                model.train()\n",
        "            else:\n",
        "                model.eval()\n",
        "            running_loss = 0.0\n",
        "            running_corrects = 0\n",
        "            for inputs, labels in dataloaders[phase]:\n",
        "                inputs, labels = inputs.to(device), labels.to(device)\n",
        "            \n",
        "                optimizer.zero_grad()\n",
        "\n",
        "                with torch.set_grad_enabled(phase == 'train'):\n",
        "                    # Forward pass\n",
        "                    outputs = model(inputs)\n",
        "                    _, preds = torch.max(outputs, 1)\n",
        "\n",
        "                    # Compute loss\n",
        "                    loss = criterion(outputs, labels)\n",
        "\n",
        "                    # Compute gradients and update parameters if train\n",
        "                    if phase == 'train':\n",
        "                        loss.backward()\n",
        "                        optimizer.step()\n",
        "\n",
        "                running_loss += loss.item() * inputs.size()[0]\n",
        "                running_corrects += torch.sum(preds == labels).item()\n",
        "\n",
        "            epoch_loss = running_loss / len(datasets[phase])\n",
        "            epoch_acc = running_corrects / len(datasets[phase])\n",
        "        \n",
        "            print('{} Loss: {:.4f} Acc.: {:.2f} %'.format(\n",
        "                phase.title(), epoch_loss, epoch_acc * 100))\n",
        "        \n",
        "            if phase == 'val' and epoch_acc > best_acc:\n",
        "                best_acc = epoch_acc\n",
        "                best_model_wts = copy.deepcopy(model.state_dict())\n",
        "        print()\n",
        "    \n",
        "    time_elapsed = time.time() - since\n",
        "    print('Training complete in {:.0f}m {:.0f}s'.format(\n",
        "        time_elapsed // 60, time_elapsed % 60))\n",
        "    print('Best Accuracy: {:.2f} %'.format(best_acc * 100))\n",
        "    model.load_state_dict(best_model_wts)\n",
        "    \n",
        "    return model"
      ],
      "execution_count": null,
      "outputs": []
    },
    {
      "metadata": {
        "id": "zxtcGl9ZH4A7",
        "colab": {
          "base_uri": "https://localhost:8080/",
          "height": 2257
        },
        "outputId": "aff5be20-d0bf-4138-8ebb-baea5b323d0a"
      },
      "cell_type": "code",
      "source": [
        "%time model_cnn = train_val(cnn, criterion, optimizer)"
      ],
      "execution_count": null,
      "outputs": [
        {
          "output_type": "stream",
          "text": [
            "Epoc 0/24\n",
            "----------\n",
            "Train Loss: 1.2789 Acc.: 81.10 %\n",
            "Val Loss: 2.0824 Acc.: 60.98 %\n",
            "\n",
            "Epoc 1/24\n",
            "----------\n",
            "Train Loss: 1.0940 Acc.: 82.42 %\n",
            "Val Loss: 1.9814 Acc.: 60.98 %\n",
            "\n",
            "Epoc 2/24\n",
            "----------\n",
            "Train Loss: 1.0444 Acc.: 82.42 %\n",
            "Val Loss: 2.0759 Acc.: 60.98 %\n",
            "\n",
            "Epoc 3/24\n",
            "----------\n",
            "Train Loss: 0.9732 Acc.: 82.42 %\n",
            "Val Loss: 2.3913 Acc.: 60.98 %\n",
            "\n",
            "Epoc 4/24\n",
            "----------\n",
            "Train Loss: 0.9207 Acc.: 82.42 %\n",
            "Val Loss: 2.3195 Acc.: 60.98 %\n",
            "\n",
            "Epoc 5/24\n",
            "----------\n",
            "Train Loss: 0.9183 Acc.: 82.42 %\n",
            "Val Loss: 2.3083 Acc.: 60.98 %\n",
            "\n",
            "Epoc 6/24\n",
            "----------\n",
            "Train Loss: 0.8030 Acc.: 82.64 %\n",
            "Val Loss: 2.2799 Acc.: 60.93 %\n",
            "\n",
            "Epoc 7/24\n",
            "----------\n",
            "Train Loss: 0.6595 Acc.: 84.56 %\n",
            "Val Loss: 2.4849 Acc.: 61.34 %\n",
            "\n",
            "Epoc 8/24\n",
            "----------\n",
            "Train Loss: 0.5301 Acc.: 87.47 %\n",
            "Val Loss: 2.8844 Acc.: 61.46 %\n",
            "\n",
            "Epoc 9/24\n",
            "----------\n",
            "Train Loss: 0.3071 Acc.: 92.97 %\n",
            "Val Loss: 4.1787 Acc.: 61.63 %\n",
            "\n",
            "Epoc 10/24\n",
            "----------\n",
            "Train Loss: 0.1394 Acc.: 96.65 %\n",
            "Val Loss: 3.5563 Acc.: 58.13 %\n",
            "\n",
            "Epoc 11/24\n",
            "----------\n",
            "Train Loss: 0.1170 Acc.: 97.03 %\n",
            "Val Loss: 5.9626 Acc.: 61.18 %\n",
            "\n",
            "Epoc 12/24\n",
            "----------\n",
            "Train Loss: 0.0495 Acc.: 98.74 %\n",
            "Val Loss: 5.0635 Acc.: 60.81 %\n",
            "\n",
            "Epoc 13/24\n",
            "----------\n",
            "Train Loss: 0.0104 Acc.: 99.73 %\n",
            "Val Loss: 5.3605 Acc.: 60.49 %\n",
            "\n",
            "Epoc 14/24\n",
            "----------\n",
            "Train Loss: 0.0059 Acc.: 99.84 %\n",
            "Val Loss: 6.0014 Acc.: 61.10 %\n",
            "\n",
            "Epoc 15/24\n",
            "----------\n",
            "Train Loss: 0.0021 Acc.: 100.00 %\n",
            "Val Loss: 6.1777 Acc.: 61.06 %\n",
            "\n",
            "Epoc 16/24\n",
            "----------\n",
            "Train Loss: 0.0015 Acc.: 100.00 %\n",
            "Val Loss: 6.2557 Acc.: 60.89 %\n",
            "\n",
            "Epoc 17/24\n",
            "----------\n",
            "Train Loss: 0.0012 Acc.: 100.00 %\n",
            "Val Loss: 6.4660 Acc.: 60.98 %\n",
            "\n",
            "Epoc 18/24\n",
            "----------\n",
            "Train Loss: 0.0010 Acc.: 100.00 %\n",
            "Val Loss: 6.7352 Acc.: 60.98 %\n",
            "\n",
            "Epoc 19/24\n",
            "----------\n",
            "Train Loss: 0.0008 Acc.: 100.00 %\n",
            "Val Loss: 6.7452 Acc.: 60.98 %\n",
            "\n",
            "Epoc 20/24\n",
            "----------\n",
            "Train Loss: 0.0007 Acc.: 100.00 %\n",
            "Val Loss: 6.8522 Acc.: 61.02 %\n",
            "\n",
            "Epoc 21/24\n",
            "----------\n",
            "Train Loss: 0.0006 Acc.: 100.00 %\n",
            "Val Loss: 6.8358 Acc.: 60.98 %\n",
            "\n",
            "Epoc 22/24\n",
            "----------\n",
            "Train Loss: 0.0005 Acc.: 100.00 %\n",
            "Val Loss: 6.9552 Acc.: 61.02 %\n",
            "\n",
            "Epoc 23/24\n",
            "----------\n",
            "Train Loss: 0.0005 Acc.: 100.00 %\n",
            "Val Loss: 7.0204 Acc.: 61.02 %\n",
            "\n",
            "Epoc 24/24\n",
            "----------\n",
            "Train Loss: 0.0004 Acc.: 100.00 %\n",
            "Val Loss: 7.0623 Acc.: 60.98 %\n",
            "\n",
            "Training complete in 60m 38s\n",
            "Best Accuracy: 61.63 %\n",
            "CPU times: user 2min 7s, sys: 1min 19s, total: 3min 26s\n",
            "Wall time: 1h 37s\n"
          ],
          "name": "stdout"
        }
      ]
    },
    {
      "metadata": {
        "id": "_-vLgdVgH4BH"
      },
      "cell_type": "markdown",
      "source": [
        "# Запуск на тесте"
      ]
    },
    {
      "metadata": {
        "id": "KD8ATmATH4BJ"
      },
      "cell_type": "code",
      "source": [
        "def test(model):\n",
        "    model.eval()\n",
        "    running_corrects = 0\n",
        "    with torch.no_grad():\n",
        "        for inputs, labels in dataloaders['test']:\n",
        "            inputs, labels = inputs.to(device), labels.to(device)\n",
        "            outputs = model(inputs)\n",
        "            _, preds = torch.max(outputs, 1)\n",
        "            \n",
        "            running_corrects += torch.sum(preds == labels).item()\n",
        "        \n",
        "    test_acc = running_corrects / len(datasets['test'])\n",
        "    print('Test Acc.: {:.2f} %'.format(test_acc * 100))"
      ],
      "execution_count": null,
      "outputs": []
    },
    {
      "metadata": {
        "id": "adtC6xDjH4BQ",
        "colab": {
          "base_uri": "https://localhost:8080/",
          "height": 69
        },
        "outputId": "11b16093-dd3c-4f02-9688-b688c4116509"
      },
      "cell_type": "code",
      "source": [
        "%time test(model_cnn)"
      ],
      "execution_count": null,
      "outputs": [
        {
          "output_type": "stream",
          "text": [
            "Test Acc.: 75.68 %\n",
            "CPU times: user 3.62 s, sys: 1.69 s, total: 5.31 s\n",
            "Wall time: 2min 15s\n"
          ],
          "name": "stdout"
        }
      ]
    }
  ]
}