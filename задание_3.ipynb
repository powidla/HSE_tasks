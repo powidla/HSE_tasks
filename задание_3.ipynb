{
  "nbformat": 4,
  "nbformat_minor": 0,
  "metadata": {
    "_change_revision": 36,
    "_is_fork": false,
    "kernelspec": {
      "display_name": "Python 3",
      "language": "python",
      "name": "python3"
    },
    "language_info": {
      "codemirror_mode": {
        "name": "ipython",
        "version": 3
      },
      "file_extension": ".py",
      "mimetype": "text/x-python",
      "name": "python",
      "nbconvert_exporter": "python",
      "pygments_lexer": "ipython3",
      "version": "3.7.4"
    },
    "colab": {
      "provenance": [],
      "toc_visible": true
    }
  },
  "cells": [
    {
      "cell_type": "markdown",
      "metadata": {
        "id": "hfVS8uwb5ybn"
      },
      "source": [
        "## 1. Загрузить данные для обучения"
      ]
    },
    {
      "cell_type": "code",
      "metadata": {
        "_cell_guid": "cfdaacbc-23a3-423d-8d4d-120939ac7383",
        "id": "mqg4gKIf5ybp"
      },
      "source": [
        "import pandas as pd"
      ],
      "execution_count": null,
      "outputs": []
    },
    {
      "cell_type": "markdown",
      "metadata": {
        "id": "bbQE1yAG5ybv"
      },
      "source": [
        "Основную вычислительную нагрузку берёт на себя модуль **Numpy**, с помощью которого можно быстро производить\n",
        "вычисления сразу над массивами чисел."
      ]
    },
    {
      "cell_type": "code",
      "metadata": {
        "id": "43frQkKI5ybw"
      },
      "source": [
        "import numpy as np"
      ],
      "execution_count": null,
      "outputs": []
    },
    {
      "cell_type": "code",
      "metadata": {
        "_cell_guid": "cfdaacbc-23a3-423d-8d4d-120939ac7383",
        "id": "HGe2X5wi5ybz"
      },
      "source": [
        "\n",
        "from sklearn.metrics import roc_curve,  auc # метрики качества\n",
        "from sklearn.metrics import confusion_matrix # метрики качества\n"
      ],
      "execution_count": null,
      "outputs": []
    },
    {
      "cell_type": "code",
      "metadata": {
        "_cell_guid": "cfdaacbc-23a3-423d-8d4d-120939ac7383",
        "id": "u08dEfeV5yb2"
      },
      "source": [
        "%matplotlib inline\n",
        "import matplotlib.pyplot as plt\n",
        "\n",
        "import seaborn as sns\n",
        "sns.set_style('whitegrid') # установить стиль whitegrid, другие стили можно найти в документации к seaborn"
      ],
      "execution_count": null,
      "outputs": []
    },
    {
      "cell_type": "code",
      "metadata": {
        "id": "l2U8CCem5yb5"
      },
      "source": [
        "import warnings\n",
        "warnings.filterwarnings(\"ignore\")"
      ],
      "execution_count": null,
      "outputs": []
    },
    {
      "cell_type": "markdown",
      "metadata": {
        "id": "SCc6n4VL5yb7"
      },
      "source": [
        "<br/>"
      ]
    },
    {
      "cell_type": "code",
      "metadata": {
        "id": "Z3QcOnMy-5oa"
      },
      "source": [
        "%%capture\n",
        "!wget https://www.dropbox.com/s/io67uppgq66plbp/training_data.csv\n",
        "!wget https://www.dropbox.com/s/2ga9maqxbsf8xhg/test_data.csv"
      ],
      "execution_count": null,
      "outputs": []
    },
    {
      "cell_type": "code",
      "metadata": {
        "_cell_guid": "3ab4c525-a5cb-4183-9468-c1dd005c4c78",
        "id": "ni39CtSD5yb8"
      },
      "source": [
        "training_data = pd.read_csv('training_data.csv')"
      ],
      "execution_count": null,
      "outputs": []
    },
    {
      "cell_type": "markdown",
      "metadata": {
        "id": "RccdlHBB5yb_"
      },
      "source": [
        "Посмотрим на 10 случайно выбранных записей из обучающего набора, для этого будем использовать функцию **sample()**. Параметр\n",
        "**random_state=123** фиксирует \"случайность\", то есть на любом компьютере метод **sample()** будет работать одинаково. "
      ]
    },
    {
      "cell_type": "code",
      "metadata": {
        "id": "rD2nn0xi5yb_",
        "colab": {
          "base_uri": "https://localhost:8080/",
          "height": 396
        },
        "outputId": "09618aca-3dcb-4570-d71d-ead5ff820205"
      },
      "source": [
        "training_data.sample(10, random_state=123)"
      ],
      "execution_count": null,
      "outputs": [
        {
          "output_type": "execute_result",
          "data": {
            "text/html": [
              "<div>\n",
              "<style scoped>\n",
              "    .dataframe tbody tr th:only-of-type {\n",
              "        vertical-align: middle;\n",
              "    }\n",
              "\n",
              "    .dataframe tbody tr th {\n",
              "        vertical-align: top;\n",
              "    }\n",
              "\n",
              "    .dataframe thead th {\n",
              "        text-align: right;\n",
              "    }\n",
              "</style>\n",
              "<table border=\"1\" class=\"dataframe\">\n",
              "  <thead>\n",
              "    <tr style=\"text-align: right;\">\n",
              "      <th></th>\n",
              "      <th>SeriousDlqin2yrs</th>\n",
              "      <th>RevolvingUtilizationOfUnsecuredLines</th>\n",
              "      <th>age</th>\n",
              "      <th>NumberOfTime30-59DaysPastDueNotWorse</th>\n",
              "      <th>DebtRatio</th>\n",
              "      <th>MonthlyIncome</th>\n",
              "      <th>NumberOfOpenCreditLinesAndLoans</th>\n",
              "      <th>NumberOfTimes90DaysLate</th>\n",
              "      <th>NumberRealEstateLoansOrLines</th>\n",
              "      <th>NumberOfTime60-89DaysPastDueNotWorse</th>\n",
              "      <th>NumberOfDependents</th>\n",
              "    </tr>\n",
              "  </thead>\n",
              "  <tbody>\n",
              "    <tr>\n",
              "      <th>11872</th>\n",
              "      <td>0</td>\n",
              "      <td>0.336531</td>\n",
              "      <td>66</td>\n",
              "      <td>0</td>\n",
              "      <td>0.517186</td>\n",
              "      <td>10589.0</td>\n",
              "      <td>9</td>\n",
              "      <td>0</td>\n",
              "      <td>4</td>\n",
              "      <td>0</td>\n",
              "      <td>0.0</td>\n",
              "    </tr>\n",
              "    <tr>\n",
              "      <th>40828</th>\n",
              "      <td>0</td>\n",
              "      <td>0.017424</td>\n",
              "      <td>40</td>\n",
              "      <td>0</td>\n",
              "      <td>0.376570</td>\n",
              "      <td>6051.0</td>\n",
              "      <td>11</td>\n",
              "      <td>0</td>\n",
              "      <td>2</td>\n",
              "      <td>0</td>\n",
              "      <td>1.0</td>\n",
              "    </tr>\n",
              "    <tr>\n",
              "      <th>36400</th>\n",
              "      <td>0</td>\n",
              "      <td>0.079785</td>\n",
              "      <td>42</td>\n",
              "      <td>0</td>\n",
              "      <td>0.786468</td>\n",
              "      <td>6916.0</td>\n",
              "      <td>9</td>\n",
              "      <td>0</td>\n",
              "      <td>3</td>\n",
              "      <td>0</td>\n",
              "      <td>1.0</td>\n",
              "    </tr>\n",
              "    <tr>\n",
              "      <th>5166</th>\n",
              "      <td>0</td>\n",
              "      <td>0.000349</td>\n",
              "      <td>50</td>\n",
              "      <td>1</td>\n",
              "      <td>0.340891</td>\n",
              "      <td>11070.0</td>\n",
              "      <td>7</td>\n",
              "      <td>0</td>\n",
              "      <td>2</td>\n",
              "      <td>0</td>\n",
              "      <td>0.0</td>\n",
              "    </tr>\n",
              "    <tr>\n",
              "      <th>30273</th>\n",
              "      <td>0</td>\n",
              "      <td>1.000714</td>\n",
              "      <td>31</td>\n",
              "      <td>0</td>\n",
              "      <td>0.594670</td>\n",
              "      <td>1800.0</td>\n",
              "      <td>6</td>\n",
              "      <td>0</td>\n",
              "      <td>0</td>\n",
              "      <td>0</td>\n",
              "      <td>1.0</td>\n",
              "    </tr>\n",
              "    <tr>\n",
              "      <th>31249</th>\n",
              "      <td>0</td>\n",
              "      <td>0.071795</td>\n",
              "      <td>42</td>\n",
              "      <td>0</td>\n",
              "      <td>1586.000000</td>\n",
              "      <td>NaN</td>\n",
              "      <td>4</td>\n",
              "      <td>0</td>\n",
              "      <td>2</td>\n",
              "      <td>0</td>\n",
              "      <td>NaN</td>\n",
              "    </tr>\n",
              "    <tr>\n",
              "      <th>21872</th>\n",
              "      <td>0</td>\n",
              "      <td>0.274562</td>\n",
              "      <td>52</td>\n",
              "      <td>0</td>\n",
              "      <td>0.226425</td>\n",
              "      <td>14538.0</td>\n",
              "      <td>17</td>\n",
              "      <td>0</td>\n",
              "      <td>2</td>\n",
              "      <td>0</td>\n",
              "      <td>1.0</td>\n",
              "    </tr>\n",
              "    <tr>\n",
              "      <th>47728</th>\n",
              "      <td>0</td>\n",
              "      <td>0.006529</td>\n",
              "      <td>82</td>\n",
              "      <td>0</td>\n",
              "      <td>7.000000</td>\n",
              "      <td>NaN</td>\n",
              "      <td>6</td>\n",
              "      <td>0</td>\n",
              "      <td>0</td>\n",
              "      <td>0</td>\n",
              "      <td>0.0</td>\n",
              "    </tr>\n",
              "    <tr>\n",
              "      <th>7261</th>\n",
              "      <td>0</td>\n",
              "      <td>0.018731</td>\n",
              "      <td>64</td>\n",
              "      <td>0</td>\n",
              "      <td>0.076228</td>\n",
              "      <td>7083.0</td>\n",
              "      <td>13</td>\n",
              "      <td>0</td>\n",
              "      <td>0</td>\n",
              "      <td>0</td>\n",
              "      <td>0.0</td>\n",
              "    </tr>\n",
              "    <tr>\n",
              "      <th>6456</th>\n",
              "      <td>0</td>\n",
              "      <td>0.393872</td>\n",
              "      <td>36</td>\n",
              "      <td>2</td>\n",
              "      <td>0.276135</td>\n",
              "      <td>2400.0</td>\n",
              "      <td>5</td>\n",
              "      <td>0</td>\n",
              "      <td>0</td>\n",
              "      <td>1</td>\n",
              "      <td>1.0</td>\n",
              "    </tr>\n",
              "  </tbody>\n",
              "</table>\n",
              "</div>"
            ],
            "text/plain": [
              "       SeriousDlqin2yrs  ...  NumberOfDependents\n",
              "11872                 0  ...                 0.0\n",
              "40828                 0  ...                 1.0\n",
              "36400                 0  ...                 1.0\n",
              "5166                  0  ...                 0.0\n",
              "30273                 0  ...                 1.0\n",
              "31249                 0  ...                 NaN\n",
              "21872                 0  ...                 1.0\n",
              "47728                 0  ...                 0.0\n",
              "7261                  0  ...                 0.0\n",
              "6456                  0  ...                 1.0\n",
              "\n",
              "[10 rows x 11 columns]"
            ]
          },
          "metadata": {
            "tags": []
          },
          "execution_count": 8
        }
      ]
    },
    {
      "cell_type": "code",
      "metadata": {
        "id": "kAoBNr4T5ycD",
        "colab": {
          "base_uri": "https://localhost:8080/",
          "height": 390
        },
        "outputId": "fa4acf8f-b877-46d8-ac53-cb2b2adf81ff"
      },
      "source": [
        "training_data.describe().T"
      ],
      "execution_count": null,
      "outputs": [
        {
          "output_type": "execute_result",
          "data": {
            "text/html": [
              "<div>\n",
              "<style scoped>\n",
              "    .dataframe tbody tr th:only-of-type {\n",
              "        vertical-align: middle;\n",
              "    }\n",
              "\n",
              "    .dataframe tbody tr th {\n",
              "        vertical-align: top;\n",
              "    }\n",
              "\n",
              "    .dataframe thead th {\n",
              "        text-align: right;\n",
              "    }\n",
              "</style>\n",
              "<table border=\"1\" class=\"dataframe\">\n",
              "  <thead>\n",
              "    <tr style=\"text-align: right;\">\n",
              "      <th></th>\n",
              "      <th>count</th>\n",
              "      <th>mean</th>\n",
              "      <th>std</th>\n",
              "      <th>min</th>\n",
              "      <th>25%</th>\n",
              "      <th>50%</th>\n",
              "      <th>75%</th>\n",
              "      <th>max</th>\n",
              "    </tr>\n",
              "  </thead>\n",
              "  <tbody>\n",
              "    <tr>\n",
              "      <th>SeriousDlqin2yrs</th>\n",
              "      <td>50000.0</td>\n",
              "      <td>0.066860</td>\n",
              "      <td>0.249782</td>\n",
              "      <td>0.0</td>\n",
              "      <td>0.000000</td>\n",
              "      <td>0.000000</td>\n",
              "      <td>0.000000</td>\n",
              "      <td>1.0</td>\n",
              "    </tr>\n",
              "    <tr>\n",
              "      <th>RevolvingUtilizationOfUnsecuredLines</th>\n",
              "      <td>50000.0</td>\n",
              "      <td>7.927880</td>\n",
              "      <td>332.393142</td>\n",
              "      <td>0.0</td>\n",
              "      <td>0.030096</td>\n",
              "      <td>0.154426</td>\n",
              "      <td>0.555651</td>\n",
              "      <td>50708.0</td>\n",
              "    </tr>\n",
              "    <tr>\n",
              "      <th>age</th>\n",
              "      <td>50000.0</td>\n",
              "      <td>52.240520</td>\n",
              "      <td>14.766593</td>\n",
              "      <td>21.0</td>\n",
              "      <td>41.000000</td>\n",
              "      <td>52.000000</td>\n",
              "      <td>63.000000</td>\n",
              "      <td>109.0</td>\n",
              "    </tr>\n",
              "    <tr>\n",
              "      <th>NumberOfTime30-59DaysPastDueNotWorse</th>\n",
              "      <td>50000.0</td>\n",
              "      <td>0.428220</td>\n",
              "      <td>4.269296</td>\n",
              "      <td>0.0</td>\n",
              "      <td>0.000000</td>\n",
              "      <td>0.000000</td>\n",
              "      <td>0.000000</td>\n",
              "      <td>98.0</td>\n",
              "    </tr>\n",
              "    <tr>\n",
              "      <th>DebtRatio</th>\n",
              "      <td>50000.0</td>\n",
              "      <td>352.441921</td>\n",
              "      <td>2006.426016</td>\n",
              "      <td>0.0</td>\n",
              "      <td>0.176304</td>\n",
              "      <td>0.366811</td>\n",
              "      <td>0.862599</td>\n",
              "      <td>329664.0</td>\n",
              "    </tr>\n",
              "    <tr>\n",
              "      <th>MonthlyIncome</th>\n",
              "      <td>40147.0</td>\n",
              "      <td>6642.232222</td>\n",
              "      <td>18122.708690</td>\n",
              "      <td>0.0</td>\n",
              "      <td>3400.000000</td>\n",
              "      <td>5400.000000</td>\n",
              "      <td>8250.000000</td>\n",
              "      <td>3008750.0</td>\n",
              "    </tr>\n",
              "    <tr>\n",
              "      <th>NumberOfOpenCreditLinesAndLoans</th>\n",
              "      <td>50000.0</td>\n",
              "      <td>8.476040</td>\n",
              "      <td>5.172756</td>\n",
              "      <td>0.0</td>\n",
              "      <td>5.000000</td>\n",
              "      <td>8.000000</td>\n",
              "      <td>11.000000</td>\n",
              "      <td>57.0</td>\n",
              "    </tr>\n",
              "    <tr>\n",
              "      <th>NumberOfTimes90DaysLate</th>\n",
              "      <td>50000.0</td>\n",
              "      <td>0.269920</td>\n",
              "      <td>4.243110</td>\n",
              "      <td>0.0</td>\n",
              "      <td>0.000000</td>\n",
              "      <td>0.000000</td>\n",
              "      <td>0.000000</td>\n",
              "      <td>98.0</td>\n",
              "    </tr>\n",
              "    <tr>\n",
              "      <th>NumberRealEstateLoansOrLines</th>\n",
              "      <td>50000.0</td>\n",
              "      <td>1.017500</td>\n",
              "      <td>1.120151</td>\n",
              "      <td>0.0</td>\n",
              "      <td>0.000000</td>\n",
              "      <td>1.000000</td>\n",
              "      <td>2.000000</td>\n",
              "      <td>32.0</td>\n",
              "    </tr>\n",
              "    <tr>\n",
              "      <th>NumberOfTime60-89DaysPastDueNotWorse</th>\n",
              "      <td>50000.0</td>\n",
              "      <td>0.246040</td>\n",
              "      <td>4.231055</td>\n",
              "      <td>0.0</td>\n",
              "      <td>0.000000</td>\n",
              "      <td>0.000000</td>\n",
              "      <td>0.000000</td>\n",
              "      <td>98.0</td>\n",
              "    </tr>\n",
              "    <tr>\n",
              "      <th>NumberOfDependents</th>\n",
              "      <td>48667.0</td>\n",
              "      <td>0.756180</td>\n",
              "      <td>1.114595</td>\n",
              "      <td>0.0</td>\n",
              "      <td>0.000000</td>\n",
              "      <td>0.000000</td>\n",
              "      <td>1.000000</td>\n",
              "      <td>10.0</td>\n",
              "    </tr>\n",
              "  </tbody>\n",
              "</table>\n",
              "</div>"
            ],
            "text/plain": [
              "                                        count  ...        max\n",
              "SeriousDlqin2yrs                      50000.0  ...        1.0\n",
              "RevolvingUtilizationOfUnsecuredLines  50000.0  ...    50708.0\n",
              "age                                   50000.0  ...      109.0\n",
              "NumberOfTime30-59DaysPastDueNotWorse  50000.0  ...       98.0\n",
              "DebtRatio                             50000.0  ...   329664.0\n",
              "MonthlyIncome                         40147.0  ...  3008750.0\n",
              "NumberOfOpenCreditLinesAndLoans       50000.0  ...       57.0\n",
              "NumberOfTimes90DaysLate               50000.0  ...       98.0\n",
              "NumberRealEstateLoansOrLines          50000.0  ...       32.0\n",
              "NumberOfTime60-89DaysPastDueNotWorse  50000.0  ...       98.0\n",
              "NumberOfDependents                    48667.0  ...       10.0\n",
              "\n",
              "[11 rows x 8 columns]"
            ]
          },
          "metadata": {
            "tags": []
          },
          "execution_count": 9
        }
      ]
    },
    {
      "cell_type": "markdown",
      "metadata": {
        "id": "00EyTVBq5ycI"
      },
      "source": [
        "# 2. Предобработка данных"
      ]
    },
    {
      "cell_type": "code",
      "metadata": {
        "id": "CGVrPipY5ycJ",
        "colab": {
          "base_uri": "https://localhost:8080/"
        },
        "outputId": "77104b3c-3633-482c-8a1e-64d9a0aaae02"
      },
      "source": [
        "training_data.info()"
      ],
      "execution_count": null,
      "outputs": [
        {
          "output_type": "stream",
          "text": [
            "<class 'pandas.core.frame.DataFrame'>\n",
            "RangeIndex: 50000 entries, 0 to 49999\n",
            "Data columns (total 11 columns):\n",
            " #   Column                                Non-Null Count  Dtype  \n",
            "---  ------                                --------------  -----  \n",
            " 0   SeriousDlqin2yrs                      50000 non-null  int64  \n",
            " 1   RevolvingUtilizationOfUnsecuredLines  50000 non-null  float64\n",
            " 2   age                                   50000 non-null  int64  \n",
            " 3   NumberOfTime30-59DaysPastDueNotWorse  50000 non-null  int64  \n",
            " 4   DebtRatio                             50000 non-null  float64\n",
            " 5   MonthlyIncome                         40147 non-null  float64\n",
            " 6   NumberOfOpenCreditLinesAndLoans       50000 non-null  int64  \n",
            " 7   NumberOfTimes90DaysLate               50000 non-null  int64  \n",
            " 8   NumberRealEstateLoansOrLines          50000 non-null  int64  \n",
            " 9   NumberOfTime60-89DaysPastDueNotWorse  50000 non-null  int64  \n",
            " 10  NumberOfDependents                    48667 non-null  float64\n",
            "dtypes: float64(4), int64(7)\n",
            "memory usage: 4.2 MB\n"
          ],
          "name": "stdout"
        }
      ]
    },
    {
      "cell_type": "code",
      "metadata": {
        "id": "9uBmGCVY5ycM",
        "colab": {
          "base_uri": "https://localhost:8080/"
        },
        "outputId": "fc8a0a7e-dce6-4391-f437-e1c34ac3dab5"
      },
      "source": [
        "train_mean = training_data.mean()\n",
        "train_mean"
      ],
      "execution_count": null,
      "outputs": [
        {
          "output_type": "execute_result",
          "data": {
            "text/plain": [
              "SeriousDlqin2yrs                           0.066860\n",
              "RevolvingUtilizationOfUnsecuredLines       7.927880\n",
              "age                                       52.240520\n",
              "NumberOfTime30-59DaysPastDueNotWorse       0.428220\n",
              "DebtRatio                                352.441921\n",
              "MonthlyIncome                           6642.232222\n",
              "NumberOfOpenCreditLinesAndLoans            8.476040\n",
              "NumberOfTimes90DaysLate                    0.269920\n",
              "NumberRealEstateLoansOrLines               1.017500\n",
              "NumberOfTime60-89DaysPastDueNotWorse       0.246040\n",
              "NumberOfDependents                         0.756180\n",
              "dtype: float64"
            ]
          },
          "metadata": {
            "tags": []
          },
          "execution_count": 11
        }
      ]
    },
    {
      "cell_type": "code",
      "metadata": {
        "id": "v3KNUVij5ycQ"
      },
      "source": [
        "training_data.fillna(train_mean, inplace=True)"
      ],
      "execution_count": null,
      "outputs": []
    },
    {
      "cell_type": "code",
      "metadata": {
        "id": "mki__Z5a5yce",
        "colab": {
          "base_uri": "https://localhost:8080/"
        },
        "outputId": "421802c1-16cb-4fb9-8ead-113a7750b52d"
      },
      "source": [
        "training_data['SeriousDlqin2yrs'].value_counts()"
      ],
      "execution_count": null,
      "outputs": [
        {
          "output_type": "execute_result",
          "data": {
            "text/plain": [
              "0    46657\n",
              "1     3343\n",
              "Name: SeriousDlqin2yrs, dtype: int64"
            ]
          },
          "metadata": {
            "tags": []
          },
          "execution_count": 13
        }
      ]
    },
    {
      "cell_type": "markdown",
      "metadata": {
        "id": "YkI62BHW5yci"
      },
      "source": [
        "Нам нужно выделить в отдельную переменную *training_values* столбец из нашей таблицы, который соответствует определенной выше целевой переменной. "
      ]
    },
    {
      "cell_type": "code",
      "metadata": {
        "id": "QlVkHcTv5ycj"
      },
      "source": [
        "training_values = training_data['SeriousDlqin2yrs']"
      ],
      "execution_count": null,
      "outputs": []
    },
    {
      "cell_type": "markdown",
      "metadata": {
        "id": "jyiF_GgO5ycm"
      },
      "source": [
        "Проверим размерность целевой переменной"
      ]
    },
    {
      "cell_type": "code",
      "metadata": {
        "id": "cbXofKHL5ycn",
        "colab": {
          "base_uri": "https://localhost:8080/"
        },
        "outputId": "bdd1922b-7895-4603-e6b2-153bc428fbd5"
      },
      "source": [
        "training_values.shape"
      ],
      "execution_count": null,
      "outputs": [
        {
          "output_type": "execute_result",
          "data": {
            "text/plain": [
              "(50000,)"
            ]
          },
          "metadata": {
            "tags": []
          },
          "execution_count": 15
        }
      ]
    },
    {
      "cell_type": "code",
      "metadata": {
        "id": "arIkbpOu5ycr"
      },
      "source": [
        "training_points = training_data.drop('SeriousDlqin2yrs', axis=1)"
      ],
      "execution_count": null,
      "outputs": []
    },
    {
      "cell_type": "code",
      "metadata": {
        "id": "tDeglfc85ycs",
        "colab": {
          "base_uri": "https://localhost:8080/"
        },
        "outputId": "6d42de3f-4425-4357-8500-b6674e845fa1"
      },
      "source": [
        "training_data.shape"
      ],
      "execution_count": null,
      "outputs": [
        {
          "output_type": "execute_result",
          "data": {
            "text/plain": [
              "(50000, 11)"
            ]
          },
          "metadata": {
            "tags": []
          },
          "execution_count": 17
        }
      ]
    },
    {
      "cell_type": "code",
      "metadata": {
        "id": "RK8TKuwo5ycv",
        "colab": {
          "base_uri": "https://localhost:8080/"
        },
        "outputId": "f7b3913a-6342-4605-f2a0-7b1e47342d44"
      },
      "source": [
        "training_points.shape"
      ],
      "execution_count": null,
      "outputs": [
        {
          "output_type": "execute_result",
          "data": {
            "text/plain": [
              "(50000, 10)"
            ]
          },
          "metadata": {
            "tags": []
          },
          "execution_count": 18
        }
      ]
    },
    {
      "cell_type": "markdown",
      "metadata": {
        "id": "WwTUoxhW5ycy"
      },
      "source": [
        "##   3. Обучение модели на трейне"
      ]
    },
    {
      "cell_type": "code",
      "metadata": {
        "id": "H0x0p65d5yc7"
      },
      "source": [
        "logistic_regression_model = linear_model.LogisticRegression(C=2) # создаем модель"
      ],
      "execution_count": null,
      "outputs": []
    },
    {
      "cell_type": "code",
      "metadata": {
        "id": "wlgtW_nl5ydB"
      },
      "source": [
        "random_forest_model = ensemble.RandomForestClassifier(n_estimators=50)"
      ],
      "execution_count": null,
      "outputs": []
    },
    {
      "cell_type": "code",
      "metadata": {
        "id": "8W3-Nf8g5ydK",
        "colab": {
          "base_uri": "https://localhost:8080/"
        },
        "outputId": "dfca8554-1577-4af1-d30d-a61b3c2b1dd0"
      },
      "source": [
        "logistic_regression_model.fit(training_points, training_values)"
      ],
      "execution_count": null,
      "outputs": [
        {
          "output_type": "execute_result",
          "data": {
            "text/plain": [
              "LogisticRegression(C=2, class_weight=None, dual=False, fit_intercept=True,\n",
              "                   intercept_scaling=1, l1_ratio=None, max_iter=100,\n",
              "                   multi_class='auto', n_jobs=None, penalty='l2',\n",
              "                   random_state=None, solver='lbfgs', tol=0.0001, verbose=0,\n",
              "                   warm_start=False)"
            ]
          },
          "metadata": {
            "tags": []
          },
          "execution_count": 22
        }
      ]
    },
    {
      "cell_type": "code",
      "metadata": {
        "id": "w0djXP4P5ydN",
        "colab": {
          "base_uri": "https://localhost:8080/"
        },
        "outputId": "01cc9fac-839c-4698-9654-5ab852aed230"
      },
      "source": [
        "random_forest_model.fit(training_points, training_values)"
      ],
      "execution_count": null,
      "outputs": [
        {
          "output_type": "execute_result",
          "data": {
            "text/plain": [
              "RandomForestClassifier(bootstrap=True, ccp_alpha=0.0, class_weight=None,\n",
              "                       criterion='gini', max_depth=None, max_features='auto',\n",
              "                       max_leaf_nodes=None, max_samples=None,\n",
              "                       min_impurity_decrease=0.0, min_impurity_split=None,\n",
              "                       min_samples_leaf=1, min_samples_split=2,\n",
              "                       min_weight_fraction_leaf=0.0, n_estimators=50,\n",
              "                       n_jobs=None, oob_score=False, random_state=None,\n",
              "                       verbose=0, warm_start=False)"
            ]
          },
          "metadata": {
            "tags": []
          },
          "execution_count": 23
        }
      ]
    },
    {
      "cell_type": "markdown",
      "metadata": {
        "id": "beMhsTKQ5ydO"
      },
      "source": [
        "* Для двух разных моделей в sklearn методы для обучения модели не отличаются.\n",
        "* Мы получили две обученные модели. \n",
        "* Теперь необходимо провалидировать модели на новых тестовых данных, которые не использовались при обучении модели."
      ]
    },
    {
      "cell_type": "markdown",
      "metadata": {
        "id": "tGhylaB65ydP"
      },
      "source": [
        "## 4. Проверка метрик качества моделей на тесте"
      ]
    },
    {
      "cell_type": "code",
      "metadata": {
        "id": "CafHxOcg5ydQ"
      },
      "source": [
        "test_data = pd.read_csv('test_data.csv')"
      ],
      "execution_count": null,
      "outputs": []
    },
    {
      "cell_type": "code",
      "metadata": {
        "colab": {
          "base_uri": "https://localhost:8080/"
        },
        "id": "EbcBbDhX129q",
        "outputId": "8a602df7-94ec-4810-8e3b-3a37e5dbcf62"
      },
      "source": [
        "test_data.info()"
      ],
      "execution_count": null,
      "outputs": [
        {
          "output_type": "stream",
          "text": [
            "<class 'pandas.core.frame.DataFrame'>\n",
            "RangeIndex: 37500 entries, 0 to 37499\n",
            "Data columns (total 11 columns):\n",
            " #   Column                                Non-Null Count  Dtype  \n",
            "---  ------                                --------------  -----  \n",
            " 0   SeriousDlqin2yrs                      37500 non-null  int64  \n",
            " 1   RevolvingUtilizationOfUnsecuredLines  37500 non-null  float64\n",
            " 2   age                                   37500 non-null  int64  \n",
            " 3   NumberOfTime30-59DaysPastDueNotWorse  37500 non-null  int64  \n",
            " 4   DebtRatio                             37500 non-null  float64\n",
            " 5   MonthlyIncome                         30044 non-null  float64\n",
            " 6   NumberOfOpenCreditLinesAndLoans       37500 non-null  int64  \n",
            " 7   NumberOfTimes90DaysLate               37500 non-null  int64  \n",
            " 8   NumberRealEstateLoansOrLines          37500 non-null  int64  \n",
            " 9   NumberOfTime60-89DaysPastDueNotWorse  37500 non-null  int64  \n",
            " 10  NumberOfDependents                    36521 non-null  float64\n",
            "dtypes: float64(4), int64(7)\n",
            "memory usage: 3.1 MB\n"
          ],
          "name": "stdout"
        }
      ]
    },
    {
      "cell_type": "code",
      "metadata": {
        "id": "9HWGt5dt5ydT"
      },
      "source": [
        "test_data.fillna(train_mean, inplace=True)"
      ],
      "execution_count": null,
      "outputs": []
    },
    {
      "cell_type": "code",
      "metadata": {
        "id": "ZJPVGyur5ydW"
      },
      "source": [
        "test_values = test_data['SeriousDlqin2yrs']"
      ],
      "execution_count": null,
      "outputs": []
    },
    {
      "cell_type": "code",
      "metadata": {
        "id": "Yr7Ol_MO5ydY"
      },
      "source": [
        "test_points = test_data.drop('SeriousDlqin2yrs', axis=1)"
      ],
      "execution_count": null,
      "outputs": []
    },
    {
      "cell_type": "code",
      "metadata": {
        "id": "0_mD8QMa5ydZ",
        "colab": {
          "base_uri": "https://localhost:8080/"
        },
        "outputId": "f812f66a-42e7-4510-ff5c-3b57528c459a"
      },
      "source": [
        "test_points.shape"
      ],
      "execution_count": null,
      "outputs": [
        {
          "output_type": "execute_result",
          "data": {
            "text/plain": [
              "(37500, 10)"
            ]
          },
          "metadata": {
            "tags": []
          },
          "execution_count": 29
        }
      ]
    },
    {
      "cell_type": "markdown",
      "metadata": {
        "id": "eZlE_oH45ydb"
      },
      "source": [
        "# 5. Валидация модели"
      ]
    },
    {
      "cell_type": "code",
      "metadata": {
        "id": "TVnx32rB5ydc"
      },
      "source": [
        "test_predictions_logistic_regression = logistic_regression_model.predict(test_points)"
      ],
      "execution_count": null,
      "outputs": []
    },
    {
      "cell_type": "code",
      "metadata": {
        "id": "gg4PPJtC5yde"
      },
      "source": [
        "test_predictions_random_forest = random_forest_model.predict(test_points)"
      ],
      "execution_count": null,
      "outputs": []
    },
    {
      "cell_type": "code",
      "metadata": {
        "id": "TJIg0oAn5ydi",
        "colab": {
          "base_uri": "https://localhost:8080/"
        },
        "outputId": "9a5481d1-a3a2-47f1-bbeb-833ca8e7a28e"
      },
      "source": [
        "pd.value_counts(test_predictions_logistic_regression)"
      ],
      "execution_count": null,
      "outputs": [
        {
          "output_type": "execute_result",
          "data": {
            "text/plain": [
              "0    37400\n",
              "1      100\n",
              "dtype: int64"
            ]
          },
          "metadata": {
            "tags": []
          },
          "execution_count": 32
        }
      ]
    },
    {
      "cell_type": "code",
      "metadata": {
        "id": "pMZ2eocK5ydn",
        "colab": {
          "base_uri": "https://localhost:8080/"
        },
        "outputId": "7720726a-5e2f-4e0f-c6aa-897ba656519a"
      },
      "source": [
        "pd.value_counts(test_predictions_random_forest)"
      ],
      "execution_count": null,
      "outputs": [
        {
          "output_type": "execute_result",
          "data": {
            "text/plain": [
              "0    36645\n",
              "1      855\n",
              "dtype: int64"
            ]
          },
          "metadata": {
            "tags": []
          },
          "execution_count": 33
        }
      ]
    },
    {
      "cell_type": "code",
      "metadata": {
        "id": "8ukyCHxY5ydw",
        "colab": {
          "base_uri": "https://localhost:8080/"
        },
        "outputId": "4abb1ee8-9340-4d71-9226-47af11222a58"
      },
      "source": [
        "logistic_regression_model.score(test_points, test_values)"
      ],
      "execution_count": null,
      "outputs": [
        {
          "output_type": "execute_result",
          "data": {
            "text/plain": [
              "0.9326666666666666"
            ]
          },
          "metadata": {
            "tags": []
          },
          "execution_count": 34
        }
      ]
    },
    {
      "cell_type": "code",
      "metadata": {
        "colab": {
          "base_uri": "https://localhost:8080/"
        },
        "id": "sKW4KoY5YeRA",
        "outputId": "56734b0f-f580-4f76-af22-bc3372bbcb3e"
      },
      "source": [
        "\n",
        "random_forest_model.score(test_points, test_values)"
      ],
      "execution_count": null,
      "outputs": [
        {
          "output_type": "execute_result",
          "data": {
            "text/plain": [
              "0.9334933333333333"
            ]
          },
          "metadata": {
            "tags": []
          },
          "execution_count": 35
        }
      ]
    },
    {
      "cell_type": "code",
      "metadata": {
        "colab": {
          "base_uri": "https://localhost:8080/"
        },
        "id": "NGKsGH2laUoi",
        "outputId": "3f40ee85-b71d-4dbb-ef69-563db19bc2df"
      },
      "source": [
        "test_data['SeriousDlqin2yrs'].value_counts()"
      ],
      "execution_count": null,
      "outputs": [
        {
          "output_type": "execute_result",
          "data": {
            "text/plain": [
              "0    34973\n",
              "1     2527\n",
              "Name: SeriousDlqin2yrs, dtype: int64"
            ]
          },
          "metadata": {
            "tags": []
          },
          "execution_count": 36
        }
      ]
    },
    {
      "cell_type": "code",
      "metadata": {
        "colab": {
          "base_uri": "https://localhost:8080/"
        },
        "id": "Bd5xr6cTaco2",
        "outputId": "d0d3b131-671f-4ac8-dafd-84025273db85"
      },
      "source": [
        "s=34973/(34973+2527)\n",
        "s"
      ],
      "execution_count": null,
      "outputs": [
        {
          "output_type": "execute_result",
          "data": {
            "text/plain": [
              "0.9326133333333333"
            ]
          },
          "metadata": {
            "tags": []
          },
          "execution_count": 37
        }
      ]
    },
    {
      "cell_type": "code",
      "metadata": {
        "id": "YZ6q33GC5yd6"
      },
      "source": [
        "from sklearn.metrics import confusion_matrix"
      ],
      "execution_count": null,
      "outputs": []
    },
    {
      "cell_type": "code",
      "metadata": {
        "id": "PzjpLH4adsXt",
        "colab": {
          "base_uri": "https://localhost:8080/",
          "height": 111
        },
        "outputId": "d8ad6001-12a0-4a02-9aab-006106bb47a1"
      },
      "source": [
        "logistic_regression_confusion_matrix = confusion_matrix(test_values, test_predictions_logistic_regression)\n",
        "logistic_regression_confusion_matrix = pd.DataFrame(logistic_regression_confusion_matrix)\n",
        "\n",
        "logistic_regression_confusion_matrix"
      ],
      "execution_count": null,
      "outputs": [
        {
          "output_type": "execute_result",
          "data": {
            "text/html": [
              "<div>\n",
              "<style scoped>\n",
              "    .dataframe tbody tr th:only-of-type {\n",
              "        vertical-align: middle;\n",
              "    }\n",
              "\n",
              "    .dataframe tbody tr th {\n",
              "        vertical-align: top;\n",
              "    }\n",
              "\n",
              "    .dataframe thead th {\n",
              "        text-align: right;\n",
              "    }\n",
              "</style>\n",
              "<table border=\"1\" class=\"dataframe\">\n",
              "  <thead>\n",
              "    <tr style=\"text-align: right;\">\n",
              "      <th></th>\n",
              "      <th>0</th>\n",
              "      <th>1</th>\n",
              "    </tr>\n",
              "  </thead>\n",
              "  <tbody>\n",
              "    <tr>\n",
              "      <th>0</th>\n",
              "      <td>34924</td>\n",
              "      <td>49</td>\n",
              "    </tr>\n",
              "    <tr>\n",
              "      <th>1</th>\n",
              "      <td>2476</td>\n",
              "      <td>51</td>\n",
              "    </tr>\n",
              "  </tbody>\n",
              "</table>\n",
              "</div>"
            ],
            "text/plain": [
              "       0   1\n",
              "0  34924  49\n",
              "1   2476  51"
            ]
          },
          "metadata": {
            "tags": []
          },
          "execution_count": 39
        }
      ]
    },
    {
      "cell_type": "code",
      "metadata": {
        "id": "y2MCVPIy5yeC",
        "colab": {
          "base_uri": "https://localhost:8080/",
          "height": 111
        },
        "outputId": "b5251c91-0250-459d-ae8b-ab321557b5b8"
      },
      "source": [
        "random_forest_confusion_matrix = confusion_matrix(test_values, test_predictions_random_forest)\n",
        "random_forest_confusion_matrix = pd.DataFrame(random_forest_confusion_matrix)\n",
        "\n",
        "random_forest_confusion_matrix"
      ],
      "execution_count": null,
      "outputs": [
        {
          "output_type": "execute_result",
          "data": {
            "text/html": [
              "<div>\n",
              "<style scoped>\n",
              "    .dataframe tbody tr th:only-of-type {\n",
              "        vertical-align: middle;\n",
              "    }\n",
              "\n",
              "    .dataframe tbody tr th {\n",
              "        vertical-align: top;\n",
              "    }\n",
              "\n",
              "    .dataframe thead th {\n",
              "        text-align: right;\n",
              "    }\n",
              "</style>\n",
              "<table border=\"1\" class=\"dataframe\">\n",
              "  <thead>\n",
              "    <tr style=\"text-align: right;\">\n",
              "      <th></th>\n",
              "      <th>0</th>\n",
              "      <th>1</th>\n",
              "    </tr>\n",
              "  </thead>\n",
              "  <tbody>\n",
              "    <tr>\n",
              "      <th>0</th>\n",
              "      <td>34562</td>\n",
              "      <td>411</td>\n",
              "    </tr>\n",
              "    <tr>\n",
              "      <th>1</th>\n",
              "      <td>2083</td>\n",
              "      <td>444</td>\n",
              "    </tr>\n",
              "  </tbody>\n",
              "</table>\n",
              "</div>"
            ],
            "text/plain": [
              "       0    1\n",
              "0  34562  411\n",
              "1   2083  444"
            ]
          },
          "metadata": {
            "tags": []
          },
          "execution_count": 40
        }
      ]
    },
    {
      "cell_type": "markdown",
      "metadata": {
        "id": "wX_FXro15yeF"
      },
      "source": [
        "Разберем полученные значения подробнее:"
      ]
    },
    {
      "cell_type": "code",
      "metadata": {
        "id": "eDjtP_yP5yeL"
      },
      "source": [
        "test_probabilities = logistic_regression_model.predict_proba(test_points)"
      ],
      "execution_count": null,
      "outputs": []
    },
    {
      "cell_type": "markdown",
      "metadata": {
        "id": "cz7jY6sG5yeO"
      },
      "source": [
        "Посмотрим на первые пять значений этой матрицу: "
      ]
    },
    {
      "cell_type": "code",
      "metadata": {
        "id": "6EEhJRGF5yeO",
        "colab": {
          "base_uri": "https://localhost:8080/"
        },
        "outputId": "238225b9-33e2-45d6-fbdf-efbacc699501"
      },
      "source": [
        "test_probabilities[:5, :]"
      ],
      "execution_count": null,
      "outputs": [
        {
          "output_type": "execute_result",
          "data": {
            "text/plain": [
              "array([[0.89039973, 0.10960027],\n",
              "       [0.71487238, 0.28512762],\n",
              "       [0.92059058, 0.07940942],\n",
              "       [0.9007389 , 0.0992611 ],\n",
              "       [0.9265198 , 0.0734802 ]])"
            ]
          },
          "metadata": {
            "tags": []
          },
          "execution_count": 42
        }
      ]
    },
    {
      "cell_type": "markdown",
      "metadata": {
        "id": "JzmGja-r5yeR"
      },
      "source": [
        "Вероятность принадлежности ко второму классу - во втором столбце матрицы вероятностей."
      ]
    },
    {
      "cell_type": "code",
      "metadata": {
        "id": "41JFjmFu5yeR"
      },
      "source": [
        "test_probabilities = test_probabilities[:, 1]"
      ],
      "execution_count": null,
      "outputs": []
    },
    {
      "cell_type": "code",
      "metadata": {
        "id": "bE0-qMli5yeb",
        "colab": {
          "base_uri": "https://localhost:8080/",
          "height": 343
        },
        "outputId": "a19f9236-2390-4642-d8db-4d2e34391e69"
      },
      "source": [
        "plt.figure(figsize=(8, 5))\n",
        "\n",
        "plt.hist(test_probabilities, bins=100)\n",
        "plt.vlines(0.3, 0, 12000)\n",
        "\n",
        "plt.xlabel('Предсказанная вероятность дефолта', fontsize=20)\n",
        "plt.ylabel('Количество заемщиков', fontsize=20);"
      ],
      "execution_count": null,
      "outputs": [
        {
          "output_type": "display_data",
          "data": {
            "image/png": "[encoded data removed]",
            "text/plain": [
              "<Figure size 576x360 with 1 Axes>"
            ]
          },
          "metadata": {
            "tags": []
          }
        }
      ]
    },
    {
      "cell_type": "code",
      "metadata": {
        "id": "6zxRWCkx5yei"
      },
      "source": [
        "higher_thershold = 0.3\n",
        "alternative_test_predictions = test_probabilities > higher_thershold"
      ],
      "execution_count": null,
      "outputs": []
    },
    {
      "cell_type": "code",
      "metadata": {
        "id": "3ZUg7Bs25yej",
        "colab": {
          "base_uri": "https://localhost:8080/",
          "height": 111
        },
        "outputId": "02ba6993-f7c6-4865-9e65-236ecbb65ca4"
      },
      "source": [
        "alternative_confusion_matrix = pd.DataFrame(confusion_matrix(test_values, alternative_test_predictions))\n",
        "alternative_confusion_matrix"
      ],
      "execution_count": null,
      "outputs": [
        {
          "output_type": "execute_result",
          "data": {
            "text/html": [
              "<div>\n",
              "<style scoped>\n",
              "    .dataframe tbody tr th:only-of-type {\n",
              "        vertical-align: middle;\n",
              "    }\n",
              "\n",
              "    .dataframe tbody tr th {\n",
              "        vertical-align: top;\n",
              "    }\n",
              "\n",
              "    .dataframe thead th {\n",
              "        text-align: right;\n",
              "    }\n",
              "</style>\n",
              "<table border=\"1\" class=\"dataframe\">\n",
              "  <thead>\n",
              "    <tr style=\"text-align: right;\">\n",
              "      <th></th>\n",
              "      <th>0</th>\n",
              "      <th>1</th>\n",
              "    </tr>\n",
              "  </thead>\n",
              "  <tbody>\n",
              "    <tr>\n",
              "      <th>0</th>\n",
              "      <td>34841</td>\n",
              "      <td>132</td>\n",
              "    </tr>\n",
              "    <tr>\n",
              "      <th>1</th>\n",
              "      <td>2417</td>\n",
              "      <td>110</td>\n",
              "    </tr>\n",
              "  </tbody>\n",
              "</table>\n",
              "</div>"
            ],
            "text/plain": [
              "       0    1\n",
              "0  34841  132\n",
              "1   2417  110"
            ]
          },
          "metadata": {
            "tags": []
          },
          "execution_count": 48
        }
      ]
    },
    {
      "cell_type": "code",
      "metadata": {
        "id": "rePH4FgT5yes"
      },
      "source": [
        "false_positive_rates, true_positive_rates, threshold = roc_curve(test_values, test_probabilities)"
      ],
      "execution_count": null,
      "outputs": []
    },
    {
      "cell_type": "markdown",
      "metadata": {
        "id": "oVSqwTNo5yet"
      },
      "source": [
        "Нарисуем кривую"
      ]
    },
    {
      "cell_type": "code",
      "metadata": {
        "id": "Dmkvvm455yeu",
        "colab": {
          "base_uri": "https://localhost:8080/",
          "height": 458
        },
        "outputId": "2d08f2f9-52b5-44a0-9a43-2fbb8ffcea96"
      },
      "source": [
        "# создаём график\n",
        "plt.figure(figsize=(7, 7))\n",
        "\n",
        "# рисуем кривую\n",
        "plt.plot(false_positive_rates, true_positive_rates, label='Сглаженные значения ROC-AUC')\n",
        "\n",
        "# кривая, соответствующая случайному угадыванию\n",
        "plt.plot([0, 1], [0, 1], color='k', lw=2, linestyle=':', label='Модель, выдающая случайное значение')\n",
        "\n",
        "plt.title('ROC curve')\n",
        "plt.xlabel('False Positive Rate')\n",
        "plt.ylabel('True Positive Rate')\n",
        "\n",
        "plt.fill_between(false_positive_rates, true_positive_rates, step=\"mid\", alpha=0.4, label='Площадь под кривой (ROC-AUC)')\n",
        "plt.legend()\n",
        "plt.show()"
      ],
      "execution_count": null,
      "outputs": [
        {
          "output_type": "display_data",
          "data": {
            "image/png": "[encoded data removed]",
            "text/plain": [
              "<Figure size 504x504 with 1 Axes>"
            ]
          },
          "metadata": {
            "tags": []
          }
        }
      ]
    },
    {
      "cell_type": "code",
      "metadata": {
        "id": "a5uXMrEs5ye3",
        "colab": {
          "base_uri": "https://localhost:8080/"
        },
        "outputId": "4d6050a0-409d-43fb-d942-80e1995d0d51"
      },
      "source": [
        "roc_auc_value = roc_auc_score(test_values, test_probabilities)\n",
        "\n",
        "print(\"ROC-AUC на тестовой выборке:\", roc_auc_value) "
      ],
      "execution_count": null,
      "outputs": [
        {
          "output_type": "stream",
          "text": [
            "ROC-AUC на тестовой выборке: 0.683340654073003\n"
          ],
          "name": "stdout"
        }
      ]
    }
  ]
}